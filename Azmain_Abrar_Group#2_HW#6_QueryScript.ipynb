{
    "metadata": {
        "kernelspec": {
            "name": "SQL",
            "display_name": "SQL",
            "language": "sql"
        },
        "language_info": {
            "name": "sql",
            "version": ""
        }
    },
    "nbformat_minor": 2,
    "nbformat": 4,
    "cells": [
        {
            "cell_type": "markdown",
            "source": [
                "Homework 6. Use AdventureWorks2017 database and chapter 6 of the textbook to create 10 querries. Have to utilize **UNION, UNION ALL, INTERSECT,** and **EXCEPT** functions."
            ],
            "metadata": {
                "language": "sql",
                "azdata_cell_guid": "a19f362a-d925-41e0-9674-38f85be5ab69"
            },
            "attachments": {}
        },
        {
            "cell_type": "code",
            "source": [
                "--1) Combine company cash-flow events (sales and purchases) — UNION ALL\r\n",
                "-- combine sales and purchase transactions together (max 30 results)\r\n",
                "SELECT TOP (30)                                            -- limit to 30 rows\r\n",
                "       'SALE' AS Kind,                                     -- label for sales\r\n",
                "       SalesOrderID AS DocID,                              -- document ID for sales\r\n",
                "       OrderDate,                                          -- date of order\r\n",
                "       TotalDue                                            -- total amount due\r\n",
                "FROM Sales.SalesOrderHeader                                -- source: sales table\r\n",
                "UNION ALL                                                  -- keep all rows, no duplicates removed\r\n",
                "SELECT TOP (30)                                            -- limit to 30 rows\r\n",
                "       'PURCHASE' AS Kind,                                 -- label for purchases\r\n",
                "       PurchaseOrderID AS DocID,                           -- document ID for purchases\r\n",
                "       OrderDate,                                          -- date of purchase\r\n",
                "       TotalDue                                            -- total amount due\r\n",
                "FROM Purchasing.PurchaseOrderHeader                        -- source: purchase table\r\n",
                "ORDER BY OrderDate DESC, Kind;                             -- sort newest first and by type\r\n",
                "\r\n",
                ""
            ],
            "metadata": {
                "azdata_cell_guid": "d25d28d2-96b8-4815-8a9a-357bb7864e00",
                "language": "sql"
            },
            "outputs": [
                {
                    "output_type": "display_data",
                    "data": {
                        "text/html": "(60 rows affected)"
                    },
                    "metadata": {}
                },
                {
                    "output_type": "display_data",
                    "data": {
                        "text/html": "Total execution time: 00:00:00.016"
                    },
                    "metadata": {}
                },
                {
                    "output_type": "execute_result",
                    "metadata": {},
                    "execution_count": 12,
                    "data": {
                        "application/vnd.dataresource+json": {
                            "schema": {
                                "fields": [
                                    {
                                        "name": "Kind"
                                    },
                                    {
                                        "name": "DocID"
                                    },
                                    {
                                        "name": "OrderDate"
                                    },
                                    {
                                        "name": "TotalDue"
                                    }
                                ]
                            },
                            "data": [
                                {
                                    "Kind": "PURCHASE",
                                    "DocID": "29",
                                    "OrderDate": "2012-01-08 00:00:00.000",
                                    "TotalDue": "655.0424"
                                },
                                {
                                    "Kind": "PURCHASE",
                                    "DocID": "30",
                                    "OrderDate": "2012-01-08 00:00:00.000",
                                    "TotalDue": "23483.46"
                                },
                                {
                                    "Kind": "PURCHASE",
                                    "DocID": "17",
                                    "OrderDate": "2011-12-15 00:00:00.000",
                                    "TotalDue": "15104.7146"
                                },
                                {
                                    "Kind": "PURCHASE",
                                    "DocID": "18",
                                    "OrderDate": "2011-12-15 00:00:00.000",
                                    "TotalDue": "18114.5192"
                                },
                                {
                                    "Kind": "PURCHASE",
                                    "DocID": "19",
                                    "OrderDate": "2011-12-15 00:00:00.000",
                                    "TotalDue": "87520.5581"
                                },
                                {
                                    "Kind": "PURCHASE",
                                    "DocID": "20",
                                    "OrderDate": "2011-12-15 00:00:00.000",
                                    "TotalDue": "609.8274"
                                },
                                {
                                    "Kind": "PURCHASE",
                                    "DocID": "21",
                                    "OrderDate": "2011-12-15 00:00:00.000",
                                    "TotalDue": "7721.4638"
                                },
                                {
                                    "Kind": "PURCHASE",
                                    "DocID": "22",
                                    "OrderDate": "2011-12-15 00:00:00.000",
                                    "TotalDue": "31019.8639"
                                },
                                {
                                    "Kind": "PURCHASE",
                                    "DocID": "23",
                                    "OrderDate": "2011-12-15 00:00:00.000",
                                    "TotalDue": "41230.0639"
                                },
                                {
                                    "Kind": "PURCHASE",
                                    "DocID": "24",
                                    "OrderDate": "2011-12-15 00:00:00.000",
                                    "TotalDue": "4658.4038"
                                },
                                {
                                    "Kind": "PURCHASE",
                                    "DocID": "25",
                                    "OrderDate": "2011-12-15 00:00:00.000",
                                    "TotalDue": "31268.7375"
                                },
                                {
                                    "Kind": "PURCHASE",
                                    "DocID": "26",
                                    "OrderDate": "2011-12-15 00:00:00.000",
                                    "TotalDue": "66.2387"
                                },
                                {
                                    "Kind": "PURCHASE",
                                    "DocID": "27",
                                    "OrderDate": "2011-12-15 00:00:00.000",
                                    "TotalDue": "798.4841"
                                },
                                {
                                    "Kind": "PURCHASE",
                                    "DocID": "28",
                                    "OrderDate": "2011-12-15 00:00:00.000",
                                    "TotalDue": "48485.6873"
                                },
                                {
                                    "Kind": "PURCHASE",
                                    "DocID": "9",
                                    "OrderDate": "2011-12-14 00:00:00.000",
                                    "TotalDue": "767.0528"
                                },
                                {
                                    "Kind": "PURCHASE",
                                    "DocID": "10",
                                    "OrderDate": "2011-12-14 00:00:00.000",
                                    "TotalDue": "1984.6192"
                                },
                                {
                                    "Kind": "PURCHASE",
                                    "DocID": "11",
                                    "OrderDate": "2011-12-14 00:00:00.000",
                                    "TotalDue": "553.8221"
                                },
                                {
                                    "Kind": "PURCHASE",
                                    "DocID": "12",
                                    "OrderDate": "2011-12-14 00:00:00.000",
                                    "TotalDue": "38281.8686"
                                },
                                {
                                    "Kind": "PURCHASE",
                                    "DocID": "13",
                                    "OrderDate": "2011-12-14 00:00:00.000",
                                    "TotalDue": "2032.6535"
                                },
                                {
                                    "Kind": "PURCHASE",
                                    "DocID": "14",
                                    "OrderDate": "2011-12-14 00:00:00.000",
                                    "TotalDue": "161.6461"
                                },
                                {
                                    "Kind": "PURCHASE",
                                    "DocID": "15",
                                    "OrderDate": "2011-12-14 00:00:00.000",
                                    "TotalDue": "113.3332"
                                },
                                {
                                    "Kind": "PURCHASE",
                                    "DocID": "16",
                                    "OrderDate": "2011-12-14 00:00:00.000",
                                    "TotalDue": "166.6235"
                                },
                                {
                                    "Kind": "SALE",
                                    "DocID": "43659",
                                    "OrderDate": "2011-05-31 00:00:00.000",
                                    "TotalDue": "23153.2339"
                                },
                                {
                                    "Kind": "SALE",
                                    "DocID": "43660",
                                    "OrderDate": "2011-05-31 00:00:00.000",
                                    "TotalDue": "1457.3288"
                                },
                                {
                                    "Kind": "SALE",
                                    "DocID": "43661",
                                    "OrderDate": "2011-05-31 00:00:00.000",
                                    "TotalDue": "36865.8012"
                                },
                                {
                                    "Kind": "SALE",
                                    "DocID": "43662",
                                    "OrderDate": "2011-05-31 00:00:00.000",
                                    "TotalDue": "32474.9324"
                                },
                                {
                                    "Kind": "SALE",
                                    "DocID": "43663",
                                    "OrderDate": "2011-05-31 00:00:00.000",
                                    "TotalDue": "472.3108"
                                },
                                {
                                    "Kind": "SALE",
                                    "DocID": "43664",
                                    "OrderDate": "2011-05-31 00:00:00.000",
                                    "TotalDue": "27510.4109"
                                },
                                {
                                    "Kind": "SALE",
                                    "DocID": "43665",
                                    "OrderDate": "2011-05-31 00:00:00.000",
                                    "TotalDue": "16158.6961"
                                },
                                {
                                    "Kind": "SALE",
                                    "DocID": "43666",
                                    "OrderDate": "2011-05-31 00:00:00.000",
                                    "TotalDue": "5694.8564"
                                },
                                {
                                    "Kind": "SALE",
                                    "DocID": "43667",
                                    "OrderDate": "2011-05-31 00:00:00.000",
                                    "TotalDue": "6876.3649"
                                },
                                {
                                    "Kind": "SALE",
                                    "DocID": "43668",
                                    "OrderDate": "2011-05-31 00:00:00.000",
                                    "TotalDue": "40487.7233"
                                },
                                {
                                    "Kind": "SALE",
                                    "DocID": "43669",
                                    "OrderDate": "2011-05-31 00:00:00.000",
                                    "TotalDue": "807.2585"
                                },
                                {
                                    "Kind": "SALE",
                                    "DocID": "43670",
                                    "OrderDate": "2011-05-31 00:00:00.000",
                                    "TotalDue": "6893.2549"
                                },
                                {
                                    "Kind": "SALE",
                                    "DocID": "43671",
                                    "OrderDate": "2011-05-31 00:00:00.000",
                                    "TotalDue": "9153.6054"
                                },
                                {
                                    "Kind": "SALE",
                                    "DocID": "43672",
                                    "OrderDate": "2011-05-31 00:00:00.000",
                                    "TotalDue": "6895.41"
                                },
                                {
                                    "Kind": "SALE",
                                    "DocID": "43673",
                                    "OrderDate": "2011-05-31 00:00:00.000",
                                    "TotalDue": "4216.0258"
                                },
                                {
                                    "Kind": "SALE",
                                    "DocID": "43674",
                                    "OrderDate": "2011-05-31 00:00:00.000",
                                    "TotalDue": "2955.0542"
                                },
                                {
                                    "Kind": "SALE",
                                    "DocID": "43675",
                                    "OrderDate": "2011-05-31 00:00:00.000",
                                    "TotalDue": "6434.0848"
                                },
                                {
                                    "Kind": "SALE",
                                    "DocID": "43676",
                                    "OrderDate": "2011-05-31 00:00:00.000",
                                    "TotalDue": "15992.7446"
                                },
                                {
                                    "Kind": "SALE",
                                    "DocID": "43677",
                                    "OrderDate": "2011-05-31 00:00:00.000",
                                    "TotalDue": "8773.681"
                                },
                                {
                                    "Kind": "SALE",
                                    "DocID": "43678",
                                    "OrderDate": "2011-05-31 00:00:00.000",
                                    "TotalDue": "11036.3964"
                                },
                                {
                                    "Kind": "SALE",
                                    "DocID": "43679",
                                    "OrderDate": "2011-05-31 00:00:00.000",
                                    "TotalDue": "1481.1742"
                                },
                                {
                                    "Kind": "SALE",
                                    "DocID": "43680",
                                    "OrderDate": "2011-05-31 00:00:00.000",
                                    "TotalDue": "12832.9009"
                                },
                                {
                                    "Kind": "SALE",
                                    "DocID": "43681",
                                    "OrderDate": "2011-05-31 00:00:00.000",
                                    "TotalDue": "15524.0686"
                                },
                                {
                                    "Kind": "SALE",
                                    "DocID": "43682",
                                    "OrderDate": "2011-05-31 00:00:00.000",
                                    "TotalDue": "4363.7107"
                                },
                                {
                                    "Kind": "SALE",
                                    "DocID": "43683",
                                    "OrderDate": "2011-05-31 00:00:00.000",
                                    "TotalDue": "48204.0662"
                                },
                                {
                                    "Kind": "SALE",
                                    "DocID": "43684",
                                    "OrderDate": "2011-05-31 00:00:00.000",
                                    "TotalDue": "6301.6258"
                                },
                                {
                                    "Kind": "SALE",
                                    "DocID": "43685",
                                    "OrderDate": "2011-05-31 00:00:00.000",
                                    "TotalDue": "3082.0191"
                                },
                                {
                                    "Kind": "SALE",
                                    "DocID": "43686",
                                    "OrderDate": "2011-05-31 00:00:00.000",
                                    "TotalDue": "3899.6756"
                                },
                                {
                                    "Kind": "SALE",
                                    "DocID": "43687",
                                    "OrderDate": "2011-05-31 00:00:00.000",
                                    "TotalDue": "1416.9322"
                                },
                                {
                                    "Kind": "SALE",
                                    "DocID": "43688",
                                    "OrderDate": "2011-05-31 00:00:00.000",
                                    "TotalDue": "14323.1194"
                                },
                                {
                                    "Kind": "PURCHASE",
                                    "DocID": "5",
                                    "OrderDate": "2011-04-30 00:00:00.000",
                                    "TotalDue": "22539.0165"
                                },
                                {
                                    "Kind": "PURCHASE",
                                    "DocID": "6",
                                    "OrderDate": "2011-04-30 00:00:00.000",
                                    "TotalDue": "16164.0229"
                                },
                                {
                                    "Kind": "PURCHASE",
                                    "DocID": "7",
                                    "OrderDate": "2011-04-30 00:00:00.000",
                                    "TotalDue": "64847.5328"
                                },
                                {
                                    "Kind": "PURCHASE",
                                    "DocID": "8",
                                    "OrderDate": "2011-04-30 00:00:00.000",
                                    "TotalDue": "766.1827"
                                },
                                {
                                    "Kind": "PURCHASE",
                                    "DocID": "1",
                                    "OrderDate": "2011-04-16 00:00:00.000",
                                    "TotalDue": "222.1492"
                                },
                                {
                                    "Kind": "PURCHASE",
                                    "DocID": "2",
                                    "OrderDate": "2011-04-16 00:00:00.000",
                                    "TotalDue": "300.6721"
                                },
                                {
                                    "Kind": "PURCHASE",
                                    "DocID": "3",
                                    "OrderDate": "2011-04-16 00:00:00.000",
                                    "TotalDue": "9776.2665"
                                },
                                {
                                    "Kind": "PURCHASE",
                                    "DocID": "4",
                                    "OrderDate": "2011-04-16 00:00:00.000",
                                    "TotalDue": "189.0395"
                                }
                            ]
                        },
                        "text/html": [
                            "<table>",
                            "<tr><th>Kind</th><th>DocID</th><th>OrderDate</th><th>TotalDue</th></tr>",
                            "<tr><td>PURCHASE</td><td>29</td><td>2012-01-08 00:00:00.000</td><td>655.0424</td></tr>",
                            "<tr><td>PURCHASE</td><td>30</td><td>2012-01-08 00:00:00.000</td><td>23483.46</td></tr>",
                            "<tr><td>PURCHASE</td><td>17</td><td>2011-12-15 00:00:00.000</td><td>15104.7146</td></tr>",
                            "<tr><td>PURCHASE</td><td>18</td><td>2011-12-15 00:00:00.000</td><td>18114.5192</td></tr>",
                            "<tr><td>PURCHASE</td><td>19</td><td>2011-12-15 00:00:00.000</td><td>87520.5581</td></tr>",
                            "<tr><td>PURCHASE</td><td>20</td><td>2011-12-15 00:00:00.000</td><td>609.8274</td></tr>",
                            "<tr><td>PURCHASE</td><td>21</td><td>2011-12-15 00:00:00.000</td><td>7721.4638</td></tr>",
                            "<tr><td>PURCHASE</td><td>22</td><td>2011-12-15 00:00:00.000</td><td>31019.8639</td></tr>",
                            "<tr><td>PURCHASE</td><td>23</td><td>2011-12-15 00:00:00.000</td><td>41230.0639</td></tr>",
                            "<tr><td>PURCHASE</td><td>24</td><td>2011-12-15 00:00:00.000</td><td>4658.4038</td></tr>",
                            "<tr><td>PURCHASE</td><td>25</td><td>2011-12-15 00:00:00.000</td><td>31268.7375</td></tr>",
                            "<tr><td>PURCHASE</td><td>26</td><td>2011-12-15 00:00:00.000</td><td>66.2387</td></tr>",
                            "<tr><td>PURCHASE</td><td>27</td><td>2011-12-15 00:00:00.000</td><td>798.4841</td></tr>",
                            "<tr><td>PURCHASE</td><td>28</td><td>2011-12-15 00:00:00.000</td><td>48485.6873</td></tr>",
                            "<tr><td>PURCHASE</td><td>9</td><td>2011-12-14 00:00:00.000</td><td>767.0528</td></tr>",
                            "<tr><td>PURCHASE</td><td>10</td><td>2011-12-14 00:00:00.000</td><td>1984.6192</td></tr>",
                            "<tr><td>PURCHASE</td><td>11</td><td>2011-12-14 00:00:00.000</td><td>553.8221</td></tr>",
                            "<tr><td>PURCHASE</td><td>12</td><td>2011-12-14 00:00:00.000</td><td>38281.8686</td></tr>",
                            "<tr><td>PURCHASE</td><td>13</td><td>2011-12-14 00:00:00.000</td><td>2032.6535</td></tr>",
                            "<tr><td>PURCHASE</td><td>14</td><td>2011-12-14 00:00:00.000</td><td>161.6461</td></tr>",
                            "<tr><td>PURCHASE</td><td>15</td><td>2011-12-14 00:00:00.000</td><td>113.3332</td></tr>",
                            "<tr><td>PURCHASE</td><td>16</td><td>2011-12-14 00:00:00.000</td><td>166.6235</td></tr>",
                            "<tr><td>SALE</td><td>43659</td><td>2011-05-31 00:00:00.000</td><td>23153.2339</td></tr>",
                            "<tr><td>SALE</td><td>43660</td><td>2011-05-31 00:00:00.000</td><td>1457.3288</td></tr>",
                            "<tr><td>SALE</td><td>43661</td><td>2011-05-31 00:00:00.000</td><td>36865.8012</td></tr>",
                            "<tr><td>SALE</td><td>43662</td><td>2011-05-31 00:00:00.000</td><td>32474.9324</td></tr>",
                            "<tr><td>SALE</td><td>43663</td><td>2011-05-31 00:00:00.000</td><td>472.3108</td></tr>",
                            "<tr><td>SALE</td><td>43664</td><td>2011-05-31 00:00:00.000</td><td>27510.4109</td></tr>",
                            "<tr><td>SALE</td><td>43665</td><td>2011-05-31 00:00:00.000</td><td>16158.6961</td></tr>",
                            "<tr><td>SALE</td><td>43666</td><td>2011-05-31 00:00:00.000</td><td>5694.8564</td></tr>",
                            "<tr><td>SALE</td><td>43667</td><td>2011-05-31 00:00:00.000</td><td>6876.3649</td></tr>",
                            "<tr><td>SALE</td><td>43668</td><td>2011-05-31 00:00:00.000</td><td>40487.7233</td></tr>",
                            "<tr><td>SALE</td><td>43669</td><td>2011-05-31 00:00:00.000</td><td>807.2585</td></tr>",
                            "<tr><td>SALE</td><td>43670</td><td>2011-05-31 00:00:00.000</td><td>6893.2549</td></tr>",
                            "<tr><td>SALE</td><td>43671</td><td>2011-05-31 00:00:00.000</td><td>9153.6054</td></tr>",
                            "<tr><td>SALE</td><td>43672</td><td>2011-05-31 00:00:00.000</td><td>6895.41</td></tr>",
                            "<tr><td>SALE</td><td>43673</td><td>2011-05-31 00:00:00.000</td><td>4216.0258</td></tr>",
                            "<tr><td>SALE</td><td>43674</td><td>2011-05-31 00:00:00.000</td><td>2955.0542</td></tr>",
                            "<tr><td>SALE</td><td>43675</td><td>2011-05-31 00:00:00.000</td><td>6434.0848</td></tr>",
                            "<tr><td>SALE</td><td>43676</td><td>2011-05-31 00:00:00.000</td><td>15992.7446</td></tr>",
                            "<tr><td>SALE</td><td>43677</td><td>2011-05-31 00:00:00.000</td><td>8773.681</td></tr>",
                            "<tr><td>SALE</td><td>43678</td><td>2011-05-31 00:00:00.000</td><td>11036.3964</td></tr>",
                            "<tr><td>SALE</td><td>43679</td><td>2011-05-31 00:00:00.000</td><td>1481.1742</td></tr>",
                            "<tr><td>SALE</td><td>43680</td><td>2011-05-31 00:00:00.000</td><td>12832.9009</td></tr>",
                            "<tr><td>SALE</td><td>43681</td><td>2011-05-31 00:00:00.000</td><td>15524.0686</td></tr>",
                            "<tr><td>SALE</td><td>43682</td><td>2011-05-31 00:00:00.000</td><td>4363.7107</td></tr>",
                            "<tr><td>SALE</td><td>43683</td><td>2011-05-31 00:00:00.000</td><td>48204.0662</td></tr>",
                            "<tr><td>SALE</td><td>43684</td><td>2011-05-31 00:00:00.000</td><td>6301.6258</td></tr>",
                            "<tr><td>SALE</td><td>43685</td><td>2011-05-31 00:00:00.000</td><td>3082.0191</td></tr>",
                            "<tr><td>SALE</td><td>43686</td><td>2011-05-31 00:00:00.000</td><td>3899.6756</td></tr>",
                            "<tr><td>SALE</td><td>43687</td><td>2011-05-31 00:00:00.000</td><td>1416.9322</td></tr>",
                            "<tr><td>SALE</td><td>43688</td><td>2011-05-31 00:00:00.000</td><td>14323.1194</td></tr>",
                            "<tr><td>PURCHASE</td><td>5</td><td>2011-04-30 00:00:00.000</td><td>22539.0165</td></tr>",
                            "<tr><td>PURCHASE</td><td>6</td><td>2011-04-30 00:00:00.000</td><td>16164.0229</td></tr>",
                            "<tr><td>PURCHASE</td><td>7</td><td>2011-04-30 00:00:00.000</td><td>64847.5328</td></tr>",
                            "<tr><td>PURCHASE</td><td>8</td><td>2011-04-30 00:00:00.000</td><td>766.1827</td></tr>",
                            "<tr><td>PURCHASE</td><td>1</td><td>2011-04-16 00:00:00.000</td><td>222.1492</td></tr>",
                            "<tr><td>PURCHASE</td><td>2</td><td>2011-04-16 00:00:00.000</td><td>300.6721</td></tr>",
                            "<tr><td>PURCHASE</td><td>3</td><td>2011-04-16 00:00:00.000</td><td>9776.2665</td></tr>",
                            "<tr><td>PURCHASE</td><td>4</td><td>2011-04-16 00:00:00.000</td><td>189.0395</td></tr>",
                            "</table>"
                        ]
                    }
                }
            ],
            "execution_count": 12
        },
        {
            "cell_type": "code",
            "source": [
                "-- 2) Top 5 most recent orders for two salespeople (merge with guaranteed order)\r\n",
                "\r\n",
                "SELECT SalesPersonID, SalesOrderID, OrderDate                  -- select the columns to display: salesperson, order ID, and order date\r\n",
                "FROM (                                                         -- start of first derived table (A)\r\n",
                "  SELECT TOP (5)                                               -- limit to the 5 most recent orders\r\n",
                "         SalesPersonID,                                        -- include salesperson ID\r\n",
                "         SalesOrderID,                                         -- include order ID\r\n",
                "         OrderDate                                             -- include order date\r\n",
                "  FROM Sales.SalesOrderHeader                                  -- source table: Sales Order Header (main sales data)\r\n",
                "  WHERE SalesPersonID = 275                                    -- filter for the first salesperson (example ID)\r\n",
                "  ORDER BY OrderDate DESC, SalesOrderID DESC                   -- sort orders from newest to oldest (breaking ties by order ID)\r\n",
                ") A                                                            -- alias the first subquery as \"A\"\r\n",
                "\r\n",
                "UNION ALL                                                      -- combine results from both salespeople; keep all rows (no duplicate removal)\r\n",
                "\r\n",
                "SELECT SalesPersonID, SalesOrderID, OrderDate                  -- select same columns from second salesperson’s orders\r\n",
                "FROM (                                                         -- start of second derived table (B)\r\n",
                "  SELECT TOP (5)                                               -- limit to 5 most recent orders\r\n",
                "         SalesPersonID,                                        -- include salesperson ID\r\n",
                "         SalesOrderID,                                         -- include order ID\r\n",
                "         OrderDate                                             -- include order date\r\n",
                "  FROM Sales.SalesOrderHeader                                  -- same source table: Sales Order Header\r\n",
                "  WHERE SalesPersonID = 276                                    -- filter for the second salesperson (example ID)\r\n",
                "  ORDER BY OrderDate DESC, SalesOrderID DESC                   -- sort newest to oldest for consistent order\r\n",
                ") B                                                            -- alias this second subquery as \"B\"\r\n",
                "\r\n",
                "ORDER BY SalesPersonID, OrderDate DESC, SalesOrderID DESC;      -- final sort: group by salesperson, newest orders first\r\n",
                ""
            ],
            "metadata": {
                "language": "sql",
                "azdata_cell_guid": "1e0bdd58-2f4d-4d6e-b1ad-7d451ad93013"
            },
            "outputs": [
                {
                    "output_type": "display_data",
                    "data": {
                        "text/html": "(10 rows affected)"
                    },
                    "metadata": {}
                },
                {
                    "output_type": "display_data",
                    "data": {
                        "text/html": "Total execution time: 00:00:00.009"
                    },
                    "metadata": {}
                },
                {
                    "output_type": "execute_result",
                    "metadata": {},
                    "execution_count": 25,
                    "data": {
                        "application/vnd.dataresource+json": {
                            "schema": {
                                "fields": [
                                    {
                                        "name": "SalesPersonID"
                                    },
                                    {
                                        "name": "SalesOrderID"
                                    },
                                    {
                                        "name": "OrderDate"
                                    }
                                ]
                            },
                            "data": [
                                {
                                    "SalesPersonID": "275",
                                    "SalesOrderID": "71952",
                                    "OrderDate": "2014-05-01 00:00:00.000"
                                },
                                {
                                    "SalesPersonID": "275",
                                    "SalesOrderID": "71931",
                                    "OrderDate": "2014-05-01 00:00:00.000"
                                },
                                {
                                    "SalesPersonID": "275",
                                    "SalesOrderID": "71930",
                                    "OrderDate": "2014-05-01 00:00:00.000"
                                },
                                {
                                    "SalesPersonID": "275",
                                    "SalesOrderID": "71924",
                                    "OrderDate": "2014-05-01 00:00:00.000"
                                },
                                {
                                    "SalesPersonID": "275",
                                    "SalesOrderID": "71912",
                                    "OrderDate": "2014-05-01 00:00:00.000"
                                },
                                {
                                    "SalesPersonID": "276",
                                    "SalesOrderID": "71935",
                                    "OrderDate": "2014-05-01 00:00:00.000"
                                },
                                {
                                    "SalesPersonID": "276",
                                    "SalesOrderID": "71923",
                                    "OrderDate": "2014-05-01 00:00:00.000"
                                },
                                {
                                    "SalesPersonID": "276",
                                    "SalesOrderID": "71920",
                                    "OrderDate": "2014-05-01 00:00:00.000"
                                },
                                {
                                    "SalesPersonID": "276",
                                    "SalesOrderID": "71915",
                                    "OrderDate": "2014-05-01 00:00:00.000"
                                },
                                {
                                    "SalesPersonID": "276",
                                    "SalesOrderID": "71902",
                                    "OrderDate": "2014-05-01 00:00:00.000"
                                }
                            ]
                        },
                        "text/html": [
                            "<table>",
                            "<tr><th>SalesPersonID</th><th>SalesOrderID</th><th>OrderDate</th></tr>",
                            "<tr><td>275</td><td>71952</td><td>2014-05-01 00:00:00.000</td></tr>",
                            "<tr><td>275</td><td>71931</td><td>2014-05-01 00:00:00.000</td></tr>",
                            "<tr><td>275</td><td>71930</td><td>2014-05-01 00:00:00.000</td></tr>",
                            "<tr><td>275</td><td>71924</td><td>2014-05-01 00:00:00.000</td></tr>",
                            "<tr><td>275</td><td>71912</td><td>2014-05-01 00:00:00.000</td></tr>",
                            "<tr><td>276</td><td>71935</td><td>2014-05-01 00:00:00.000</td></tr>",
                            "<tr><td>276</td><td>71923</td><td>2014-05-01 00:00:00.000</td></tr>",
                            "<tr><td>276</td><td>71920</td><td>2014-05-01 00:00:00.000</td></tr>",
                            "<tr><td>276</td><td>71915</td><td>2014-05-01 00:00:00.000</td></tr>",
                            "<tr><td>276</td><td>71902</td><td>2014-05-01 00:00:00.000</td></tr>",
                            "</table>"
                        ]
                    }
                }
            ],
            "execution_count": 25
        },
        {
            "cell_type": "code",
            "source": [
                "--3) Months with sales but no purchases — EXCEPT\r\n",
                "-- find months where sales occurred but no purchases did (max 30 results)\r\n",
                "SELECT TOP (30)                                            -- limit to 30 months\r\n",
                "       CONVERT(char(7), OrderDate, 120) AS YearMonth       -- extract year-month string\r\n",
                "FROM Sales.SalesOrderHeader                                -- all sales months\r\n",
                "EXCEPT                                                     -- subtract months that also appear in purchases\r\n",
                "SELECT CONVERT(char(7), OrderDate, 120)                    -- extract year-month string\r\n",
                "FROM Purchasing.PurchaseOrderHeader                        -- all purchase months\r\n",
                "ORDER BY YearMonth;                                        -- list months in order\r\n",
                "\r\n",
                ""
            ],
            "metadata": {
                "language": "sql",
                "azdata_cell_guid": "ae116f72-d83f-4d8d-a54b-97390317c38d"
            },
            "outputs": [
                {
                    "output_type": "display_data",
                    "data": {
                        "text/html": "(1 row affected)"
                    },
                    "metadata": {}
                },
                {
                    "output_type": "display_data",
                    "data": {
                        "text/html": "Total execution time: 00:00:00.008"
                    },
                    "metadata": {}
                },
                {
                    "output_type": "execute_result",
                    "metadata": {},
                    "execution_count": 13,
                    "data": {
                        "application/vnd.dataresource+json": {
                            "schema": {
                                "fields": [
                                    {
                                        "name": "YearMonth"
                                    }
                                ]
                            },
                            "data": [
                                {
                                    "YearMonth": "2011-05"
                                }
                            ]
                        },
                        "text/html": [
                            "<table>",
                            "<tr><th>YearMonth</th></tr>",
                            "<tr><td>2011-05</td></tr>",
                            "</table>"
                        ]
                    }
                }
            ],
            "execution_count": 13
        },
        {
            "cell_type": "code",
            "source": [
                "-- 4)Combine two holiday sales seasons — UNION ALL\r\n",
                "-- compare two holiday sales seasons (max 30 results)\r\n",
                "SELECT TOP (30)                                            -- limit first season to 30 rows\r\n",
                "       SalesOrderID,                                       -- order identifier\r\n",
                "       OrderDate,                                          -- date of order\r\n",
                "       TotalDue                                            -- total payment\r\n",
                "FROM Sales.SalesOrderHeader                                -- sales table\r\n",
                "WHERE OrderDate >= '2013-11-01' AND OrderDate < '2014-01-01'  -- first holiday period\r\n",
                "UNION ALL                                                  -- combine both sets (no de-dup)\r\n",
                "SELECT TOP (30)                                            -- limit second season to 30 rows\r\n",
                "       SalesOrderID,                                       -- order identifier\r\n",
                "       OrderDate,                                          -- date of order\r\n",
                "       TotalDue                                            -- total payment\r\n",
                "FROM Sales.SalesOrderHeader                                -- sales table again\r\n",
                "WHERE OrderDate >= '2014-11-01' AND OrderDate < '2015-01-01'  -- second holiday period\r\n",
                "ORDER BY OrderDate, SalesOrderID;                          -- sort by date then order ID\r\n",
                ""
            ],
            "metadata": {
                "language": "sql",
                "azdata_cell_guid": "6211e560-b27e-439c-8970-05f0e9925fd9"
            },
            "outputs": [
                {
                    "output_type": "display_data",
                    "data": {
                        "text/html": "(30 rows affected)"
                    },
                    "metadata": {}
                },
                {
                    "output_type": "display_data",
                    "data": {
                        "text/html": "Total execution time: 00:00:00.017"
                    },
                    "metadata": {}
                },
                {
                    "output_type": "execute_result",
                    "metadata": {},
                    "execution_count": 18,
                    "data": {
                        "application/vnd.dataresource+json": {
                            "schema": {
                                "fields": [
                                    {
                                        "name": "SalesOrderID"
                                    },
                                    {
                                        "name": "OrderDate"
                                    },
                                    {
                                        "name": "TotalDue"
                                    }
                                ]
                            },
                            "data": [
                                {
                                    "SalesOrderID": "59210",
                                    "OrderDate": "2013-11-01 00:00:00.000",
                                    "TotalDue": "2612.1758"
                                },
                                {
                                    "SalesOrderID": "59211",
                                    "OrderDate": "2013-11-01 00:00:00.000",
                                    "TotalDue": "2595.6008"
                                },
                                {
                                    "SalesOrderID": "59212",
                                    "OrderDate": "2013-11-01 00:00:00.000",
                                    "TotalDue": "2674.0448"
                                },
                                {
                                    "SalesOrderID": "59213",
                                    "OrderDate": "2013-11-01 00:00:00.000",
                                    "TotalDue": "2574.6279"
                                },
                                {
                                    "SalesOrderID": "59214",
                                    "OrderDate": "2013-11-01 00:00:00.000",
                                    "TotalDue": "203.8504"
                                },
                                {
                                    "SalesOrderID": "59215",
                                    "OrderDate": "2013-11-01 00:00:00.000",
                                    "TotalDue": "14.3429"
                                },
                                {
                                    "SalesOrderID": "59216",
                                    "OrderDate": "2013-11-01 00:00:00.000",
                                    "TotalDue": "640.3033"
                                },
                                {
                                    "SalesOrderID": "59217",
                                    "OrderDate": "2013-11-01 00:00:00.000",
                                    "TotalDue": "648.6019"
                                },
                                {
                                    "SalesOrderID": "59218",
                                    "OrderDate": "2013-11-01 00:00:00.000",
                                    "TotalDue": "2748.4997"
                                },
                                {
                                    "SalesOrderID": "59219",
                                    "OrderDate": "2013-11-01 00:00:00.000",
                                    "TotalDue": "2666.8954"
                                },
                                {
                                    "SalesOrderID": "59220",
                                    "OrderDate": "2013-11-01 00:00:00.000",
                                    "TotalDue": "59.659"
                                },
                                {
                                    "SalesOrderID": "59221",
                                    "OrderDate": "2013-11-01 00:00:00.000",
                                    "TotalDue": "34.5534"
                                },
                                {
                                    "SalesOrderID": "59222",
                                    "OrderDate": "2013-11-01 00:00:00.000",
                                    "TotalDue": "8.0444"
                                },
                                {
                                    "SalesOrderID": "59223",
                                    "OrderDate": "2013-11-01 00:00:00.000",
                                    "TotalDue": "32.034"
                                },
                                {
                                    "SalesOrderID": "59224",
                                    "OrderDate": "2013-11-01 00:00:00.000",
                                    "TotalDue": "35.6584"
                                },
                                {
                                    "SalesOrderID": "59225",
                                    "OrderDate": "2013-11-01 00:00:00.000",
                                    "TotalDue": "76.2119"
                                },
                                {
                                    "SalesOrderID": "59226",
                                    "OrderDate": "2013-11-01 00:00:00.000",
                                    "TotalDue": "77.3169"
                                },
                                {
                                    "SalesOrderID": "59227",
                                    "OrderDate": "2013-11-01 00:00:00.000",
                                    "TotalDue": "41.1834"
                                },
                                {
                                    "SalesOrderID": "59228",
                                    "OrderDate": "2013-11-01 00:00:00.000",
                                    "TotalDue": "41.1834"
                                },
                                {
                                    "SalesOrderID": "59229",
                                    "OrderDate": "2013-11-01 00:00:00.000",
                                    "TotalDue": "86.7204"
                                },
                                {
                                    "SalesOrderID": "59230",
                                    "OrderDate": "2013-11-01 00:00:00.000",
                                    "TotalDue": "11.039"
                                },
                                {
                                    "SalesOrderID": "59231",
                                    "OrderDate": "2013-11-01 00:00:00.000",
                                    "TotalDue": "62.9519"
                                },
                                {
                                    "SalesOrderID": "59232",
                                    "OrderDate": "2013-11-01 00:00:00.000",
                                    "TotalDue": "118.1908"
                                },
                                {
                                    "SalesOrderID": "59233",
                                    "OrderDate": "2013-11-01 00:00:00.000",
                                    "TotalDue": "24.2879"
                                },
                                {
                                    "SalesOrderID": "59234",
                                    "OrderDate": "2013-11-01 00:00:00.000",
                                    "TotalDue": "27.614"
                                },
                                {
                                    "SalesOrderID": "59235",
                                    "OrderDate": "2013-11-01 00:00:00.000",
                                    "TotalDue": "69.5929"
                                },
                                {
                                    "SalesOrderID": "59236",
                                    "OrderDate": "2013-11-01 00:00:00.000",
                                    "TotalDue": "65.1729"
                                },
                                {
                                    "SalesOrderID": "59237",
                                    "OrderDate": "2013-11-01 00:00:00.000",
                                    "TotalDue": "136.9758"
                                },
                                {
                                    "SalesOrderID": "59238",
                                    "OrderDate": "2013-11-01 00:00:00.000",
                                    "TotalDue": "40.0784"
                                },
                                {
                                    "SalesOrderID": "59239",
                                    "OrderDate": "2013-11-01 00:00:00.000",
                                    "TotalDue": "60.7419"
                                }
                            ]
                        },
                        "text/html": [
                            "<table>",
                            "<tr><th>SalesOrderID</th><th>OrderDate</th><th>TotalDue</th></tr>",
                            "<tr><td>59210</td><td>2013-11-01 00:00:00.000</td><td>2612.1758</td></tr>",
                            "<tr><td>59211</td><td>2013-11-01 00:00:00.000</td><td>2595.6008</td></tr>",
                            "<tr><td>59212</td><td>2013-11-01 00:00:00.000</td><td>2674.0448</td></tr>",
                            "<tr><td>59213</td><td>2013-11-01 00:00:00.000</td><td>2574.6279</td></tr>",
                            "<tr><td>59214</td><td>2013-11-01 00:00:00.000</td><td>203.8504</td></tr>",
                            "<tr><td>59215</td><td>2013-11-01 00:00:00.000</td><td>14.3429</td></tr>",
                            "<tr><td>59216</td><td>2013-11-01 00:00:00.000</td><td>640.3033</td></tr>",
                            "<tr><td>59217</td><td>2013-11-01 00:00:00.000</td><td>648.6019</td></tr>",
                            "<tr><td>59218</td><td>2013-11-01 00:00:00.000</td><td>2748.4997</td></tr>",
                            "<tr><td>59219</td><td>2013-11-01 00:00:00.000</td><td>2666.8954</td></tr>",
                            "<tr><td>59220</td><td>2013-11-01 00:00:00.000</td><td>59.659</td></tr>",
                            "<tr><td>59221</td><td>2013-11-01 00:00:00.000</td><td>34.5534</td></tr>",
                            "<tr><td>59222</td><td>2013-11-01 00:00:00.000</td><td>8.0444</td></tr>",
                            "<tr><td>59223</td><td>2013-11-01 00:00:00.000</td><td>32.034</td></tr>",
                            "<tr><td>59224</td><td>2013-11-01 00:00:00.000</td><td>35.6584</td></tr>",
                            "<tr><td>59225</td><td>2013-11-01 00:00:00.000</td><td>76.2119</td></tr>",
                            "<tr><td>59226</td><td>2013-11-01 00:00:00.000</td><td>77.3169</td></tr>",
                            "<tr><td>59227</td><td>2013-11-01 00:00:00.000</td><td>41.1834</td></tr>",
                            "<tr><td>59228</td><td>2013-11-01 00:00:00.000</td><td>41.1834</td></tr>",
                            "<tr><td>59229</td><td>2013-11-01 00:00:00.000</td><td>86.7204</td></tr>",
                            "<tr><td>59230</td><td>2013-11-01 00:00:00.000</td><td>11.039</td></tr>",
                            "<tr><td>59231</td><td>2013-11-01 00:00:00.000</td><td>62.9519</td></tr>",
                            "<tr><td>59232</td><td>2013-11-01 00:00:00.000</td><td>118.1908</td></tr>",
                            "<tr><td>59233</td><td>2013-11-01 00:00:00.000</td><td>24.2879</td></tr>",
                            "<tr><td>59234</td><td>2013-11-01 00:00:00.000</td><td>27.614</td></tr>",
                            "<tr><td>59235</td><td>2013-11-01 00:00:00.000</td><td>69.5929</td></tr>",
                            "<tr><td>59236</td><td>2013-11-01 00:00:00.000</td><td>65.1729</td></tr>",
                            "<tr><td>59237</td><td>2013-11-01 00:00:00.000</td><td>136.9758</td></tr>",
                            "<tr><td>59238</td><td>2013-11-01 00:00:00.000</td><td>40.0784</td></tr>",
                            "<tr><td>59239</td><td>2013-11-01 00:00:00.000</td><td>60.7419</td></tr>",
                            "</table>"
                        ]
                    }
                }
            ],
            "execution_count": 18
        },
        {
            "cell_type": "code",
            "source": [
                "--5) products in the catalog that never appear in sales order lines \r\n",
                "SELECT TOP (30)                                                                -- limit to 30 products\r\n",
                "       p.ProductID                                                             -- catalog product id\r\n",
                "FROM Production.Product AS p                                                   -- product master\r\n",
                "WHERE p.ProductID IS NOT NULL                                                  -- avoid nulls (safety)\r\n",
                "EXCEPT                                                                         -- remove any product that was sold\r\n",
                "SELECT sod.ProductID                                                           -- product id sold\r\n",
                "FROM Sales.SalesOrderDetail AS sod                                            -- sales lines\r\n",
                "WHERE sod.ProductID IS NOT NULL                                                -- avoid nulls (safety)\r\n",
                "ORDER BY ProductID;                                                            -- numeric order\r\n",
                ""
            ],
            "metadata": {
                "language": "sql",
                "azdata_cell_guid": "52186bbe-5414-4f01-a107-50dcc045eaad"
            },
            "outputs": [
                {
                    "output_type": "display_data",
                    "data": {
                        "text/html": "(30 rows affected)"
                    },
                    "metadata": {}
                },
                {
                    "output_type": "display_data",
                    "data": {
                        "text/html": "Total execution time: 00:00:00.013"
                    },
                    "metadata": {}
                },
                {
                    "output_type": "execute_result",
                    "metadata": {},
                    "execution_count": 21,
                    "data": {
                        "application/vnd.dataresource+json": {
                            "schema": {
                                "fields": [
                                    {
                                        "name": "ProductID"
                                    }
                                ]
                            },
                            "data": [
                                {
                                    "ProductID": "1"
                                },
                                {
                                    "ProductID": "2"
                                },
                                {
                                    "ProductID": "3"
                                },
                                {
                                    "ProductID": "4"
                                },
                                {
                                    "ProductID": "316"
                                },
                                {
                                    "ProductID": "317"
                                },
                                {
                                    "ProductID": "318"
                                },
                                {
                                    "ProductID": "319"
                                },
                                {
                                    "ProductID": "320"
                                },
                                {
                                    "ProductID": "321"
                                },
                                {
                                    "ProductID": "322"
                                },
                                {
                                    "ProductID": "323"
                                },
                                {
                                    "ProductID": "324"
                                },
                                {
                                    "ProductID": "325"
                                },
                                {
                                    "ProductID": "326"
                                },
                                {
                                    "ProductID": "327"
                                },
                                {
                                    "ProductID": "328"
                                },
                                {
                                    "ProductID": "329"
                                },
                                {
                                    "ProductID": "330"
                                },
                                {
                                    "ProductID": "331"
                                },
                                {
                                    "ProductID": "332"
                                },
                                {
                                    "ProductID": "341"
                                },
                                {
                                    "ProductID": "342"
                                },
                                {
                                    "ProductID": "343"
                                },
                                {
                                    "ProductID": "344"
                                },
                                {
                                    "ProductID": "345"
                                },
                                {
                                    "ProductID": "346"
                                },
                                {
                                    "ProductID": "347"
                                },
                                {
                                    "ProductID": "348"
                                },
                                {
                                    "ProductID": "349"
                                }
                            ]
                        },
                        "text/html": [
                            "<table>",
                            "<tr><th>ProductID</th></tr>",
                            "<tr><td>1</td></tr>",
                            "<tr><td>2</td></tr>",
                            "<tr><td>3</td></tr>",
                            "<tr><td>4</td></tr>",
                            "<tr><td>316</td></tr>",
                            "<tr><td>317</td></tr>",
                            "<tr><td>318</td></tr>",
                            "<tr><td>319</td></tr>",
                            "<tr><td>320</td></tr>",
                            "<tr><td>321</td></tr>",
                            "<tr><td>322</td></tr>",
                            "<tr><td>323</td></tr>",
                            "<tr><td>324</td></tr>",
                            "<tr><td>325</td></tr>",
                            "<tr><td>326</td></tr>",
                            "<tr><td>327</td></tr>",
                            "<tr><td>328</td></tr>",
                            "<tr><td>329</td></tr>",
                            "<tr><td>330</td></tr>",
                            "<tr><td>331</td></tr>",
                            "<tr><td>332</td></tr>",
                            "<tr><td>341</td></tr>",
                            "<tr><td>342</td></tr>",
                            "<tr><td>343</td></tr>",
                            "<tr><td>344</td></tr>",
                            "<tr><td>345</td></tr>",
                            "<tr><td>346</td></tr>",
                            "<tr><td>347</td></tr>",
                            "<tr><td>348</td></tr>",
                            "<tr><td>349</td></tr>",
                            "</table>"
                        ]
                    }
                }
            ],
            "execution_count": 21
        },
        {
            "cell_type": "code",
            "source": [
                "-- 6) identify new acquisitions: customers present in 2014 but not in 2013\r\n",
                "SELECT TOP (30)                                                                -- cap number of rows\r\n",
                "       soh.CustomerID                                                          -- customer id\r\n",
                "FROM Sales.SalesOrderHeader AS soh                                             -- sales header\r\n",
                "WHERE soh.OrderDate >= '2014-01-01' AND soh.OrderDate < '2015-01-01'           -- orders in 2014\r\n",
                "  AND soh.CustomerID IS NOT NULL                                               -- avoid nulls\r\n",
                "EXCEPT                                                                         -- remove customers who also ordered in 2013\r\n",
                "SELECT soh.CustomerID                                                          -- customer id\r\n",
                "FROM Sales.SalesOrderHeader AS soh                                             -- sales header\r\n",
                "WHERE soh.OrderDate >= '2013-01-01' AND soh.OrderDate < '2014-01-01'           -- orders in 2013\r\n",
                "  AND soh.CustomerID IS NOT NULL                                               -- avoid nulls\r\n",
                "ORDER BY CustomerID;                                                           -- ascending\r\n",
                ""
            ],
            "metadata": {
                "language": "sql",
                "azdata_cell_guid": "66f155f9-0890-4c46-bd8e-a5aa4ad2982e"
            },
            "outputs": [
                {
                    "output_type": "display_data",
                    "data": {
                        "text/html": "(25 rows affected)"
                    },
                    "metadata": {}
                },
                {
                    "output_type": "display_data",
                    "data": {
                        "text/html": "Total execution time: 00:00:00.018"
                    },
                    "metadata": {}
                },
                {
                    "output_type": "execute_result",
                    "metadata": {},
                    "execution_count": 22,
                    "data": {
                        "application/vnd.dataresource+json": {
                            "schema": {
                                "fields": [
                                    {
                                        "name": "CustomerID"
                                    }
                                ]
                            },
                            "data": [
                                {
                                    "CustomerID": "11621"
                                },
                                {
                                    "CustomerID": "13679"
                                },
                                {
                                    "CustomerID": "14077"
                                },
                                {
                                    "CustomerID": "14170"
                                },
                                {
                                    "CustomerID": "14620"
                                },
                                {
                                    "CustomerID": "14685"
                                },
                                {
                                    "CustomerID": "16009"
                                },
                                {
                                    "CustomerID": "16544"
                                },
                                {
                                    "CustomerID": "16595"
                                },
                                {
                                    "CustomerID": "17152"
                                },
                                {
                                    "CustomerID": "17182"
                                },
                                {
                                    "CustomerID": "17188"
                                },
                                {
                                    "CustomerID": "17507"
                                },
                                {
                                    "CustomerID": "18069"
                                },
                                {
                                    "CustomerID": "18665"
                                },
                                {
                                    "CustomerID": "19804"
                                },
                                {
                                    "CustomerID": "20865"
                                },
                                {
                                    "CustomerID": "20976"
                                },
                                {
                                    "CustomerID": "21073"
                                },
                                {
                                    "CustomerID": "21279"
                                },
                                {
                                    "CustomerID": "22339"
                                },
                                {
                                    "CustomerID": "23208"
                                },
                                {
                                    "CustomerID": "27052"
                                },
                                {
                                    "CustomerID": "27386"
                                },
                                {
                                    "CustomerID": "28986"
                                }
                            ]
                        },
                        "text/html": [
                            "<table>",
                            "<tr><th>CustomerID</th></tr>",
                            "<tr><td>11621</td></tr>",
                            "<tr><td>13679</td></tr>",
                            "<tr><td>14077</td></tr>",
                            "<tr><td>14170</td></tr>",
                            "<tr><td>14620</td></tr>",
                            "<tr><td>14685</td></tr>",
                            "<tr><td>16009</td></tr>",
                            "<tr><td>16544</td></tr>",
                            "<tr><td>16595</td></tr>",
                            "<tr><td>17152</td></tr>",
                            "<tr><td>17182</td></tr>",
                            "<tr><td>17188</td></tr>",
                            "<tr><td>17507</td></tr>",
                            "<tr><td>18069</td></tr>",
                            "<tr><td>18665</td></tr>",
                            "<tr><td>19804</td></tr>",
                            "<tr><td>20865</td></tr>",
                            "<tr><td>20976</td></tr>",
                            "<tr><td>21073</td></tr>",
                            "<tr><td>21279</td></tr>",
                            "<tr><td>22339</td></tr>",
                            "<tr><td>23208</td></tr>",
                            "<tr><td>27052</td></tr>",
                            "<tr><td>27386</td></tr>",
                            "<tr><td>28986</td></tr>",
                            "</table>"
                        ]
                    }
                }
            ],
            "execution_count": 22
        },
        {
            "cell_type": "code",
            "source": [
                "-- 7) Vendor cities that are not customer ship-to cities\r\n",
                "\r\n",
                "SELECT A.City                                                  -- select city name from address table\r\n",
                "FROM Person.Address AS A                                       -- source table: Address contains all city data\r\n",
                "JOIN Person.BusinessEntityAddress AS BEA                       -- join to link addresses to business entities\r\n",
                "  ON BEA.AddressID = A.AddressID                               -- match by AddressID (foreign key relationship)\r\n",
                "JOIN Purchasing.Vendor AS V                                    -- join to get vendor records\r\n",
                "  ON V.BusinessEntityID = BEA.BusinessEntityID                 -- link each vendor to its address through BEA\r\n",
                "\r\n",
                "EXCEPT                                                         -- remove any cities that also appear as ship-to cities for customers\r\n",
                "\r\n",
                "SELECT A.City                                                  -- select city name again for comparison\r\n",
                "FROM Sales.SalesOrderHeader AS H                               -- use SalesOrderHeader to find customer shipping addresses\r\n",
                "JOIN Person.Address AS A                                       -- join address table again for ship-to city info\r\n",
                "  ON A.AddressID = H.ShipToAddressID                           -- match order’s shipping address to address table\r\n",
                "ORDER BY City;                                                 -- sort the remaining (vendor-only) cities alphabetically\r\n",
                ""
            ],
            "metadata": {
                "language": "sql",
                "azdata_cell_guid": "ee264b1f-29a9-43da-ab6c-824a4b764bf0"
            },
            "outputs": [
                {
                    "output_type": "display_data",
                    "data": {
                        "text/html": "(6 rows affected)"
                    },
                    "metadata": {}
                },
                {
                    "output_type": "display_data",
                    "data": {
                        "text/html": "Total execution time: 00:00:00.024"
                    },
                    "metadata": {}
                },
                {
                    "output_type": "execute_result",
                    "metadata": {},
                    "execution_count": 24,
                    "data": {
                        "application/vnd.dataresource+json": {
                            "schema": {
                                "fields": [
                                    {
                                        "name": "City"
                                    }
                                ]
                            },
                            "data": [
                                {
                                    "City": "Altadena"
                                },
                                {
                                    "City": "Anacortes"
                                },
                                {
                                    "City": "Boise"
                                },
                                {
                                    "City": "Boston"
                                },
                                {
                                    "City": "Philadelphia"
                                },
                                {
                                    "City": "St. Louis"
                                }
                            ]
                        },
                        "text/html": [
                            "<table>",
                            "<tr><th>City</th></tr>",
                            "<tr><td>Altadena</td></tr>",
                            "<tr><td>Anacortes</td></tr>",
                            "<tr><td>Boise</td></tr>",
                            "<tr><td>Boston</td></tr>",
                            "<tr><td>Philadelphia</td></tr>",
                            "<tr><td>St. Louis</td></tr>",
                            "</table>"
                        ]
                    }
                }
            ],
            "execution_count": 24
        },
        {
            "cell_type": "code",
            "source": [
                "-- 8) Employees not in Sales \r\n",
                "\r\n",
                "SELECT TOP 20 BusinessEntityID, FirstName, LastName            -- select top 20 employees (ID, first name, last name)\r\n",
                "FROM (                                                         -- start of subquery to find all non-sales employees\r\n",
                "    SELECT e.BusinessEntityID,                                 -- select the employee's unique business ID\r\n",
                "           p.FirstName,                                        -- employee’s first name from Person table\r\n",
                "           p.LastName                                          -- employee’s last name from Person table\r\n",
                "    FROM HumanResources.Employee e                             -- source: Employee table (holds employment data)\r\n",
                "    JOIN Person.Person p ON e.BusinessEntityID = p.BusinessEntityID  -- join to get name details using the shared ID\r\n",
                "\r\n",
                "    EXCEPT                                                     -- remove all employees who belong to the Sales department\r\n",
                "\r\n",
                "    SELECT e.BusinessEntityID,                                 -- select employee ID again for comparison\r\n",
                "           p.FirstName,                                        -- employee’s first name\r\n",
                "           p.LastName                                          -- employee’s last name\r\n",
                "    FROM HumanResources.Employee e                             -- source: Employee table\r\n",
                "    JOIN Person.Person p ON e.BusinessEntityID = p.BusinessEntityID  -- join again for name info\r\n",
                "    JOIN HumanResources.EmployeeDepartmentHistory dh            -- link to department history table\r\n",
                "         ON e.BusinessEntityID = dh.BusinessEntityID            -- match employee IDs to department history\r\n",
                "    JOIN HumanResources.Department d                            -- join to get department names\r\n",
                "         ON dh.DepartmentID = d.DepartmentID                    -- link department IDs together\r\n",
                "    WHERE d.Name = 'Sales'                                     -- filter only those in the Sales department\r\n",
                ") AS NonSales                                                  -- alias the subquery result as \"NonSales\"\r\n",
                "\r\n",
                "ORDER BY BusinessEntityID;                                     -- sort final list by employee ID for re\r\n",
                "\r\n",
                ""
            ],
            "metadata": {
                "language": "sql",
                "azdata_cell_guid": "61b64eee-7da5-4c8a-bbfc-f604ca1d4832"
            },
            "outputs": [
                {
                    "output_type": "display_data",
                    "data": {
                        "text/html": "(20 rows affected)"
                    },
                    "metadata": {}
                },
                {
                    "output_type": "display_data",
                    "data": {
                        "text/html": "Total execution time: 00:00:00.037"
                    },
                    "metadata": {}
                },
                {
                    "output_type": "execute_result",
                    "metadata": {},
                    "execution_count": 26,
                    "data": {
                        "application/vnd.dataresource+json": {
                            "schema": {
                                "fields": [
                                    {
                                        "name": "BusinessEntityID"
                                    },
                                    {
                                        "name": "FirstName"
                                    },
                                    {
                                        "name": "LastName"
                                    }
                                ]
                            },
                            "data": [
                                {
                                    "BusinessEntityID": "1",
                                    "FirstName": "Ken",
                                    "LastName": "Sánchez"
                                },
                                {
                                    "BusinessEntityID": "2",
                                    "FirstName": "Terri",
                                    "LastName": "Duffy"
                                },
                                {
                                    "BusinessEntityID": "3",
                                    "FirstName": "Roberto",
                                    "LastName": "Tamburello"
                                },
                                {
                                    "BusinessEntityID": "4",
                                    "FirstName": "Rob",
                                    "LastName": "Walters"
                                },
                                {
                                    "BusinessEntityID": "5",
                                    "FirstName": "Gail",
                                    "LastName": "Erickson"
                                },
                                {
                                    "BusinessEntityID": "6",
                                    "FirstName": "Jossef",
                                    "LastName": "Goldberg"
                                },
                                {
                                    "BusinessEntityID": "7",
                                    "FirstName": "Dylan",
                                    "LastName": "Miller"
                                },
                                {
                                    "BusinessEntityID": "8",
                                    "FirstName": "Diane",
                                    "LastName": "Margheim"
                                },
                                {
                                    "BusinessEntityID": "9",
                                    "FirstName": "Gigi",
                                    "LastName": "Matthew"
                                },
                                {
                                    "BusinessEntityID": "10",
                                    "FirstName": "Michael",
                                    "LastName": "Raheem"
                                },
                                {
                                    "BusinessEntityID": "11",
                                    "FirstName": "Ovidiu",
                                    "LastName": "Cracium"
                                },
                                {
                                    "BusinessEntityID": "12",
                                    "FirstName": "Thierry",
                                    "LastName": "D'Hers"
                                },
                                {
                                    "BusinessEntityID": "13",
                                    "FirstName": "Janice",
                                    "LastName": "Galvin"
                                },
                                {
                                    "BusinessEntityID": "14",
                                    "FirstName": "Michael",
                                    "LastName": "Sullivan"
                                },
                                {
                                    "BusinessEntityID": "15",
                                    "FirstName": "Sharon",
                                    "LastName": "Salavaria"
                                },
                                {
                                    "BusinessEntityID": "16",
                                    "FirstName": "David",
                                    "LastName": "Bradley"
                                },
                                {
                                    "BusinessEntityID": "17",
                                    "FirstName": "Kevin",
                                    "LastName": "Brown"
                                },
                                {
                                    "BusinessEntityID": "18",
                                    "FirstName": "John",
                                    "LastName": "Wood"
                                },
                                {
                                    "BusinessEntityID": "19",
                                    "FirstName": "Mary",
                                    "LastName": "Dempsey"
                                },
                                {
                                    "BusinessEntityID": "20",
                                    "FirstName": "Wanida",
                                    "LastName": "Benshoof"
                                }
                            ]
                        },
                        "text/html": [
                            "<table>",
                            "<tr><th>BusinessEntityID</th><th>FirstName</th><th>LastName</th></tr>",
                            "<tr><td>1</td><td>Ken</td><td>Sánchez</td></tr>",
                            "<tr><td>2</td><td>Terri</td><td>Duffy</td></tr>",
                            "<tr><td>3</td><td>Roberto</td><td>Tamburello</td></tr>",
                            "<tr><td>4</td><td>Rob</td><td>Walters</td></tr>",
                            "<tr><td>5</td><td>Gail</td><td>Erickson</td></tr>",
                            "<tr><td>6</td><td>Jossef</td><td>Goldberg</td></tr>",
                            "<tr><td>7</td><td>Dylan</td><td>Miller</td></tr>",
                            "<tr><td>8</td><td>Diane</td><td>Margheim</td></tr>",
                            "<tr><td>9</td><td>Gigi</td><td>Matthew</td></tr>",
                            "<tr><td>10</td><td>Michael</td><td>Raheem</td></tr>",
                            "<tr><td>11</td><td>Ovidiu</td><td>Cracium</td></tr>",
                            "<tr><td>12</td><td>Thierry</td><td>D&#39;Hers</td></tr>",
                            "<tr><td>13</td><td>Janice</td><td>Galvin</td></tr>",
                            "<tr><td>14</td><td>Michael</td><td>Sullivan</td></tr>",
                            "<tr><td>15</td><td>Sharon</td><td>Salavaria</td></tr>",
                            "<tr><td>16</td><td>David</td><td>Bradley</td></tr>",
                            "<tr><td>17</td><td>Kevin</td><td>Brown</td></tr>",
                            "<tr><td>18</td><td>John</td><td>Wood</td></tr>",
                            "<tr><td>19</td><td>Mary</td><td>Dempsey</td></tr>",
                            "<tr><td>20</td><td>Wanida</td><td>Benshoof</td></tr>",
                            "</table>"
                        ]
                    }
                }
            ],
            "execution_count": 26
        },
        {
            "cell_type": "code",
            "source": [
                "-- 9) Products with Both List Price and Standard Cost\r\n",
                "\r\n",
                "SELECT TOP 20                                                  -- limit the final result to 20 rows\r\n",
                "       ProductID,                                              -- show the unique product identifier\r\n",
                "       Name AS ProductName,                                    -- display the product name for readability\r\n",
                "       ListPrice,                                              -- show the selling price for customers\r\n",
                "       StandardCost                                            -- show the internal manufacturing or purchase cost\r\n",
                "FROM Production.Product                                        -- source table: Product (contains all product details)\r\n",
                "WHERE ProductID IN (                                           -- filter: only include products found in both price and cost sets\r\n",
                "\r\n",
                "      -- first set: products that have a valid (nonzero) list price\r\n",
                "      SELECT ProductID                                         -- get product ID from product table\r\n",
                "      FROM Production.Product                                  -- same table: Production.Product\r\n",
                "      WHERE ListPrice > 0                                      -- keep only products that have a positive list price\r\n",
                "\r\n",
                "      INTERSECT                                                -- find product IDs that also appear in the next set\r\n",
                "\r\n",
                "      -- second set: products that have a valid (nonzero) standard cost\r\n",
                "      SELECT ProductID                                         -- get product ID again for comparison\r\n",
                "      FROM Production.Product                                  -- same table\r\n",
                "      WHERE StandardCost > 0                                   -- keep only products that have a positive standard cost\r\n",
                ")\r\n",
                "AND ListPrice > 0                                              -- ensure list price is greater than zero (safety redundancy)\r\n",
                "AND StandardCost > 0;                                          -- ensure standard cost is greater than zero (safety redundancy)\r\n",
                "\r\n",
                ""
            ],
            "metadata": {
                "language": "sql",
                "azdata_cell_guid": "0577658b-f138-4b69-a3d4-cc84ed642cea"
            },
            "outputs": [
                {
                    "output_type": "display_data",
                    "data": {
                        "text/html": "(20 rows affected)"
                    },
                    "metadata": {}
                },
                {
                    "output_type": "display_data",
                    "data": {
                        "text/html": "Total execution time: 00:00:00.025"
                    },
                    "metadata": {}
                },
                {
                    "output_type": "execute_result",
                    "metadata": {},
                    "execution_count": 29,
                    "data": {
                        "application/vnd.dataresource+json": {
                            "schema": {
                                "fields": [
                                    {
                                        "name": "ProductID"
                                    },
                                    {
                                        "name": "ProductName"
                                    },
                                    {
                                        "name": "ListPrice"
                                    },
                                    {
                                        "name": "StandardCost"
                                    }
                                ]
                            },
                            "data": [
                                {
                                    "ProductID": "514",
                                    "ProductName": "LL Mountain Seat Assembly",
                                    "ListPrice": "133.34",
                                    "StandardCost": "98.77"
                                },
                                {
                                    "ProductID": "515",
                                    "ProductName": "ML Mountain Seat Assembly",
                                    "ListPrice": "147.14",
                                    "StandardCost": "108.99"
                                },
                                {
                                    "ProductID": "516",
                                    "ProductName": "HL Mountain Seat Assembly",
                                    "ListPrice": "196.92",
                                    "StandardCost": "145.87"
                                },
                                {
                                    "ProductID": "517",
                                    "ProductName": "LL Road Seat Assembly",
                                    "ListPrice": "133.34",
                                    "StandardCost": "98.77"
                                },
                                {
                                    "ProductID": "518",
                                    "ProductName": "ML Road Seat Assembly",
                                    "ListPrice": "147.14",
                                    "StandardCost": "108.99"
                                },
                                {
                                    "ProductID": "519",
                                    "ProductName": "HL Road Seat Assembly",
                                    "ListPrice": "196.92",
                                    "StandardCost": "145.87"
                                },
                                {
                                    "ProductID": "520",
                                    "ProductName": "LL Touring Seat Assembly",
                                    "ListPrice": "133.34",
                                    "StandardCost": "98.77"
                                },
                                {
                                    "ProductID": "521",
                                    "ProductName": "ML Touring Seat Assembly",
                                    "ListPrice": "147.14",
                                    "StandardCost": "108.99"
                                },
                                {
                                    "ProductID": "522",
                                    "ProductName": "HL Touring Seat Assembly",
                                    "ListPrice": "196.92",
                                    "StandardCost": "145.87"
                                },
                                {
                                    "ProductID": "680",
                                    "ProductName": "HL Road Frame - Black, 58",
                                    "ListPrice": "1431.50",
                                    "StandardCost": "1059.31"
                                },
                                {
                                    "ProductID": "706",
                                    "ProductName": "HL Road Frame - Red, 58",
                                    "ListPrice": "1431.50",
                                    "StandardCost": "1059.31"
                                },
                                {
                                    "ProductID": "707",
                                    "ProductName": "Sport-100 Helmet, Red",
                                    "ListPrice": "34.99",
                                    "StandardCost": "13.0863"
                                },
                                {
                                    "ProductID": "708",
                                    "ProductName": "Sport-100 Helmet, Black",
                                    "ListPrice": "34.99",
                                    "StandardCost": "13.0863"
                                },
                                {
                                    "ProductID": "709",
                                    "ProductName": "Mountain Bike Socks, M",
                                    "ListPrice": "9.50",
                                    "StandardCost": "3.3963"
                                },
                                {
                                    "ProductID": "710",
                                    "ProductName": "Mountain Bike Socks, L",
                                    "ListPrice": "9.50",
                                    "StandardCost": "3.3963"
                                },
                                {
                                    "ProductID": "711",
                                    "ProductName": "Sport-100 Helmet, Blue",
                                    "ListPrice": "34.99",
                                    "StandardCost": "13.0863"
                                },
                                {
                                    "ProductID": "712",
                                    "ProductName": "AWC Logo Cap",
                                    "ListPrice": "8.99",
                                    "StandardCost": "6.9223"
                                },
                                {
                                    "ProductID": "713",
                                    "ProductName": "Long-Sleeve Logo Jersey, S",
                                    "ListPrice": "49.99",
                                    "StandardCost": "38.4923"
                                },
                                {
                                    "ProductID": "714",
                                    "ProductName": "Long-Sleeve Logo Jersey, M",
                                    "ListPrice": "49.99",
                                    "StandardCost": "38.4923"
                                },
                                {
                                    "ProductID": "715",
                                    "ProductName": "Long-Sleeve Logo Jersey, L",
                                    "ListPrice": "49.99",
                                    "StandardCost": "38.4923"
                                }
                            ]
                        },
                        "text/html": [
                            "<table>",
                            "<tr><th>ProductID</th><th>ProductName</th><th>ListPrice</th><th>StandardCost</th></tr>",
                            "<tr><td>514</td><td>LL Mountain Seat Assembly</td><td>133.34</td><td>98.77</td></tr>",
                            "<tr><td>515</td><td>ML Mountain Seat Assembly</td><td>147.14</td><td>108.99</td></tr>",
                            "<tr><td>516</td><td>HL Mountain Seat Assembly</td><td>196.92</td><td>145.87</td></tr>",
                            "<tr><td>517</td><td>LL Road Seat Assembly</td><td>133.34</td><td>98.77</td></tr>",
                            "<tr><td>518</td><td>ML Road Seat Assembly</td><td>147.14</td><td>108.99</td></tr>",
                            "<tr><td>519</td><td>HL Road Seat Assembly</td><td>196.92</td><td>145.87</td></tr>",
                            "<tr><td>520</td><td>LL Touring Seat Assembly</td><td>133.34</td><td>98.77</td></tr>",
                            "<tr><td>521</td><td>ML Touring Seat Assembly</td><td>147.14</td><td>108.99</td></tr>",
                            "<tr><td>522</td><td>HL Touring Seat Assembly</td><td>196.92</td><td>145.87</td></tr>",
                            "<tr><td>680</td><td>HL Road Frame - Black, 58</td><td>1431.50</td><td>1059.31</td></tr>",
                            "<tr><td>706</td><td>HL Road Frame - Red, 58</td><td>1431.50</td><td>1059.31</td></tr>",
                            "<tr><td>707</td><td>Sport-100 Helmet, Red</td><td>34.99</td><td>13.0863</td></tr>",
                            "<tr><td>708</td><td>Sport-100 Helmet, Black</td><td>34.99</td><td>13.0863</td></tr>",
                            "<tr><td>709</td><td>Mountain Bike Socks, M</td><td>9.50</td><td>3.3963</td></tr>",
                            "<tr><td>710</td><td>Mountain Bike Socks, L</td><td>9.50</td><td>3.3963</td></tr>",
                            "<tr><td>711</td><td>Sport-100 Helmet, Blue</td><td>34.99</td><td>13.0863</td></tr>",
                            "<tr><td>712</td><td>AWC Logo Cap</td><td>8.99</td><td>6.9223</td></tr>",
                            "<tr><td>713</td><td>Long-Sleeve Logo Jersey, S</td><td>49.99</td><td>38.4923</td></tr>",
                            "<tr><td>714</td><td>Long-Sleeve Logo Jersey, M</td><td>49.99</td><td>38.4923</td></tr>",
                            "<tr><td>715</td><td>Long-Sleeve Logo Jersey, L</td><td>49.99</td><td>38.4923</td></tr>",
                            "</table>"
                        ]
                    }
                }
            ],
            "execution_count": 29
        },
        {
            "cell_type": "code",
            "source": [
                "-- 10) Places with Both Online and Store Orders\r\n",
                "\r\n",
                "SELECT TOP 20                                                  -- limit the output to 20 territories\r\n",
                "       t.TerritoryID,                                          -- display the unique territory identifier\r\n",
                "       t.Name AS TerritoryName,                                -- show the territory’s descriptive name\r\n",
                "       t.CountryRegionCode                                     -- show the country or region code (e.g., US, CA, FR)\r\n",
                "FROM Sales.SalesTerritory AS t                                 -- source: SalesTerritory table (stores territory details)\r\n",
                "WHERE t.TerritoryID IN (                                       -- only include territories that appear in both order types\r\n",
                "\r\n",
                "      -- first subquery: territories that have online orders\r\n",
                "      SELECT TerritoryID                                       -- get the territory ID\r\n",
                "      FROM Sales.SalesOrderHeader                              -- source: sales orders table\r\n",
                "      WHERE OnlineOrderFlag = 1                                -- condition: flag value 1 means order was placed online\r\n",
                "\r\n",
                "      INTERSECT                                                -- keep only territories that also appear in the next set\r\n",
                "\r\n",
                "      -- second subquery: territories that have in-store (offline) orders\r\n",
                "      SELECT TerritoryID                                       -- get the territory ID again for comparison\r\n",
                "      FROM Sales.SalesOrderHeader                              -- same source table\r\n",
                "      WHERE OnlineOrderFlag = 0                                -- condition: flag value 0 means in-store (manual) order\r\n",
                ");\r\n",
                ""
            ],
            "metadata": {
                "language": "sql",
                "azdata_cell_guid": "a27df345-e67d-4504-915a-7e3c1dd87f3b"
            },
            "outputs": [
                {
                    "output_type": "display_data",
                    "data": {
                        "text/html": "(10 rows affected)"
                    },
                    "metadata": {}
                },
                {
                    "output_type": "display_data",
                    "data": {
                        "text/html": "Total execution time: 00:00:00.037"
                    },
                    "metadata": {}
                },
                {
                    "output_type": "execute_result",
                    "metadata": {},
                    "execution_count": 30,
                    "data": {
                        "application/vnd.dataresource+json": {
                            "schema": {
                                "fields": [
                                    {
                                        "name": "TerritoryID"
                                    },
                                    {
                                        "name": "TerritoryName"
                                    },
                                    {
                                        "name": "CountryRegionCode"
                                    }
                                ]
                            },
                            "data": [
                                {
                                    "TerritoryID": "9",
                                    "TerritoryName": "Australia",
                                    "CountryRegionCode": "AU"
                                },
                                {
                                    "TerritoryID": "3",
                                    "TerritoryName": "Central",
                                    "CountryRegionCode": "US"
                                },
                                {
                                    "TerritoryID": "6",
                                    "TerritoryName": "Canada",
                                    "CountryRegionCode": "CA"
                                },
                                {
                                    "TerritoryID": "7",
                                    "TerritoryName": "France",
                                    "CountryRegionCode": "FR"
                                },
                                {
                                    "TerritoryID": "1",
                                    "TerritoryName": "Northwest",
                                    "CountryRegionCode": "US"
                                },
                                {
                                    "TerritoryID": "10",
                                    "TerritoryName": "United Kingdom",
                                    "CountryRegionCode": "GB"
                                },
                                {
                                    "TerritoryID": "4",
                                    "TerritoryName": "Southwest",
                                    "CountryRegionCode": "US"
                                },
                                {
                                    "TerritoryID": "5",
                                    "TerritoryName": "Southeast",
                                    "CountryRegionCode": "US"
                                },
                                {
                                    "TerritoryID": "2",
                                    "TerritoryName": "Northeast",
                                    "CountryRegionCode": "US"
                                },
                                {
                                    "TerritoryID": "8",
                                    "TerritoryName": "Germany",
                                    "CountryRegionCode": "DE"
                                }
                            ]
                        },
                        "text/html": [
                            "<table>",
                            "<tr><th>TerritoryID</th><th>TerritoryName</th><th>CountryRegionCode</th></tr>",
                            "<tr><td>9</td><td>Australia</td><td>AU</td></tr>",
                            "<tr><td>3</td><td>Central</td><td>US</td></tr>",
                            "<tr><td>6</td><td>Canada</td><td>CA</td></tr>",
                            "<tr><td>7</td><td>France</td><td>FR</td></tr>",
                            "<tr><td>1</td><td>Northwest</td><td>US</td></tr>",
                            "<tr><td>10</td><td>United Kingdom</td><td>GB</td></tr>",
                            "<tr><td>4</td><td>Southwest</td><td>US</td></tr>",
                            "<tr><td>5</td><td>Southeast</td><td>US</td></tr>",
                            "<tr><td>2</td><td>Northeast</td><td>US</td></tr>",
                            "<tr><td>8</td><td>Germany</td><td>DE</td></tr>",
                            "</table>"
                        ]
                    }
                }
            ],
            "execution_count": 30
        }
    ]
}