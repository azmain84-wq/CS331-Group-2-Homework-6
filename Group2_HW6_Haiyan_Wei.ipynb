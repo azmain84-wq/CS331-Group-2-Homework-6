{
    "metadata": {
        "kernelspec": {
            "name": "SQL",
            "display_name": "SQL",
            "language": "sql"
        },
        "language_info": {
            "name": "sql",
            "version": ""
        }
    },
    "nbformat_minor": 2,
    "nbformat": 4,
    "cells": [
        {
            "cell_type": "markdown",
            "source": [
                "I used AI to help me on ideas to made those query, and to know What I can do with those tables and operators.  \n",
                "Here is the video record for the queries: [https://youtu.be/\\_tHXXsYoE4I](https://youtu.be/_tHXXsYoE4I)"
            ],
            "metadata": {
                "azdata_cell_guid": "30a3138c-463c-454f-9a5e-1f3705bab70a"
            },
            "attachments": {}
        },
        {
            "cell_type": "code",
            "source": [
                "USE AdventureWorks2017;"
            ],
            "metadata": {
                "azdata_cell_guid": "8271f469-d369-4160-8a1c-db0a30490bda",
                "language": "sql"
            },
            "outputs": [
                {
                    "output_type": "display_data",
                    "data": {
                        "text/html": "Commands completed successfully."
                    },
                    "metadata": {}
                },
                {
                    "output_type": "display_data",
                    "data": {
                        "text/html": "Total execution time: 00:00:00.004"
                    },
                    "metadata": {}
                }
            ],
            "execution_count": 1
        },
        {
            "cell_type": "code",
            "source": [
                "--1: Customers with Orders in 2013 but Not 2014\r\n",
                "SELECT TOP 20 c.CustomerID, p.FirstName, p.LastName\r\n",
                "FROM Sales.Customer c\r\n",
                "JOIN Person.Person p ON c.PersonID = p.BusinessEntityID\r\n",
                "WHERE c.CustomerID IN (\r\n",
                "    SELECT CustomerID FROM Sales.SalesOrderHeader WHERE YEAR(OrderDate) = 2013\r\n",
                "    EXCEPT\r\n",
                "    SELECT CustomerID FROM Sales.SalesOrderHeader WHERE YEAR(OrderDate) = 2014\r\n",
                ");"
            ],
            "metadata": {
                "azdata_cell_guid": "1ec66e7c-3f66-440e-9d51-4222dea6f5d9",
                "language": "sql"
            },
            "outputs": [
                {
                    "output_type": "display_data",
                    "data": {
                        "text/html": "(20 rows affected)"
                    },
                    "metadata": {}
                },
                {
                    "output_type": "display_data",
                    "data": {
                        "text/html": "Total execution time: 00:00:00.026"
                    },
                    "metadata": {}
                },
                {
                    "output_type": "execute_result",
                    "execution_count": 2,
                    "data": {
                        "application/vnd.dataresource+json": {
                            "schema": {
                                "fields": [
                                    {
                                        "name": "CustomerID"
                                    },
                                    {
                                        "name": "FirstName"
                                    },
                                    {
                                        "name": "LastName"
                                    }
                                ]
                            },
                            "data": [
                                {
                                    "CustomerID": "17890",
                                    "FirstName": "Derrick",
                                    "LastName": "Jiménez"
                                },
                                {
                                    "CustomerID": "16944",
                                    "FirstName": "Alejandro",
                                    "LastName": "Raji"
                                },
                                {
                                    "CustomerID": "14129",
                                    "FirstName": "Monica",
                                    "LastName": "Martinez"
                                },
                                {
                                    "CustomerID": "14134",
                                    "FirstName": "Cassandra",
                                    "LastName": "Fernandez"
                                },
                                {
                                    "CustomerID": "23526",
                                    "FirstName": "Cara",
                                    "LastName": "Xu"
                                },
                                {
                                    "CustomerID": "26815",
                                    "FirstName": "Erin",
                                    "LastName": "Cox"
                                },
                                {
                                    "CustomerID": "19435",
                                    "FirstName": "Benjamin",
                                    "LastName": "Thompson"
                                },
                                {
                                    "CustomerID": "29390",
                                    "FirstName": "Summer",
                                    "LastName": "Rodriguez"
                                },
                                {
                                    "CustomerID": "12386",
                                    "FirstName": "Katherine",
                                    "LastName": "Perry"
                                },
                                {
                                    "CustomerID": "29415",
                                    "FirstName": "Oscar",
                                    "LastName": "Flores"
                                },
                                {
                                    "CustomerID": "26667",
                                    "FirstName": "Jillian",
                                    "LastName": "Patel"
                                },
                                {
                                    "CustomerID": "17889",
                                    "FirstName": "Blake",
                                    "LastName": "Taylor"
                                },
                                {
                                    "CustomerID": "17795",
                                    "FirstName": "Jaime",
                                    "LastName": "Diaz"
                                },
                                {
                                    "CustomerID": "19343",
                                    "FirstName": "Louis",
                                    "LastName": "Ye"
                                },
                                {
                                    "CustomerID": "14130",
                                    "FirstName": "Rebekah",
                                    "LastName": "Serrano"
                                },
                                {
                                    "CustomerID": "23423",
                                    "FirstName": "Adam",
                                    "LastName": "Powell"
                                },
                                {
                                    "CustomerID": "23432",
                                    "FirstName": "Jordan",
                                    "LastName": "Roberts"
                                },
                                {
                                    "CustomerID": "23531",
                                    "FirstName": "Alexis",
                                    "LastName": "Powell"
                                },
                                {
                                    "CustomerID": "23541",
                                    "FirstName": "Dana",
                                    "LastName": "Suarez"
                                },
                                {
                                    "CustomerID": "21331",
                                    "FirstName": "Timothy",
                                    "LastName": "James"
                                }
                            ]
                        },
                        "text/html": "<table><tr><th>CustomerID</th><th>FirstName</th><th>LastName</th></tr><tr><td>17890</td><td>Derrick</td><td>Jiménez</td></tr><tr><td>16944</td><td>Alejandro</td><td>Raji</td></tr><tr><td>14129</td><td>Monica</td><td>Martinez</td></tr><tr><td>14134</td><td>Cassandra</td><td>Fernandez</td></tr><tr><td>23526</td><td>Cara</td><td>Xu</td></tr><tr><td>26815</td><td>Erin</td><td>Cox</td></tr><tr><td>19435</td><td>Benjamin</td><td>Thompson</td></tr><tr><td>29390</td><td>Summer</td><td>Rodriguez</td></tr><tr><td>12386</td><td>Katherine</td><td>Perry</td></tr><tr><td>29415</td><td>Oscar</td><td>Flores</td></tr><tr><td>26667</td><td>Jillian</td><td>Patel</td></tr><tr><td>17889</td><td>Blake</td><td>Taylor</td></tr><tr><td>17795</td><td>Jaime</td><td>Diaz</td></tr><tr><td>19343</td><td>Louis</td><td>Ye</td></tr><tr><td>14130</td><td>Rebekah</td><td>Serrano</td></tr><tr><td>23423</td><td>Adam</td><td>Powell</td></tr><tr><td>23432</td><td>Jordan</td><td>Roberts</td></tr><tr><td>23531</td><td>Alexis</td><td>Powell</td></tr><tr><td>23541</td><td>Dana</td><td>Suarez</td></tr><tr><td>21331</td><td>Timothy</td><td>James</td></tr></table>"
                    },
                    "metadata": {}
                }
            ],
            "execution_count": 2
        },
        {
            "cell_type": "code",
            "source": [
                "--2: Products in Both Bikes and Components set\r\n",
                "SELECT ProductID\r\n",
                "FROM Production.Product\r\n",
                "WHERE ProductSubcategoryID IN (\r\n",
                "    SELECT ProductSubcategoryID \r\n",
                "    FROM Production.ProductSubcategory \r\n",
                "    WHERE ProductCategoryID = 1  -- Bikes\r\n",
                ")\r\n",
                "\r\n",
                "INTERSECT\r\n",
                "\r\n",
                "SELECT ProductID\r\n",
                "FROM Production.Product\r\n",
                "WHERE ProductSubcategoryID IN (\r\n",
                "    SELECT ProductSubcategoryID \r\n",
                "    FROM Production.ProductSubcategory \r\n",
                "    WHERE ProductCategoryID = 2  -- Components\r\n",
                ");"
            ],
            "metadata": {
                "azdata_cell_guid": "cc0133c2-8720-4252-bdeb-05e1d26ce056",
                "language": "sql"
            },
            "outputs": [
                {
                    "output_type": "display_data",
                    "data": {
                        "text/html": "(0 rows affected)"
                    },
                    "metadata": {}
                },
                {
                    "output_type": "display_data",
                    "data": {
                        "text/html": "Total execution time: 00:00:00.003"
                    },
                    "metadata": {}
                },
                {
                    "output_type": "execute_result",
                    "execution_count": 3,
                    "data": {
                        "application/vnd.dataresource+json": {
                            "schema": {
                                "fields": [
                                    {
                                        "name": "ProductID"
                                    }
                                ]
                            },
                            "data": []
                        },
                        "text/html": "<table><tr><th>ProductID</th></tr></table>"
                    },
                    "metadata": {}
                }
            ],
            "execution_count": 3
        },
        {
            "cell_type": "code",
            "source": [
                "--3: Employees Who Are Not Salespeople\r\n",
                "SELECT TOP 20 e.BusinessEntityID, p.FirstName, p.LastName, e.JobTitle\r\n",
                "FROM HumanResources.Employee e\r\n",
                "JOIN Person.Person p ON e.BusinessEntityID = p.BusinessEntityID\r\n",
                "WHERE e.BusinessEntityID IN (\r\n",
                "    SELECT BusinessEntityID FROM HumanResources.Employee\r\n",
                "    EXCEPT\r\n",
                "    SELECT BusinessEntityID FROM Sales.SalesPerson\r\n",
                ");"
            ],
            "metadata": {
                "azdata_cell_guid": "0a4d6cf5-531e-428d-921b-cb2dcfb12eca",
                "language": "sql"
            },
            "outputs": [
                {
                    "output_type": "display_data",
                    "data": {
                        "text/html": "(20 rows affected)"
                    },
                    "metadata": {}
                },
                {
                    "output_type": "display_data",
                    "data": {
                        "text/html": "Total execution time: 00:00:00.018"
                    },
                    "metadata": {}
                },
                {
                    "output_type": "execute_result",
                    "execution_count": 4,
                    "data": {
                        "application/vnd.dataresource+json": {
                            "schema": {
                                "fields": [
                                    {
                                        "name": "BusinessEntityID"
                                    },
                                    {
                                        "name": "FirstName"
                                    },
                                    {
                                        "name": "LastName"
                                    },
                                    {
                                        "name": "JobTitle"
                                    }
                                ]
                            },
                            "data": [
                                {
                                    "BusinessEntityID": "1",
                                    "FirstName": "Ken",
                                    "LastName": "Sánchez",
                                    "JobTitle": "Chief Executive Officer"
                                },
                                {
                                    "BusinessEntityID": "2",
                                    "FirstName": "Terri",
                                    "LastName": "Duffy",
                                    "JobTitle": "Vice President of Engineering"
                                },
                                {
                                    "BusinessEntityID": "3",
                                    "FirstName": "Roberto",
                                    "LastName": "Tamburello",
                                    "JobTitle": "Engineering Manager"
                                },
                                {
                                    "BusinessEntityID": "4",
                                    "FirstName": "Rob",
                                    "LastName": "Walters",
                                    "JobTitle": "Senior Tool Designer"
                                },
                                {
                                    "BusinessEntityID": "5",
                                    "FirstName": "Gail",
                                    "LastName": "Erickson",
                                    "JobTitle": "Design Engineer"
                                },
                                {
                                    "BusinessEntityID": "6",
                                    "FirstName": "Jossef",
                                    "LastName": "Goldberg",
                                    "JobTitle": "Design Engineer"
                                },
                                {
                                    "BusinessEntityID": "7",
                                    "FirstName": "Dylan",
                                    "LastName": "Miller",
                                    "JobTitle": "Research and Development Manager"
                                },
                                {
                                    "BusinessEntityID": "8",
                                    "FirstName": "Diane",
                                    "LastName": "Margheim",
                                    "JobTitle": "Research and Development Engineer"
                                },
                                {
                                    "BusinessEntityID": "9",
                                    "FirstName": "Gigi",
                                    "LastName": "Matthew",
                                    "JobTitle": "Research and Development Engineer"
                                },
                                {
                                    "BusinessEntityID": "10",
                                    "FirstName": "Michael",
                                    "LastName": "Raheem",
                                    "JobTitle": "Research and Development Manager"
                                },
                                {
                                    "BusinessEntityID": "11",
                                    "FirstName": "Ovidiu",
                                    "LastName": "Cracium",
                                    "JobTitle": "Senior Tool Designer"
                                },
                                {
                                    "BusinessEntityID": "12",
                                    "FirstName": "Thierry",
                                    "LastName": "D'Hers",
                                    "JobTitle": "Tool Designer"
                                },
                                {
                                    "BusinessEntityID": "13",
                                    "FirstName": "Janice",
                                    "LastName": "Galvin",
                                    "JobTitle": "Tool Designer"
                                },
                                {
                                    "BusinessEntityID": "14",
                                    "FirstName": "Michael",
                                    "LastName": "Sullivan",
                                    "JobTitle": "Senior Design Engineer"
                                },
                                {
                                    "BusinessEntityID": "15",
                                    "FirstName": "Sharon",
                                    "LastName": "Salavaria",
                                    "JobTitle": "Design Engineer"
                                },
                                {
                                    "BusinessEntityID": "16",
                                    "FirstName": "David",
                                    "LastName": "Bradley",
                                    "JobTitle": "Marketing Manager"
                                },
                                {
                                    "BusinessEntityID": "17",
                                    "FirstName": "Kevin",
                                    "LastName": "Brown",
                                    "JobTitle": "Marketing Assistant"
                                },
                                {
                                    "BusinessEntityID": "18",
                                    "FirstName": "John",
                                    "LastName": "Wood",
                                    "JobTitle": "Marketing Specialist"
                                },
                                {
                                    "BusinessEntityID": "19",
                                    "FirstName": "Mary",
                                    "LastName": "Dempsey",
                                    "JobTitle": "Marketing Assistant"
                                },
                                {
                                    "BusinessEntityID": "20",
                                    "FirstName": "Wanida",
                                    "LastName": "Benshoof",
                                    "JobTitle": "Marketing Assistant"
                                }
                            ]
                        },
                        "text/html": "<table><tr><th>BusinessEntityID</th><th>FirstName</th><th>LastName</th><th>JobTitle</th></tr><tr><td>1</td><td>Ken</td><td>Sánchez</td><td>Chief Executive Officer</td></tr><tr><td>2</td><td>Terri</td><td>Duffy</td><td>Vice President of Engineering</td></tr><tr><td>3</td><td>Roberto</td><td>Tamburello</td><td>Engineering Manager</td></tr><tr><td>4</td><td>Rob</td><td>Walters</td><td>Senior Tool Designer</td></tr><tr><td>5</td><td>Gail</td><td>Erickson</td><td>Design Engineer</td></tr><tr><td>6</td><td>Jossef</td><td>Goldberg</td><td>Design Engineer</td></tr><tr><td>7</td><td>Dylan</td><td>Miller</td><td>Research and Development Manager</td></tr><tr><td>8</td><td>Diane</td><td>Margheim</td><td>Research and Development Engineer</td></tr><tr><td>9</td><td>Gigi</td><td>Matthew</td><td>Research and Development Engineer</td></tr><tr><td>10</td><td>Michael</td><td>Raheem</td><td>Research and Development Manager</td></tr><tr><td>11</td><td>Ovidiu</td><td>Cracium</td><td>Senior Tool Designer</td></tr><tr><td>12</td><td>Thierry</td><td>D&#39;Hers</td><td>Tool Designer</td></tr><tr><td>13</td><td>Janice</td><td>Galvin</td><td>Tool Designer</td></tr><tr><td>14</td><td>Michael</td><td>Sullivan</td><td>Senior Design Engineer</td></tr><tr><td>15</td><td>Sharon</td><td>Salavaria</td><td>Design Engineer</td></tr><tr><td>16</td><td>David</td><td>Bradley</td><td>Marketing Manager</td></tr><tr><td>17</td><td>Kevin</td><td>Brown</td><td>Marketing Assistant</td></tr><tr><td>18</td><td>John</td><td>Wood</td><td>Marketing Specialist</td></tr><tr><td>19</td><td>Mary</td><td>Dempsey</td><td>Marketing Assistant</td></tr><tr><td>20</td><td>Wanida</td><td>Benshoof</td><td>Marketing Assistant</td></tr></table>"
                    },
                    "metadata": {}
                }
            ],
            "execution_count": 4
        },
        {
            "cell_type": "code",
            "source": [
                "--4: Products with Both List Price and Standard Cost\r\n",
                "SELECT TOP 20 ProductID, Name as ProductName, ListPrice, StandardCost\r\n",
                "FROM Production.Product\r\n",
                "WHERE ProductID IN (\r\n",
                "    SELECT ProductID FROM Production.Product WHERE ListPrice > 0\r\n",
                "    INTERSECT\r\n",
                "    SELECT ProductID FROM Production.Product WHERE StandardCost > 0\r\n",
                ")\r\n",
                "AND ListPrice > 0 AND StandardCost > 0;"
            ],
            "metadata": {
                "azdata_cell_guid": "823de363-31a4-40a5-a35c-a4aaf5e2f8ad",
                "language": "sql"
            },
            "outputs": [
                {
                    "output_type": "display_data",
                    "data": {
                        "text/html": "(20 rows affected)"
                    },
                    "metadata": {}
                },
                {
                    "output_type": "display_data",
                    "data": {
                        "text/html": "Total execution time: 00:00:00.019"
                    },
                    "metadata": {}
                },
                {
                    "output_type": "execute_result",
                    "execution_count": 5,
                    "data": {
                        "application/vnd.dataresource+json": {
                            "schema": {
                                "fields": [
                                    {
                                        "name": "ProductID"
                                    },
                                    {
                                        "name": "ProductName"
                                    },
                                    {
                                        "name": "ListPrice"
                                    },
                                    {
                                        "name": "StandardCost"
                                    }
                                ]
                            },
                            "data": [
                                {
                                    "ProductID": "514",
                                    "ProductName": "LL Mountain Seat Assembly",
                                    "ListPrice": "133.34",
                                    "StandardCost": "98.77"
                                },
                                {
                                    "ProductID": "515",
                                    "ProductName": "ML Mountain Seat Assembly",
                                    "ListPrice": "147.14",
                                    "StandardCost": "108.99"
                                },
                                {
                                    "ProductID": "516",
                                    "ProductName": "HL Mountain Seat Assembly",
                                    "ListPrice": "196.92",
                                    "StandardCost": "145.87"
                                },
                                {
                                    "ProductID": "517",
                                    "ProductName": "LL Road Seat Assembly",
                                    "ListPrice": "133.34",
                                    "StandardCost": "98.77"
                                },
                                {
                                    "ProductID": "518",
                                    "ProductName": "ML Road Seat Assembly",
                                    "ListPrice": "147.14",
                                    "StandardCost": "108.99"
                                },
                                {
                                    "ProductID": "519",
                                    "ProductName": "HL Road Seat Assembly",
                                    "ListPrice": "196.92",
                                    "StandardCost": "145.87"
                                },
                                {
                                    "ProductID": "520",
                                    "ProductName": "LL Touring Seat Assembly",
                                    "ListPrice": "133.34",
                                    "StandardCost": "98.77"
                                },
                                {
                                    "ProductID": "521",
                                    "ProductName": "ML Touring Seat Assembly",
                                    "ListPrice": "147.14",
                                    "StandardCost": "108.99"
                                },
                                {
                                    "ProductID": "522",
                                    "ProductName": "HL Touring Seat Assembly",
                                    "ListPrice": "196.92",
                                    "StandardCost": "145.87"
                                },
                                {
                                    "ProductID": "680",
                                    "ProductName": "HL Road Frame - Black, 58",
                                    "ListPrice": "1431.50",
                                    "StandardCost": "1059.31"
                                },
                                {
                                    "ProductID": "706",
                                    "ProductName": "HL Road Frame - Red, 58",
                                    "ListPrice": "1431.50",
                                    "StandardCost": "1059.31"
                                },
                                {
                                    "ProductID": "707",
                                    "ProductName": "Sport-100 Helmet, Red",
                                    "ListPrice": "34.99",
                                    "StandardCost": "13.0863"
                                },
                                {
                                    "ProductID": "708",
                                    "ProductName": "Sport-100 Helmet, Black",
                                    "ListPrice": "34.99",
                                    "StandardCost": "13.0863"
                                },
                                {
                                    "ProductID": "709",
                                    "ProductName": "Mountain Bike Socks, M",
                                    "ListPrice": "9.50",
                                    "StandardCost": "3.3963"
                                },
                                {
                                    "ProductID": "710",
                                    "ProductName": "Mountain Bike Socks, L",
                                    "ListPrice": "9.50",
                                    "StandardCost": "3.3963"
                                },
                                {
                                    "ProductID": "711",
                                    "ProductName": "Sport-100 Helmet, Blue",
                                    "ListPrice": "34.99",
                                    "StandardCost": "13.0863"
                                },
                                {
                                    "ProductID": "712",
                                    "ProductName": "AWC Logo Cap",
                                    "ListPrice": "8.99",
                                    "StandardCost": "6.9223"
                                },
                                {
                                    "ProductID": "713",
                                    "ProductName": "Long-Sleeve Logo Jersey, S",
                                    "ListPrice": "49.99",
                                    "StandardCost": "38.4923"
                                },
                                {
                                    "ProductID": "714",
                                    "ProductName": "Long-Sleeve Logo Jersey, M",
                                    "ListPrice": "49.99",
                                    "StandardCost": "38.4923"
                                },
                                {
                                    "ProductID": "715",
                                    "ProductName": "Long-Sleeve Logo Jersey, L",
                                    "ListPrice": "49.99",
                                    "StandardCost": "38.4923"
                                }
                            ]
                        },
                        "text/html": "<table><tr><th>ProductID</th><th>ProductName</th><th>ListPrice</th><th>StandardCost</th></tr><tr><td>514</td><td>LL Mountain Seat Assembly</td><td>133.34</td><td>98.77</td></tr><tr><td>515</td><td>ML Mountain Seat Assembly</td><td>147.14</td><td>108.99</td></tr><tr><td>516</td><td>HL Mountain Seat Assembly</td><td>196.92</td><td>145.87</td></tr><tr><td>517</td><td>LL Road Seat Assembly</td><td>133.34</td><td>98.77</td></tr><tr><td>518</td><td>ML Road Seat Assembly</td><td>147.14</td><td>108.99</td></tr><tr><td>519</td><td>HL Road Seat Assembly</td><td>196.92</td><td>145.87</td></tr><tr><td>520</td><td>LL Touring Seat Assembly</td><td>133.34</td><td>98.77</td></tr><tr><td>521</td><td>ML Touring Seat Assembly</td><td>147.14</td><td>108.99</td></tr><tr><td>522</td><td>HL Touring Seat Assembly</td><td>196.92</td><td>145.87</td></tr><tr><td>680</td><td>HL Road Frame - Black, 58</td><td>1431.50</td><td>1059.31</td></tr><tr><td>706</td><td>HL Road Frame - Red, 58</td><td>1431.50</td><td>1059.31</td></tr><tr><td>707</td><td>Sport-100 Helmet, Red</td><td>34.99</td><td>13.0863</td></tr><tr><td>708</td><td>Sport-100 Helmet, Black</td><td>34.99</td><td>13.0863</td></tr><tr><td>709</td><td>Mountain Bike Socks, M</td><td>9.50</td><td>3.3963</td></tr><tr><td>710</td><td>Mountain Bike Socks, L</td><td>9.50</td><td>3.3963</td></tr><tr><td>711</td><td>Sport-100 Helmet, Blue</td><td>34.99</td><td>13.0863</td></tr><tr><td>712</td><td>AWC Logo Cap</td><td>8.99</td><td>6.9223</td></tr><tr><td>713</td><td>Long-Sleeve Logo Jersey, S</td><td>49.99</td><td>38.4923</td></tr><tr><td>714</td><td>Long-Sleeve Logo Jersey, M</td><td>49.99</td><td>38.4923</td></tr><tr><td>715</td><td>Long-Sleeve Logo Jersey, L</td><td>49.99</td><td>38.4923</td></tr></table>"
                    },
                    "metadata": {}
                }
            ],
            "execution_count": 5
        },
        {
            "cell_type": "code",
            "source": [
                "--5: Combined Product Colors Including Nulls\r\n",
                "SELECT TOP 20 ProductID, Name as ProductName, Color, 'Has Color' as Status\r\n",
                "FROM Production.Product\r\n",
                "WHERE Color IS NOT NULL\r\n",
                "\r\n",
                "UNION ALL\r\n",
                "\r\n",
                "SELECT TOP 20 ProductID, Name as ProductName, 'No Color' as Color, 'No Color' as Status\r\n",
                "FROM Production.Product\r\n",
                "WHERE Color IS NULL;\r\n",
                ""
            ],
            "metadata": {
                "azdata_cell_guid": "ac74d6f1-207b-41f0-824f-ca828e5a6365",
                "language": "sql"
            },
            "outputs": [
                {
                    "output_type": "display_data",
                    "data": {
                        "text/html": "(40 rows affected)"
                    },
                    "metadata": {}
                },
                {
                    "output_type": "display_data",
                    "data": {
                        "text/html": "Total execution time: 00:00:00.019"
                    },
                    "metadata": {}
                },
                {
                    "output_type": "execute_result",
                    "execution_count": 6,
                    "data": {
                        "application/vnd.dataresource+json": {
                            "schema": {
                                "fields": [
                                    {
                                        "name": "ProductID"
                                    },
                                    {
                                        "name": "ProductName"
                                    },
                                    {
                                        "name": "Color"
                                    },
                                    {
                                        "name": "Status"
                                    }
                                ]
                            },
                            "data": [
                                {
                                    "ProductID": "317",
                                    "ProductName": "LL Crankarm",
                                    "Color": "Black",
                                    "Status": "Has Color"
                                },
                                {
                                    "ProductID": "318",
                                    "ProductName": "ML Crankarm",
                                    "Color": "Black",
                                    "Status": "Has Color"
                                },
                                {
                                    "ProductID": "319",
                                    "ProductName": "HL Crankarm",
                                    "Color": "Black",
                                    "Status": "Has Color"
                                },
                                {
                                    "ProductID": "320",
                                    "ProductName": "Chainring Bolts",
                                    "Color": "Silver",
                                    "Status": "Has Color"
                                },
                                {
                                    "ProductID": "321",
                                    "ProductName": "Chainring Nut",
                                    "Color": "Silver",
                                    "Status": "Has Color"
                                },
                                {
                                    "ProductID": "322",
                                    "ProductName": "Chainring",
                                    "Color": "Black",
                                    "Status": "Has Color"
                                },
                                {
                                    "ProductID": "332",
                                    "ProductName": "Freewheel",
                                    "Color": "Silver",
                                    "Status": "Has Color"
                                },
                                {
                                    "ProductID": "351",
                                    "ProductName": "Front Derailleur Cage",
                                    "Color": "Silver",
                                    "Status": "Has Color"
                                },
                                {
                                    "ProductID": "352",
                                    "ProductName": "Front Derailleur Linkage",
                                    "Color": "Silver",
                                    "Status": "Has Color"
                                },
                                {
                                    "ProductID": "461",
                                    "ProductName": "Lock Ring",
                                    "Color": "Silver",
                                    "Status": "Has Color"
                                },
                                {
                                    "ProductID": "679",
                                    "ProductName": "Rear Derailleur Cage",
                                    "Color": "Silver",
                                    "Status": "Has Color"
                                },
                                {
                                    "ProductID": "680",
                                    "ProductName": "HL Road Frame - Black, 58",
                                    "Color": "Black",
                                    "Status": "Has Color"
                                },
                                {
                                    "ProductID": "706",
                                    "ProductName": "HL Road Frame - Red, 58",
                                    "Color": "Red",
                                    "Status": "Has Color"
                                },
                                {
                                    "ProductID": "707",
                                    "ProductName": "Sport-100 Helmet, Red",
                                    "Color": "Red",
                                    "Status": "Has Color"
                                },
                                {
                                    "ProductID": "708",
                                    "ProductName": "Sport-100 Helmet, Black",
                                    "Color": "Black",
                                    "Status": "Has Color"
                                },
                                {
                                    "ProductID": "709",
                                    "ProductName": "Mountain Bike Socks, M",
                                    "Color": "White",
                                    "Status": "Has Color"
                                },
                                {
                                    "ProductID": "710",
                                    "ProductName": "Mountain Bike Socks, L",
                                    "Color": "White",
                                    "Status": "Has Color"
                                },
                                {
                                    "ProductID": "711",
                                    "ProductName": "Sport-100 Helmet, Blue",
                                    "Color": "Blue",
                                    "Status": "Has Color"
                                },
                                {
                                    "ProductID": "712",
                                    "ProductName": "AWC Logo Cap",
                                    "Color": "Multi",
                                    "Status": "Has Color"
                                },
                                {
                                    "ProductID": "713",
                                    "ProductName": "Long-Sleeve Logo Jersey, S",
                                    "Color": "Multi",
                                    "Status": "Has Color"
                                },
                                {
                                    "ProductID": "1",
                                    "ProductName": "Adjustable Race",
                                    "Color": "No Color",
                                    "Status": "No Color"
                                },
                                {
                                    "ProductID": "2",
                                    "ProductName": "Bearing Ball",
                                    "Color": "No Color",
                                    "Status": "No Color"
                                },
                                {
                                    "ProductID": "3",
                                    "ProductName": "BB Ball Bearing",
                                    "Color": "No Color",
                                    "Status": "No Color"
                                },
                                {
                                    "ProductID": "4",
                                    "ProductName": "Headset Ball Bearings",
                                    "Color": "No Color",
                                    "Status": "No Color"
                                },
                                {
                                    "ProductID": "316",
                                    "ProductName": "Blade",
                                    "Color": "No Color",
                                    "Status": "No Color"
                                },
                                {
                                    "ProductID": "323",
                                    "ProductName": "Crown Race",
                                    "Color": "No Color",
                                    "Status": "No Color"
                                },
                                {
                                    "ProductID": "324",
                                    "ProductName": "Chain Stays",
                                    "Color": "No Color",
                                    "Status": "No Color"
                                },
                                {
                                    "ProductID": "325",
                                    "ProductName": "Decal 1",
                                    "Color": "No Color",
                                    "Status": "No Color"
                                },
                                {
                                    "ProductID": "326",
                                    "ProductName": "Decal 2",
                                    "Color": "No Color",
                                    "Status": "No Color"
                                },
                                {
                                    "ProductID": "327",
                                    "ProductName": "Down Tube",
                                    "Color": "No Color",
                                    "Status": "No Color"
                                },
                                {
                                    "ProductID": "328",
                                    "ProductName": "Mountain End Caps",
                                    "Color": "No Color",
                                    "Status": "No Color"
                                },
                                {
                                    "ProductID": "329",
                                    "ProductName": "Road End Caps",
                                    "Color": "No Color",
                                    "Status": "No Color"
                                },
                                {
                                    "ProductID": "330",
                                    "ProductName": "Touring End Caps",
                                    "Color": "No Color",
                                    "Status": "No Color"
                                },
                                {
                                    "ProductID": "331",
                                    "ProductName": "Fork End",
                                    "Color": "No Color",
                                    "Status": "No Color"
                                },
                                {
                                    "ProductID": "341",
                                    "ProductName": "Flat Washer 1",
                                    "Color": "No Color",
                                    "Status": "No Color"
                                },
                                {
                                    "ProductID": "342",
                                    "ProductName": "Flat Washer 6",
                                    "Color": "No Color",
                                    "Status": "No Color"
                                },
                                {
                                    "ProductID": "343",
                                    "ProductName": "Flat Washer 2",
                                    "Color": "No Color",
                                    "Status": "No Color"
                                },
                                {
                                    "ProductID": "344",
                                    "ProductName": "Flat Washer 9",
                                    "Color": "No Color",
                                    "Status": "No Color"
                                },
                                {
                                    "ProductID": "345",
                                    "ProductName": "Flat Washer 4",
                                    "Color": "No Color",
                                    "Status": "No Color"
                                },
                                {
                                    "ProductID": "346",
                                    "ProductName": "Flat Washer 3",
                                    "Color": "No Color",
                                    "Status": "No Color"
                                }
                            ]
                        },
                        "text/html": "<table><tr><th>ProductID</th><th>ProductName</th><th>Color</th><th>Status</th></tr><tr><td>317</td><td>LL Crankarm</td><td>Black</td><td>Has Color</td></tr><tr><td>318</td><td>ML Crankarm</td><td>Black</td><td>Has Color</td></tr><tr><td>319</td><td>HL Crankarm</td><td>Black</td><td>Has Color</td></tr><tr><td>320</td><td>Chainring Bolts</td><td>Silver</td><td>Has Color</td></tr><tr><td>321</td><td>Chainring Nut</td><td>Silver</td><td>Has Color</td></tr><tr><td>322</td><td>Chainring</td><td>Black</td><td>Has Color</td></tr><tr><td>332</td><td>Freewheel</td><td>Silver</td><td>Has Color</td></tr><tr><td>351</td><td>Front Derailleur Cage</td><td>Silver</td><td>Has Color</td></tr><tr><td>352</td><td>Front Derailleur Linkage</td><td>Silver</td><td>Has Color</td></tr><tr><td>461</td><td>Lock Ring</td><td>Silver</td><td>Has Color</td></tr><tr><td>679</td><td>Rear Derailleur Cage</td><td>Silver</td><td>Has Color</td></tr><tr><td>680</td><td>HL Road Frame - Black, 58</td><td>Black</td><td>Has Color</td></tr><tr><td>706</td><td>HL Road Frame - Red, 58</td><td>Red</td><td>Has Color</td></tr><tr><td>707</td><td>Sport-100 Helmet, Red</td><td>Red</td><td>Has Color</td></tr><tr><td>708</td><td>Sport-100 Helmet, Black</td><td>Black</td><td>Has Color</td></tr><tr><td>709</td><td>Mountain Bike Socks, M</td><td>White</td><td>Has Color</td></tr><tr><td>710</td><td>Mountain Bike Socks, L</td><td>White</td><td>Has Color</td></tr><tr><td>711</td><td>Sport-100 Helmet, Blue</td><td>Blue</td><td>Has Color</td></tr><tr><td>712</td><td>AWC Logo Cap</td><td>Multi</td><td>Has Color</td></tr><tr><td>713</td><td>Long-Sleeve Logo Jersey, S</td><td>Multi</td><td>Has Color</td></tr><tr><td>1</td><td>Adjustable Race</td><td>No Color</td><td>No Color</td></tr><tr><td>2</td><td>Bearing Ball</td><td>No Color</td><td>No Color</td></tr><tr><td>3</td><td>BB Ball Bearing</td><td>No Color</td><td>No Color</td></tr><tr><td>4</td><td>Headset Ball Bearings</td><td>No Color</td><td>No Color</td></tr><tr><td>316</td><td>Blade</td><td>No Color</td><td>No Color</td></tr><tr><td>323</td><td>Crown Race</td><td>No Color</td><td>No Color</td></tr><tr><td>324</td><td>Chain Stays</td><td>No Color</td><td>No Color</td></tr><tr><td>325</td><td>Decal 1</td><td>No Color</td><td>No Color</td></tr><tr><td>326</td><td>Decal 2</td><td>No Color</td><td>No Color</td></tr><tr><td>327</td><td>Down Tube</td><td>No Color</td><td>No Color</td></tr><tr><td>328</td><td>Mountain End Caps</td><td>No Color</td><td>No Color</td></tr><tr><td>329</td><td>Road End Caps</td><td>No Color</td><td>No Color</td></tr><tr><td>330</td><td>Touring End Caps</td><td>No Color</td><td>No Color</td></tr><tr><td>331</td><td>Fork End</td><td>No Color</td><td>No Color</td></tr><tr><td>341</td><td>Flat Washer 1</td><td>No Color</td><td>No Color</td></tr><tr><td>342</td><td>Flat Washer 6</td><td>No Color</td><td>No Color</td></tr><tr><td>343</td><td>Flat Washer 2</td><td>No Color</td><td>No Color</td></tr><tr><td>344</td><td>Flat Washer 9</td><td>No Color</td><td>No Color</td></tr><tr><td>345</td><td>Flat Washer 4</td><td>No Color</td><td>No Color</td></tr><tr><td>346</td><td>Flat Washer 3</td><td>No Color</td><td>No Color</td></tr></table>"
                    },
                    "metadata": {}
                }
            ],
            "execution_count": 6
        },
        {
            "cell_type": "code",
            "source": [
                "--6: Place with Both Online and Store Orders\r\n",
                "SELECT TOP 20 t.TerritoryID, t.Name as TerritoryName, t.CountryRegionCode\r\n",
                "FROM Sales.SalesTerritory t\r\n",
                "WHERE t.TerritoryID IN (\r\n",
                "    SELECT TerritoryID FROM Sales.SalesOrderHeader WHERE OnlineOrderFlag = 1\r\n",
                "    INTERSECT\r\n",
                "    SELECT TerritoryID FROM Sales.SalesOrderHeader WHERE OnlineOrderFlag = 0\r\n",
                ");"
            ],
            "metadata": {
                "azdata_cell_guid": "2905b57c-8226-4696-87bc-538abfea1540",
                "language": "sql"
            },
            "outputs": [
                {
                    "output_type": "display_data",
                    "data": {
                        "text/html": "(10 rows affected)"
                    },
                    "metadata": {}
                },
                {
                    "output_type": "display_data",
                    "data": {
                        "text/html": "Total execution time: 00:00:00.014"
                    },
                    "metadata": {}
                },
                {
                    "output_type": "execute_result",
                    "execution_count": 7,
                    "data": {
                        "application/vnd.dataresource+json": {
                            "schema": {
                                "fields": [
                                    {
                                        "name": "TerritoryID"
                                    },
                                    {
                                        "name": "TerritoryName"
                                    },
                                    {
                                        "name": "CountryRegionCode"
                                    }
                                ]
                            },
                            "data": [
                                {
                                    "TerritoryID": "9",
                                    "TerritoryName": "Australia",
                                    "CountryRegionCode": "AU"
                                },
                                {
                                    "TerritoryID": "3",
                                    "TerritoryName": "Central",
                                    "CountryRegionCode": "US"
                                },
                                {
                                    "TerritoryID": "6",
                                    "TerritoryName": "Canada",
                                    "CountryRegionCode": "CA"
                                },
                                {
                                    "TerritoryID": "7",
                                    "TerritoryName": "France",
                                    "CountryRegionCode": "FR"
                                },
                                {
                                    "TerritoryID": "1",
                                    "TerritoryName": "Northwest",
                                    "CountryRegionCode": "US"
                                },
                                {
                                    "TerritoryID": "10",
                                    "TerritoryName": "United Kingdom",
                                    "CountryRegionCode": "GB"
                                },
                                {
                                    "TerritoryID": "4",
                                    "TerritoryName": "Southwest",
                                    "CountryRegionCode": "US"
                                },
                                {
                                    "TerritoryID": "5",
                                    "TerritoryName": "Southeast",
                                    "CountryRegionCode": "US"
                                },
                                {
                                    "TerritoryID": "2",
                                    "TerritoryName": "Northeast",
                                    "CountryRegionCode": "US"
                                },
                                {
                                    "TerritoryID": "8",
                                    "TerritoryName": "Germany",
                                    "CountryRegionCode": "DE"
                                }
                            ]
                        },
                        "text/html": "<table><tr><th>TerritoryID</th><th>TerritoryName</th><th>CountryRegionCode</th></tr><tr><td>9</td><td>Australia</td><td>AU</td></tr><tr><td>3</td><td>Central</td><td>US</td></tr><tr><td>6</td><td>Canada</td><td>CA</td></tr><tr><td>7</td><td>France</td><td>FR</td></tr><tr><td>1</td><td>Northwest</td><td>US</td></tr><tr><td>10</td><td>United Kingdom</td><td>GB</td></tr><tr><td>4</td><td>Southwest</td><td>US</td></tr><tr><td>5</td><td>Southeast</td><td>US</td></tr><tr><td>2</td><td>Northeast</td><td>US</td></tr><tr><td>8</td><td>Germany</td><td>DE</td></tr></table>"
                    },
                    "metadata": {}
                }
            ],
            "execution_count": 7
        },
        {
            "cell_type": "code",
            "source": [
                "--7:Vendors with Both Active and Inactive Products\r\n",
                "SELECT TOP 20 v.Name as VendorName, p.Name as ProductName, pv.MinOrderQty, pv.MaxOrderQty\r\n",
                "FROM Purchasing.Vendor v\r\n",
                "JOIN Purchasing.ProductVendor pv ON v.BusinessEntityID = pv.BusinessEntityID\r\n",
                "JOIN Production.Product p ON pv.ProductID = p.ProductID\r\n",
                "WHERE pv.ProductID IN (\r\n",
                "    SELECT ProductID FROM Purchasing.ProductVendor WHERE MinOrderQty > 0\r\n",
                "    INTERSECT\r\n",
                "    SELECT ProductID FROM Purchasing.ProductVendor WHERE MaxOrderQty > 100\r\n",
                ");"
            ],
            "metadata": {
                "azdata_cell_guid": "54cb07da-bb66-4cf7-b0e3-9e3d814c320f",
                "language": "sql"
            },
            "outputs": [
                {
                    "output_type": "display_data",
                    "data": {
                        "text/html": "(20 rows affected)"
                    },
                    "metadata": {}
                },
                {
                    "output_type": "display_data",
                    "data": {
                        "text/html": "Total execution time: 00:00:00.010"
                    },
                    "metadata": {}
                },
                {
                    "output_type": "execute_result",
                    "execution_count": 8,
                    "data": {
                        "application/vnd.dataresource+json": {
                            "schema": {
                                "fields": [
                                    {
                                        "name": "VendorName"
                                    },
                                    {
                                        "name": "ProductName"
                                    },
                                    {
                                        "name": "MinOrderQty"
                                    },
                                    {
                                        "name": "MaxOrderQty"
                                    }
                                ]
                            },
                            "data": [
                                {
                                    "VendorName": "Vision Cycles, Inc.",
                                    "ProductName": "LL Crankarm",
                                    "MinOrderQty": "100",
                                    "MaxOrderQty": "1000"
                                },
                                {
                                    "VendorName": "Proseware, Inc.",
                                    "ProductName": "LL Crankarm",
                                    "MinOrderQty": "100",
                                    "MaxOrderQty": "1000"
                                },
                                {
                                    "VendorName": "Vision Cycles, Inc.",
                                    "ProductName": "ML Crankarm",
                                    "MinOrderQty": "100",
                                    "MaxOrderQty": "1000"
                                },
                                {
                                    "VendorName": "Proseware, Inc.",
                                    "ProductName": "ML Crankarm",
                                    "MinOrderQty": "100",
                                    "MaxOrderQty": "1000"
                                },
                                {
                                    "VendorName": "West Junction Cycles",
                                    "ProductName": "HL Crankarm",
                                    "MinOrderQty": "100",
                                    "MaxOrderQty": "1000"
                                },
                                {
                                    "VendorName": "Vision Cycles, Inc.",
                                    "ProductName": "HL Crankarm",
                                    "MinOrderQty": "100",
                                    "MaxOrderQty": "1000"
                                },
                                {
                                    "VendorName": "Proseware, Inc.",
                                    "ProductName": "HL Crankarm",
                                    "MinOrderQty": "100",
                                    "MaxOrderQty": "1000"
                                },
                                {
                                    "VendorName": "SUPERSALES INC.",
                                    "ProductName": "Decal 1",
                                    "MinOrderQty": "500",
                                    "MaxOrderQty": "2000"
                                },
                                {
                                    "VendorName": "SUPERSALES INC.",
                                    "ProductName": "Decal 2",
                                    "MinOrderQty": "500",
                                    "MaxOrderQty": "2000"
                                },
                                {
                                    "VendorName": "Sport Playground",
                                    "ProductName": "Freewheel",
                                    "MinOrderQty": "100",
                                    "MaxOrderQty": "1000"
                                },
                                {
                                    "VendorName": "Circuit Cycles",
                                    "ProductName": "Front Derailleur Cage",
                                    "MinOrderQty": "100",
                                    "MaxOrderQty": "1000"
                                },
                                {
                                    "VendorName": "Compete, Inc.",
                                    "ProductName": "Front Derailleur Cage",
                                    "MinOrderQty": "100",
                                    "MaxOrderQty": "1000"
                                },
                                {
                                    "VendorName": "Circuit Cycles",
                                    "ProductName": "Front Derailleur Linkage",
                                    "MinOrderQty": "100",
                                    "MaxOrderQty": "1000"
                                },
                                {
                                    "VendorName": "Compete, Inc.",
                                    "ProductName": "Front Derailleur Linkage",
                                    "MinOrderQty": "100",
                                    "MaxOrderQty": "1000"
                                },
                                {
                                    "VendorName": "Compete Enterprises, Inc",
                                    "ProductName": "Guide Pulley",
                                    "MinOrderQty": "100",
                                    "MaxOrderQty": "1000"
                                },
                                {
                                    "VendorName": "Custom Frames, Inc.",
                                    "ProductName": "Metal Angle",
                                    "MinOrderQty": "100",
                                    "MaxOrderQty": "1000"
                                },
                                {
                                    "VendorName": "Custom Frames, Inc.",
                                    "ProductName": "Metal Bar 1",
                                    "MinOrderQty": "100",
                                    "MaxOrderQty": "1000"
                                },
                                {
                                    "VendorName": "Custom Frames, Inc.",
                                    "ProductName": "Metal Bar 2",
                                    "MinOrderQty": "100",
                                    "MaxOrderQty": "1000"
                                },
                                {
                                    "VendorName": "Custom Frames, Inc.",
                                    "ProductName": "Metal Plate 2",
                                    "MinOrderQty": "100",
                                    "MaxOrderQty": "1000"
                                },
                                {
                                    "VendorName": "Custom Frames, Inc.",
                                    "ProductName": "Metal Plate 1",
                                    "MinOrderQty": "100",
                                    "MaxOrderQty": "1000"
                                }
                            ]
                        },
                        "text/html": "<table><tr><th>VendorName</th><th>ProductName</th><th>MinOrderQty</th><th>MaxOrderQty</th></tr><tr><td>Vision Cycles, Inc.</td><td>LL Crankarm</td><td>100</td><td>1000</td></tr><tr><td>Proseware, Inc.</td><td>LL Crankarm</td><td>100</td><td>1000</td></tr><tr><td>Vision Cycles, Inc.</td><td>ML Crankarm</td><td>100</td><td>1000</td></tr><tr><td>Proseware, Inc.</td><td>ML Crankarm</td><td>100</td><td>1000</td></tr><tr><td>West Junction Cycles</td><td>HL Crankarm</td><td>100</td><td>1000</td></tr><tr><td>Vision Cycles, Inc.</td><td>HL Crankarm</td><td>100</td><td>1000</td></tr><tr><td>Proseware, Inc.</td><td>HL Crankarm</td><td>100</td><td>1000</td></tr><tr><td>SUPERSALES INC.</td><td>Decal 1</td><td>500</td><td>2000</td></tr><tr><td>SUPERSALES INC.</td><td>Decal 2</td><td>500</td><td>2000</td></tr><tr><td>Sport Playground</td><td>Freewheel</td><td>100</td><td>1000</td></tr><tr><td>Circuit Cycles</td><td>Front Derailleur Cage</td><td>100</td><td>1000</td></tr><tr><td>Compete, Inc.</td><td>Front Derailleur Cage</td><td>100</td><td>1000</td></tr><tr><td>Circuit Cycles</td><td>Front Derailleur Linkage</td><td>100</td><td>1000</td></tr><tr><td>Compete, Inc.</td><td>Front Derailleur Linkage</td><td>100</td><td>1000</td></tr><tr><td>Compete Enterprises, Inc</td><td>Guide Pulley</td><td>100</td><td>1000</td></tr><tr><td>Custom Frames, Inc.</td><td>Metal Angle</td><td>100</td><td>1000</td></tr><tr><td>Custom Frames, Inc.</td><td>Metal Bar 1</td><td>100</td><td>1000</td></tr><tr><td>Custom Frames, Inc.</td><td>Metal Bar 2</td><td>100</td><td>1000</td></tr><tr><td>Custom Frames, Inc.</td><td>Metal Plate 2</td><td>100</td><td>1000</td></tr><tr><td>Custom Frames, Inc.</td><td>Metal Plate 1</td><td>100</td><td>1000</td></tr></table>"
                    },
                    "metadata": {}
                }
            ],
            "execution_count": 8
        },
        {
            "cell_type": "code",
            "source": [
                "--8: Products Never Sold\r\n",
                "SELECT TOP 20 p.ProductID, p.Name as ProductName, p.ProductNumber, p.ListPrice\r\n",
                "FROM Production.Product p\r\n",
                "WHERE p.ProductID IN (\r\n",
                "    SELECT ProductID FROM Production.Product\r\n",
                "    EXCEPT\r\n",
                "    SELECT ProductID FROM Sales.SalesOrderDetail\r\n",
                ");"
            ],
            "metadata": {
                "azdata_cell_guid": "1a5accf4-79e9-4aee-bbca-4ae6f3ce8c06",
                "language": "sql"
            },
            "outputs": [
                {
                    "output_type": "display_data",
                    "data": {
                        "text/html": "(20 rows affected)"
                    },
                    "metadata": {}
                },
                {
                    "output_type": "display_data",
                    "data": {
                        "text/html": "Total execution time: 00:00:00.017"
                    },
                    "metadata": {}
                },
                {
                    "output_type": "execute_result",
                    "execution_count": 9,
                    "data": {
                        "application/vnd.dataresource+json": {
                            "schema": {
                                "fields": [
                                    {
                                        "name": "ProductID"
                                    },
                                    {
                                        "name": "ProductName"
                                    },
                                    {
                                        "name": "ProductNumber"
                                    },
                                    {
                                        "name": "ListPrice"
                                    }
                                ]
                            },
                            "data": [
                                {
                                    "ProductID": "1",
                                    "ProductName": "Adjustable Race",
                                    "ProductNumber": "AR-5381",
                                    "ListPrice": "0.00"
                                },
                                {
                                    "ProductID": "2",
                                    "ProductName": "Bearing Ball",
                                    "ProductNumber": "BA-8327",
                                    "ListPrice": "0.00"
                                },
                                {
                                    "ProductID": "3",
                                    "ProductName": "BB Ball Bearing",
                                    "ProductNumber": "BE-2349",
                                    "ListPrice": "0.00"
                                },
                                {
                                    "ProductID": "4",
                                    "ProductName": "Headset Ball Bearings",
                                    "ProductNumber": "BE-2908",
                                    "ListPrice": "0.00"
                                },
                                {
                                    "ProductID": "316",
                                    "ProductName": "Blade",
                                    "ProductNumber": "BL-2036",
                                    "ListPrice": "0.00"
                                },
                                {
                                    "ProductID": "317",
                                    "ProductName": "LL Crankarm",
                                    "ProductNumber": "CA-5965",
                                    "ListPrice": "0.00"
                                },
                                {
                                    "ProductID": "318",
                                    "ProductName": "ML Crankarm",
                                    "ProductNumber": "CA-6738",
                                    "ListPrice": "0.00"
                                },
                                {
                                    "ProductID": "319",
                                    "ProductName": "HL Crankarm",
                                    "ProductNumber": "CA-7457",
                                    "ListPrice": "0.00"
                                },
                                {
                                    "ProductID": "320",
                                    "ProductName": "Chainring Bolts",
                                    "ProductNumber": "CB-2903",
                                    "ListPrice": "0.00"
                                },
                                {
                                    "ProductID": "321",
                                    "ProductName": "Chainring Nut",
                                    "ProductNumber": "CN-6137",
                                    "ListPrice": "0.00"
                                },
                                {
                                    "ProductID": "322",
                                    "ProductName": "Chainring",
                                    "ProductNumber": "CR-7833",
                                    "ListPrice": "0.00"
                                },
                                {
                                    "ProductID": "323",
                                    "ProductName": "Crown Race",
                                    "ProductNumber": "CR-9981",
                                    "ListPrice": "0.00"
                                },
                                {
                                    "ProductID": "324",
                                    "ProductName": "Chain Stays",
                                    "ProductNumber": "CS-2812",
                                    "ListPrice": "0.00"
                                },
                                {
                                    "ProductID": "325",
                                    "ProductName": "Decal 1",
                                    "ProductNumber": "DC-8732",
                                    "ListPrice": "0.00"
                                },
                                {
                                    "ProductID": "326",
                                    "ProductName": "Decal 2",
                                    "ProductNumber": "DC-9824",
                                    "ListPrice": "0.00"
                                },
                                {
                                    "ProductID": "327",
                                    "ProductName": "Down Tube",
                                    "ProductNumber": "DT-2377",
                                    "ListPrice": "0.00"
                                },
                                {
                                    "ProductID": "328",
                                    "ProductName": "Mountain End Caps",
                                    "ProductNumber": "EC-M092",
                                    "ListPrice": "0.00"
                                },
                                {
                                    "ProductID": "329",
                                    "ProductName": "Road End Caps",
                                    "ProductNumber": "EC-R098",
                                    "ListPrice": "0.00"
                                },
                                {
                                    "ProductID": "330",
                                    "ProductName": "Touring End Caps",
                                    "ProductNumber": "EC-T209",
                                    "ListPrice": "0.00"
                                },
                                {
                                    "ProductID": "331",
                                    "ProductName": "Fork End",
                                    "ProductNumber": "FE-3760",
                                    "ListPrice": "0.00"
                                }
                            ]
                        },
                        "text/html": "<table><tr><th>ProductID</th><th>ProductName</th><th>ProductNumber</th><th>ListPrice</th></tr><tr><td>1</td><td>Adjustable Race</td><td>AR-5381</td><td>0.00</td></tr><tr><td>2</td><td>Bearing Ball</td><td>BA-8327</td><td>0.00</td></tr><tr><td>3</td><td>BB Ball Bearing</td><td>BE-2349</td><td>0.00</td></tr><tr><td>4</td><td>Headset Ball Bearings</td><td>BE-2908</td><td>0.00</td></tr><tr><td>316</td><td>Blade</td><td>BL-2036</td><td>0.00</td></tr><tr><td>317</td><td>LL Crankarm</td><td>CA-5965</td><td>0.00</td></tr><tr><td>318</td><td>ML Crankarm</td><td>CA-6738</td><td>0.00</td></tr><tr><td>319</td><td>HL Crankarm</td><td>CA-7457</td><td>0.00</td></tr><tr><td>320</td><td>Chainring Bolts</td><td>CB-2903</td><td>0.00</td></tr><tr><td>321</td><td>Chainring Nut</td><td>CN-6137</td><td>0.00</td></tr><tr><td>322</td><td>Chainring</td><td>CR-7833</td><td>0.00</td></tr><tr><td>323</td><td>Crown Race</td><td>CR-9981</td><td>0.00</td></tr><tr><td>324</td><td>Chain Stays</td><td>CS-2812</td><td>0.00</td></tr><tr><td>325</td><td>Decal 1</td><td>DC-8732</td><td>0.00</td></tr><tr><td>326</td><td>Decal 2</td><td>DC-9824</td><td>0.00</td></tr><tr><td>327</td><td>Down Tube</td><td>DT-2377</td><td>0.00</td></tr><tr><td>328</td><td>Mountain End Caps</td><td>EC-M092</td><td>0.00</td></tr><tr><td>329</td><td>Road End Caps</td><td>EC-R098</td><td>0.00</td></tr><tr><td>330</td><td>Touring End Caps</td><td>EC-T209</td><td>0.00</td></tr><tr><td>331</td><td>Fork End</td><td>FE-3760</td><td>0.00</td></tr></table>"
                    },
                    "metadata": {}
                }
            ],
            "execution_count": 9
        },
        {
            "cell_type": "code",
            "source": [
                "--9: Customers with Orders in Multiple Years\r\n",
                "SELECT TOP 20 c.CustomerID, p.FirstName, p.LastName\r\n",
                "FROM Sales.Customer c\r\n",
                "JOIN Person.Person p ON c.PersonID = p.BusinessEntityID\r\n",
                "WHERE c.CustomerID IN (\r\n",
                "    SELECT CustomerID FROM Sales.SalesOrderHeader WHERE YEAR(OrderDate) = 2011\r\n",
                "    INTERSECT\r\n",
                "    SELECT CustomerID FROM Sales.SalesOrderHeader WHERE YEAR(OrderDate) = 2012\r\n",
                "    INTERSECT\r\n",
                "    SELECT CustomerID FROM Sales.SalesOrderHeader WHERE YEAR(OrderDate) = 2013\r\n",
                ");\r\n",
                ""
            ],
            "metadata": {
                "azdata_cell_guid": "b93f688e-823e-4469-8d7a-05802f14a610",
                "language": "sql"
            },
            "outputs": [
                {
                    "output_type": "display_data",
                    "data": {
                        "text/html": "(20 rows affected)"
                    },
                    "metadata": {}
                },
                {
                    "output_type": "display_data",
                    "data": {
                        "text/html": "Total execution time: 00:00:00.106"
                    },
                    "metadata": {}
                },
                {
                    "output_type": "execute_result",
                    "execution_count": 10,
                    "data": {
                        "application/vnd.dataresource+json": {
                            "schema": {
                                "fields": [
                                    {
                                        "name": "CustomerID"
                                    },
                                    {
                                        "name": "FirstName"
                                    },
                                    {
                                        "name": "LastName"
                                    }
                                ]
                            },
                            "data": [
                                {
                                    "CustomerID": "29825",
                                    "FirstName": "James",
                                    "LastName": "Hendergart"
                                },
                                {
                                    "CustomerID": "29672",
                                    "FirstName": "Takiko",
                                    "LastName": "Collins"
                                },
                                {
                                    "CustomerID": "29734",
                                    "FirstName": "Jauna",
                                    "LastName": "Elson"
                                },
                                {
                                    "CustomerID": "29994",
                                    "FirstName": "Robin",
                                    "LastName": "McGuigan"
                                },
                                {
                                    "CustomerID": "29565",
                                    "FirstName": "Jimmy",
                                    "LastName": "Bischoff"
                                },
                                {
                                    "CustomerID": "29580",
                                    "FirstName": "Richard",
                                    "LastName": "Bready"
                                },
                                {
                                    "CustomerID": "29974",
                                    "FirstName": "Scott",
                                    "LastName": "MacDonald"
                                },
                                {
                                    "CustomerID": "29614",
                                    "FirstName": "Ryan",
                                    "LastName": "Calafato"
                                },
                                {
                                    "CustomerID": "29747",
                                    "FirstName": "Carolyn",
                                    "LastName": "Farino"
                                },
                                {
                                    "CustomerID": "29890",
                                    "FirstName": "Peggy",
                                    "LastName": "Justice"
                                },
                                {
                                    "CustomerID": "30067",
                                    "FirstName": "Phyllis",
                                    "LastName": "Thomas"
                                },
                                {
                                    "CustomerID": "29844",
                                    "FirstName": "Nancy",
                                    "LastName": "Hirota"
                                },
                                {
                                    "CustomerID": "29827",
                                    "FirstName": "Valerie",
                                    "LastName": "Hendricks"
                                },
                                {
                                    "CustomerID": "29811",
                                    "FirstName": "Mark",
                                    "LastName": "Hanson"
                                },
                                {
                                    "CustomerID": "29824",
                                    "FirstName": "Brenda",
                                    "LastName": "Heaney"
                                },
                                {
                                    "CustomerID": "29889",
                                    "FirstName": "Jean",
                                    "LastName": "Jordan"
                                },
                                {
                                    "CustomerID": "29761",
                                    "FirstName": "Susan",
                                    "LastName": "French"
                                },
                                {
                                    "CustomerID": "29489",
                                    "FirstName": "Frances",
                                    "LastName": "Adams"
                                },
                                {
                                    "CustomerID": "29661",
                                    "FirstName": "Charles",
                                    "LastName": "Christensen"
                                },
                                {
                                    "CustomerID": "29497",
                                    "FirstName": "François",
                                    "LastName": "Ferrier"
                                }
                            ]
                        },
                        "text/html": "<table><tr><th>CustomerID</th><th>FirstName</th><th>LastName</th></tr><tr><td>29825</td><td>James</td><td>Hendergart</td></tr><tr><td>29672</td><td>Takiko</td><td>Collins</td></tr><tr><td>29734</td><td>Jauna</td><td>Elson</td></tr><tr><td>29994</td><td>Robin</td><td>McGuigan</td></tr><tr><td>29565</td><td>Jimmy</td><td>Bischoff</td></tr><tr><td>29580</td><td>Richard</td><td>Bready</td></tr><tr><td>29974</td><td>Scott</td><td>MacDonald</td></tr><tr><td>29614</td><td>Ryan</td><td>Calafato</td></tr><tr><td>29747</td><td>Carolyn</td><td>Farino</td></tr><tr><td>29890</td><td>Peggy</td><td>Justice</td></tr><tr><td>30067</td><td>Phyllis</td><td>Thomas</td></tr><tr><td>29844</td><td>Nancy</td><td>Hirota</td></tr><tr><td>29827</td><td>Valerie</td><td>Hendricks</td></tr><tr><td>29811</td><td>Mark</td><td>Hanson</td></tr><tr><td>29824</td><td>Brenda</td><td>Heaney</td></tr><tr><td>29889</td><td>Jean</td><td>Jordan</td></tr><tr><td>29761</td><td>Susan</td><td>French</td></tr><tr><td>29489</td><td>Frances</td><td>Adams</td></tr><tr><td>29661</td><td>Charles</td><td>Christensen</td></tr><tr><td>29497</td><td>François</td><td>Ferrier</td></tr></table>"
                    },
                    "metadata": {}
                }
            ],
            "execution_count": 10
        },
        {
            "cell_type": "code",
            "source": [
                "--10: High Value Active Products with Details\r\n",
                "SELECT TOP 20 p.ProductID, p.Name as ProductName, p.ListPrice, p.SafetyStockLevel, p.SellEndDate\r\n",
                "FROM Production.Product p\r\n",
                "WHERE p.ProductID IN (\r\n",
                "    (SELECT ProductID FROM Production.Product WHERE ListPrice > 1000\r\n",
                "     UNION\r\n",
                "     SELECT ProductID FROM Production.Product WHERE SafetyStockLevel > 500)\r\n",
                "    INTERSECT\r\n",
                "    SELECT ProductID FROM Production.Product WHERE SellEndDate IS NULL\r\n",
                ");"
            ],
            "metadata": {
                "azdata_cell_guid": "b23ff04f-b592-4381-8af8-16e7d3931c88",
                "language": "sql"
            },
            "outputs": [
                {
                    "output_type": "display_data",
                    "data": {
                        "text/html": "(20 rows affected)"
                    },
                    "metadata": {}
                },
                {
                    "output_type": "display_data",
                    "data": {
                        "text/html": "Total execution time: 00:00:00.014"
                    },
                    "metadata": {}
                },
                {
                    "output_type": "execute_result",
                    "execution_count": 11,
                    "data": {
                        "application/vnd.dataresource+json": {
                            "schema": {
                                "fields": [
                                    {
                                        "name": "ProductID"
                                    },
                                    {
                                        "name": "ProductName"
                                    },
                                    {
                                        "name": "ListPrice"
                                    },
                                    {
                                        "name": "SafetyStockLevel"
                                    },
                                    {
                                        "name": "SellEndDate"
                                    }
                                ]
                            },
                            "data": [
                                {
                                    "ProductID": "1",
                                    "ProductName": "Adjustable Race",
                                    "ListPrice": "0.00",
                                    "SafetyStockLevel": "1000",
                                    "SellEndDate": "NULL"
                                },
                                {
                                    "ProductID": "2",
                                    "ProductName": "Bearing Ball",
                                    "ListPrice": "0.00",
                                    "SafetyStockLevel": "1000",
                                    "SellEndDate": "NULL"
                                },
                                {
                                    "ProductID": "3",
                                    "ProductName": "BB Ball Bearing",
                                    "ListPrice": "0.00",
                                    "SafetyStockLevel": "800",
                                    "SellEndDate": "NULL"
                                },
                                {
                                    "ProductID": "4",
                                    "ProductName": "Headset Ball Bearings",
                                    "ListPrice": "0.00",
                                    "SafetyStockLevel": "800",
                                    "SellEndDate": "NULL"
                                },
                                {
                                    "ProductID": "316",
                                    "ProductName": "Blade",
                                    "ListPrice": "0.00",
                                    "SafetyStockLevel": "800",
                                    "SellEndDate": "NULL"
                                },
                                {
                                    "ProductID": "320",
                                    "ProductName": "Chainring Bolts",
                                    "ListPrice": "0.00",
                                    "SafetyStockLevel": "1000",
                                    "SellEndDate": "NULL"
                                },
                                {
                                    "ProductID": "321",
                                    "ProductName": "Chainring Nut",
                                    "ListPrice": "0.00",
                                    "SafetyStockLevel": "1000",
                                    "SellEndDate": "NULL"
                                },
                                {
                                    "ProductID": "322",
                                    "ProductName": "Chainring",
                                    "ListPrice": "0.00",
                                    "SafetyStockLevel": "1000",
                                    "SellEndDate": "NULL"
                                },
                                {
                                    "ProductID": "323",
                                    "ProductName": "Crown Race",
                                    "ListPrice": "0.00",
                                    "SafetyStockLevel": "1000",
                                    "SellEndDate": "NULL"
                                },
                                {
                                    "ProductID": "324",
                                    "ProductName": "Chain Stays",
                                    "ListPrice": "0.00",
                                    "SafetyStockLevel": "1000",
                                    "SellEndDate": "NULL"
                                },
                                {
                                    "ProductID": "325",
                                    "ProductName": "Decal 1",
                                    "ListPrice": "0.00",
                                    "SafetyStockLevel": "1000",
                                    "SellEndDate": "NULL"
                                },
                                {
                                    "ProductID": "326",
                                    "ProductName": "Decal 2",
                                    "ListPrice": "0.00",
                                    "SafetyStockLevel": "1000",
                                    "SellEndDate": "NULL"
                                },
                                {
                                    "ProductID": "327",
                                    "ProductName": "Down Tube",
                                    "ListPrice": "0.00",
                                    "SafetyStockLevel": "800",
                                    "SellEndDate": "NULL"
                                },
                                {
                                    "ProductID": "328",
                                    "ProductName": "Mountain End Caps",
                                    "ListPrice": "0.00",
                                    "SafetyStockLevel": "1000",
                                    "SellEndDate": "NULL"
                                },
                                {
                                    "ProductID": "329",
                                    "ProductName": "Road End Caps",
                                    "ListPrice": "0.00",
                                    "SafetyStockLevel": "1000",
                                    "SellEndDate": "NULL"
                                },
                                {
                                    "ProductID": "330",
                                    "ProductName": "Touring End Caps",
                                    "ListPrice": "0.00",
                                    "SafetyStockLevel": "1000",
                                    "SellEndDate": "NULL"
                                },
                                {
                                    "ProductID": "331",
                                    "ProductName": "Fork End",
                                    "ListPrice": "0.00",
                                    "SafetyStockLevel": "800",
                                    "SellEndDate": "NULL"
                                },
                                {
                                    "ProductID": "341",
                                    "ProductName": "Flat Washer 1",
                                    "ListPrice": "0.00",
                                    "SafetyStockLevel": "1000",
                                    "SellEndDate": "NULL"
                                },
                                {
                                    "ProductID": "342",
                                    "ProductName": "Flat Washer 6",
                                    "ListPrice": "0.00",
                                    "SafetyStockLevel": "1000",
                                    "SellEndDate": "NULL"
                                },
                                {
                                    "ProductID": "343",
                                    "ProductName": "Flat Washer 2",
                                    "ListPrice": "0.00",
                                    "SafetyStockLevel": "1000",
                                    "SellEndDate": "NULL"
                                }
                            ]
                        },
                        "text/html": "<table><tr><th>ProductID</th><th>ProductName</th><th>ListPrice</th><th>SafetyStockLevel</th><th>SellEndDate</th></tr><tr><td>1</td><td>Adjustable Race</td><td>0.00</td><td>1000</td><td>NULL</td></tr><tr><td>2</td><td>Bearing Ball</td><td>0.00</td><td>1000</td><td>NULL</td></tr><tr><td>3</td><td>BB Ball Bearing</td><td>0.00</td><td>800</td><td>NULL</td></tr><tr><td>4</td><td>Headset Ball Bearings</td><td>0.00</td><td>800</td><td>NULL</td></tr><tr><td>316</td><td>Blade</td><td>0.00</td><td>800</td><td>NULL</td></tr><tr><td>320</td><td>Chainring Bolts</td><td>0.00</td><td>1000</td><td>NULL</td></tr><tr><td>321</td><td>Chainring Nut</td><td>0.00</td><td>1000</td><td>NULL</td></tr><tr><td>322</td><td>Chainring</td><td>0.00</td><td>1000</td><td>NULL</td></tr><tr><td>323</td><td>Crown Race</td><td>0.00</td><td>1000</td><td>NULL</td></tr><tr><td>324</td><td>Chain Stays</td><td>0.00</td><td>1000</td><td>NULL</td></tr><tr><td>325</td><td>Decal 1</td><td>0.00</td><td>1000</td><td>NULL</td></tr><tr><td>326</td><td>Decal 2</td><td>0.00</td><td>1000</td><td>NULL</td></tr><tr><td>327</td><td>Down Tube</td><td>0.00</td><td>800</td><td>NULL</td></tr><tr><td>328</td><td>Mountain End Caps</td><td>0.00</td><td>1000</td><td>NULL</td></tr><tr><td>329</td><td>Road End Caps</td><td>0.00</td><td>1000</td><td>NULL</td></tr><tr><td>330</td><td>Touring End Caps</td><td>0.00</td><td>1000</td><td>NULL</td></tr><tr><td>331</td><td>Fork End</td><td>0.00</td><td>800</td><td>NULL</td></tr><tr><td>341</td><td>Flat Washer 1</td><td>0.00</td><td>1000</td><td>NULL</td></tr><tr><td>342</td><td>Flat Washer 6</td><td>0.00</td><td>1000</td><td>NULL</td></tr><tr><td>343</td><td>Flat Washer 2</td><td>0.00</td><td>1000</td><td>NULL</td></tr></table>"
                    },
                    "metadata": {}
                }
            ],
            "execution_count": 11
        }
    ]
}