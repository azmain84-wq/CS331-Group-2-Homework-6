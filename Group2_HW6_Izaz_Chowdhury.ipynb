{
    "metadata": {
        "kernelspec": {
            "name": "SQL",
            "display_name": "SQL",
            "language": "sql"
        },
        "language_info": {
            "name": "sql",
            "version": ""
        }
    },
    "nbformat_minor": 2,
    "nbformat": 4,
    "cells": [
        {
            "cell_type": "code",
            "source": [
                "USE AdventureWorks;\n",
                ""
            ],
            "metadata": {
                "azdata_cell_guid": "c7193a33-dd37-4d43-9376-023d99fde63b",
                "language": "sql"
            },
            "outputs": [
                {
                    "output_type": "display_data",
                    "data": {
                        "text/html": "Commands completed successfully."
                    },
                    "metadata": {}
                },
                {
                    "output_type": "display_data",
                    "data": {
                        "text/html": "Total execution time: 00:00:00.002"
                    },
                    "metadata": {}
                }
            ],
            "execution_count": 48
        },
        {
            "cell_type": "markdown",
            "source": [
                "1. <span style=\"caret-color: rgb(0, 0, 0); color: rgb(0, 0, 0); font-family: -webkit-standard; font-size: medium;\">Find employees who are also listed as customers (UNION).</span>\n",
                "\n",
                "<span style=\"font-family: -apple-system, BlinkMacSystemFont, sans-serif; color: var(--vscode-foreground);\"><br></span>"
            ],
            "metadata": {
                "azdata_cell_guid": "0024d0c8-6ec2-4faf-af0f-aa254fdac3f4"
            },
            "attachments": {}
        },
        {
            "cell_type": "code",
            "source": [
                "SELECT TOP (20) p.FirstName, p.LastName\n",
                "FROM Person.Person AS p\n",
                "JOIN HumanResources.Employee AS e\n",
                "  ON p.BusinessEntityID = e.BusinessEntityID\n",
                "\n",
                "UNION\n",
                "\n",
                "SELECT TOP (20) p.FirstName, p.LastName\n",
                "FROM Person.Person AS p\n",
                "JOIN Sales.Customer AS c\n",
                "  ON p.BusinessEntityID = c.PersonID;\n",
                "\n",
                ""
            ],
            "metadata": {
                "azdata_cell_guid": "3bf604ff-24ff-4e8d-b36a-bdda2e65c9f5",
                "language": "sql"
            },
            "outputs": [
                {
                    "output_type": "display_data",
                    "data": {
                        "text/html": "(40 rows affected)"
                    },
                    "metadata": {}
                },
                {
                    "output_type": "display_data",
                    "data": {
                        "text/html": "Total execution time: 00:00:00.008"
                    },
                    "metadata": {}
                },
                {
                    "output_type": "execute_result",
                    "metadata": {},
                    "execution_count": 61,
                    "data": {
                        "application/vnd.dataresource+json": {
                            "schema": {
                                "fields": [
                                    {
                                        "name": "FirstName"
                                    },
                                    {
                                        "name": "LastName"
                                    }
                                ]
                            },
                            "data": [
                                {
                                    "FirstName": "Amy",
                                    "LastName": "Alberts"
                                },
                                {
                                    "FirstName": "Angela",
                                    "LastName": "Barbariol"
                                },
                                {
                                    "FirstName": "Bryan",
                                    "LastName": "Baker"
                                },
                                {
                                    "FirstName": "Chloe",
                                    "LastName": "Young"
                                },
                                {
                                    "FirstName": "Christy",
                                    "LastName": "Zhu"
                                },
                                {
                                    "FirstName": "Clarence",
                                    "LastName": "Rai"
                                },
                                {
                                    "FirstName": "Curtis",
                                    "LastName": "Lu"
                                },
                                {
                                    "FirstName": "Dan",
                                    "LastName": "Bacon"
                                },
                                {
                                    "FirstName": "David",
                                    "LastName": "Barber"
                                },
                                {
                                    "FirstName": "Elizabeth",
                                    "LastName": "Johnson"
                                },
                                {
                                    "FirstName": "Eugene",
                                    "LastName": "Huang"
                                },
                                {
                                    "FirstName": "François",
                                    "LastName": "Ajenstat"
                                },
                                {
                                    "FirstName": "Gary",
                                    "LastName": "Altman"
                                },
                                {
                                    "FirstName": "Greg",
                                    "LastName": "Alderson"
                                },
                                {
                                    "FirstName": "Hazem",
                                    "LastName": "Abolrous"
                                },
                                {
                                    "FirstName": "Ian",
                                    "LastName": "Jenkins"
                                },
                                {
                                    "FirstName": "Jacquelyn",
                                    "LastName": "Suarez"
                                },
                                {
                                    "FirstName": "Janet",
                                    "LastName": "Alvarez"
                                },
                                {
                                    "FirstName": "Jay",
                                    "LastName": "Adams"
                                },
                                {
                                    "FirstName": "Jon",
                                    "LastName": "Yang"
                                },
                                {
                                    "FirstName": "Julio",
                                    "LastName": "Ruiz"
                                },
                                {
                                    "FirstName": "Kim",
                                    "LastName": "Abercrombie"
                                },
                                {
                                    "FirstName": "Lauren",
                                    "LastName": "Walker"
                                },
                                {
                                    "FirstName": "Luke",
                                    "LastName": "Lal"
                                },
                                {
                                    "FirstName": "Marco",
                                    "LastName": "Mehta"
                                },
                                {
                                    "FirstName": "Mary",
                                    "LastName": "Baker"
                                },
                                {
                                    "FirstName": "Nancy",
                                    "LastName": "Anderson"
                                },
                                {
                                    "FirstName": "Pamela",
                                    "LastName": "Ansman-Wolfe"
                                },
                                {
                                    "FirstName": "Paula",
                                    "LastName": "Barreto de Mattos"
                                },
                                {
                                    "FirstName": "Pilar",
                                    "LastName": "Ackerman"
                                },
                                {
                                    "FirstName": "Rob",
                                    "LastName": "Verhoff"
                                },
                                {
                                    "FirstName": "Ruben",
                                    "LastName": "Torres"
                                },
                                {
                                    "FirstName": "Sean",
                                    "LastName": "Alexander"
                                },
                                {
                                    "FirstName": "Shannon",
                                    "LastName": "Carlson"
                                },
                                {
                                    "FirstName": "Shannon",
                                    "LastName": "Wang"
                                },
                                {
                                    "FirstName": "Sydney",
                                    "LastName": "Bennett"
                                },
                                {
                                    "FirstName": "Syed",
                                    "LastName": "Abbas"
                                },
                                {
                                    "FirstName": "Wanida",
                                    "LastName": "Benshoof"
                                },
                                {
                                    "FirstName": "Wyatt",
                                    "LastName": "Hill"
                                },
                                {
                                    "FirstName": "Zainal",
                                    "LastName": "Arifin"
                                }
                            ]
                        },
                        "text/html": [
                            "<table>",
                            "<tr><th>FirstName</th><th>LastName</th></tr>",
                            "<tr><td>Amy</td><td>Alberts</td></tr>",
                            "<tr><td>Angela</td><td>Barbariol</td></tr>",
                            "<tr><td>Bryan</td><td>Baker</td></tr>",
                            "<tr><td>Chloe</td><td>Young</td></tr>",
                            "<tr><td>Christy</td><td>Zhu</td></tr>",
                            "<tr><td>Clarence</td><td>Rai</td></tr>",
                            "<tr><td>Curtis</td><td>Lu</td></tr>",
                            "<tr><td>Dan</td><td>Bacon</td></tr>",
                            "<tr><td>David</td><td>Barber</td></tr>",
                            "<tr><td>Elizabeth</td><td>Johnson</td></tr>",
                            "<tr><td>Eugene</td><td>Huang</td></tr>",
                            "<tr><td>François</td><td>Ajenstat</td></tr>",
                            "<tr><td>Gary</td><td>Altman</td></tr>",
                            "<tr><td>Greg</td><td>Alderson</td></tr>",
                            "<tr><td>Hazem</td><td>Abolrous</td></tr>",
                            "<tr><td>Ian</td><td>Jenkins</td></tr>",
                            "<tr><td>Jacquelyn</td><td>Suarez</td></tr>",
                            "<tr><td>Janet</td><td>Alvarez</td></tr>",
                            "<tr><td>Jay</td><td>Adams</td></tr>",
                            "<tr><td>Jon</td><td>Yang</td></tr>",
                            "<tr><td>Julio</td><td>Ruiz</td></tr>",
                            "<tr><td>Kim</td><td>Abercrombie</td></tr>",
                            "<tr><td>Lauren</td><td>Walker</td></tr>",
                            "<tr><td>Luke</td><td>Lal</td></tr>",
                            "<tr><td>Marco</td><td>Mehta</td></tr>",
                            "<tr><td>Mary</td><td>Baker</td></tr>",
                            "<tr><td>Nancy</td><td>Anderson</td></tr>",
                            "<tr><td>Pamela</td><td>Ansman-Wolfe</td></tr>",
                            "<tr><td>Paula</td><td>Barreto de Mattos</td></tr>",
                            "<tr><td>Pilar</td><td>Ackerman</td></tr>",
                            "<tr><td>Rob</td><td>Verhoff</td></tr>",
                            "<tr><td>Ruben</td><td>Torres</td></tr>",
                            "<tr><td>Sean</td><td>Alexander</td></tr>",
                            "<tr><td>Shannon</td><td>Carlson</td></tr>",
                            "<tr><td>Shannon</td><td>Wang</td></tr>",
                            "<tr><td>Sydney</td><td>Bennett</td></tr>",
                            "<tr><td>Syed</td><td>Abbas</td></tr>",
                            "<tr><td>Wanida</td><td>Benshoof</td></tr>",
                            "<tr><td>Wyatt</td><td>Hill</td></tr>",
                            "<tr><td>Zainal</td><td>Arifin</td></tr>",
                            "</table>"
                        ]
                    }
                }
            ],
            "execution_count": 61
        },
        {
            "cell_type": "markdown",
            "source": [
                "2. <span style=\"caret-color: rgb(0, 0, 0); color: rgb(0, 0, 0); font-family: -webkit-standard; font-size: medium;\">Find all products that are sold or purchased<span class=\"Apple-converted-space\">&nbsp;</span></span>"
            ],
            "metadata": {
                "azdata_cell_guid": "9af2c186-bbac-41d9-ad85-d3462d8e1f16"
            },
            "attachments": {}
        },
        {
            "cell_type": "code",
            "source": [
                "SELECT TOP (20) ProductName, COUNT(*) AS TotalTransactions\n",
                "FROM (\n",
                "    SELECT p.Name AS ProductName\n",
                "    FROM Production.Product AS p\n",
                "    JOIN Sales.SalesOrderDetail AS sod\n",
                "      ON p.ProductID = sod.ProductID\n",
                "\n",
                "    UNION ALL\n",
                "\n",
                "    SELECT p.Name AS ProductName\n",
                "    FROM Production.Product AS p\n",
                "    JOIN Purchasing.PurchaseOrderDetail AS pod\n",
                "      ON p.ProductID = pod.ProductID\n",
                ") AS Combined\n",
                "GROUP BY ProductName\n",
                "ORDER BY TotalTransactions DESC;\n",
                "\n",
                "\n",
                ""
            ],
            "metadata": {
                "azdata_cell_guid": "a38411c1-41e2-4946-85a2-58541460c45f",
                "language": "sql"
            },
            "outputs": [
                {
                    "output_type": "display_data",
                    "data": {
                        "text/html": "(20 rows affected)"
                    },
                    "metadata": {}
                },
                {
                    "output_type": "display_data",
                    "data": {
                        "text/html": "Total execution time: 00:00:00.087"
                    },
                    "metadata": {}
                },
                {
                    "output_type": "execute_result",
                    "metadata": {},
                    "execution_count": 62,
                    "data": {
                        "application/vnd.dataresource+json": {
                            "schema": {
                                "fields": [
                                    {
                                        "name": "ProductName"
                                    },
                                    {
                                        "name": "TotalTransactions"
                                    }
                                ]
                            },
                            "data": [
                                {
                                    "ProductName": "Water Bottle - 30 oz.",
                                    "TotalTransactions": "4689"
                                },
                                {
                                    "ProductName": "AWC Logo Cap",
                                    "TotalTransactions": "3383"
                                },
                                {
                                    "ProductName": "Patch Kit/8 Patches",
                                    "TotalTransactions": "3355"
                                },
                                {
                                    "ProductName": "Mountain Tire Tube",
                                    "TotalTransactions": "3145"
                                },
                                {
                                    "ProductName": "Sport-100 Helmet, Blue",
                                    "TotalTransactions": "3091"
                                },
                                {
                                    "ProductName": "Sport-100 Helmet, Red",
                                    "TotalTransactions": "3084"
                                },
                                {
                                    "ProductName": "Sport-100 Helmet, Black",
                                    "TotalTransactions": "3008"
                                },
                                {
                                    "ProductName": "Road Tire Tube",
                                    "TotalTransactions": "2412"
                                },
                                {
                                    "ProductName": "Fender Set - Mountain",
                                    "TotalTransactions": "2122"
                                },
                                {
                                    "ProductName": "Mountain Bottle Cage",
                                    "TotalTransactions": "2026"
                                },
                                {
                                    "ProductName": "Road Bottle Cage",
                                    "TotalTransactions": "1713"
                                },
                                {
                                    "ProductName": "Long-Sleeve Logo Jersey, L",
                                    "TotalTransactions": "1636"
                                },
                                {
                                    "ProductName": "Touring Tire Tube",
                                    "TotalTransactions": "1524"
                                },
                                {
                                    "ProductName": "HL Mountain Tire",
                                    "TotalTransactions": "1485"
                                },
                                {
                                    "ProductName": "Bike Wash - Dissolver",
                                    "TotalTransactions": "1328"
                                },
                                {
                                    "ProductName": "Mountain-200 Black, 38",
                                    "TotalTransactions": "1252"
                                },
                                {
                                    "ProductName": "ML Mountain Tire",
                                    "TotalTransactions": "1250"
                                },
                                {
                                    "ProductName": "Long-Sleeve Logo Jersey, M",
                                    "TotalTransactions": "1219"
                                },
                                {
                                    "ProductName": "Mountain-200 Black, 42",
                                    "TotalTransactions": "1177"
                                },
                                {
                                    "ProductName": "LL Road Tire",
                                    "TotalTransactions": "1130"
                                }
                            ]
                        },
                        "text/html": [
                            "<table>",
                            "<tr><th>ProductName</th><th>TotalTransactions</th></tr>",
                            "<tr><td>Water Bottle - 30 oz.</td><td>4689</td></tr>",
                            "<tr><td>AWC Logo Cap</td><td>3383</td></tr>",
                            "<tr><td>Patch Kit/8 Patches</td><td>3355</td></tr>",
                            "<tr><td>Mountain Tire Tube</td><td>3145</td></tr>",
                            "<tr><td>Sport-100 Helmet, Blue</td><td>3091</td></tr>",
                            "<tr><td>Sport-100 Helmet, Red</td><td>3084</td></tr>",
                            "<tr><td>Sport-100 Helmet, Black</td><td>3008</td></tr>",
                            "<tr><td>Road Tire Tube</td><td>2412</td></tr>",
                            "<tr><td>Fender Set - Mountain</td><td>2122</td></tr>",
                            "<tr><td>Mountain Bottle Cage</td><td>2026</td></tr>",
                            "<tr><td>Road Bottle Cage</td><td>1713</td></tr>",
                            "<tr><td>Long-Sleeve Logo Jersey, L</td><td>1636</td></tr>",
                            "<tr><td>Touring Tire Tube</td><td>1524</td></tr>",
                            "<tr><td>HL Mountain Tire</td><td>1485</td></tr>",
                            "<tr><td>Bike Wash - Dissolver</td><td>1328</td></tr>",
                            "<tr><td>Mountain-200 Black, 38</td><td>1252</td></tr>",
                            "<tr><td>ML Mountain Tire</td><td>1250</td></tr>",
                            "<tr><td>Long-Sleeve Logo Jersey, M</td><td>1219</td></tr>",
                            "<tr><td>Mountain-200 Black, 42</td><td>1177</td></tr>",
                            "<tr><td>LL Road Tire</td><td>1130</td></tr>",
                            "</table>"
                        ]
                    }
                }
            ],
            "execution_count": 62
        },
        {
            "cell_type": "markdown",
            "source": [
                "3. <span style=\"caret-color: rgb(0, 0, 0); color: rgb(0, 0, 0); font-family: -webkit-standard; font-size: medium;\">Find customers who purchased online but never bought in-store</span>"
            ],
            "metadata": {
                "azdata_cell_guid": "8eface9a-c0ca-45d4-993f-c917ec2e50cc"
            },
            "attachments": {}
        },
        {
            "cell_type": "code",
            "source": [
                "SELECT TOP (20) CustomerID\n",
                "FROM Sales.SalesOrderHeader\n",
                "WHERE OnlineOrderFlag = 1\n",
                "\n",
                "EXCEPT\n",
                "\n",
                "SELECT CustomerID\n",
                "FROM Sales.SalesOrderHeader\n",
                "WHERE OnlineOrderFlag = 0;\n",
                "\n",
                ""
            ],
            "metadata": {
                "azdata_cell_guid": "ca2677c0-f09f-454b-bd95-dddcc599f511",
                "language": "sql",
                "tags": []
            },
            "outputs": [
                {
                    "output_type": "display_data",
                    "data": {
                        "text/html": "(20 rows affected)"
                    },
                    "metadata": {}
                },
                {
                    "output_type": "display_data",
                    "data": {
                        "text/html": "Total execution time: 00:00:00.005"
                    },
                    "metadata": {}
                },
                {
                    "output_type": "execute_result",
                    "metadata": {},
                    "execution_count": 63,
                    "data": {
                        "application/vnd.dataresource+json": {
                            "schema": {
                                "fields": [
                                    {
                                        "name": "CustomerID"
                                    }
                                ]
                            },
                            "data": [
                                {
                                    "CustomerID": "11003"
                                },
                                {
                                    "CustomerID": "11005"
                                },
                                {
                                    "CustomerID": "11011"
                                },
                                {
                                    "CustomerID": "13513"
                                },
                                {
                                    "CustomerID": "13591"
                                },
                                {
                                    "CustomerID": "14501"
                                },
                                {
                                    "CustomerID": "16351"
                                },
                                {
                                    "CustomerID": "16483"
                                },
                                {
                                    "CustomerID": "16517"
                                },
                                {
                                    "CustomerID": "16529"
                                },
                                {
                                    "CustomerID": "16624"
                                },
                                {
                                    "CustomerID": "20042"
                                },
                                {
                                    "CustomerID": "21768"
                                },
                                {
                                    "CustomerID": "25863"
                                },
                                {
                                    "CustomerID": "27601"
                                },
                                {
                                    "CustomerID": "27606"
                                },
                                {
                                    "CustomerID": "27616"
                                },
                                {
                                    "CustomerID": "27621"
                                },
                                {
                                    "CustomerID": "27645"
                                },
                                {
                                    "CustomerID": "28389"
                                }
                            ]
                        },
                        "text/html": [
                            "<table>",
                            "<tr><th>CustomerID</th></tr>",
                            "<tr><td>11003</td></tr>",
                            "<tr><td>11005</td></tr>",
                            "<tr><td>11011</td></tr>",
                            "<tr><td>13513</td></tr>",
                            "<tr><td>13591</td></tr>",
                            "<tr><td>14501</td></tr>",
                            "<tr><td>16351</td></tr>",
                            "<tr><td>16483</td></tr>",
                            "<tr><td>16517</td></tr>",
                            "<tr><td>16529</td></tr>",
                            "<tr><td>16624</td></tr>",
                            "<tr><td>20042</td></tr>",
                            "<tr><td>21768</td></tr>",
                            "<tr><td>25863</td></tr>",
                            "<tr><td>27601</td></tr>",
                            "<tr><td>27606</td></tr>",
                            "<tr><td>27616</td></tr>",
                            "<tr><td>27621</td></tr>",
                            "<tr><td>27645</td></tr>",
                            "<tr><td>28389</td></tr>",
                            "</table>"
                        ]
                    }
                }
            ],
            "execution_count": 63
        },
        {
            "cell_type": "markdown",
            "source": [
                "4. <span style=\"caret-color: rgb(0, 0, 0); color: rgb(0, 0, 0); font-family: -webkit-standard; font-size: medium;\">Find products that are either finished goods or raw materials<span class=\"Apple-converted-space\">&nbsp;</span></span>"
            ],
            "metadata": {
                "azdata_cell_guid": "5c5876cb-2a60-4708-8224-fa00086b6847"
            },
            "attachments": {}
        },
        {
            "cell_type": "code",
            "source": [
                "SELECT TOP (20) *\n",
                "FROM (\n",
                "    SELECT ProductID, Name\n",
                "    FROM Production.Product\n",
                "    WHERE FinishedGoodsFlag = 1\n",
                "\n",
                "    INTERSECT\n",
                "\n",
                "    SELECT ComponentID AS ProductID, p.Name\n",
                "    FROM Production.BillOfMaterials AS b\n",
                "    JOIN Production.Product AS p\n",
                "      ON b.ComponentID = p.ProductID\n",
                ") AS x\n",
                "ORDER BY ProductID;\n",
                "\n",
                ""
            ],
            "metadata": {
                "azdata_cell_guid": "320f2628-8616-4924-a9db-e9e92c476ee4",
                "language": "sql"
            },
            "outputs": [
                {
                    "output_type": "display_data",
                    "data": {
                        "text/html": "(20 rows affected)"
                    },
                    "metadata": {}
                },
                {
                    "output_type": "display_data",
                    "data": {
                        "text/html": "Total execution time: 00:00:00.030"
                    },
                    "metadata": {}
                },
                {
                    "output_type": "execute_result",
                    "metadata": {},
                    "execution_count": 72,
                    "data": {
                        "application/vnd.dataresource+json": {
                            "schema": {
                                "fields": [
                                    {
                                        "name": "ProductID"
                                    },
                                    {
                                        "name": "Name"
                                    }
                                ]
                            },
                            "data": [
                                {
                                    "ProductID": "680",
                                    "Name": "HL Road Frame - Black, 58"
                                },
                                {
                                    "ProductID": "706",
                                    "Name": "HL Road Frame - Red, 58"
                                },
                                {
                                    "ProductID": "717",
                                    "Name": "HL Road Frame - Red, 62"
                                },
                                {
                                    "ProductID": "718",
                                    "Name": "HL Road Frame - Red, 44"
                                },
                                {
                                    "ProductID": "719",
                                    "Name": "HL Road Frame - Red, 48"
                                },
                                {
                                    "ProductID": "720",
                                    "Name": "HL Road Frame - Red, 52"
                                },
                                {
                                    "ProductID": "721",
                                    "Name": "HL Road Frame - Red, 56"
                                },
                                {
                                    "ProductID": "722",
                                    "Name": "LL Road Frame - Black, 58"
                                },
                                {
                                    "ProductID": "723",
                                    "Name": "LL Road Frame - Black, 60"
                                },
                                {
                                    "ProductID": "724",
                                    "Name": "LL Road Frame - Black, 62"
                                },
                                {
                                    "ProductID": "725",
                                    "Name": "LL Road Frame - Red, 44"
                                },
                                {
                                    "ProductID": "726",
                                    "Name": "LL Road Frame - Red, 48"
                                },
                                {
                                    "ProductID": "727",
                                    "Name": "LL Road Frame - Red, 52"
                                },
                                {
                                    "ProductID": "728",
                                    "Name": "LL Road Frame - Red, 58"
                                },
                                {
                                    "ProductID": "729",
                                    "Name": "LL Road Frame - Red, 60"
                                },
                                {
                                    "ProductID": "730",
                                    "Name": "LL Road Frame - Red, 62"
                                },
                                {
                                    "ProductID": "731",
                                    "Name": "ML Road Frame - Red, 44"
                                },
                                {
                                    "ProductID": "732",
                                    "Name": "ML Road Frame - Red, 48"
                                },
                                {
                                    "ProductID": "733",
                                    "Name": "ML Road Frame - Red, 52"
                                },
                                {
                                    "ProductID": "734",
                                    "Name": "ML Road Frame - Red, 58"
                                }
                            ]
                        },
                        "text/html": [
                            "<table>",
                            "<tr><th>ProductID</th><th>Name</th></tr>",
                            "<tr><td>680</td><td>HL Road Frame - Black, 58</td></tr>",
                            "<tr><td>706</td><td>HL Road Frame - Red, 58</td></tr>",
                            "<tr><td>717</td><td>HL Road Frame - Red, 62</td></tr>",
                            "<tr><td>718</td><td>HL Road Frame - Red, 44</td></tr>",
                            "<tr><td>719</td><td>HL Road Frame - Red, 48</td></tr>",
                            "<tr><td>720</td><td>HL Road Frame - Red, 52</td></tr>",
                            "<tr><td>721</td><td>HL Road Frame - Red, 56</td></tr>",
                            "<tr><td>722</td><td>LL Road Frame - Black, 58</td></tr>",
                            "<tr><td>723</td><td>LL Road Frame - Black, 60</td></tr>",
                            "<tr><td>724</td><td>LL Road Frame - Black, 62</td></tr>",
                            "<tr><td>725</td><td>LL Road Frame - Red, 44</td></tr>",
                            "<tr><td>726</td><td>LL Road Frame - Red, 48</td></tr>",
                            "<tr><td>727</td><td>LL Road Frame - Red, 52</td></tr>",
                            "<tr><td>728</td><td>LL Road Frame - Red, 58</td></tr>",
                            "<tr><td>729</td><td>LL Road Frame - Red, 60</td></tr>",
                            "<tr><td>730</td><td>LL Road Frame - Red, 62</td></tr>",
                            "<tr><td>731</td><td>ML Road Frame - Red, 44</td></tr>",
                            "<tr><td>732</td><td>ML Road Frame - Red, 48</td></tr>",
                            "<tr><td>733</td><td>ML Road Frame - Red, 52</td></tr>",
                            "<tr><td>734</td><td>ML Road Frame - Red, 58</td></tr>",
                            "</table>"
                        ]
                    }
                }
            ],
            "execution_count": 72
        },
        {
            "cell_type": "markdown",
            "source": [
                "5. <span style=\"caret-color: rgb(0, 0, 0); color: rgb(0, 0, 0); font-family: -webkit-standard; font-size: medium;\">Find job candidates who have applied for positions but are not current employees</span>"
            ],
            "metadata": {
                "azdata_cell_guid": "c20f3699-eddb-4fb8-b7b1-4078565ebd13"
            },
            "attachments": {}
        },
        {
            "cell_type": "code",
            "source": [
                "SELECT TOP (20) BusinessEntityID\n",
                "FROM HumanResources.JobCandidate\n",
                "WHERE BusinessEntityID IS NOT NULL\n",
                "\n",
                "EXCEPT\n",
                "\n",
                "SELECT BusinessEntityID\n",
                "FROM HumanResources.Employee\n",
                "WHERE BusinessEntityID IS NOT NULL;\n",
                "\n",
                ""
            ],
            "metadata": {
                "azdata_cell_guid": "f1791d11-f640-4327-ab3b-2c5a0b2107b4",
                "language": "sql"
            },
            "outputs": [
                {
                    "output_type": "display_data",
                    "data": {
                        "text/html": "(0 rows affected)"
                    },
                    "metadata": {}
                },
                {
                    "output_type": "display_data",
                    "data": {
                        "text/html": "Total execution time: 00:00:00.011"
                    },
                    "metadata": {}
                },
                {
                    "output_type": "execute_result",
                    "metadata": {},
                    "execution_count": 73,
                    "data": {
                        "application/vnd.dataresource+json": {
                            "schema": {
                                "fields": [
                                    {
                                        "name": "BusinessEntityID"
                                    }
                                ]
                            },
                            "data": []
                        },
                        "text/html": [
                            "<table>",
                            "<tr><th>BusinessEntityID</th></tr>",
                            "</table>"
                        ]
                    }
                }
            ],
            "execution_count": 73
        },
        {
            "cell_type": "markdown",
            "source": [
                "6. <span style=\"caret-color: rgb(0, 0, 0); color: rgb(0, 0, 0); font-family: -webkit-standard; font-size: medium;\">List customers who purchased bikes but not accessories</span>"
            ],
            "metadata": {
                "azdata_cell_guid": "9e5f6da9-9974-4e4b-98d7-71a727ad673e"
            },
            "attachments": {}
        },
        {
            "cell_type": "code",
            "source": [
                "\n",
                "SELECT TOP (25) CustomerID\n",
                "FROM (\n",
                "    SELECT soh.CustomerID\n",
                "    FROM Sales.SalesOrderHeader AS soh\n",
                "    JOIN Sales.SalesOrderDetail AS sod\n",
                "      ON soh.SalesOrderID = sod.SalesOrderID\n",
                "    JOIN Production.Product AS p\n",
                "      ON sod.ProductID = p.ProductID\n",
                "    JOIN Production.ProductSubcategory AS ps\n",
                "      ON p.ProductSubcategoryID = ps.ProductSubcategoryID\n",
                "    JOIN Production.ProductCategory AS pc\n",
                "      ON ps.ProductCategoryID = pc.ProductCategoryID\n",
                "    WHERE pc.Name = 'Bikes'\n",
                "\n",
                "    EXCEPT\n",
                "\n",
                "    SELECT soh.CustomerID\n",
                "    FROM Sales.SalesOrderHeader AS soh\n",
                "    JOIN Sales.SalesOrderDetail AS sod\n",
                "      ON soh.SalesOrderID = sod.SalesOrderID\n",
                "    JOIN Production.Product AS p\n",
                "      ON sod.ProductID = p.ProductID\n",
                "    JOIN Production.ProductSubcategory AS ps\n",
                "      ON p.ProductSubcategoryID = ps.ProductSubcategoryID\n",
                "    JOIN Production.ProductCategory AS pc\n",
                "      ON ps.ProductCategoryID = pc.ProductCategoryID\n",
                "    WHERE pc.Name = 'Accessories'\n",
                ") AS x\n",
                "ORDER BY CustomerID;   \n",
                "\n",
                "\n",
                ""
            ],
            "metadata": {
                "azdata_cell_guid": "f5b29de9-bbb6-44e6-8f7d-c945e34c360f",
                "language": "sql"
            },
            "outputs": [
                {
                    "output_type": "display_data",
                    "data": {
                        "text/html": "(25 rows affected)"
                    },
                    "metadata": {}
                },
                {
                    "output_type": "display_data",
                    "data": {
                        "text/html": "Total execution time: 00:00:00.068"
                    },
                    "metadata": {}
                },
                {
                    "output_type": "execute_result",
                    "metadata": {},
                    "execution_count": 66,
                    "data": {
                        "application/vnd.dataresource+json": {
                            "schema": {
                                "fields": [
                                    {
                                        "name": "CustomerID"
                                    }
                                ]
                            },
                            "data": [
                                {
                                    "CustomerID": "11010"
                                },
                                {
                                    "CustomerID": "11011"
                                },
                                {
                                    "CustomerID": "11030"
                                },
                                {
                                    "CustomerID": "11034"
                                },
                                {
                                    "CustomerID": "11038"
                                },
                                {
                                    "CustomerID": "11042"
                                },
                                {
                                    "CustomerID": "11057"
                                },
                                {
                                    "CustomerID": "11069"
                                },
                                {
                                    "CustomerID": "11096"
                                },
                                {
                                    "CustomerID": "11106"
                                },
                                {
                                    "CustomerID": "11129"
                                },
                                {
                                    "CustomerID": "11134"
                                },
                                {
                                    "CustomerID": "11152"
                                },
                                {
                                    "CustomerID": "11154"
                                },
                                {
                                    "CustomerID": "11155"
                                },
                                {
                                    "CustomerID": "11291"
                                },
                                {
                                    "CustomerID": "11317"
                                },
                                {
                                    "CustomerID": "11329"
                                },
                                {
                                    "CustomerID": "11363"
                                },
                                {
                                    "CustomerID": "11382"
                                },
                                {
                                    "CustomerID": "11421"
                                },
                                {
                                    "CustomerID": "11455"
                                },
                                {
                                    "CustomerID": "11465"
                                },
                                {
                                    "CustomerID": "11468"
                                },
                                {
                                    "CustomerID": "11470"
                                }
                            ]
                        },
                        "text/html": [
                            "<table>",
                            "<tr><th>CustomerID</th></tr>",
                            "<tr><td>11010</td></tr>",
                            "<tr><td>11011</td></tr>",
                            "<tr><td>11030</td></tr>",
                            "<tr><td>11034</td></tr>",
                            "<tr><td>11038</td></tr>",
                            "<tr><td>11042</td></tr>",
                            "<tr><td>11057</td></tr>",
                            "<tr><td>11069</td></tr>",
                            "<tr><td>11096</td></tr>",
                            "<tr><td>11106</td></tr>",
                            "<tr><td>11129</td></tr>",
                            "<tr><td>11134</td></tr>",
                            "<tr><td>11152</td></tr>",
                            "<tr><td>11154</td></tr>",
                            "<tr><td>11155</td></tr>",
                            "<tr><td>11291</td></tr>",
                            "<tr><td>11317</td></tr>",
                            "<tr><td>11329</td></tr>",
                            "<tr><td>11363</td></tr>",
                            "<tr><td>11382</td></tr>",
                            "<tr><td>11421</td></tr>",
                            "<tr><td>11455</td></tr>",
                            "<tr><td>11465</td></tr>",
                            "<tr><td>11468</td></tr>",
                            "<tr><td>11470</td></tr>",
                            "</table>"
                        ]
                    }
                }
            ],
            "execution_count": 66
        },
        {
            "cell_type": "markdown",
            "source": [
                "7. <span style=\"caret-color: rgb(0, 0, 0); color: rgb(0, 0, 0); font-family: -webkit-standard; font-size: medium;\">Find employees who work in the same departments as managers</span>"
            ],
            "metadata": {
                "azdata_cell_guid": "a676c222-932c-4eeb-8ab2-f6e7260e32a6"
            },
            "attachments": {}
        },
        {
            "cell_type": "code",
            "source": [
                "SELECT TOP (20) *\n",
                "FROM (\n",
                "    SELECT edh.DepartmentID, edh.BusinessEntityID\n",
                "    FROM HumanResources.EmployeeDepartmentHistory AS edh\n",
                "\n",
                "    INTERSECT\n",
                "\n",
                "    SELECT edh2.DepartmentID, e.BusinessEntityID\n",
                "    FROM HumanResources.EmployeeDepartmentHistory AS edh2\n",
                "    JOIN HumanResources.Employee AS e\n",
                "      ON edh2.BusinessEntityID = e.BusinessEntityID\n",
                "    WHERE e.JobTitle LIKE '%Manager%'\n",
                ") AS x\n",
                "ORDER BY BusinessEntityID;\n",
                ""
            ],
            "metadata": {
                "azdata_cell_guid": "12234698-721c-46e1-b646-61ab11964049",
                "language": "sql"
            },
            "outputs": [
                {
                    "output_type": "display_data",
                    "data": {
                        "text/html": "(20 rows affected)"
                    },
                    "metadata": {}
                },
                {
                    "output_type": "display_data",
                    "data": {
                        "text/html": "Total execution time: 00:00:00.074"
                    },
                    "metadata": {}
                },
                {
                    "output_type": "execute_result",
                    "metadata": {},
                    "execution_count": 74,
                    "data": {
                        "application/vnd.dataresource+json": {
                            "schema": {
                                "fields": [
                                    {
                                        "name": "DepartmentID"
                                    },
                                    {
                                        "name": "BusinessEntityID"
                                    }
                                ]
                            },
                            "data": [
                                {
                                    "DepartmentID": "1",
                                    "BusinessEntityID": "3"
                                },
                                {
                                    "DepartmentID": "6",
                                    "BusinessEntityID": "7"
                                },
                                {
                                    "DepartmentID": "6",
                                    "BusinessEntityID": "10"
                                },
                                {
                                    "DepartmentID": "4",
                                    "BusinessEntityID": "16"
                                },
                                {
                                    "DepartmentID": "5",
                                    "BusinessEntityID": "16"
                                },
                                {
                                    "DepartmentID": "8",
                                    "BusinessEntityID": "26"
                                },
                                {
                                    "DepartmentID": "13",
                                    "BusinessEntityID": "211"
                                },
                                {
                                    "DepartmentID": "12",
                                    "BusinessEntityID": "217"
                                },
                                {
                                    "DepartmentID": "14",
                                    "BusinessEntityID": "227"
                                },
                                {
                                    "DepartmentID": "9",
                                    "BusinessEntityID": "235"
                                },
                                {
                                    "DepartmentID": "10",
                                    "BusinessEntityID": "241"
                                },
                                {
                                    "DepartmentID": "10",
                                    "BusinessEntityID": "249"
                                },
                                {
                                    "DepartmentID": "4",
                                    "BusinessEntityID": "250"
                                },
                                {
                                    "DepartmentID": "5",
                                    "BusinessEntityID": "250"
                                },
                                {
                                    "DepartmentID": "13",
                                    "BusinessEntityID": "250"
                                },
                                {
                                    "DepartmentID": "11",
                                    "BusinessEntityID": "263"
                                },
                                {
                                    "DepartmentID": "11",
                                    "BusinessEntityID": "264"
                                },
                                {
                                    "DepartmentID": "3",
                                    "BusinessEntityID": "274"
                                },
                                {
                                    "DepartmentID": "3",
                                    "BusinessEntityID": "285"
                                },
                                {
                                    "DepartmentID": "3",
                                    "BusinessEntityID": "287"
                                }
                            ]
                        },
                        "text/html": [
                            "<table>",
                            "<tr><th>DepartmentID</th><th>BusinessEntityID</th></tr>",
                            "<tr><td>1</td><td>3</td></tr>",
                            "<tr><td>6</td><td>7</td></tr>",
                            "<tr><td>6</td><td>10</td></tr>",
                            "<tr><td>4</td><td>16</td></tr>",
                            "<tr><td>5</td><td>16</td></tr>",
                            "<tr><td>8</td><td>26</td></tr>",
                            "<tr><td>13</td><td>211</td></tr>",
                            "<tr><td>12</td><td>217</td></tr>",
                            "<tr><td>14</td><td>227</td></tr>",
                            "<tr><td>9</td><td>235</td></tr>",
                            "<tr><td>10</td><td>241</td></tr>",
                            "<tr><td>10</td><td>249</td></tr>",
                            "<tr><td>4</td><td>250</td></tr>",
                            "<tr><td>5</td><td>250</td></tr>",
                            "<tr><td>13</td><td>250</td></tr>",
                            "<tr><td>11</td><td>263</td></tr>",
                            "<tr><td>11</td><td>264</td></tr>",
                            "<tr><td>3</td><td>274</td></tr>",
                            "<tr><td>3</td><td>285</td></tr>",
                            "<tr><td>3</td><td>287</td></tr>",
                            "</table>"
                        ]
                    }
                }
            ],
            "execution_count": 74
        },
        {
            "cell_type": "markdown",
            "source": [
                "8. <span style=\"caret-color: rgb(0, 0, 0); color: rgb(0, 0, 0); font-family: -webkit-standard; font-size: medium;\">Find customers who purchased both Clothing and Accessories</span>"
            ],
            "metadata": {
                "azdata_cell_guid": "3cd69110-dec7-42f0-acbc-2cacb27d28a1"
            },
            "attachments": {}
        },
        {
            "cell_type": "code",
            "source": [
                "SELECT TOP (20) *\n",
                "FROM (\n",
                "    SELECT DISTINCT soh.CustomerID\n",
                "    FROM Sales.SalesOrderHeader AS soh\n",
                "    JOIN Sales.SalesOrderDetail AS sod ON soh.SalesOrderID = sod.SalesOrderID\n",
                "    JOIN Production.Product AS p ON sod.ProductID = p.ProductID\n",
                "    JOIN Production.ProductSubcategory AS ps ON p.ProductSubcategoryID = ps.ProductSubcategoryID\n",
                "    JOIN Production.ProductCategory AS pc ON ps.ProductCategoryID = pc.ProductCategoryID\n",
                "    WHERE pc.Name = 'Clothing'\n",
                "\n",
                "    INTERSECT\n",
                "\n",
                "    SELECT DISTINCT soh.CustomerID\n",
                "    FROM Sales.SalesOrderHeader AS soh\n",
                "    JOIN Sales.SalesOrderDetail AS sod ON soh.SalesOrderID = sod.SalesOrderID\n",
                "    JOIN Production.Product AS p ON sod.ProductID = p.ProductID\n",
                "    JOIN Production.ProductSubcategory AS ps ON p.ProductSubcategoryID = ps.ProductSubcategoryID\n",
                "    JOIN Production.ProductCategory AS pc ON ps.ProductCategoryID = pc.ProductCategoryID\n",
                "    WHERE pc.Name = 'Accessories'\n",
                ") AS x\n",
                "ORDER BY CustomerID;\n",
                "\n",
                "\n",
                ""
            ],
            "metadata": {
                "azdata_cell_guid": "ca6b54ca-754d-433c-b79c-7bb490c42ab6",
                "language": "sql"
            },
            "outputs": [
                {
                    "output_type": "display_data",
                    "data": {
                        "text/html": "(20 rows affected)"
                    },
                    "metadata": {}
                },
                {
                    "output_type": "display_data",
                    "data": {
                        "text/html": "Total execution time: 00:00:00.076"
                    },
                    "metadata": {}
                },
                {
                    "output_type": "execute_result",
                    "metadata": {},
                    "execution_count": 75,
                    "data": {
                        "application/vnd.dataresource+json": {
                            "schema": {
                                "fields": [
                                    {
                                        "name": "CustomerID"
                                    }
                                ]
                            },
                            "data": [
                                {
                                    "CustomerID": "11000"
                                },
                                {
                                    "CustomerID": "11001"
                                },
                                {
                                    "CustomerID": "11003"
                                },
                                {
                                    "CustomerID": "11014"
                                },
                                {
                                    "CustomerID": "11019"
                                },
                                {
                                    "CustomerID": "11023"
                                },
                                {
                                    "CustomerID": "11025"
                                },
                                {
                                    "CustomerID": "11026"
                                },
                                {
                                    "CustomerID": "11027"
                                },
                                {
                                    "CustomerID": "11029"
                                },
                                {
                                    "CustomerID": "11032"
                                },
                                {
                                    "CustomerID": "11033"
                                },
                                {
                                    "CustomerID": "11039"
                                },
                                {
                                    "CustomerID": "11040"
                                },
                                {
                                    "CustomerID": "11041"
                                },
                                {
                                    "CustomerID": "11043"
                                },
                                {
                                    "CustomerID": "11044"
                                },
                                {
                                    "CustomerID": "11045"
                                },
                                {
                                    "CustomerID": "11046"
                                },
                                {
                                    "CustomerID": "11048"
                                }
                            ]
                        },
                        "text/html": [
                            "<table>",
                            "<tr><th>CustomerID</th></tr>",
                            "<tr><td>11000</td></tr>",
                            "<tr><td>11001</td></tr>",
                            "<tr><td>11003</td></tr>",
                            "<tr><td>11014</td></tr>",
                            "<tr><td>11019</td></tr>",
                            "<tr><td>11023</td></tr>",
                            "<tr><td>11025</td></tr>",
                            "<tr><td>11026</td></tr>",
                            "<tr><td>11027</td></tr>",
                            "<tr><td>11029</td></tr>",
                            "<tr><td>11032</td></tr>",
                            "<tr><td>11033</td></tr>",
                            "<tr><td>11039</td></tr>",
                            "<tr><td>11040</td></tr>",
                            "<tr><td>11041</td></tr>",
                            "<tr><td>11043</td></tr>",
                            "<tr><td>11044</td></tr>",
                            "<tr><td>11045</td></tr>",
                            "<tr><td>11046</td></tr>",
                            "<tr><td>11048</td></tr>",
                            "</table>"
                        ]
                    }
                }
            ],
            "execution_count": 75
        },
        {
            "cell_type": "markdown",
            "source": [
                "9. <span style=\"caret-color: rgb(0, 0, 0); color: rgb(0, 0, 0); font-family: -webkit-standard; font-size: medium;\">Find customers who ordered in 2013 but not in 2014</span>"
            ],
            "metadata": {
                "azdata_cell_guid": "28275a8a-71f0-4faa-ba7b-54c5dc12348c"
            },
            "attachments": {}
        },
        {
            "cell_type": "code",
            "source": [
                "SELECT TOP (20) *\n",
                "FROM (\n",
                "    SELECT DISTINCT CustomerID\n",
                "    FROM Sales.SalesOrderHeader\n",
                "    WHERE YEAR(OrderDate) = 2013\n",
                "\n",
                "    EXCEPT\n",
                "\n",
                "    SELECT DISTINCT CustomerID\n",
                "    FROM Sales.SalesOrderHeader\n",
                "    WHERE YEAR(OrderDate) = 2014\n",
                ") AS x\n",
                "ORDER BY CustomerID;\n",
                ""
            ],
            "metadata": {
                "azdata_cell_guid": "90852c44-f2e4-49a0-bc18-bdb71dbd5aef",
                "language": "sql"
            },
            "outputs": [
                {
                    "output_type": "display_data",
                    "data": {
                        "text/html": "(20 rows affected)"
                    },
                    "metadata": {}
                },
                {
                    "output_type": "display_data",
                    "data": {
                        "text/html": "Total execution time: 00:00:00.024"
                    },
                    "metadata": {}
                },
                {
                    "output_type": "execute_result",
                    "metadata": {},
                    "execution_count": 76,
                    "data": {
                        "application/vnd.dataresource+json": {
                            "schema": {
                                "fields": [
                                    {
                                        "name": "CustomerID"
                                    }
                                ]
                            },
                            "data": [
                                {
                                    "CustomerID": "11000"
                                },
                                {
                                    "CustomerID": "11002"
                                },
                                {
                                    "CustomerID": "11003"
                                },
                                {
                                    "CustomerID": "11004"
                                },
                                {
                                    "CustomerID": "11005"
                                },
                                {
                                    "CustomerID": "11006"
                                },
                                {
                                    "CustomerID": "11007"
                                },
                                {
                                    "CustomerID": "11008"
                                },
                                {
                                    "CustomerID": "11009"
                                },
                                {
                                    "CustomerID": "11010"
                                },
                                {
                                    "CustomerID": "11011"
                                },
                                {
                                    "CustomerID": "11014"
                                },
                                {
                                    "CustomerID": "11015"
                                },
                                {
                                    "CustomerID": "11016"
                                },
                                {
                                    "CustomerID": "11020"
                                },
                                {
                                    "CustomerID": "11021"
                                },
                                {
                                    "CustomerID": "11022"
                                },
                                {
                                    "CustomerID": "11024"
                                },
                                {
                                    "CustomerID": "11036"
                                },
                                {
                                    "CustomerID": "11037"
                                }
                            ]
                        },
                        "text/html": [
                            "<table>",
                            "<tr><th>CustomerID</th></tr>",
                            "<tr><td>11000</td></tr>",
                            "<tr><td>11002</td></tr>",
                            "<tr><td>11003</td></tr>",
                            "<tr><td>11004</td></tr>",
                            "<tr><td>11005</td></tr>",
                            "<tr><td>11006</td></tr>",
                            "<tr><td>11007</td></tr>",
                            "<tr><td>11008</td></tr>",
                            "<tr><td>11009</td></tr>",
                            "<tr><td>11010</td></tr>",
                            "<tr><td>11011</td></tr>",
                            "<tr><td>11014</td></tr>",
                            "<tr><td>11015</td></tr>",
                            "<tr><td>11016</td></tr>",
                            "<tr><td>11020</td></tr>",
                            "<tr><td>11021</td></tr>",
                            "<tr><td>11022</td></tr>",
                            "<tr><td>11024</td></tr>",
                            "<tr><td>11036</td></tr>",
                            "<tr><td>11037</td></tr>",
                            "</table>"
                        ]
                    }
                }
            ],
            "execution_count": 76
        },
        {
            "cell_type": "markdown",
            "source": [
                "10. <span style=\"caret-color: rgb(0, 0, 0); color: rgb(0, 0, 0); font-family: -webkit-standard; font-size: medium;\">Combine all employees and all vendors into one list of business contacts</span>"
            ],
            "metadata": {
                "azdata_cell_guid": "4b8d8b99-f828-4612-896b-bc42f2c7fb5f"
            },
            "attachments": {}
        },
        {
            "cell_type": "code",
            "source": [
                "SELECT p.FirstName, p.LastName, 'Employee' AS ContactType\n",
                "FROM Person.Person AS p\n",
                "JOIN HumanResources.Employee AS e\n",
                "  ON p.BusinessEntityID = e.BusinessEntityID\n",
                "\n",
                "UNION\n",
                "\n",
                "SELECT p.FirstName, p.LastName, 'Vendor' AS ContactType\n",
                "FROM Person.Person AS p\n",
                "JOIN Purchasing.Vendor AS v\n",
                "  ON p.BusinessEntityID = v.BusinessEntityID;\n",
                ""
            ],
            "metadata": {
                "azdata_cell_guid": "67e73fe9-745c-48f3-90d7-c704992e9d9b",
                "language": "sql"
            },
            "outputs": [
                {
                    "output_type": "display_data",
                    "data": {
                        "text/html": "(290 rows affected)"
                    },
                    "metadata": {}
                },
                {
                    "output_type": "display_data",
                    "data": {
                        "text/html": "Total execution time: 00:00:00.007"
                    },
                    "metadata": {}
                },
                {
                    "output_type": "execute_result",
                    "metadata": {},
                    "execution_count": 71,
                    "data": {
                        "application/vnd.dataresource+json": {
                            "schema": {
                                "fields": [
                                    {
                                        "name": "FirstName"
                                    },
                                    {
                                        "name": "LastName"
                                    },
                                    {
                                        "name": "ContactType"
                                    }
                                ]
                            },
                            "data": [
                                {
                                    "FirstName": "A. Scott",
                                    "LastName": "Wright",
                                    "ContactType": "Employee"
                                },
                                {
                                    "FirstName": "Alan",
                                    "LastName": "Brewer",
                                    "ContactType": "Employee"
                                },
                                {
                                    "FirstName": "Alejandro",
                                    "LastName": "McGuel",
                                    "ContactType": "Employee"
                                },
                                {
                                    "FirstName": "Alex",
                                    "LastName": "Nayberg",
                                    "ContactType": "Employee"
                                },
                                {
                                    "FirstName": "Alice",
                                    "LastName": "Ciccu",
                                    "ContactType": "Employee"
                                },
                                {
                                    "FirstName": "Amy",
                                    "LastName": "Alberts",
                                    "ContactType": "Employee"
                                },
                                {
                                    "FirstName": "Andreas",
                                    "LastName": "Berglund",
                                    "ContactType": "Employee"
                                },
                                {
                                    "FirstName": "Andrew",
                                    "LastName": "Cencini",
                                    "ContactType": "Employee"
                                },
                                {
                                    "FirstName": "Andrew",
                                    "LastName": "Hill",
                                    "ContactType": "Employee"
                                },
                                {
                                    "FirstName": "Andy",
                                    "LastName": "Ruth",
                                    "ContactType": "Employee"
                                },
                                {
                                    "FirstName": "Angela",
                                    "LastName": "Barbariol",
                                    "ContactType": "Employee"
                                },
                                {
                                    "FirstName": "Anibal",
                                    "LastName": "Sousa",
                                    "ContactType": "Employee"
                                },
                                {
                                    "FirstName": "Annette",
                                    "LastName": "Hill",
                                    "ContactType": "Employee"
                                },
                                {
                                    "FirstName": "Annik",
                                    "LastName": "Stahl",
                                    "ContactType": "Employee"
                                },
                                {
                                    "FirstName": "Arvind",
                                    "LastName": "Rao",
                                    "ContactType": "Employee"
                                },
                                {
                                    "FirstName": "Ashvini",
                                    "LastName": "Sharma",
                                    "ContactType": "Employee"
                                },
                                {
                                    "FirstName": "Barbara",
                                    "LastName": "Decker",
                                    "ContactType": "Employee"
                                },
                                {
                                    "FirstName": "Barbara",
                                    "LastName": "Moreland",
                                    "ContactType": "Employee"
                                },
                                {
                                    "FirstName": "Baris",
                                    "LastName": "Cetinok",
                                    "ContactType": "Employee"
                                },
                                {
                                    "FirstName": "Barry",
                                    "LastName": "Johnson",
                                    "ContactType": "Employee"
                                },
                                {
                                    "FirstName": "Belinda",
                                    "LastName": "Newman",
                                    "ContactType": "Employee"
                                },
                                {
                                    "FirstName": "Ben",
                                    "LastName": "Miller",
                                    "ContactType": "Employee"
                                },
                                {
                                    "FirstName": "Benjamin",
                                    "LastName": "Martin",
                                    "ContactType": "Employee"
                                },
                                {
                                    "FirstName": "Betsy",
                                    "LastName": "Stadick",
                                    "ContactType": "Employee"
                                },
                                {
                                    "FirstName": "Bjorn",
                                    "LastName": "Rettig",
                                    "ContactType": "Employee"
                                },
                                {
                                    "FirstName": "Bob",
                                    "LastName": "Hohman",
                                    "ContactType": "Employee"
                                },
                                {
                                    "FirstName": "Bonnie",
                                    "LastName": "Kearney",
                                    "ContactType": "Employee"
                                },
                                {
                                    "FirstName": "Brandon",
                                    "LastName": "Heidepriem",
                                    "ContactType": "Employee"
                                },
                                {
                                    "FirstName": "Brenda",
                                    "LastName": "Diaz",
                                    "ContactType": "Employee"
                                },
                                {
                                    "FirstName": "Brian",
                                    "LastName": "Goldstein",
                                    "ContactType": "Employee"
                                },
                                {
                                    "FirstName": "Brian",
                                    "LastName": "LaMee",
                                    "ContactType": "Employee"
                                },
                                {
                                    "FirstName": "Brian",
                                    "LastName": "Lloyd",
                                    "ContactType": "Employee"
                                },
                                {
                                    "FirstName": "Brian",
                                    "LastName": "Welcker",
                                    "ContactType": "Employee"
                                },
                                {
                                    "FirstName": "Britta",
                                    "LastName": "Simon",
                                    "ContactType": "Employee"
                                },
                                {
                                    "FirstName": "Bryan",
                                    "LastName": "Baker",
                                    "ContactType": "Employee"
                                },
                                {
                                    "FirstName": "Bryan",
                                    "LastName": "Walton",
                                    "ContactType": "Employee"
                                },
                                {
                                    "FirstName": "Candy",
                                    "LastName": "Spoon",
                                    "ContactType": "Employee"
                                },
                                {
                                    "FirstName": "Carol",
                                    "LastName": "Philips",
                                    "ContactType": "Employee"
                                },
                                {
                                    "FirstName": "Carole",
                                    "LastName": "Poland",
                                    "ContactType": "Employee"
                                },
                                {
                                    "FirstName": "Chad",
                                    "LastName": "Niswonger",
                                    "ContactType": "Employee"
                                },
                                {
                                    "FirstName": "Charles",
                                    "LastName": "Fitzgerald",
                                    "ContactType": "Employee"
                                },
                                {
                                    "FirstName": "Chris",
                                    "LastName": "Norred",
                                    "ContactType": "Employee"
                                },
                                {
                                    "FirstName": "Chris",
                                    "LastName": "Okelberry",
                                    "ContactType": "Employee"
                                },
                                {
                                    "FirstName": "Chris",
                                    "LastName": "Preston",
                                    "ContactType": "Employee"
                                },
                                {
                                    "FirstName": "Christian",
                                    "LastName": "Kleinerman",
                                    "ContactType": "Employee"
                                },
                                {
                                    "FirstName": "Christopher",
                                    "LastName": "Hill",
                                    "ContactType": "Employee"
                                },
                                {
                                    "FirstName": "Cristian",
                                    "LastName": "Petculescu",
                                    "ContactType": "Employee"
                                },
                                {
                                    "FirstName": "Cynthia",
                                    "LastName": "Randall",
                                    "ContactType": "Employee"
                                },
                                {
                                    "FirstName": "Dan",
                                    "LastName": "Bacon",
                                    "ContactType": "Employee"
                                },
                                {
                                    "FirstName": "Dan",
                                    "LastName": "Wilson",
                                    "ContactType": "Employee"
                                },
                                {
                                    "FirstName": "Danielle",
                                    "LastName": "Tiedt",
                                    "ContactType": "Employee"
                                },
                                {
                                    "FirstName": "David",
                                    "LastName": "Barber",
                                    "ContactType": "Employee"
                                },
                                {
                                    "FirstName": "David",
                                    "LastName": "Bradley",
                                    "ContactType": "Employee"
                                },
                                {
                                    "FirstName": "David",
                                    "LastName": "Campbell",
                                    "ContactType": "Employee"
                                },
                                {
                                    "FirstName": "David",
                                    "LastName": "Hamilton",
                                    "ContactType": "Employee"
                                },
                                {
                                    "FirstName": "David",
                                    "LastName": "Johnson",
                                    "ContactType": "Employee"
                                },
                                {
                                    "FirstName": "David",
                                    "LastName": "Lawrence",
                                    "ContactType": "Employee"
                                },
                                {
                                    "FirstName": "David",
                                    "LastName": "Liu",
                                    "ContactType": "Employee"
                                },
                                {
                                    "FirstName": "David",
                                    "LastName": "Ortiz",
                                    "ContactType": "Employee"
                                },
                                {
                                    "FirstName": "David",
                                    "LastName": "Yalovsky",
                                    "ContactType": "Employee"
                                },
                                {
                                    "FirstName": "Deborah",
                                    "LastName": "Poe",
                                    "ContactType": "Employee"
                                },
                                {
                                    "FirstName": "Denise",
                                    "LastName": "Smith",
                                    "ContactType": "Employee"
                                },
                                {
                                    "FirstName": "Diane",
                                    "LastName": "Glimp",
                                    "ContactType": "Employee"
                                },
                                {
                                    "FirstName": "Diane",
                                    "LastName": "Margheim",
                                    "ContactType": "Employee"
                                },
                                {
                                    "FirstName": "Diane",
                                    "LastName": "Tibbott",
                                    "ContactType": "Employee"
                                },
                                {
                                    "FirstName": "Don",
                                    "LastName": "Hall",
                                    "ContactType": "Employee"
                                },
                                {
                                    "FirstName": "Doris",
                                    "LastName": "Hartwig",
                                    "ContactType": "Employee"
                                },
                                {
                                    "FirstName": "Douglas",
                                    "LastName": "Hite",
                                    "ContactType": "Employee"
                                },
                                {
                                    "FirstName": "Dragan",
                                    "LastName": "Tomic",
                                    "ContactType": "Employee"
                                },
                                {
                                    "FirstName": "Dylan",
                                    "LastName": "Miller",
                                    "ContactType": "Employee"
                                },
                                {
                                    "FirstName": "Ebru",
                                    "LastName": "Ersan",
                                    "ContactType": "Employee"
                                },
                                {
                                    "FirstName": "Ed",
                                    "LastName": "Dudenhoefer",
                                    "ContactType": "Employee"
                                },
                                {
                                    "FirstName": "Elizabeth",
                                    "LastName": "Keyser",
                                    "ContactType": "Employee"
                                },
                                {
                                    "FirstName": "Eric",
                                    "LastName": "Brown",
                                    "ContactType": "Employee"
                                },
                                {
                                    "FirstName": "Eric",
                                    "LastName": "Gubbels",
                                    "ContactType": "Employee"
                                },
                                {
                                    "FirstName": "Eric",
                                    "LastName": "Kurjan",
                                    "ContactType": "Employee"
                                },
                                {
                                    "FirstName": "Erin",
                                    "LastName": "Hagens",
                                    "ContactType": "Employee"
                                },
                                {
                                    "FirstName": "Eugene",
                                    "LastName": "Kogan",
                                    "ContactType": "Employee"
                                },
                                {
                                    "FirstName": "Eugene",
                                    "LastName": "Zabokritski",
                                    "ContactType": "Employee"
                                },
                                {
                                    "FirstName": "Fadi",
                                    "LastName": "Fakhouri",
                                    "ContactType": "Employee"
                                },
                                {
                                    "FirstName": "François",
                                    "LastName": "Ajenstat",
                                    "ContactType": "Employee"
                                },
                                {
                                    "FirstName": "Frank",
                                    "LastName": "Lee",
                                    "ContactType": "Employee"
                                },
                                {
                                    "FirstName": "Frank",
                                    "LastName": "Martinez",
                                    "ContactType": "Employee"
                                },
                                {
                                    "FirstName": "Frank",
                                    "LastName": "Miller",
                                    "ContactType": "Employee"
                                },
                                {
                                    "FirstName": "Frank",
                                    "LastName": "Pellow",
                                    "ContactType": "Employee"
                                },
                                {
                                    "FirstName": "Fred",
                                    "LastName": "Northup",
                                    "ContactType": "Employee"
                                },
                                {
                                    "FirstName": "Fukiko",
                                    "LastName": "Ogisu",
                                    "ContactType": "Employee"
                                },
                                {
                                    "FirstName": "Gabe",
                                    "LastName": "Mares",
                                    "ContactType": "Employee"
                                },
                                {
                                    "FirstName": "Gail",
                                    "LastName": "Erickson",
                                    "ContactType": "Employee"
                                },
                                {
                                    "FirstName": "Garrett",
                                    "LastName": "Vargas",
                                    "ContactType": "Employee"
                                },
                                {
                                    "FirstName": "Garrett",
                                    "LastName": "Young",
                                    "ContactType": "Employee"
                                },
                                {
                                    "FirstName": "Gary",
                                    "LastName": "Altman",
                                    "ContactType": "Employee"
                                },
                                {
                                    "FirstName": "Gary",
                                    "LastName": "Yukish",
                                    "ContactType": "Employee"
                                },
                                {
                                    "FirstName": "George",
                                    "LastName": "Li",
                                    "ContactType": "Employee"
                                },
                                {
                                    "FirstName": "Gigi",
                                    "LastName": "Matthew",
                                    "ContactType": "Employee"
                                },
                                {
                                    "FirstName": "Gordon",
                                    "LastName": "Hee",
                                    "ContactType": "Employee"
                                },
                                {
                                    "FirstName": "Grant",
                                    "LastName": "Culbertson",
                                    "ContactType": "Employee"
                                },
                                {
                                    "FirstName": "Greg",
                                    "LastName": "Alderson",
                                    "ContactType": "Employee"
                                },
                                {
                                    "FirstName": "Guy",
                                    "LastName": "Gilbert",
                                    "ContactType": "Employee"
                                },
                                {
                                    "FirstName": "Hanying",
                                    "LastName": "Feng",
                                    "ContactType": "Employee"
                                },
                                {
                                    "FirstName": "Hao",
                                    "LastName": "Chen",
                                    "ContactType": "Employee"
                                },
                                {
                                    "FirstName": "Hazem",
                                    "LastName": "Abolrous",
                                    "ContactType": "Employee"
                                },
                                {
                                    "FirstName": "Houman",
                                    "LastName": "Pournasseh",
                                    "ContactType": "Employee"
                                },
                                {
                                    "FirstName": "Hung-Fu",
                                    "LastName": "Ting",
                                    "ContactType": "Employee"
                                },
                                {
                                    "FirstName": "Ivo",
                                    "LastName": "Salmre",
                                    "ContactType": "Employee"
                                },
                                {
                                    "FirstName": "Jack",
                                    "LastName": "Creasey",
                                    "ContactType": "Employee"
                                },
                                {
                                    "FirstName": "Jack",
                                    "LastName": "Richins",
                                    "ContactType": "Employee"
                                },
                                {
                                    "FirstName": "Jae",
                                    "LastName": "Pak",
                                    "ContactType": "Employee"
                                },
                                {
                                    "FirstName": "James",
                                    "LastName": "Hamilton",
                                    "ContactType": "Employee"
                                },
                                {
                                    "FirstName": "James",
                                    "LastName": "Kramer",
                                    "ContactType": "Employee"
                                },
                                {
                                    "FirstName": "Jan",
                                    "LastName": "Miksovsky",
                                    "ContactType": "Employee"
                                },
                                {
                                    "FirstName": "Janaina",
                                    "LastName": "Bueno",
                                    "ContactType": "Employee"
                                },
                                {
                                    "FirstName": "Janet",
                                    "LastName": "Sheperdigian",
                                    "ContactType": "Employee"
                                },
                                {
                                    "FirstName": "Janeth",
                                    "LastName": "Esteves",
                                    "ContactType": "Employee"
                                },
                                {
                                    "FirstName": "Janice",
                                    "LastName": "Galvin",
                                    "ContactType": "Employee"
                                },
                                {
                                    "FirstName": "Jason",
                                    "LastName": "Watters",
                                    "ContactType": "Employee"
                                },
                                {
                                    "FirstName": "Jay",
                                    "LastName": "Adams",
                                    "ContactType": "Employee"
                                },
                                {
                                    "FirstName": "Jean",
                                    "LastName": "Trenary",
                                    "ContactType": "Employee"
                                },
                                {
                                    "FirstName": "Jeff",
                                    "LastName": "Hay",
                                    "ContactType": "Employee"
                                },
                                {
                                    "FirstName": "Jeffrey",
                                    "LastName": "Ford",
                                    "ContactType": "Employee"
                                },
                                {
                                    "FirstName": "Jian Shuo",
                                    "LastName": "Wang",
                                    "ContactType": "Employee"
                                },
                                {
                                    "FirstName": "Jill",
                                    "LastName": "Williams",
                                    "ContactType": "Employee"
                                },
                                {
                                    "FirstName": "Jillian",
                                    "LastName": "Carson",
                                    "ContactType": "Employee"
                                },
                                {
                                    "FirstName": "Jim",
                                    "LastName": "Scardelis",
                                    "ContactType": "Employee"
                                },
                                {
                                    "FirstName": "Jimmy",
                                    "LastName": "Bischoff",
                                    "ContactType": "Employee"
                                },
                                {
                                    "FirstName": "Jinghao",
                                    "LastName": "Liu",
                                    "ContactType": "Employee"
                                },
                                {
                                    "FirstName": "Jo",
                                    "LastName": "Berry",
                                    "ContactType": "Employee"
                                },
                                {
                                    "FirstName": "Jo",
                                    "LastName": "Brown",
                                    "ContactType": "Employee"
                                },
                                {
                                    "FirstName": "John",
                                    "LastName": "Campbell",
                                    "ContactType": "Employee"
                                },
                                {
                                    "FirstName": "John",
                                    "LastName": "Chen",
                                    "ContactType": "Employee"
                                },
                                {
                                    "FirstName": "John",
                                    "LastName": "Evans",
                                    "ContactType": "Employee"
                                },
                                {
                                    "FirstName": "John",
                                    "LastName": "Frum",
                                    "ContactType": "Employee"
                                },
                                {
                                    "FirstName": "John",
                                    "LastName": "Kane",
                                    "ContactType": "Employee"
                                },
                                {
                                    "FirstName": "John",
                                    "LastName": "Wood",
                                    "ContactType": "Employee"
                                },
                                {
                                    "FirstName": "JoLynn",
                                    "LastName": "Dobney",
                                    "ContactType": "Employee"
                                },
                                {
                                    "FirstName": "Jose",
                                    "LastName": "Lugo",
                                    "ContactType": "Employee"
                                },
                                {
                                    "FirstName": "José",
                                    "LastName": "Saraiva",
                                    "ContactType": "Employee"
                                },
                                {
                                    "FirstName": "Jossef",
                                    "LastName": "Goldberg",
                                    "ContactType": "Employee"
                                },
                                {
                                    "FirstName": "Jun",
                                    "LastName": "Cao",
                                    "ContactType": "Employee"
                                },
                                {
                                    "FirstName": "Karan",
                                    "LastName": "Khanna",
                                    "ContactType": "Employee"
                                },
                                {
                                    "FirstName": "Karen",
                                    "LastName": "Berg",
                                    "ContactType": "Employee"
                                },
                                {
                                    "FirstName": "Karen",
                                    "LastName": "Berge",
                                    "ContactType": "Employee"
                                },
                                {
                                    "FirstName": "Kathie",
                                    "LastName": "Flood",
                                    "ContactType": "Employee"
                                },
                                {
                                    "FirstName": "Katie",
                                    "LastName": "McAskill-White",
                                    "ContactType": "Employee"
                                },
                                {
                                    "FirstName": "Ken",
                                    "LastName": "Myer",
                                    "ContactType": "Employee"
                                },
                                {
                                    "FirstName": "Ken",
                                    "LastName": "Sánchez",
                                    "ContactType": "Employee"
                                },
                                {
                                    "FirstName": "Kendall",
                                    "LastName": "Keil",
                                    "ContactType": "Employee"
                                },
                                {
                                    "FirstName": "Kevin",
                                    "LastName": "Brown",
                                    "ContactType": "Employee"
                                },
                                {
                                    "FirstName": "Kevin",
                                    "LastName": "Homer",
                                    "ContactType": "Employee"
                                },
                                {
                                    "FirstName": "Kevin",
                                    "LastName": "Liu",
                                    "ContactType": "Employee"
                                },
                                {
                                    "FirstName": "Kim",
                                    "LastName": "Abercrombie",
                                    "ContactType": "Employee"
                                },
                                {
                                    "FirstName": "Kim",
                                    "LastName": "Ralls",
                                    "ContactType": "Employee"
                                },
                                {
                                    "FirstName": "Kimberly",
                                    "LastName": "Zimmerman",
                                    "ContactType": "Employee"
                                },
                                {
                                    "FirstName": "Kirk",
                                    "LastName": "Koenigsbauer",
                                    "ContactType": "Employee"
                                },
                                {
                                    "FirstName": "Kitti",
                                    "LastName": "Lertpiriyasuwat",
                                    "ContactType": "Employee"
                                },
                                {
                                    "FirstName": "Kok-Ho",
                                    "LastName": "Loh",
                                    "ContactType": "Employee"
                                },
                                {
                                    "FirstName": "Krishna",
                                    "LastName": "Sunkammurali",
                                    "ContactType": "Employee"
                                },
                                {
                                    "FirstName": "Lane",
                                    "LastName": "Sacksteder",
                                    "ContactType": "Employee"
                                },
                                {
                                    "FirstName": "Laura",
                                    "LastName": "Norman",
                                    "ContactType": "Employee"
                                },
                                {
                                    "FirstName": "Laura",
                                    "LastName": "Steele",
                                    "ContactType": "Employee"
                                },
                                {
                                    "FirstName": "Linda",
                                    "LastName": "Meisner",
                                    "ContactType": "Employee"
                                },
                                {
                                    "FirstName": "Linda",
                                    "LastName": "Mitchell",
                                    "ContactType": "Employee"
                                },
                                {
                                    "FirstName": "Linda",
                                    "LastName": "Moschell",
                                    "ContactType": "Employee"
                                },
                                {
                                    "FirstName": "Linda",
                                    "LastName": "Randall",
                                    "ContactType": "Employee"
                                },
                                {
                                    "FirstName": "Lionel",
                                    "LastName": "Penuchot",
                                    "ContactType": "Employee"
                                },
                                {
                                    "FirstName": "Lolan",
                                    "LastName": "Song",
                                    "ContactType": "Employee"
                                },
                                {
                                    "FirstName": "Lori",
                                    "LastName": "Kane",
                                    "ContactType": "Employee"
                                },
                                {
                                    "FirstName": "Lori",
                                    "LastName": "Penor",
                                    "ContactType": "Employee"
                                },
                                {
                                    "FirstName": "Lorraine",
                                    "LastName": "Nay",
                                    "ContactType": "Employee"
                                },
                                {
                                    "FirstName": "Lynn",
                                    "LastName": "Tsoflias",
                                    "ContactType": "Employee"
                                },
                                {
                                    "FirstName": "Maciej",
                                    "LastName": "Dusza",
                                    "ContactType": "Employee"
                                },
                                {
                                    "FirstName": "Magnus",
                                    "LastName": "Hedlund",
                                    "ContactType": "Employee"
                                },
                                {
                                    "FirstName": "Mandar",
                                    "LastName": "Samant",
                                    "ContactType": "Employee"
                                },
                                {
                                    "FirstName": "Marc",
                                    "LastName": "Ingle",
                                    "ContactType": "Employee"
                                },
                                {
                                    "FirstName": "Margie",
                                    "LastName": "Shoop",
                                    "ContactType": "Employee"
                                },
                                {
                                    "FirstName": "Mark",
                                    "LastName": "Harrington",
                                    "ContactType": "Employee"
                                },
                                {
                                    "FirstName": "Mark",
                                    "LastName": "McArthur",
                                    "ContactType": "Employee"
                                },
                                {
                                    "FirstName": "Mary",
                                    "LastName": "Baker",
                                    "ContactType": "Employee"
                                },
                                {
                                    "FirstName": "Mary",
                                    "LastName": "Dempsey",
                                    "ContactType": "Employee"
                                },
                                {
                                    "FirstName": "Mary",
                                    "LastName": "Gibson",
                                    "ContactType": "Employee"
                                },
                                {
                                    "FirstName": "Matthias",
                                    "LastName": "Berndt",
                                    "ContactType": "Employee"
                                },
                                {
                                    "FirstName": "Merav",
                                    "LastName": "Netz",
                                    "ContactType": "Employee"
                                },
                                {
                                    "FirstName": "Michael",
                                    "LastName": "Blythe",
                                    "ContactType": "Employee"
                                },
                                {
                                    "FirstName": "Michael",
                                    "LastName": "Entin",
                                    "ContactType": "Employee"
                                },
                                {
                                    "FirstName": "Michael",
                                    "LastName": "Hines",
                                    "ContactType": "Employee"
                                },
                                {
                                    "FirstName": "Michael",
                                    "LastName": "Patten",
                                    "ContactType": "Employee"
                                },
                                {
                                    "FirstName": "Michael",
                                    "LastName": "Raheem",
                                    "ContactType": "Employee"
                                },
                                {
                                    "FirstName": "Michael",
                                    "LastName": "Ray",
                                    "ContactType": "Employee"
                                },
                                {
                                    "FirstName": "Michael",
                                    "LastName": "Rothkugel",
                                    "ContactType": "Employee"
                                },
                                {
                                    "FirstName": "Michael",
                                    "LastName": "Sullivan",
                                    "ContactType": "Employee"
                                },
                                {
                                    "FirstName": "Michael",
                                    "LastName": "Vanderhyde",
                                    "ContactType": "Employee"
                                },
                                {
                                    "FirstName": "Michael",
                                    "LastName": "Zwilling",
                                    "ContactType": "Employee"
                                },
                                {
                                    "FirstName": "Michiko",
                                    "LastName": "Osada",
                                    "ContactType": "Employee"
                                },
                                {
                                    "FirstName": "Mihail",
                                    "LastName": "Frintu",
                                    "ContactType": "Employee"
                                },
                                {
                                    "FirstName": "Mikael",
                                    "LastName": "Sandberg",
                                    "ContactType": "Employee"
                                },
                                {
                                    "FirstName": "Mike",
                                    "LastName": "Seamans",
                                    "ContactType": "Employee"
                                },
                                {
                                    "FirstName": "Min",
                                    "LastName": "Su",
                                    "ContactType": "Employee"
                                },
                                {
                                    "FirstName": "Mindaugas",
                                    "LastName": "Krapauskas",
                                    "ContactType": "Employee"
                                },
                                {
                                    "FirstName": "Mindy",
                                    "LastName": "Martin",
                                    "ContactType": "Employee"
                                },
                                {
                                    "FirstName": "Nancy",
                                    "LastName": "Anderson",
                                    "ContactType": "Employee"
                                },
                                {
                                    "FirstName": "Nicole",
                                    "LastName": "Holliday",
                                    "ContactType": "Employee"
                                },
                                {
                                    "FirstName": "Nitin",
                                    "LastName": "Mirchandani",
                                    "ContactType": "Employee"
                                },
                                {
                                    "FirstName": "Nuan",
                                    "LastName": "Yu",
                                    "ContactType": "Employee"
                                },
                                {
                                    "FirstName": "Olinda",
                                    "LastName": "Turner",
                                    "ContactType": "Employee"
                                },
                                {
                                    "FirstName": "Ovidiu",
                                    "LastName": "Cracium",
                                    "ContactType": "Employee"
                                },
                                {
                                    "FirstName": "Pamela",
                                    "LastName": "Ansman-Wolfe",
                                    "ContactType": "Employee"
                                },
                                {
                                    "FirstName": "Pat",
                                    "LastName": "Coleman",
                                    "ContactType": "Employee"
                                },
                                {
                                    "FirstName": "Patrick",
                                    "LastName": "Cook",
                                    "ContactType": "Employee"
                                },
                                {
                                    "FirstName": "Patrick",
                                    "LastName": "Wedge",
                                    "ContactType": "Employee"
                                },
                                {
                                    "FirstName": "Paul",
                                    "LastName": "Komosinski",
                                    "ContactType": "Employee"
                                },
                                {
                                    "FirstName": "Paul",
                                    "LastName": "Singh",
                                    "ContactType": "Employee"
                                },
                                {
                                    "FirstName": "Paula",
                                    "LastName": "Barreto de Mattos",
                                    "ContactType": "Employee"
                                },
                                {
                                    "FirstName": "Paula",
                                    "LastName": "Nartker",
                                    "ContactType": "Employee"
                                },
                                {
                                    "FirstName": "Peng",
                                    "LastName": "Wu",
                                    "ContactType": "Employee"
                                },
                                {
                                    "FirstName": "Pete",
                                    "LastName": "Male",
                                    "ContactType": "Employee"
                                },
                                {
                                    "FirstName": "Peter",
                                    "LastName": "Connelly",
                                    "ContactType": "Employee"
                                },
                                {
                                    "FirstName": "Peter",
                                    "LastName": "Krebs",
                                    "ContactType": "Employee"
                                },
                                {
                                    "FirstName": "Pilar",
                                    "LastName": "Ackerman",
                                    "ContactType": "Employee"
                                },
                                {
                                    "FirstName": "Prasanna",
                                    "LastName": "Samarawickrama",
                                    "ContactType": "Employee"
                                },
                                {
                                    "FirstName": "Rachel",
                                    "LastName": "Valdez",
                                    "ContactType": "Employee"
                                },
                                {
                                    "FirstName": "Rajesh",
                                    "LastName": "Patel",
                                    "ContactType": "Employee"
                                },
                                {
                                    "FirstName": "Ramesh",
                                    "LastName": "Meyyappan",
                                    "ContactType": "Employee"
                                },
                                {
                                    "FirstName": "Randy",
                                    "LastName": "Reeves",
                                    "ContactType": "Employee"
                                },
                                {
                                    "FirstName": "Ranjit",
                                    "LastName": "Varkey Chudukatil",
                                    "ContactType": "Employee"
                                },
                                {
                                    "FirstName": "Raymond",
                                    "LastName": "Sam",
                                    "ContactType": "Employee"
                                },
                                {
                                    "FirstName": "Rebecca",
                                    "LastName": "Laszlo",
                                    "ContactType": "Employee"
                                },
                                {
                                    "FirstName": "Reed",
                                    "LastName": "Koch",
                                    "ContactType": "Employee"
                                },
                                {
                                    "FirstName": "Reinout",
                                    "LastName": "Hillmann",
                                    "ContactType": "Employee"
                                },
                                {
                                    "FirstName": "Reuben",
                                    "LastName": "D'sa",
                                    "ContactType": "Employee"
                                },
                                {
                                    "FirstName": "Rob",
                                    "LastName": "Caron",
                                    "ContactType": "Employee"
                                },
                                {
                                    "FirstName": "Rob",
                                    "LastName": "Walters",
                                    "ContactType": "Employee"
                                },
                                {
                                    "FirstName": "Robert",
                                    "LastName": "Rounthwaite",
                                    "ContactType": "Employee"
                                },
                                {
                                    "FirstName": "Roberto",
                                    "LastName": "Tamburello",
                                    "ContactType": "Employee"
                                },
                                {
                                    "FirstName": "Rostislav",
                                    "LastName": "Shabalin",
                                    "ContactType": "Employee"
                                },
                                {
                                    "FirstName": "Russell",
                                    "LastName": "Hunter",
                                    "ContactType": "Employee"
                                },
                                {
                                    "FirstName": "Russell",
                                    "LastName": "King",
                                    "ContactType": "Employee"
                                },
                                {
                                    "FirstName": "Ruth",
                                    "LastName": "Ellerbrock",
                                    "ContactType": "Employee"
                                },
                                {
                                    "FirstName": "Ryan",
                                    "LastName": "Cornelsen",
                                    "ContactType": "Employee"
                                },
                                {
                                    "FirstName": "Sairaj",
                                    "LastName": "Uddin",
                                    "ContactType": "Employee"
                                },
                                {
                                    "FirstName": "Samantha",
                                    "LastName": "Smith",
                                    "ContactType": "Employee"
                                },
                                {
                                    "FirstName": "Sameer",
                                    "LastName": "Tejani",
                                    "ContactType": "Employee"
                                },
                                {
                                    "FirstName": "Sandeep",
                                    "LastName": "Kaliyath",
                                    "ContactType": "Employee"
                                },
                                {
                                    "FirstName": "Sandra",
                                    "LastName": "Reátegui Alayo",
                                    "ContactType": "Employee"
                                },
                                {
                                    "FirstName": "Sariya",
                                    "LastName": "Harnpadoungsataya",
                                    "ContactType": "Employee"
                                },
                                {
                                    "FirstName": "Scott",
                                    "LastName": "Gode",
                                    "ContactType": "Employee"
                                },
                                {
                                    "FirstName": "Sean",
                                    "LastName": "Alexander",
                                    "ContactType": "Employee"
                                },
                                {
                                    "FirstName": "Sean",
                                    "LastName": "Chai",
                                    "ContactType": "Employee"
                                },
                                {
                                    "FirstName": "Shammi",
                                    "LastName": "Mohamed",
                                    "ContactType": "Employee"
                                },
                                {
                                    "FirstName": "Shane",
                                    "LastName": "Kim",
                                    "ContactType": "Employee"
                                },
                                {
                                    "FirstName": "Sharon",
                                    "LastName": "Salavaria",
                                    "ContactType": "Employee"
                                },
                                {
                                    "FirstName": "Sheela",
                                    "LastName": "Word",
                                    "ContactType": "Employee"
                                },
                                {
                                    "FirstName": "Shelley",
                                    "LastName": "Dyck",
                                    "ContactType": "Employee"
                                },
                                {
                                    "FirstName": "Shu",
                                    "LastName": "Ito",
                                    "ContactType": "Employee"
                                },
                                {
                                    "FirstName": "Sidney",
                                    "LastName": "Higa",
                                    "ContactType": "Employee"
                                },
                                {
                                    "FirstName": "Simon",
                                    "LastName": "Rapier",
                                    "ContactType": "Employee"
                                },
                                {
                                    "FirstName": "Sootha",
                                    "LastName": "Charncherngkha",
                                    "ContactType": "Employee"
                                },
                                {
                                    "FirstName": "Stefen",
                                    "LastName": "Hesse",
                                    "ContactType": "Employee"
                                },
                                {
                                    "FirstName": "Stephanie",
                                    "LastName": "Conroy",
                                    "ContactType": "Employee"
                                },
                                {
                                    "FirstName": "Stephen",
                                    "LastName": "Jiang",
                                    "ContactType": "Employee"
                                },
                                {
                                    "FirstName": "Steve",
                                    "LastName": "Masters",
                                    "ContactType": "Employee"
                                },
                                {
                                    "FirstName": "Steven",
                                    "LastName": "Selikoff",
                                    "ContactType": "Employee"
                                },
                                {
                                    "FirstName": "Stuart",
                                    "LastName": "Macrae",
                                    "ContactType": "Employee"
                                },
                                {
                                    "FirstName": "Stuart",
                                    "LastName": "Munson",
                                    "ContactType": "Employee"
                                },
                                {
                                    "FirstName": "Suchitra",
                                    "LastName": "Mohan",
                                    "ContactType": "Employee"
                                },
                                {
                                    "FirstName": "Suroor",
                                    "LastName": "Fatima",
                                    "ContactType": "Employee"
                                },
                                {
                                    "FirstName": "Susan",
                                    "LastName": "Eaton",
                                    "ContactType": "Employee"
                                },
                                {
                                    "FirstName": "Susan",
                                    "LastName": "Metters",
                                    "ContactType": "Employee"
                                },
                                {
                                    "FirstName": "Syed",
                                    "LastName": "Abbas",
                                    "ContactType": "Employee"
                                },
                                {
                                    "FirstName": "Sylvester",
                                    "LastName": "Valdez",
                                    "ContactType": "Employee"
                                },
                                {
                                    "FirstName": "Tawana",
                                    "LastName": "Nusbaum",
                                    "ContactType": "Employee"
                                },
                                {
                                    "FirstName": "Taylor",
                                    "LastName": "Maxwell",
                                    "ContactType": "Employee"
                                },
                                {
                                    "FirstName": "Tengiz",
                                    "LastName": "Kharatishvili",
                                    "ContactType": "Employee"
                                },
                                {
                                    "FirstName": "Terrence",
                                    "LastName": "Earls",
                                    "ContactType": "Employee"
                                },
                                {
                                    "FirstName": "Terri",
                                    "LastName": "Duffy",
                                    "ContactType": "Employee"
                                },
                                {
                                    "FirstName": "Terry",
                                    "LastName": "Eminhizer",
                                    "ContactType": "Employee"
                                },
                                {
                                    "FirstName": "Tete",
                                    "LastName": "Mensa-Annan",
                                    "ContactType": "Employee"
                                },
                                {
                                    "FirstName": "Thierry",
                                    "LastName": "D'Hers",
                                    "ContactType": "Employee"
                                },
                                {
                                    "FirstName": "Thomas",
                                    "LastName": "Michaels",
                                    "ContactType": "Employee"
                                },
                                {
                                    "FirstName": "Tom",
                                    "LastName": "Vande Velde",
                                    "ContactType": "Employee"
                                },
                                {
                                    "FirstName": "Tsvi",
                                    "LastName": "Reiter",
                                    "ContactType": "Employee"
                                },
                                {
                                    "FirstName": "Vamsi",
                                    "LastName": "Kuppa",
                                    "ContactType": "Employee"
                                },
                                {
                                    "FirstName": "Vidur",
                                    "LastName": "Luthra",
                                    "ContactType": "Employee"
                                },
                                {
                                    "FirstName": "Wanida",
                                    "LastName": "Benshoof",
                                    "ContactType": "Employee"
                                },
                                {
                                    "FirstName": "Wendy",
                                    "LastName": "Kahn",
                                    "ContactType": "Employee"
                                },
                                {
                                    "FirstName": "William",
                                    "LastName": "Vong",
                                    "ContactType": "Employee"
                                },
                                {
                                    "FirstName": "Willis",
                                    "LastName": "Johnson",
                                    "ContactType": "Employee"
                                },
                                {
                                    "FirstName": "Yuhong",
                                    "LastName": "Li",
                                    "ContactType": "Employee"
                                },
                                {
                                    "FirstName": "Yvonne",
                                    "LastName": "McKay",
                                    "ContactType": "Employee"
                                },
                                {
                                    "FirstName": "Zainal",
                                    "LastName": "Arifin",
                                    "ContactType": "Employee"
                                },
                                {
                                    "FirstName": "Zheng",
                                    "LastName": "Mu",
                                    "ContactType": "Employee"
                                }
                            ]
                        },
                        "text/html": [
                            "<table>",
                            "<tr><th>FirstName</th><th>LastName</th><th>ContactType</th></tr>",
                            "<tr><td>A. Scott</td><td>Wright</td><td>Employee</td></tr>",
                            "<tr><td>Alan</td><td>Brewer</td><td>Employee</td></tr>",
                            "<tr><td>Alejandro</td><td>McGuel</td><td>Employee</td></tr>",
                            "<tr><td>Alex</td><td>Nayberg</td><td>Employee</td></tr>",
                            "<tr><td>Alice</td><td>Ciccu</td><td>Employee</td></tr>",
                            "<tr><td>Amy</td><td>Alberts</td><td>Employee</td></tr>",
                            "<tr><td>Andreas</td><td>Berglund</td><td>Employee</td></tr>",
                            "<tr><td>Andrew</td><td>Cencini</td><td>Employee</td></tr>",
                            "<tr><td>Andrew</td><td>Hill</td><td>Employee</td></tr>",
                            "<tr><td>Andy</td><td>Ruth</td><td>Employee</td></tr>",
                            "<tr><td>Angela</td><td>Barbariol</td><td>Employee</td></tr>",
                            "<tr><td>Anibal</td><td>Sousa</td><td>Employee</td></tr>",
                            "<tr><td>Annette</td><td>Hill</td><td>Employee</td></tr>",
                            "<tr><td>Annik</td><td>Stahl</td><td>Employee</td></tr>",
                            "<tr><td>Arvind</td><td>Rao</td><td>Employee</td></tr>",
                            "<tr><td>Ashvini</td><td>Sharma</td><td>Employee</td></tr>",
                            "<tr><td>Barbara</td><td>Decker</td><td>Employee</td></tr>",
                            "<tr><td>Barbara</td><td>Moreland</td><td>Employee</td></tr>",
                            "<tr><td>Baris</td><td>Cetinok</td><td>Employee</td></tr>",
                            "<tr><td>Barry</td><td>Johnson</td><td>Employee</td></tr>",
                            "<tr><td>Belinda</td><td>Newman</td><td>Employee</td></tr>",
                            "<tr><td>Ben</td><td>Miller</td><td>Employee</td></tr>",
                            "<tr><td>Benjamin</td><td>Martin</td><td>Employee</td></tr>",
                            "<tr><td>Betsy</td><td>Stadick</td><td>Employee</td></tr>",
                            "<tr><td>Bjorn</td><td>Rettig</td><td>Employee</td></tr>",
                            "<tr><td>Bob</td><td>Hohman</td><td>Employee</td></tr>",
                            "<tr><td>Bonnie</td><td>Kearney</td><td>Employee</td></tr>",
                            "<tr><td>Brandon</td><td>Heidepriem</td><td>Employee</td></tr>",
                            "<tr><td>Brenda</td><td>Diaz</td><td>Employee</td></tr>",
                            "<tr><td>Brian</td><td>Goldstein</td><td>Employee</td></tr>",
                            "<tr><td>Brian</td><td>LaMee</td><td>Employee</td></tr>",
                            "<tr><td>Brian</td><td>Lloyd</td><td>Employee</td></tr>",
                            "<tr><td>Brian</td><td>Welcker</td><td>Employee</td></tr>",
                            "<tr><td>Britta</td><td>Simon</td><td>Employee</td></tr>",
                            "<tr><td>Bryan</td><td>Baker</td><td>Employee</td></tr>",
                            "<tr><td>Bryan</td><td>Walton</td><td>Employee</td></tr>",
                            "<tr><td>Candy</td><td>Spoon</td><td>Employee</td></tr>",
                            "<tr><td>Carol</td><td>Philips</td><td>Employee</td></tr>",
                            "<tr><td>Carole</td><td>Poland</td><td>Employee</td></tr>",
                            "<tr><td>Chad</td><td>Niswonger</td><td>Employee</td></tr>",
                            "<tr><td>Charles</td><td>Fitzgerald</td><td>Employee</td></tr>",
                            "<tr><td>Chris</td><td>Norred</td><td>Employee</td></tr>",
                            "<tr><td>Chris</td><td>Okelberry</td><td>Employee</td></tr>",
                            "<tr><td>Chris</td><td>Preston</td><td>Employee</td></tr>",
                            "<tr><td>Christian</td><td>Kleinerman</td><td>Employee</td></tr>",
                            "<tr><td>Christopher</td><td>Hill</td><td>Employee</td></tr>",
                            "<tr><td>Cristian</td><td>Petculescu</td><td>Employee</td></tr>",
                            "<tr><td>Cynthia</td><td>Randall</td><td>Employee</td></tr>",
                            "<tr><td>Dan</td><td>Bacon</td><td>Employee</td></tr>",
                            "<tr><td>Dan</td><td>Wilson</td><td>Employee</td></tr>",
                            "<tr><td>Danielle</td><td>Tiedt</td><td>Employee</td></tr>",
                            "<tr><td>David</td><td>Barber</td><td>Employee</td></tr>",
                            "<tr><td>David</td><td>Bradley</td><td>Employee</td></tr>",
                            "<tr><td>David</td><td>Campbell</td><td>Employee</td></tr>",
                            "<tr><td>David</td><td>Hamilton</td><td>Employee</td></tr>",
                            "<tr><td>David</td><td>Johnson</td><td>Employee</td></tr>",
                            "<tr><td>David</td><td>Lawrence</td><td>Employee</td></tr>",
                            "<tr><td>David</td><td>Liu</td><td>Employee</td></tr>",
                            "<tr><td>David</td><td>Ortiz</td><td>Employee</td></tr>",
                            "<tr><td>David</td><td>Yalovsky</td><td>Employee</td></tr>",
                            "<tr><td>Deborah</td><td>Poe</td><td>Employee</td></tr>",
                            "<tr><td>Denise</td><td>Smith</td><td>Employee</td></tr>",
                            "<tr><td>Diane</td><td>Glimp</td><td>Employee</td></tr>",
                            "<tr><td>Diane</td><td>Margheim</td><td>Employee</td></tr>",
                            "<tr><td>Diane</td><td>Tibbott</td><td>Employee</td></tr>",
                            "<tr><td>Don</td><td>Hall</td><td>Employee</td></tr>",
                            "<tr><td>Doris</td><td>Hartwig</td><td>Employee</td></tr>",
                            "<tr><td>Douglas</td><td>Hite</td><td>Employee</td></tr>",
                            "<tr><td>Dragan</td><td>Tomic</td><td>Employee</td></tr>",
                            "<tr><td>Dylan</td><td>Miller</td><td>Employee</td></tr>",
                            "<tr><td>Ebru</td><td>Ersan</td><td>Employee</td></tr>",
                            "<tr><td>Ed</td><td>Dudenhoefer</td><td>Employee</td></tr>",
                            "<tr><td>Elizabeth</td><td>Keyser</td><td>Employee</td></tr>",
                            "<tr><td>Eric</td><td>Brown</td><td>Employee</td></tr>",
                            "<tr><td>Eric</td><td>Gubbels</td><td>Employee</td></tr>",
                            "<tr><td>Eric</td><td>Kurjan</td><td>Employee</td></tr>",
                            "<tr><td>Erin</td><td>Hagens</td><td>Employee</td></tr>",
                            "<tr><td>Eugene</td><td>Kogan</td><td>Employee</td></tr>",
                            "<tr><td>Eugene</td><td>Zabokritski</td><td>Employee</td></tr>",
                            "<tr><td>Fadi</td><td>Fakhouri</td><td>Employee</td></tr>",
                            "<tr><td>François</td><td>Ajenstat</td><td>Employee</td></tr>",
                            "<tr><td>Frank</td><td>Lee</td><td>Employee</td></tr>",
                            "<tr><td>Frank</td><td>Martinez</td><td>Employee</td></tr>",
                            "<tr><td>Frank</td><td>Miller</td><td>Employee</td></tr>",
                            "<tr><td>Frank</td><td>Pellow</td><td>Employee</td></tr>",
                            "<tr><td>Fred</td><td>Northup</td><td>Employee</td></tr>",
                            "<tr><td>Fukiko</td><td>Ogisu</td><td>Employee</td></tr>",
                            "<tr><td>Gabe</td><td>Mares</td><td>Employee</td></tr>",
                            "<tr><td>Gail</td><td>Erickson</td><td>Employee</td></tr>",
                            "<tr><td>Garrett</td><td>Vargas</td><td>Employee</td></tr>",
                            "<tr><td>Garrett</td><td>Young</td><td>Employee</td></tr>",
                            "<tr><td>Gary</td><td>Altman</td><td>Employee</td></tr>",
                            "<tr><td>Gary</td><td>Yukish</td><td>Employee</td></tr>",
                            "<tr><td>George</td><td>Li</td><td>Employee</td></tr>",
                            "<tr><td>Gigi</td><td>Matthew</td><td>Employee</td></tr>",
                            "<tr><td>Gordon</td><td>Hee</td><td>Employee</td></tr>",
                            "<tr><td>Grant</td><td>Culbertson</td><td>Employee</td></tr>",
                            "<tr><td>Greg</td><td>Alderson</td><td>Employee</td></tr>",
                            "<tr><td>Guy</td><td>Gilbert</td><td>Employee</td></tr>",
                            "<tr><td>Hanying</td><td>Feng</td><td>Employee</td></tr>",
                            "<tr><td>Hao</td><td>Chen</td><td>Employee</td></tr>",
                            "<tr><td>Hazem</td><td>Abolrous</td><td>Employee</td></tr>",
                            "<tr><td>Houman</td><td>Pournasseh</td><td>Employee</td></tr>",
                            "<tr><td>Hung-Fu</td><td>Ting</td><td>Employee</td></tr>",
                            "<tr><td>Ivo</td><td>Salmre</td><td>Employee</td></tr>",
                            "<tr><td>Jack</td><td>Creasey</td><td>Employee</td></tr>",
                            "<tr><td>Jack</td><td>Richins</td><td>Employee</td></tr>",
                            "<tr><td>Jae</td><td>Pak</td><td>Employee</td></tr>",
                            "<tr><td>James</td><td>Hamilton</td><td>Employee</td></tr>",
                            "<tr><td>James</td><td>Kramer</td><td>Employee</td></tr>",
                            "<tr><td>Jan</td><td>Miksovsky</td><td>Employee</td></tr>",
                            "<tr><td>Janaina</td><td>Bueno</td><td>Employee</td></tr>",
                            "<tr><td>Janet</td><td>Sheperdigian</td><td>Employee</td></tr>",
                            "<tr><td>Janeth</td><td>Esteves</td><td>Employee</td></tr>",
                            "<tr><td>Janice</td><td>Galvin</td><td>Employee</td></tr>",
                            "<tr><td>Jason</td><td>Watters</td><td>Employee</td></tr>",
                            "<tr><td>Jay</td><td>Adams</td><td>Employee</td></tr>",
                            "<tr><td>Jean</td><td>Trenary</td><td>Employee</td></tr>",
                            "<tr><td>Jeff</td><td>Hay</td><td>Employee</td></tr>",
                            "<tr><td>Jeffrey</td><td>Ford</td><td>Employee</td></tr>",
                            "<tr><td>Jian Shuo</td><td>Wang</td><td>Employee</td></tr>",
                            "<tr><td>Jill</td><td>Williams</td><td>Employee</td></tr>",
                            "<tr><td>Jillian</td><td>Carson</td><td>Employee</td></tr>",
                            "<tr><td>Jim</td><td>Scardelis</td><td>Employee</td></tr>",
                            "<tr><td>Jimmy</td><td>Bischoff</td><td>Employee</td></tr>",
                            "<tr><td>Jinghao</td><td>Liu</td><td>Employee</td></tr>",
                            "<tr><td>Jo</td><td>Berry</td><td>Employee</td></tr>",
                            "<tr><td>Jo</td><td>Brown</td><td>Employee</td></tr>",
                            "<tr><td>John</td><td>Campbell</td><td>Employee</td></tr>",
                            "<tr><td>John</td><td>Chen</td><td>Employee</td></tr>",
                            "<tr><td>John</td><td>Evans</td><td>Employee</td></tr>",
                            "<tr><td>John</td><td>Frum</td><td>Employee</td></tr>",
                            "<tr><td>John</td><td>Kane</td><td>Employee</td></tr>",
                            "<tr><td>John</td><td>Wood</td><td>Employee</td></tr>",
                            "<tr><td>JoLynn</td><td>Dobney</td><td>Employee</td></tr>",
                            "<tr><td>Jose</td><td>Lugo</td><td>Employee</td></tr>",
                            "<tr><td>José</td><td>Saraiva</td><td>Employee</td></tr>",
                            "<tr><td>Jossef</td><td>Goldberg</td><td>Employee</td></tr>",
                            "<tr><td>Jun</td><td>Cao</td><td>Employee</td></tr>",
                            "<tr><td>Karan</td><td>Khanna</td><td>Employee</td></tr>",
                            "<tr><td>Karen</td><td>Berg</td><td>Employee</td></tr>",
                            "<tr><td>Karen</td><td>Berge</td><td>Employee</td></tr>",
                            "<tr><td>Kathie</td><td>Flood</td><td>Employee</td></tr>",
                            "<tr><td>Katie</td><td>McAskill-White</td><td>Employee</td></tr>",
                            "<tr><td>Ken</td><td>Myer</td><td>Employee</td></tr>",
                            "<tr><td>Ken</td><td>Sánchez</td><td>Employee</td></tr>",
                            "<tr><td>Kendall</td><td>Keil</td><td>Employee</td></tr>",
                            "<tr><td>Kevin</td><td>Brown</td><td>Employee</td></tr>",
                            "<tr><td>Kevin</td><td>Homer</td><td>Employee</td></tr>",
                            "<tr><td>Kevin</td><td>Liu</td><td>Employee</td></tr>",
                            "<tr><td>Kim</td><td>Abercrombie</td><td>Employee</td></tr>",
                            "<tr><td>Kim</td><td>Ralls</td><td>Employee</td></tr>",
                            "<tr><td>Kimberly</td><td>Zimmerman</td><td>Employee</td></tr>",
                            "<tr><td>Kirk</td><td>Koenigsbauer</td><td>Employee</td></tr>",
                            "<tr><td>Kitti</td><td>Lertpiriyasuwat</td><td>Employee</td></tr>",
                            "<tr><td>Kok-Ho</td><td>Loh</td><td>Employee</td></tr>",
                            "<tr><td>Krishna</td><td>Sunkammurali</td><td>Employee</td></tr>",
                            "<tr><td>Lane</td><td>Sacksteder</td><td>Employee</td></tr>",
                            "<tr><td>Laura</td><td>Norman</td><td>Employee</td></tr>",
                            "<tr><td>Laura</td><td>Steele</td><td>Employee</td></tr>",
                            "<tr><td>Linda</td><td>Meisner</td><td>Employee</td></tr>",
                            "<tr><td>Linda</td><td>Mitchell</td><td>Employee</td></tr>",
                            "<tr><td>Linda</td><td>Moschell</td><td>Employee</td></tr>",
                            "<tr><td>Linda</td><td>Randall</td><td>Employee</td></tr>",
                            "<tr><td>Lionel</td><td>Penuchot</td><td>Employee</td></tr>",
                            "<tr><td>Lolan</td><td>Song</td><td>Employee</td></tr>",
                            "<tr><td>Lori</td><td>Kane</td><td>Employee</td></tr>",
                            "<tr><td>Lori</td><td>Penor</td><td>Employee</td></tr>",
                            "<tr><td>Lorraine</td><td>Nay</td><td>Employee</td></tr>",
                            "<tr><td>Lynn</td><td>Tsoflias</td><td>Employee</td></tr>",
                            "<tr><td>Maciej</td><td>Dusza</td><td>Employee</td></tr>",
                            "<tr><td>Magnus</td><td>Hedlund</td><td>Employee</td></tr>",
                            "<tr><td>Mandar</td><td>Samant</td><td>Employee</td></tr>",
                            "<tr><td>Marc</td><td>Ingle</td><td>Employee</td></tr>",
                            "<tr><td>Margie</td><td>Shoop</td><td>Employee</td></tr>",
                            "<tr><td>Mark</td><td>Harrington</td><td>Employee</td></tr>",
                            "<tr><td>Mark</td><td>McArthur</td><td>Employee</td></tr>",
                            "<tr><td>Mary</td><td>Baker</td><td>Employee</td></tr>",
                            "<tr><td>Mary</td><td>Dempsey</td><td>Employee</td></tr>",
                            "<tr><td>Mary</td><td>Gibson</td><td>Employee</td></tr>",
                            "<tr><td>Matthias</td><td>Berndt</td><td>Employee</td></tr>",
                            "<tr><td>Merav</td><td>Netz</td><td>Employee</td></tr>",
                            "<tr><td>Michael</td><td>Blythe</td><td>Employee</td></tr>",
                            "<tr><td>Michael</td><td>Entin</td><td>Employee</td></tr>",
                            "<tr><td>Michael</td><td>Hines</td><td>Employee</td></tr>",
                            "<tr><td>Michael</td><td>Patten</td><td>Employee</td></tr>",
                            "<tr><td>Michael</td><td>Raheem</td><td>Employee</td></tr>",
                            "<tr><td>Michael</td><td>Ray</td><td>Employee</td></tr>",
                            "<tr><td>Michael</td><td>Rothkugel</td><td>Employee</td></tr>",
                            "<tr><td>Michael</td><td>Sullivan</td><td>Employee</td></tr>",
                            "<tr><td>Michael</td><td>Vanderhyde</td><td>Employee</td></tr>",
                            "<tr><td>Michael</td><td>Zwilling</td><td>Employee</td></tr>",
                            "<tr><td>Michiko</td><td>Osada</td><td>Employee</td></tr>",
                            "<tr><td>Mihail</td><td>Frintu</td><td>Employee</td></tr>",
                            "<tr><td>Mikael</td><td>Sandberg</td><td>Employee</td></tr>",
                            "<tr><td>Mike</td><td>Seamans</td><td>Employee</td></tr>",
                            "<tr><td>Min</td><td>Su</td><td>Employee</td></tr>",
                            "<tr><td>Mindaugas</td><td>Krapauskas</td><td>Employee</td></tr>",
                            "<tr><td>Mindy</td><td>Martin</td><td>Employee</td></tr>",
                            "<tr><td>Nancy</td><td>Anderson</td><td>Employee</td></tr>",
                            "<tr><td>Nicole</td><td>Holliday</td><td>Employee</td></tr>",
                            "<tr><td>Nitin</td><td>Mirchandani</td><td>Employee</td></tr>",
                            "<tr><td>Nuan</td><td>Yu</td><td>Employee</td></tr>",
                            "<tr><td>Olinda</td><td>Turner</td><td>Employee</td></tr>",
                            "<tr><td>Ovidiu</td><td>Cracium</td><td>Employee</td></tr>",
                            "<tr><td>Pamela</td><td>Ansman-Wolfe</td><td>Employee</td></tr>",
                            "<tr><td>Pat</td><td>Coleman</td><td>Employee</td></tr>",
                            "<tr><td>Patrick</td><td>Cook</td><td>Employee</td></tr>",
                            "<tr><td>Patrick</td><td>Wedge</td><td>Employee</td></tr>",
                            "<tr><td>Paul</td><td>Komosinski</td><td>Employee</td></tr>",
                            "<tr><td>Paul</td><td>Singh</td><td>Employee</td></tr>",
                            "<tr><td>Paula</td><td>Barreto de Mattos</td><td>Employee</td></tr>",
                            "<tr><td>Paula</td><td>Nartker</td><td>Employee</td></tr>",
                            "<tr><td>Peng</td><td>Wu</td><td>Employee</td></tr>",
                            "<tr><td>Pete</td><td>Male</td><td>Employee</td></tr>",
                            "<tr><td>Peter</td><td>Connelly</td><td>Employee</td></tr>",
                            "<tr><td>Peter</td><td>Krebs</td><td>Employee</td></tr>",
                            "<tr><td>Pilar</td><td>Ackerman</td><td>Employee</td></tr>",
                            "<tr><td>Prasanna</td><td>Samarawickrama</td><td>Employee</td></tr>",
                            "<tr><td>Rachel</td><td>Valdez</td><td>Employee</td></tr>",
                            "<tr><td>Rajesh</td><td>Patel</td><td>Employee</td></tr>",
                            "<tr><td>Ramesh</td><td>Meyyappan</td><td>Employee</td></tr>",
                            "<tr><td>Randy</td><td>Reeves</td><td>Employee</td></tr>",
                            "<tr><td>Ranjit</td><td>Varkey Chudukatil</td><td>Employee</td></tr>",
                            "<tr><td>Raymond</td><td>Sam</td><td>Employee</td></tr>",
                            "<tr><td>Rebecca</td><td>Laszlo</td><td>Employee</td></tr>",
                            "<tr><td>Reed</td><td>Koch</td><td>Employee</td></tr>",
                            "<tr><td>Reinout</td><td>Hillmann</td><td>Employee</td></tr>",
                            "<tr><td>Reuben</td><td>D&#39;sa</td><td>Employee</td></tr>",
                            "<tr><td>Rob</td><td>Caron</td><td>Employee</td></tr>",
                            "<tr><td>Rob</td><td>Walters</td><td>Employee</td></tr>",
                            "<tr><td>Robert</td><td>Rounthwaite</td><td>Employee</td></tr>",
                            "<tr><td>Roberto</td><td>Tamburello</td><td>Employee</td></tr>",
                            "<tr><td>Rostislav</td><td>Shabalin</td><td>Employee</td></tr>",
                            "<tr><td>Russell</td><td>Hunter</td><td>Employee</td></tr>",
                            "<tr><td>Russell</td><td>King</td><td>Employee</td></tr>",
                            "<tr><td>Ruth</td><td>Ellerbrock</td><td>Employee</td></tr>",
                            "<tr><td>Ryan</td><td>Cornelsen</td><td>Employee</td></tr>",
                            "<tr><td>Sairaj</td><td>Uddin</td><td>Employee</td></tr>",
                            "<tr><td>Samantha</td><td>Smith</td><td>Employee</td></tr>",
                            "<tr><td>Sameer</td><td>Tejani</td><td>Employee</td></tr>",
                            "<tr><td>Sandeep</td><td>Kaliyath</td><td>Employee</td></tr>",
                            "<tr><td>Sandra</td><td>Reátegui Alayo</td><td>Employee</td></tr>",
                            "<tr><td>Sariya</td><td>Harnpadoungsataya</td><td>Employee</td></tr>",
                            "<tr><td>Scott</td><td>Gode</td><td>Employee</td></tr>",
                            "<tr><td>Sean</td><td>Alexander</td><td>Employee</td></tr>",
                            "<tr><td>Sean</td><td>Chai</td><td>Employee</td></tr>",
                            "<tr><td>Shammi</td><td>Mohamed</td><td>Employee</td></tr>",
                            "<tr><td>Shane</td><td>Kim</td><td>Employee</td></tr>",
                            "<tr><td>Sharon</td><td>Salavaria</td><td>Employee</td></tr>",
                            "<tr><td>Sheela</td><td>Word</td><td>Employee</td></tr>",
                            "<tr><td>Shelley</td><td>Dyck</td><td>Employee</td></tr>",
                            "<tr><td>Shu</td><td>Ito</td><td>Employee</td></tr>",
                            "<tr><td>Sidney</td><td>Higa</td><td>Employee</td></tr>",
                            "<tr><td>Simon</td><td>Rapier</td><td>Employee</td></tr>",
                            "<tr><td>Sootha</td><td>Charncherngkha</td><td>Employee</td></tr>",
                            "<tr><td>Stefen</td><td>Hesse</td><td>Employee</td></tr>",
                            "<tr><td>Stephanie</td><td>Conroy</td><td>Employee</td></tr>",
                            "<tr><td>Stephen</td><td>Jiang</td><td>Employee</td></tr>",
                            "<tr><td>Steve</td><td>Masters</td><td>Employee</td></tr>",
                            "<tr><td>Steven</td><td>Selikoff</td><td>Employee</td></tr>",
                            "<tr><td>Stuart</td><td>Macrae</td><td>Employee</td></tr>",
                            "<tr><td>Stuart</td><td>Munson</td><td>Employee</td></tr>",
                            "<tr><td>Suchitra</td><td>Mohan</td><td>Employee</td></tr>",
                            "<tr><td>Suroor</td><td>Fatima</td><td>Employee</td></tr>",
                            "<tr><td>Susan</td><td>Eaton</td><td>Employee</td></tr>",
                            "<tr><td>Susan</td><td>Metters</td><td>Employee</td></tr>",
                            "<tr><td>Syed</td><td>Abbas</td><td>Employee</td></tr>",
                            "<tr><td>Sylvester</td><td>Valdez</td><td>Employee</td></tr>",
                            "<tr><td>Tawana</td><td>Nusbaum</td><td>Employee</td></tr>",
                            "<tr><td>Taylor</td><td>Maxwell</td><td>Employee</td></tr>",
                            "<tr><td>Tengiz</td><td>Kharatishvili</td><td>Employee</td></tr>",
                            "<tr><td>Terrence</td><td>Earls</td><td>Employee</td></tr>",
                            "<tr><td>Terri</td><td>Duffy</td><td>Employee</td></tr>",
                            "<tr><td>Terry</td><td>Eminhizer</td><td>Employee</td></tr>",
                            "<tr><td>Tete</td><td>Mensa-Annan</td><td>Employee</td></tr>",
                            "<tr><td>Thierry</td><td>D&#39;Hers</td><td>Employee</td></tr>",
                            "<tr><td>Thomas</td><td>Michaels</td><td>Employee</td></tr>",
                            "<tr><td>Tom</td><td>Vande Velde</td><td>Employee</td></tr>",
                            "<tr><td>Tsvi</td><td>Reiter</td><td>Employee</td></tr>",
                            "<tr><td>Vamsi</td><td>Kuppa</td><td>Employee</td></tr>",
                            "<tr><td>Vidur</td><td>Luthra</td><td>Employee</td></tr>",
                            "<tr><td>Wanida</td><td>Benshoof</td><td>Employee</td></tr>",
                            "<tr><td>Wendy</td><td>Kahn</td><td>Employee</td></tr>",
                            "<tr><td>William</td><td>Vong</td><td>Employee</td></tr>",
                            "<tr><td>Willis</td><td>Johnson</td><td>Employee</td></tr>",
                            "<tr><td>Yuhong</td><td>Li</td><td>Employee</td></tr>",
                            "<tr><td>Yvonne</td><td>McKay</td><td>Employee</td></tr>",
                            "<tr><td>Zainal</td><td>Arifin</td><td>Employee</td></tr>",
                            "<tr><td>Zheng</td><td>Mu</td><td>Employee</td></tr>",
                            "</table>"
                        ]
                    }
                }
            ],
            "execution_count": 71
        }
    ]
}