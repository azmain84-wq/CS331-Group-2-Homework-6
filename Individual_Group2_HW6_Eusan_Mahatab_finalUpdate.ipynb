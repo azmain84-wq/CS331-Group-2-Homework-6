{
    "metadata": {
        "kernelspec": {
            "name": "SQL",
            "display_name": "SQL",
            "language": "sql"
        },
        "language_info": {
            "name": "sql",
            "version": ""
        }
    },
    "nbformat_minor": 2,
    "nbformat": 4,
    "cells": [
        {
            "cell_type": "code",
            "source": [
                "-- Proposition 1: List all unique U.S. and Canadian customers with names and territory (limit to 20 results)\n",
                "SELECT TOP 20 CustomerID, FirstName, LastName, TerritoryName\n",
                "FROM (\n",
                "    SELECT c.CustomerID, p.FirstName, p.LastName, t.Name AS TerritoryName\n",
                "    FROM Sales.Customer AS c\n",
                "    JOIN Person.Person AS p ON c.PersonID = p.BusinessEntityID\n",
                "    JOIN Sales.SalesTerritory AS t ON c.TerritoryID = t.TerritoryID\n",
                "    WHERE c.TerritoryID = 1  -- US\n",
                "    UNION  -- remove duplicates between US & Canada\n",
                "    SELECT c.CustomerID, p.FirstName, p.LastName, t.Name AS TerritoryName\n",
                "    FROM Sales.Customer AS c\n",
                "    JOIN Person.Person AS p ON c.PersonID = p.BusinessEntityID\n",
                "    JOIN Sales.SalesTerritory AS t ON c.TerritoryID = t.TerritoryID\n",
                "    WHERE c.TerritoryID = 2  -- Canada\n",
                ") AS Combined\n",
                "ORDER BY CustomerID;\n",
                ""
            ],
            "metadata": {
                "azdata_cell_guid": "5cf632dc-d928-4827-bd95-ac83ee06a5aa",
                "language": "sql",
                "tags": []
            },
            "outputs": [
                {
                    "output_type": "display_data",
                    "data": {
                        "text/html": "(20 rows affected)"
                    },
                    "metadata": {}
                },
                {
                    "output_type": "display_data",
                    "data": {
                        "text/html": "Total execution time: 00:00:00.145"
                    },
                    "metadata": {}
                },
                {
                    "output_type": "execute_result",
                    "metadata": {},
                    "execution_count": 5,
                    "data": {
                        "application/vnd.dataresource+json": {
                            "schema": {
                                "fields": [
                                    {
                                        "name": "CustomerID"
                                    },
                                    {
                                        "name": "FirstName"
                                    },
                                    {
                                        "name": "LastName"
                                    },
                                    {
                                        "name": "TerritoryName"
                                    }
                                ]
                            },
                            "data": [
                                {
                                    "CustomerID": "11012",
                                    "FirstName": "Lauren",
                                    "LastName": "Walker",
                                    "TerritoryName": "Northwest"
                                },
                                {
                                    "CustomerID": "11013",
                                    "FirstName": "Ian",
                                    "LastName": "Jenkins",
                                    "TerritoryName": "Northwest"
                                },
                                {
                                    "CustomerID": "11014",
                                    "FirstName": "Sydney",
                                    "LastName": "Bennett",
                                    "TerritoryName": "Northwest"
                                },
                                {
                                    "CustomerID": "11021",
                                    "FirstName": "Destiny",
                                    "LastName": "Wilson",
                                    "TerritoryName": "Northwest"
                                },
                                {
                                    "CustomerID": "11022",
                                    "FirstName": "Ethan",
                                    "LastName": "Zhang",
                                    "TerritoryName": "Northwest"
                                },
                                {
                                    "CustomerID": "11040",
                                    "FirstName": "Jesse",
                                    "LastName": "Murphy",
                                    "TerritoryName": "Northwest"
                                },
                                {
                                    "CustomerID": "11062",
                                    "FirstName": "Noah",
                                    "LastName": "Powell",
                                    "TerritoryName": "Northwest"
                                },
                                {
                                    "CustomerID": "11063",
                                    "FirstName": "Angela",
                                    "LastName": "Murphy",
                                    "TerritoryName": "Northwest"
                                },
                                {
                                    "CustomerID": "11066",
                                    "FirstName": "Grace",
                                    "LastName": "Butler",
                                    "TerritoryName": "Northwest"
                                },
                                {
                                    "CustomerID": "11067",
                                    "FirstName": "Caleb",
                                    "LastName": "Carter",
                                    "TerritoryName": "Northwest"
                                },
                                {
                                    "CustomerID": "11084",
                                    "FirstName": "Lucas",
                                    "LastName": "Phillips",
                                    "TerritoryName": "Northwest"
                                },
                                {
                                    "CustomerID": "11128",
                                    "FirstName": "Samantha",
                                    "LastName": "Long",
                                    "TerritoryName": "Northwest"
                                },
                                {
                                    "CustomerID": "11129",
                                    "FirstName": "Julia",
                                    "LastName": "Wright",
                                    "TerritoryName": "Northwest"
                                },
                                {
                                    "CustomerID": "11130",
                                    "FirstName": "Caroline",
                                    "LastName": "Russell",
                                    "TerritoryName": "Northwest"
                                },
                                {
                                    "CustomerID": "11133",
                                    "FirstName": "Angela",
                                    "LastName": "Griffin",
                                    "TerritoryName": "Northwest"
                                },
                                {
                                    "CustomerID": "11137",
                                    "FirstName": "Jasmine",
                                    "LastName": "Taylor",
                                    "TerritoryName": "Northwest"
                                },
                                {
                                    "CustomerID": "11144",
                                    "FirstName": "Edward",
                                    "LastName": "Hernandez",
                                    "TerritoryName": "Northwest"
                                },
                                {
                                    "CustomerID": "11145",
                                    "FirstName": "Jasmine",
                                    "LastName": "Coleman",
                                    "TerritoryName": "Northwest"
                                },
                                {
                                    "CustomerID": "11152",
                                    "FirstName": "James",
                                    "LastName": "Williams",
                                    "TerritoryName": "Northwest"
                                },
                                {
                                    "CustomerID": "11153",
                                    "FirstName": "Angela",
                                    "LastName": "James",
                                    "TerritoryName": "Northwest"
                                }
                            ]
                        },
                        "text/html": [
                            "<table>",
                            "<tr><th>CustomerID</th><th>FirstName</th><th>LastName</th><th>TerritoryName</th></tr>",
                            "<tr><td>11012</td><td>Lauren</td><td>Walker</td><td>Northwest</td></tr>",
                            "<tr><td>11013</td><td>Ian</td><td>Jenkins</td><td>Northwest</td></tr>",
                            "<tr><td>11014</td><td>Sydney</td><td>Bennett</td><td>Northwest</td></tr>",
                            "<tr><td>11021</td><td>Destiny</td><td>Wilson</td><td>Northwest</td></tr>",
                            "<tr><td>11022</td><td>Ethan</td><td>Zhang</td><td>Northwest</td></tr>",
                            "<tr><td>11040</td><td>Jesse</td><td>Murphy</td><td>Northwest</td></tr>",
                            "<tr><td>11062</td><td>Noah</td><td>Powell</td><td>Northwest</td></tr>",
                            "<tr><td>11063</td><td>Angela</td><td>Murphy</td><td>Northwest</td></tr>",
                            "<tr><td>11066</td><td>Grace</td><td>Butler</td><td>Northwest</td></tr>",
                            "<tr><td>11067</td><td>Caleb</td><td>Carter</td><td>Northwest</td></tr>",
                            "<tr><td>11084</td><td>Lucas</td><td>Phillips</td><td>Northwest</td></tr>",
                            "<tr><td>11128</td><td>Samantha</td><td>Long</td><td>Northwest</td></tr>",
                            "<tr><td>11129</td><td>Julia</td><td>Wright</td><td>Northwest</td></tr>",
                            "<tr><td>11130</td><td>Caroline</td><td>Russell</td><td>Northwest</td></tr>",
                            "<tr><td>11133</td><td>Angela</td><td>Griffin</td><td>Northwest</td></tr>",
                            "<tr><td>11137</td><td>Jasmine</td><td>Taylor</td><td>Northwest</td></tr>",
                            "<tr><td>11144</td><td>Edward</td><td>Hernandez</td><td>Northwest</td></tr>",
                            "<tr><td>11145</td><td>Jasmine</td><td>Coleman</td><td>Northwest</td></tr>",
                            "<tr><td>11152</td><td>James</td><td>Williams</td><td>Northwest</td></tr>",
                            "<tr><td>11153</td><td>Angela</td><td>James</td><td>Northwest</td></tr>",
                            "</table>"
                        ]
                    }
                }
            ],
            "execution_count": 5
        },
        {
            "cell_type": "code",
            "source": [
                "-- Proposition 2: Show all U.S. and Canadian customers including duplicates (TOP 20)\n",
                "SELECT TOP 20 CustomerID, FirstName, LastName, TerritoryName\n",
                "FROM (\n",
                "    SELECT c.CustomerID, p.FirstName, p.LastName, t.Name AS TerritoryName\n",
                "    FROM Sales.Customer c\n",
                "    JOIN Person.Person p ON c.PersonID = p.BusinessEntityID\n",
                "    JOIN Sales.SalesTerritory t ON c.TerritoryID = t.TerritoryID\n",
                "    WHERE c.TerritoryID = 1\n",
                "    UNION ALL  -- keep duplicates\n",
                "    SELECT c.CustomerID, p.FirstName, p.LastName, t.Name AS TerritoryName\n",
                "    FROM Sales.Customer c\n",
                "    JOIN Person.Person p ON c.PersonID = p.BusinessEntityID\n",
                "    JOIN Sales.SalesTerritory t ON c.TerritoryID = t.TerritoryID\n",
                "    WHERE c.TerritoryID = 2\n",
                ") AS Combined\n",
                "ORDER BY CustomerID;\n",
                ""
            ],
            "metadata": {
                "azdata_cell_guid": "650a023c-b6f3-4458-a2e8-b05f49ea5366",
                "language": "sql"
            },
            "outputs": [
                {
                    "output_type": "display_data",
                    "data": {
                        "text/html": "(20 rows affected)"
                    },
                    "metadata": {}
                },
                {
                    "output_type": "display_data",
                    "data": {
                        "text/html": "Total execution time: 00:00:00.015"
                    },
                    "metadata": {}
                },
                {
                    "output_type": "execute_result",
                    "metadata": {},
                    "execution_count": 6,
                    "data": {
                        "application/vnd.dataresource+json": {
                            "schema": {
                                "fields": [
                                    {
                                        "name": "CustomerID"
                                    },
                                    {
                                        "name": "FirstName"
                                    },
                                    {
                                        "name": "LastName"
                                    },
                                    {
                                        "name": "TerritoryName"
                                    }
                                ]
                            },
                            "data": [
                                {
                                    "CustomerID": "11012",
                                    "FirstName": "Lauren",
                                    "LastName": "Walker",
                                    "TerritoryName": "Northwest"
                                },
                                {
                                    "CustomerID": "11013",
                                    "FirstName": "Ian",
                                    "LastName": "Jenkins",
                                    "TerritoryName": "Northwest"
                                },
                                {
                                    "CustomerID": "11014",
                                    "FirstName": "Sydney",
                                    "LastName": "Bennett",
                                    "TerritoryName": "Northwest"
                                },
                                {
                                    "CustomerID": "11021",
                                    "FirstName": "Destiny",
                                    "LastName": "Wilson",
                                    "TerritoryName": "Northwest"
                                },
                                {
                                    "CustomerID": "11022",
                                    "FirstName": "Ethan",
                                    "LastName": "Zhang",
                                    "TerritoryName": "Northwest"
                                },
                                {
                                    "CustomerID": "11040",
                                    "FirstName": "Jesse",
                                    "LastName": "Murphy",
                                    "TerritoryName": "Northwest"
                                },
                                {
                                    "CustomerID": "11062",
                                    "FirstName": "Noah",
                                    "LastName": "Powell",
                                    "TerritoryName": "Northwest"
                                },
                                {
                                    "CustomerID": "11063",
                                    "FirstName": "Angela",
                                    "LastName": "Murphy",
                                    "TerritoryName": "Northwest"
                                },
                                {
                                    "CustomerID": "11066",
                                    "FirstName": "Grace",
                                    "LastName": "Butler",
                                    "TerritoryName": "Northwest"
                                },
                                {
                                    "CustomerID": "11067",
                                    "FirstName": "Caleb",
                                    "LastName": "Carter",
                                    "TerritoryName": "Northwest"
                                },
                                {
                                    "CustomerID": "11084",
                                    "FirstName": "Lucas",
                                    "LastName": "Phillips",
                                    "TerritoryName": "Northwest"
                                },
                                {
                                    "CustomerID": "11128",
                                    "FirstName": "Samantha",
                                    "LastName": "Long",
                                    "TerritoryName": "Northwest"
                                },
                                {
                                    "CustomerID": "11129",
                                    "FirstName": "Julia",
                                    "LastName": "Wright",
                                    "TerritoryName": "Northwest"
                                },
                                {
                                    "CustomerID": "11130",
                                    "FirstName": "Caroline",
                                    "LastName": "Russell",
                                    "TerritoryName": "Northwest"
                                },
                                {
                                    "CustomerID": "11133",
                                    "FirstName": "Angela",
                                    "LastName": "Griffin",
                                    "TerritoryName": "Northwest"
                                },
                                {
                                    "CustomerID": "11137",
                                    "FirstName": "Jasmine",
                                    "LastName": "Taylor",
                                    "TerritoryName": "Northwest"
                                },
                                {
                                    "CustomerID": "11144",
                                    "FirstName": "Edward",
                                    "LastName": "Hernandez",
                                    "TerritoryName": "Northwest"
                                },
                                {
                                    "CustomerID": "11145",
                                    "FirstName": "Jasmine",
                                    "LastName": "Coleman",
                                    "TerritoryName": "Northwest"
                                },
                                {
                                    "CustomerID": "11152",
                                    "FirstName": "James",
                                    "LastName": "Williams",
                                    "TerritoryName": "Northwest"
                                },
                                {
                                    "CustomerID": "11153",
                                    "FirstName": "Angela",
                                    "LastName": "James",
                                    "TerritoryName": "Northwest"
                                }
                            ]
                        },
                        "text/html": [
                            "<table>",
                            "<tr><th>CustomerID</th><th>FirstName</th><th>LastName</th><th>TerritoryName</th></tr>",
                            "<tr><td>11012</td><td>Lauren</td><td>Walker</td><td>Northwest</td></tr>",
                            "<tr><td>11013</td><td>Ian</td><td>Jenkins</td><td>Northwest</td></tr>",
                            "<tr><td>11014</td><td>Sydney</td><td>Bennett</td><td>Northwest</td></tr>",
                            "<tr><td>11021</td><td>Destiny</td><td>Wilson</td><td>Northwest</td></tr>",
                            "<tr><td>11022</td><td>Ethan</td><td>Zhang</td><td>Northwest</td></tr>",
                            "<tr><td>11040</td><td>Jesse</td><td>Murphy</td><td>Northwest</td></tr>",
                            "<tr><td>11062</td><td>Noah</td><td>Powell</td><td>Northwest</td></tr>",
                            "<tr><td>11063</td><td>Angela</td><td>Murphy</td><td>Northwest</td></tr>",
                            "<tr><td>11066</td><td>Grace</td><td>Butler</td><td>Northwest</td></tr>",
                            "<tr><td>11067</td><td>Caleb</td><td>Carter</td><td>Northwest</td></tr>",
                            "<tr><td>11084</td><td>Lucas</td><td>Phillips</td><td>Northwest</td></tr>",
                            "<tr><td>11128</td><td>Samantha</td><td>Long</td><td>Northwest</td></tr>",
                            "<tr><td>11129</td><td>Julia</td><td>Wright</td><td>Northwest</td></tr>",
                            "<tr><td>11130</td><td>Caroline</td><td>Russell</td><td>Northwest</td></tr>",
                            "<tr><td>11133</td><td>Angela</td><td>Griffin</td><td>Northwest</td></tr>",
                            "<tr><td>11137</td><td>Jasmine</td><td>Taylor</td><td>Northwest</td></tr>",
                            "<tr><td>11144</td><td>Edward</td><td>Hernandez</td><td>Northwest</td></tr>",
                            "<tr><td>11145</td><td>Jasmine</td><td>Coleman</td><td>Northwest</td></tr>",
                            "<tr><td>11152</td><td>James</td><td>Williams</td><td>Northwest</td></tr>",
                            "<tr><td>11153</td><td>Angela</td><td>James</td><td>Northwest</td></tr>",
                            "</table>"
                        ]
                    }
                }
            ],
            "execution_count": 6
        },
        {
            "cell_type": "code",
            "source": [
                "-- Proposition 3: People who are both customers and employees (TOP 20)\n",
                "SELECT TOP 20 BusinessEntityID, FirstName, LastName\n",
                "FROM (\n",
                "    SELECT p.BusinessEntityID, p.FirstName, p.LastName\n",
                "    FROM Sales.Customer c\n",
                "    JOIN Person.Person p ON c.PersonID = p.BusinessEntityID\n",
                "    INTERSECT\n",
                "    SELECT e.BusinessEntityID, p.FirstName, p.LastName\n",
                "    FROM HumanResources.Employee e\n",
                "    JOIN Person.Person p ON e.BusinessEntityID = p.BusinessEntityID\n",
                ") AS Overlap\n",
                "ORDER BY BusinessEntityID;\n",
                "\n",
                ""
            ],
            "metadata": {
                "azdata_cell_guid": "ef8f416c-c607-4937-b0ad-d7a3efe2625d",
                "language": "sql"
            },
            "outputs": [
                {
                    "output_type": "display_data",
                    "data": {
                        "text/html": "(0 rows affected)"
                    },
                    "metadata": {}
                },
                {
                    "output_type": "display_data",
                    "data": {
                        "text/html": "Total execution time: 00:00:00.006"
                    },
                    "metadata": {}
                },
                {
                    "output_type": "execute_result",
                    "metadata": {},
                    "execution_count": 8,
                    "data": {
                        "application/vnd.dataresource+json": {
                            "schema": {
                                "fields": [
                                    {
                                        "name": "BusinessEntityID"
                                    },
                                    {
                                        "name": "FirstName"
                                    },
                                    {
                                        "name": "LastName"
                                    }
                                ]
                            },
                            "data": []
                        },
                        "text/html": [
                            "<table>",
                            "<tr><th>BusinessEntityID</th><th>FirstName</th><th>LastName</th></tr>",
                            "</table>"
                        ]
                    }
                }
            ],
            "execution_count": 8
        },
        {
            "cell_type": "code",
            "source": [
                "-- Proposition 4: Employees with mailing addresses in Washington (TOP 20)\n",
                "SELECT TOP 20 BusinessEntityID, FirstName, LastName, City\n",
                "FROM (\n",
                "    SELECT e.BusinessEntityID, p.FirstName, p.LastName, a.City\n",
                "    FROM HumanResources.Employee e\n",
                "    JOIN Person.Person p ON e.BusinessEntityID = p.BusinessEntityID\n",
                "    JOIN Person.BusinessEntityAddress bea ON e.BusinessEntityID = bea.BusinessEntityID\n",
                "    JOIN Person.Address a ON bea.AddressID = a.AddressID\n",
                "    INTERSECT\n",
                "    SELECT e.BusinessEntityID, p.FirstName, p.LastName, a.City\n",
                "    FROM HumanResources.Employee e\n",
                "    JOIN Person.Person p ON e.BusinessEntityID = p.BusinessEntityID\n",
                "    JOIN Person.BusinessEntityAddress bea ON e.BusinessEntityID = bea.BusinessEntityID\n",
                "    JOIN Person.Address a ON bea.AddressID = a.AddressID\n",
                "    WHERE a.StateProvinceID = 79  -- Washington\n",
                ") AS WAEmployees\n",
                "ORDER BY BusinessEntityID;\n",
                "\n",
                ""
            ],
            "metadata": {
                "azdata_cell_guid": "317b2ca9-2705-42ec-9425-ffe513d0b5df",
                "language": "sql"
            },
            "outputs": [
                {
                    "output_type": "display_data",
                    "data": {
                        "text/html": "(20 rows affected)"
                    },
                    "metadata": {}
                },
                {
                    "output_type": "display_data",
                    "data": {
                        "text/html": "Total execution time: 00:00:00.058"
                    },
                    "metadata": {}
                },
                {
                    "output_type": "execute_result",
                    "metadata": {},
                    "execution_count": 9,
                    "data": {
                        "application/vnd.dataresource+json": {
                            "schema": {
                                "fields": [
                                    {
                                        "name": "BusinessEntityID"
                                    },
                                    {
                                        "name": "FirstName"
                                    },
                                    {
                                        "name": "LastName"
                                    },
                                    {
                                        "name": "City"
                                    }
                                ]
                            },
                            "data": [
                                {
                                    "BusinessEntityID": "1",
                                    "FirstName": "Ken",
                                    "LastName": "Sánchez",
                                    "City": "Newport Hills"
                                },
                                {
                                    "BusinessEntityID": "2",
                                    "FirstName": "Terri",
                                    "LastName": "Duffy",
                                    "City": "Renton"
                                },
                                {
                                    "BusinessEntityID": "3",
                                    "FirstName": "Roberto",
                                    "LastName": "Tamburello",
                                    "City": "Redmond"
                                },
                                {
                                    "BusinessEntityID": "5",
                                    "FirstName": "Gail",
                                    "LastName": "Erickson",
                                    "City": "Bellevue"
                                },
                                {
                                    "BusinessEntityID": "6",
                                    "FirstName": "Jossef",
                                    "LastName": "Goldberg",
                                    "City": "Renton"
                                },
                                {
                                    "BusinessEntityID": "7",
                                    "FirstName": "Dylan",
                                    "LastName": "Miller",
                                    "City": "Kenmore"
                                },
                                {
                                    "BusinessEntityID": "8",
                                    "FirstName": "Diane",
                                    "LastName": "Margheim",
                                    "City": "Everett"
                                },
                                {
                                    "BusinessEntityID": "9",
                                    "FirstName": "Gigi",
                                    "LastName": "Matthew",
                                    "City": "Bellevue"
                                },
                                {
                                    "BusinessEntityID": "11",
                                    "FirstName": "Ovidiu",
                                    "LastName": "Cracium",
                                    "City": "Kenmore"
                                },
                                {
                                    "BusinessEntityID": "12",
                                    "FirstName": "Thierry",
                                    "LastName": "D'Hers",
                                    "City": "Bothell"
                                },
                                {
                                    "BusinessEntityID": "13",
                                    "FirstName": "Janice",
                                    "LastName": "Galvin",
                                    "City": "Redmond"
                                },
                                {
                                    "BusinessEntityID": "14",
                                    "FirstName": "Michael",
                                    "LastName": "Sullivan",
                                    "City": "Renton"
                                },
                                {
                                    "BusinessEntityID": "15",
                                    "FirstName": "Sharon",
                                    "LastName": "Salavaria",
                                    "City": "Renton"
                                },
                                {
                                    "BusinessEntityID": "16",
                                    "FirstName": "David",
                                    "LastName": "Bradley",
                                    "City": "Redmond"
                                },
                                {
                                    "BusinessEntityID": "17",
                                    "FirstName": "Kevin",
                                    "LastName": "Brown",
                                    "City": "Everett"
                                },
                                {
                                    "BusinessEntityID": "18",
                                    "FirstName": "John",
                                    "LastName": "Wood",
                                    "City": "Redmond"
                                },
                                {
                                    "BusinessEntityID": "19",
                                    "FirstName": "Mary",
                                    "LastName": "Dempsey",
                                    "City": "Bellevue"
                                },
                                {
                                    "BusinessEntityID": "20",
                                    "FirstName": "Wanida",
                                    "LastName": "Benshoof",
                                    "City": "Sammamish"
                                },
                                {
                                    "BusinessEntityID": "21",
                                    "FirstName": "Terry",
                                    "LastName": "Eminhizer",
                                    "City": "Bellevue"
                                },
                                {
                                    "BusinessEntityID": "22",
                                    "FirstName": "Sariya",
                                    "LastName": "Harnpadoungsataya",
                                    "City": "Everett"
                                }
                            ]
                        },
                        "text/html": [
                            "<table>",
                            "<tr><th>BusinessEntityID</th><th>FirstName</th><th>LastName</th><th>City</th></tr>",
                            "<tr><td>1</td><td>Ken</td><td>Sánchez</td><td>Newport Hills</td></tr>",
                            "<tr><td>2</td><td>Terri</td><td>Duffy</td><td>Renton</td></tr>",
                            "<tr><td>3</td><td>Roberto</td><td>Tamburello</td><td>Redmond</td></tr>",
                            "<tr><td>5</td><td>Gail</td><td>Erickson</td><td>Bellevue</td></tr>",
                            "<tr><td>6</td><td>Jossef</td><td>Goldberg</td><td>Renton</td></tr>",
                            "<tr><td>7</td><td>Dylan</td><td>Miller</td><td>Kenmore</td></tr>",
                            "<tr><td>8</td><td>Diane</td><td>Margheim</td><td>Everett</td></tr>",
                            "<tr><td>9</td><td>Gigi</td><td>Matthew</td><td>Bellevue</td></tr>",
                            "<tr><td>11</td><td>Ovidiu</td><td>Cracium</td><td>Kenmore</td></tr>",
                            "<tr><td>12</td><td>Thierry</td><td>D&#39;Hers</td><td>Bothell</td></tr>",
                            "<tr><td>13</td><td>Janice</td><td>Galvin</td><td>Redmond</td></tr>",
                            "<tr><td>14</td><td>Michael</td><td>Sullivan</td><td>Renton</td></tr>",
                            "<tr><td>15</td><td>Sharon</td><td>Salavaria</td><td>Renton</td></tr>",
                            "<tr><td>16</td><td>David</td><td>Bradley</td><td>Redmond</td></tr>",
                            "<tr><td>17</td><td>Kevin</td><td>Brown</td><td>Everett</td></tr>",
                            "<tr><td>18</td><td>John</td><td>Wood</td><td>Redmond</td></tr>",
                            "<tr><td>19</td><td>Mary</td><td>Dempsey</td><td>Bellevue</td></tr>",
                            "<tr><td>20</td><td>Wanida</td><td>Benshoof</td><td>Sammamish</td></tr>",
                            "<tr><td>21</td><td>Terry</td><td>Eminhizer</td><td>Bellevue</td></tr>",
                            "<tr><td>22</td><td>Sariya</td><td>Harnpadoungsataya</td><td>Everett</td></tr>",
                            "</table>"
                        ]
                    }
                }
            ],
            "execution_count": 9
        },
        {
            "cell_type": "code",
            "source": [
                "-- Proposition 5: Products that have never been ordered (TOP 20)\n",
                "SELECT TOP 20 ProductID, ProductName, Subcategory, Category\n",
                "FROM (\n",
                "    SELECT p.ProductID, p.Name AS ProductName, ps.Name AS Subcategory, pc.Name AS Category\n",
                "    FROM Production.Product p\n",
                "    LEFT JOIN Production.ProductSubcategory ps ON p.ProductSubcategoryID = ps.ProductSubcategoryID\n",
                "    LEFT JOIN Production.ProductCategory pc ON ps.ProductCategoryID = pc.ProductCategoryID\n",
                "    EXCEPT\n",
                "    SELECT p.ProductID, p.Name AS ProductName, ps.Name AS Subcategory, pc.Name AS Category\n",
                "    FROM Production.Product p\n",
                "    JOIN Sales.SalesOrderDetail d ON p.ProductID = d.ProductID\n",
                "    LEFT JOIN Production.ProductSubcategory ps ON p.ProductSubcategoryID = ps.ProductSubcategoryID\n",
                "    LEFT JOIN Production.ProductCategory pc ON ps.ProductCategoryID = pc.ProductCategoryID\n",
                ") AS Unordered\n",
                "ORDER BY ProductID;\n",
                ""
            ],
            "metadata": {
                "azdata_cell_guid": "7e631691-4bb7-4f1b-9400-ead88550e179",
                "language": "sql"
            },
            "outputs": [
                {
                    "output_type": "display_data",
                    "data": {
                        "text/html": "(20 rows affected)"
                    },
                    "metadata": {}
                },
                {
                    "output_type": "display_data",
                    "data": {
                        "text/html": "Total execution time: 00:00:00.043"
                    },
                    "metadata": {}
                },
                {
                    "output_type": "execute_result",
                    "metadata": {},
                    "execution_count": 10,
                    "data": {
                        "application/vnd.dataresource+json": {
                            "schema": {
                                "fields": [
                                    {
                                        "name": "ProductID"
                                    },
                                    {
                                        "name": "ProductName"
                                    },
                                    {
                                        "name": "Subcategory"
                                    },
                                    {
                                        "name": "Category"
                                    }
                                ]
                            },
                            "data": [
                                {
                                    "ProductID": "1",
                                    "ProductName": "Adjustable Race",
                                    "Subcategory": "NULL",
                                    "Category": "NULL"
                                },
                                {
                                    "ProductID": "2",
                                    "ProductName": "Bearing Ball",
                                    "Subcategory": "NULL",
                                    "Category": "NULL"
                                },
                                {
                                    "ProductID": "3",
                                    "ProductName": "BB Ball Bearing",
                                    "Subcategory": "NULL",
                                    "Category": "NULL"
                                },
                                {
                                    "ProductID": "4",
                                    "ProductName": "Headset Ball Bearings",
                                    "Subcategory": "NULL",
                                    "Category": "NULL"
                                },
                                {
                                    "ProductID": "316",
                                    "ProductName": "Blade",
                                    "Subcategory": "NULL",
                                    "Category": "NULL"
                                },
                                {
                                    "ProductID": "317",
                                    "ProductName": "LL Crankarm",
                                    "Subcategory": "NULL",
                                    "Category": "NULL"
                                },
                                {
                                    "ProductID": "318",
                                    "ProductName": "ML Crankarm",
                                    "Subcategory": "NULL",
                                    "Category": "NULL"
                                },
                                {
                                    "ProductID": "319",
                                    "ProductName": "HL Crankarm",
                                    "Subcategory": "NULL",
                                    "Category": "NULL"
                                },
                                {
                                    "ProductID": "320",
                                    "ProductName": "Chainring Bolts",
                                    "Subcategory": "NULL",
                                    "Category": "NULL"
                                },
                                {
                                    "ProductID": "321",
                                    "ProductName": "Chainring Nut",
                                    "Subcategory": "NULL",
                                    "Category": "NULL"
                                },
                                {
                                    "ProductID": "322",
                                    "ProductName": "Chainring",
                                    "Subcategory": "NULL",
                                    "Category": "NULL"
                                },
                                {
                                    "ProductID": "323",
                                    "ProductName": "Crown Race",
                                    "Subcategory": "NULL",
                                    "Category": "NULL"
                                },
                                {
                                    "ProductID": "324",
                                    "ProductName": "Chain Stays",
                                    "Subcategory": "NULL",
                                    "Category": "NULL"
                                },
                                {
                                    "ProductID": "325",
                                    "ProductName": "Decal 1",
                                    "Subcategory": "NULL",
                                    "Category": "NULL"
                                },
                                {
                                    "ProductID": "326",
                                    "ProductName": "Decal 2",
                                    "Subcategory": "NULL",
                                    "Category": "NULL"
                                },
                                {
                                    "ProductID": "327",
                                    "ProductName": "Down Tube",
                                    "Subcategory": "NULL",
                                    "Category": "NULL"
                                },
                                {
                                    "ProductID": "328",
                                    "ProductName": "Mountain End Caps",
                                    "Subcategory": "NULL",
                                    "Category": "NULL"
                                },
                                {
                                    "ProductID": "329",
                                    "ProductName": "Road End Caps",
                                    "Subcategory": "NULL",
                                    "Category": "NULL"
                                },
                                {
                                    "ProductID": "330",
                                    "ProductName": "Touring End Caps",
                                    "Subcategory": "NULL",
                                    "Category": "NULL"
                                },
                                {
                                    "ProductID": "331",
                                    "ProductName": "Fork End",
                                    "Subcategory": "NULL",
                                    "Category": "NULL"
                                }
                            ]
                        },
                        "text/html": [
                            "<table>",
                            "<tr><th>ProductID</th><th>ProductName</th><th>Subcategory</th><th>Category</th></tr>",
                            "<tr><td>1</td><td>Adjustable Race</td><td>NULL</td><td>NULL</td></tr>",
                            "<tr><td>2</td><td>Bearing Ball</td><td>NULL</td><td>NULL</td></tr>",
                            "<tr><td>3</td><td>BB Ball Bearing</td><td>NULL</td><td>NULL</td></tr>",
                            "<tr><td>4</td><td>Headset Ball Bearings</td><td>NULL</td><td>NULL</td></tr>",
                            "<tr><td>316</td><td>Blade</td><td>NULL</td><td>NULL</td></tr>",
                            "<tr><td>317</td><td>LL Crankarm</td><td>NULL</td><td>NULL</td></tr>",
                            "<tr><td>318</td><td>ML Crankarm</td><td>NULL</td><td>NULL</td></tr>",
                            "<tr><td>319</td><td>HL Crankarm</td><td>NULL</td><td>NULL</td></tr>",
                            "<tr><td>320</td><td>Chainring Bolts</td><td>NULL</td><td>NULL</td></tr>",
                            "<tr><td>321</td><td>Chainring Nut</td><td>NULL</td><td>NULL</td></tr>",
                            "<tr><td>322</td><td>Chainring</td><td>NULL</td><td>NULL</td></tr>",
                            "<tr><td>323</td><td>Crown Race</td><td>NULL</td><td>NULL</td></tr>",
                            "<tr><td>324</td><td>Chain Stays</td><td>NULL</td><td>NULL</td></tr>",
                            "<tr><td>325</td><td>Decal 1</td><td>NULL</td><td>NULL</td></tr>",
                            "<tr><td>326</td><td>Decal 2</td><td>NULL</td><td>NULL</td></tr>",
                            "<tr><td>327</td><td>Down Tube</td><td>NULL</td><td>NULL</td></tr>",
                            "<tr><td>328</td><td>Mountain End Caps</td><td>NULL</td><td>NULL</td></tr>",
                            "<tr><td>329</td><td>Road End Caps</td><td>NULL</td><td>NULL</td></tr>",
                            "<tr><td>330</td><td>Touring End Caps</td><td>NULL</td><td>NULL</td></tr>",
                            "<tr><td>331</td><td>Fork End</td><td>NULL</td><td>NULL</td></tr>",
                            "</table>"
                        ]
                    }
                }
            ],
            "execution_count": 10
        },
        {
            "cell_type": "code",
            "source": [
                "-- Proposition 6: Customers who never placed any orders (TOP 20)\n",
                "SELECT TOP 20 CustomerID, FirstName, LastName\n",
                "FROM (\n",
                "    SELECT c.CustomerID, p.FirstName, p.LastName\n",
                "    FROM Sales.Customer c\n",
                "    JOIN Person.Person p ON c.PersonID = p.BusinessEntityID\n",
                "    EXCEPT\n",
                "    SELECT c.CustomerID, p.FirstName, p.LastName\n",
                "    FROM Sales.Customer c\n",
                "    JOIN Person.Person p ON c.PersonID = p.BusinessEntityID\n",
                "    JOIN Sales.SalesOrderHeader h ON c.CustomerID = h.CustomerID\n",
                ") AS Inactive\n",
                "ORDER BY CustomerID;\n",
                ""
            ],
            "metadata": {
                "azdata_cell_guid": "476c5ab0-20e9-4c31-b676-326bb75bdeba",
                "language": "sql"
            },
            "outputs": [
                {
                    "output_type": "display_data",
                    "data": {
                        "text/html": "(0 rows affected)"
                    },
                    "metadata": {}
                },
                {
                    "output_type": "display_data",
                    "data": {
                        "text/html": "Total execution time: 00:00:00.116"
                    },
                    "metadata": {}
                },
                {
                    "output_type": "execute_result",
                    "metadata": {},
                    "execution_count": 11,
                    "data": {
                        "application/vnd.dataresource+json": {
                            "schema": {
                                "fields": [
                                    {
                                        "name": "CustomerID"
                                    },
                                    {
                                        "name": "FirstName"
                                    },
                                    {
                                        "name": "LastName"
                                    }
                                ]
                            },
                            "data": []
                        },
                        "text/html": [
                            "<table>",
                            "<tr><th>CustomerID</th><th>FirstName</th><th>LastName</th></tr>",
                            "</table>"
                        ]
                    }
                }
            ],
            "execution_count": 11
        },
        {
            "cell_type": "code",
            "source": [
                "-- Proposition 7: Combine vendors and employees (TOP 20)\n",
                "SELECT TOP 20 BusinessEntityID, FirstName, LastName, EntityType\n",
                "FROM (\n",
                "    SELECT v.BusinessEntityID, p.FirstName, p.LastName, 'Vendor' AS EntityType\n",
                "    FROM Purchasing.Vendor v\n",
                "    JOIN Person.Person p ON v.BusinessEntityID = p.BusinessEntityID\n",
                "    UNION\n",
                "    SELECT e.BusinessEntityID, p.FirstName, p.LastName, 'Employee' AS EntityType\n",
                "    FROM HumanResources.Employee e\n",
                "    JOIN Person.Person p ON e.BusinessEntityID = p.BusinessEntityID\n",
                ") AS AllEntities\n",
                "ORDER BY BusinessEntityID;\n",
                ""
            ],
            "metadata": {
                "azdata_cell_guid": "1ffc1dec-6868-4633-ace6-26c3c7cf19d7",
                "language": "sql"
            },
            "outputs": [
                {
                    "output_type": "display_data",
                    "data": {
                        "text/html": "(20 rows affected)"
                    },
                    "metadata": {}
                },
                {
                    "output_type": "display_data",
                    "data": {
                        "text/html": "Total execution time: 00:00:00.010"
                    },
                    "metadata": {}
                },
                {
                    "output_type": "execute_result",
                    "metadata": {},
                    "execution_count": 12,
                    "data": {
                        "application/vnd.dataresource+json": {
                            "schema": {
                                "fields": [
                                    {
                                        "name": "BusinessEntityID"
                                    },
                                    {
                                        "name": "FirstName"
                                    },
                                    {
                                        "name": "LastName"
                                    },
                                    {
                                        "name": "EntityType"
                                    }
                                ]
                            },
                            "data": [
                                {
                                    "BusinessEntityID": "1",
                                    "FirstName": "Ken",
                                    "LastName": "Sánchez",
                                    "EntityType": "Employee"
                                },
                                {
                                    "BusinessEntityID": "2",
                                    "FirstName": "Terri",
                                    "LastName": "Duffy",
                                    "EntityType": "Employee"
                                },
                                {
                                    "BusinessEntityID": "3",
                                    "FirstName": "Roberto",
                                    "LastName": "Tamburello",
                                    "EntityType": "Employee"
                                },
                                {
                                    "BusinessEntityID": "4",
                                    "FirstName": "Rob",
                                    "LastName": "Walters",
                                    "EntityType": "Employee"
                                },
                                {
                                    "BusinessEntityID": "5",
                                    "FirstName": "Gail",
                                    "LastName": "Erickson",
                                    "EntityType": "Employee"
                                },
                                {
                                    "BusinessEntityID": "6",
                                    "FirstName": "Jossef",
                                    "LastName": "Goldberg",
                                    "EntityType": "Employee"
                                },
                                {
                                    "BusinessEntityID": "7",
                                    "FirstName": "Dylan",
                                    "LastName": "Miller",
                                    "EntityType": "Employee"
                                },
                                {
                                    "BusinessEntityID": "8",
                                    "FirstName": "Diane",
                                    "LastName": "Margheim",
                                    "EntityType": "Employee"
                                },
                                {
                                    "BusinessEntityID": "9",
                                    "FirstName": "Gigi",
                                    "LastName": "Matthew",
                                    "EntityType": "Employee"
                                },
                                {
                                    "BusinessEntityID": "10",
                                    "FirstName": "Michael",
                                    "LastName": "Raheem",
                                    "EntityType": "Employee"
                                },
                                {
                                    "BusinessEntityID": "11",
                                    "FirstName": "Ovidiu",
                                    "LastName": "Cracium",
                                    "EntityType": "Employee"
                                },
                                {
                                    "BusinessEntityID": "12",
                                    "FirstName": "Thierry",
                                    "LastName": "D'Hers",
                                    "EntityType": "Employee"
                                },
                                {
                                    "BusinessEntityID": "13",
                                    "FirstName": "Janice",
                                    "LastName": "Galvin",
                                    "EntityType": "Employee"
                                },
                                {
                                    "BusinessEntityID": "14",
                                    "FirstName": "Michael",
                                    "LastName": "Sullivan",
                                    "EntityType": "Employee"
                                },
                                {
                                    "BusinessEntityID": "15",
                                    "FirstName": "Sharon",
                                    "LastName": "Salavaria",
                                    "EntityType": "Employee"
                                },
                                {
                                    "BusinessEntityID": "16",
                                    "FirstName": "David",
                                    "LastName": "Bradley",
                                    "EntityType": "Employee"
                                },
                                {
                                    "BusinessEntityID": "17",
                                    "FirstName": "Kevin",
                                    "LastName": "Brown",
                                    "EntityType": "Employee"
                                },
                                {
                                    "BusinessEntityID": "18",
                                    "FirstName": "John",
                                    "LastName": "Wood",
                                    "EntityType": "Employee"
                                },
                                {
                                    "BusinessEntityID": "19",
                                    "FirstName": "Mary",
                                    "LastName": "Dempsey",
                                    "EntityType": "Employee"
                                },
                                {
                                    "BusinessEntityID": "20",
                                    "FirstName": "Wanida",
                                    "LastName": "Benshoof",
                                    "EntityType": "Employee"
                                }
                            ]
                        },
                        "text/html": [
                            "<table>",
                            "<tr><th>BusinessEntityID</th><th>FirstName</th><th>LastName</th><th>EntityType</th></tr>",
                            "<tr><td>1</td><td>Ken</td><td>Sánchez</td><td>Employee</td></tr>",
                            "<tr><td>2</td><td>Terri</td><td>Duffy</td><td>Employee</td></tr>",
                            "<tr><td>3</td><td>Roberto</td><td>Tamburello</td><td>Employee</td></tr>",
                            "<tr><td>4</td><td>Rob</td><td>Walters</td><td>Employee</td></tr>",
                            "<tr><td>5</td><td>Gail</td><td>Erickson</td><td>Employee</td></tr>",
                            "<tr><td>6</td><td>Jossef</td><td>Goldberg</td><td>Employee</td></tr>",
                            "<tr><td>7</td><td>Dylan</td><td>Miller</td><td>Employee</td></tr>",
                            "<tr><td>8</td><td>Diane</td><td>Margheim</td><td>Employee</td></tr>",
                            "<tr><td>9</td><td>Gigi</td><td>Matthew</td><td>Employee</td></tr>",
                            "<tr><td>10</td><td>Michael</td><td>Raheem</td><td>Employee</td></tr>",
                            "<tr><td>11</td><td>Ovidiu</td><td>Cracium</td><td>Employee</td></tr>",
                            "<tr><td>12</td><td>Thierry</td><td>D&#39;Hers</td><td>Employee</td></tr>",
                            "<tr><td>13</td><td>Janice</td><td>Galvin</td><td>Employee</td></tr>",
                            "<tr><td>14</td><td>Michael</td><td>Sullivan</td><td>Employee</td></tr>",
                            "<tr><td>15</td><td>Sharon</td><td>Salavaria</td><td>Employee</td></tr>",
                            "<tr><td>16</td><td>David</td><td>Bradley</td><td>Employee</td></tr>",
                            "<tr><td>17</td><td>Kevin</td><td>Brown</td><td>Employee</td></tr>",
                            "<tr><td>18</td><td>John</td><td>Wood</td><td>Employee</td></tr>",
                            "<tr><td>19</td><td>Mary</td><td>Dempsey</td><td>Employee</td></tr>",
                            "<tr><td>20</td><td>Wanida</td><td>Benshoof</td><td>Employee</td></tr>",
                            "</table>"
                        ]
                    }
                }
            ],
            "execution_count": 12
        },
        {
            "cell_type": "code",
            "source": [
                "-- Proposition 8: Customers and employees sharing same city/postal code (TOP 20)\n",
                "SELECT TOP 20 City, PostalCode, CustomerCount\n",
                "FROM (\n",
                "    SELECT a.City, a.PostalCode, COUNT(*) AS CustomerCount\n",
                "    FROM Person.Address a\n",
                "    JOIN Person.BusinessEntityAddress bea ON a.AddressID = bea.AddressID\n",
                "    JOIN Sales.Customer c ON bea.BusinessEntityID = c.PersonID\n",
                "    GROUP BY a.City, a.PostalCode\n",
                "    INTERSECT\n",
                "    SELECT a.City, a.PostalCode, COUNT(*) AS EmployeeCount\n",
                "    FROM Person.Address a\n",
                "    JOIN Person.BusinessEntityAddress bea ON a.AddressID = bea.AddressID\n",
                "    JOIN HumanResources.Employee e ON bea.BusinessEntityID = e.BusinessEntityID\n",
                "    GROUP BY a.City, a.PostalCode\n",
                ") AS Overlaps\n",
                "ORDER BY City, PostalCode;\n",
                ""
            ],
            "metadata": {
                "azdata_cell_guid": "579e7eeb-12b4-4634-b3c4-2a80f453f48b",
                "language": "sql"
            },
            "outputs": [
                {
                    "output_type": "display_data",
                    "data": {
                        "text/html": "(0 rows affected)"
                    },
                    "metadata": {}
                },
                {
                    "output_type": "display_data",
                    "data": {
                        "text/html": "Total execution time: 00:00:00.098"
                    },
                    "metadata": {}
                },
                {
                    "output_type": "execute_result",
                    "metadata": {},
                    "execution_count": 16,
                    "data": {
                        "application/vnd.dataresource+json": {
                            "schema": {
                                "fields": [
                                    {
                                        "name": "City"
                                    },
                                    {
                                        "name": "PostalCode"
                                    },
                                    {
                                        "name": "CustomerCount"
                                    }
                                ]
                            },
                            "data": []
                        },
                        "text/html": [
                            "<table>",
                            "<tr><th>City</th><th>PostalCode</th><th>CustomerCount</th></tr>",
                            "</table>"
                        ]
                    }
                }
            ],
            "execution_count": 16
        },
        {
            "cell_type": "code",
            "source": [
                "-- Proposition 9: Employees not in Sales (TOP 20)\n",
                "SELECT TOP 20 BusinessEntityID, FirstName, LastName\n",
                "FROM (\n",
                "    SELECT e.BusinessEntityID, p.FirstName, p.LastName\n",
                "    FROM HumanResources.Employee e\n",
                "    JOIN Person.Person p ON e.BusinessEntityID = p.BusinessEntityID\n",
                "    EXCEPT\n",
                "    SELECT e.BusinessEntityID, p.FirstName, p.LastName\n",
                "    FROM HumanResources.Employee e\n",
                "    JOIN Person.Person p ON e.BusinessEntityID = p.BusinessEntityID\n",
                "    JOIN HumanResources.EmployeeDepartmentHistory dh ON e.BusinessEntityID = dh.BusinessEntityID\n",
                "    JOIN HumanResources.Department d ON dh.DepartmentID = d.DepartmentID\n",
                "    WHERE d.Name = 'Sales'\n",
                ") AS NonSales\n",
                "ORDER BY BusinessEntityID;\n",
                ""
            ],
            "metadata": {
                "azdata_cell_guid": "46e01e78-8a8f-4286-bbcf-7663aff2eeab",
                "language": "sql"
            },
            "outputs": [
                {
                    "output_type": "display_data",
                    "data": {
                        "text/html": "(20 rows affected)"
                    },
                    "metadata": {}
                },
                {
                    "output_type": "display_data",
                    "data": {
                        "text/html": "Total execution time: 00:00:00.032"
                    },
                    "metadata": {}
                },
                {
                    "output_type": "execute_result",
                    "metadata": {},
                    "execution_count": 15,
                    "data": {
                        "application/vnd.dataresource+json": {
                            "schema": {
                                "fields": [
                                    {
                                        "name": "BusinessEntityID"
                                    },
                                    {
                                        "name": "FirstName"
                                    },
                                    {
                                        "name": "LastName"
                                    }
                                ]
                            },
                            "data": [
                                {
                                    "BusinessEntityID": "1",
                                    "FirstName": "Ken",
                                    "LastName": "Sánchez"
                                },
                                {
                                    "BusinessEntityID": "2",
                                    "FirstName": "Terri",
                                    "LastName": "Duffy"
                                },
                                {
                                    "BusinessEntityID": "3",
                                    "FirstName": "Roberto",
                                    "LastName": "Tamburello"
                                },
                                {
                                    "BusinessEntityID": "4",
                                    "FirstName": "Rob",
                                    "LastName": "Walters"
                                },
                                {
                                    "BusinessEntityID": "5",
                                    "FirstName": "Gail",
                                    "LastName": "Erickson"
                                },
                                {
                                    "BusinessEntityID": "6",
                                    "FirstName": "Jossef",
                                    "LastName": "Goldberg"
                                },
                                {
                                    "BusinessEntityID": "7",
                                    "FirstName": "Dylan",
                                    "LastName": "Miller"
                                },
                                {
                                    "BusinessEntityID": "8",
                                    "FirstName": "Diane",
                                    "LastName": "Margheim"
                                },
                                {
                                    "BusinessEntityID": "9",
                                    "FirstName": "Gigi",
                                    "LastName": "Matthew"
                                },
                                {
                                    "BusinessEntityID": "10",
                                    "FirstName": "Michael",
                                    "LastName": "Raheem"
                                },
                                {
                                    "BusinessEntityID": "11",
                                    "FirstName": "Ovidiu",
                                    "LastName": "Cracium"
                                },
                                {
                                    "BusinessEntityID": "12",
                                    "FirstName": "Thierry",
                                    "LastName": "D'Hers"
                                },
                                {
                                    "BusinessEntityID": "13",
                                    "FirstName": "Janice",
                                    "LastName": "Galvin"
                                },
                                {
                                    "BusinessEntityID": "14",
                                    "FirstName": "Michael",
                                    "LastName": "Sullivan"
                                },
                                {
                                    "BusinessEntityID": "15",
                                    "FirstName": "Sharon",
                                    "LastName": "Salavaria"
                                },
                                {
                                    "BusinessEntityID": "16",
                                    "FirstName": "David",
                                    "LastName": "Bradley"
                                },
                                {
                                    "BusinessEntityID": "17",
                                    "FirstName": "Kevin",
                                    "LastName": "Brown"
                                },
                                {
                                    "BusinessEntityID": "18",
                                    "FirstName": "John",
                                    "LastName": "Wood"
                                },
                                {
                                    "BusinessEntityID": "19",
                                    "FirstName": "Mary",
                                    "LastName": "Dempsey"
                                },
                                {
                                    "BusinessEntityID": "20",
                                    "FirstName": "Wanida",
                                    "LastName": "Benshoof"
                                }
                            ]
                        },
                        "text/html": [
                            "<table>",
                            "<tr><th>BusinessEntityID</th><th>FirstName</th><th>LastName</th></tr>",
                            "<tr><td>1</td><td>Ken</td><td>Sánchez</td></tr>",
                            "<tr><td>2</td><td>Terri</td><td>Duffy</td></tr>",
                            "<tr><td>3</td><td>Roberto</td><td>Tamburello</td></tr>",
                            "<tr><td>4</td><td>Rob</td><td>Walters</td></tr>",
                            "<tr><td>5</td><td>Gail</td><td>Erickson</td></tr>",
                            "<tr><td>6</td><td>Jossef</td><td>Goldberg</td></tr>",
                            "<tr><td>7</td><td>Dylan</td><td>Miller</td></tr>",
                            "<tr><td>8</td><td>Diane</td><td>Margheim</td></tr>",
                            "<tr><td>9</td><td>Gigi</td><td>Matthew</td></tr>",
                            "<tr><td>10</td><td>Michael</td><td>Raheem</td></tr>",
                            "<tr><td>11</td><td>Ovidiu</td><td>Cracium</td></tr>",
                            "<tr><td>12</td><td>Thierry</td><td>D&#39;Hers</td></tr>",
                            "<tr><td>13</td><td>Janice</td><td>Galvin</td></tr>",
                            "<tr><td>14</td><td>Michael</td><td>Sullivan</td></tr>",
                            "<tr><td>15</td><td>Sharon</td><td>Salavaria</td></tr>",
                            "<tr><td>16</td><td>David</td><td>Bradley</td></tr>",
                            "<tr><td>17</td><td>Kevin</td><td>Brown</td></tr>",
                            "<tr><td>18</td><td>John</td><td>Wood</td></tr>",
                            "<tr><td>19</td><td>Mary</td><td>Dempsey</td></tr>",
                            "<tr><td>20</td><td>Wanida</td><td>Benshoof</td></tr>",
                            "</table>"
                        ]
                    }
                }
            ],
            "execution_count": 15
        },
        {
            "cell_type": "code",
            "source": [
                "-- Proposition 10: High freight or high subtotal orders (TOP 20)\n",
                "SELECT TOP 20 SalesOrderID, CustomerID, FirstName, LastName, Category, Freight, SubTotal\n",
                "FROM (\n",
                "    SELECT h.SalesOrderID, c.CustomerID, p.FirstName, p.LastName, 'High Freight' AS Category, h.Freight, h.SubTotal\n",
                "    FROM Sales.SalesOrderHeader h\n",
                "    JOIN Sales.Customer c ON h.CustomerID = c.CustomerID\n",
                "    JOIN Person.Person p ON c.PersonID = p.BusinessEntityID\n",
                "    WHERE h.Freight > 500\n",
                "    UNION\n",
                "    SELECT h.SalesOrderID, c.CustomerID, p.FirstName, p.LastName, 'High Subtotal' AS Category, h.Freight, h.SubTotal\n",
                "    FROM Sales.SalesOrderHeader h\n",
                "    JOIN Sales.Customer c ON h.CustomerID = c.CustomerID\n",
                "    JOIN Person.Person p ON c.PersonID = p.BusinessEntityID\n",
                "    WHERE h.SubTotal > 20000\n",
                ") AS BigOrders\n",
                "ORDER BY SalesOrderID;\n",
                "\n",
                ""
            ],
            "metadata": {
                "azdata_cell_guid": "2215929d-1f80-495a-af4c-06d70a7fda54",
                "language": "sql"
            },
            "outputs": [
                {
                    "output_type": "display_data",
                    "data": {
                        "text/html": "(20 rows affected)"
                    },
                    "metadata": {}
                },
                {
                    "output_type": "display_data",
                    "data": {
                        "text/html": "Total execution time: 00:00:00.025"
                    },
                    "metadata": {}
                },
                {
                    "output_type": "execute_result",
                    "metadata": {},
                    "execution_count": 17,
                    "data": {
                        "application/vnd.dataresource+json": {
                            "schema": {
                                "fields": [
                                    {
                                        "name": "SalesOrderID"
                                    },
                                    {
                                        "name": "CustomerID"
                                    },
                                    {
                                        "name": "FirstName"
                                    },
                                    {
                                        "name": "LastName"
                                    },
                                    {
                                        "name": "Category"
                                    },
                                    {
                                        "name": "Freight"
                                    },
                                    {
                                        "name": "SubTotal"
                                    }
                                ]
                            },
                            "data": [
                                {
                                    "SalesOrderID": "43659",
                                    "CustomerID": "29825",
                                    "FirstName": "James",
                                    "LastName": "Hendergart",
                                    "Category": "High Freight",
                                    "Freight": "616.0984",
                                    "SubTotal": "20565.6206"
                                },
                                {
                                    "SalesOrderID": "43659",
                                    "CustomerID": "29825",
                                    "FirstName": "James",
                                    "LastName": "Hendergart",
                                    "Category": "High Subtotal",
                                    "Freight": "616.0984",
                                    "SubTotal": "20565.6206"
                                },
                                {
                                    "SalesOrderID": "43661",
                                    "CustomerID": "29734",
                                    "FirstName": "Jauna",
                                    "LastName": "Elson",
                                    "Category": "High Freight",
                                    "Freight": "985.553",
                                    "SubTotal": "32726.4786"
                                },
                                {
                                    "SalesOrderID": "43661",
                                    "CustomerID": "29734",
                                    "FirstName": "Jauna",
                                    "LastName": "Elson",
                                    "Category": "High Subtotal",
                                    "Freight": "985.553",
                                    "SubTotal": "32726.4786"
                                },
                                {
                                    "SalesOrderID": "43662",
                                    "CustomerID": "29994",
                                    "FirstName": "Robin",
                                    "LastName": "McGuigan",
                                    "Category": "High Freight",
                                    "Freight": "867.2389",
                                    "SubTotal": "28832.5289"
                                },
                                {
                                    "SalesOrderID": "43662",
                                    "CustomerID": "29994",
                                    "FirstName": "Robin",
                                    "LastName": "McGuigan",
                                    "Category": "High Subtotal",
                                    "Freight": "867.2389",
                                    "SubTotal": "28832.5289"
                                },
                                {
                                    "SalesOrderID": "43664",
                                    "CustomerID": "29898",
                                    "FirstName": "Sandeep",
                                    "LastName": "Katyal",
                                    "Category": "High Freight",
                                    "Freight": "732.81",
                                    "SubTotal": "24432.6088"
                                },
                                {
                                    "SalesOrderID": "43664",
                                    "CustomerID": "29898",
                                    "FirstName": "Sandeep",
                                    "LastName": "Katyal",
                                    "Category": "High Subtotal",
                                    "Freight": "732.81",
                                    "SubTotal": "24432.6088"
                                },
                                {
                                    "SalesOrderID": "43668",
                                    "CustomerID": "29614",
                                    "FirstName": "Ryan",
                                    "LastName": "Calafato",
                                    "Category": "High Freight",
                                    "Freight": "1081.8017",
                                    "SubTotal": "35944.1562"
                                },
                                {
                                    "SalesOrderID": "43668",
                                    "CustomerID": "29614",
                                    "FirstName": "Ryan",
                                    "LastName": "Calafato",
                                    "Category": "High Subtotal",
                                    "Freight": "1081.8017",
                                    "SubTotal": "35944.1562"
                                },
                                {
                                    "SalesOrderID": "43683",
                                    "CustomerID": "29497",
                                    "FirstName": "François",
                                    "LastName": "Ferrier",
                                    "Category": "High Freight",
                                    "Freight": "1283.484",
                                    "SubTotal": "42813.4333"
                                },
                                {
                                    "SalesOrderID": "43683",
                                    "CustomerID": "29497",
                                    "FirstName": "François",
                                    "LastName": "Ferrier",
                                    "Category": "High Subtotal",
                                    "Freight": "1283.484",
                                    "SubTotal": "42813.4333"
                                },
                                {
                                    "SalesOrderID": "43689",
                                    "CustomerID": "29646",
                                    "FirstName": "Stacey",
                                    "LastName": "Cereghino",
                                    "Category": "High Freight",
                                    "Freight": "1022.3419",
                                    "SubTotal": "33997.3702"
                                },
                                {
                                    "SalesOrderID": "43689",
                                    "CustomerID": "29646",
                                    "FirstName": "Stacey",
                                    "LastName": "Cereghino",
                                    "Category": "High Subtotal",
                                    "Freight": "1022.3419",
                                    "SubTotal": "33997.3702"
                                },
                                {
                                    "SalesOrderID": "43692",
                                    "CustomerID": "29992",
                                    "FirstName": "Sandra",
                                    "LastName": "Maynard",
                                    "Category": "High Freight",
                                    "Freight": "1155.1244",
                                    "SubTotal": "38510.8973"
                                },
                                {
                                    "SalesOrderID": "43692",
                                    "CustomerID": "29992",
                                    "FirstName": "Sandra",
                                    "LastName": "Maynard",
                                    "Category": "High Subtotal",
                                    "Freight": "1155.1244",
                                    "SubTotal": "38510.8973"
                                },
                                {
                                    "SalesOrderID": "43693",
                                    "CustomerID": "29491",
                                    "FirstName": "Carla",
                                    "LastName": "Adams",
                                    "Category": "High Freight",
                                    "Freight": "615.4864",
                                    "SubTotal": "20541.4072"
                                },
                                {
                                    "SalesOrderID": "43693",
                                    "CustomerID": "29491",
                                    "FirstName": "Carla",
                                    "LastName": "Adams",
                                    "Category": "High Subtotal",
                                    "Freight": "615.4864",
                                    "SubTotal": "20541.4072"
                                },
                                {
                                    "SalesOrderID": "43694",
                                    "CustomerID": "29549",
                                    "FirstName": "Shane",
                                    "LastName": "Belli",
                                    "Category": "High Freight",
                                    "Freight": "618.2268",
                                    "SubTotal": "20645.634"
                                },
                                {
                                    "SalesOrderID": "43694",
                                    "CustomerID": "29549",
                                    "FirstName": "Shane",
                                    "LastName": "Belli",
                                    "Category": "High Subtotal",
                                    "Freight": "618.2268",
                                    "SubTotal": "20645.634"
                                }
                            ]
                        },
                        "text/html": [
                            "<table>",
                            "<tr><th>SalesOrderID</th><th>CustomerID</th><th>FirstName</th><th>LastName</th><th>Category</th><th>Freight</th><th>SubTotal</th></tr>",
                            "<tr><td>43659</td><td>29825</td><td>James</td><td>Hendergart</td><td>High Freight</td><td>616.0984</td><td>20565.6206</td></tr>",
                            "<tr><td>43659</td><td>29825</td><td>James</td><td>Hendergart</td><td>High Subtotal</td><td>616.0984</td><td>20565.6206</td></tr>",
                            "<tr><td>43661</td><td>29734</td><td>Jauna</td><td>Elson</td><td>High Freight</td><td>985.553</td><td>32726.4786</td></tr>",
                            "<tr><td>43661</td><td>29734</td><td>Jauna</td><td>Elson</td><td>High Subtotal</td><td>985.553</td><td>32726.4786</td></tr>",
                            "<tr><td>43662</td><td>29994</td><td>Robin</td><td>McGuigan</td><td>High Freight</td><td>867.2389</td><td>28832.5289</td></tr>",
                            "<tr><td>43662</td><td>29994</td><td>Robin</td><td>McGuigan</td><td>High Subtotal</td><td>867.2389</td><td>28832.5289</td></tr>",
                            "<tr><td>43664</td><td>29898</td><td>Sandeep</td><td>Katyal</td><td>High Freight</td><td>732.81</td><td>24432.6088</td></tr>",
                            "<tr><td>43664</td><td>29898</td><td>Sandeep</td><td>Katyal</td><td>High Subtotal</td><td>732.81</td><td>24432.6088</td></tr>",
                            "<tr><td>43668</td><td>29614</td><td>Ryan</td><td>Calafato</td><td>High Freight</td><td>1081.8017</td><td>35944.1562</td></tr>",
                            "<tr><td>43668</td><td>29614</td><td>Ryan</td><td>Calafato</td><td>High Subtotal</td><td>1081.8017</td><td>35944.1562</td></tr>",
                            "<tr><td>43683</td><td>29497</td><td>François</td><td>Ferrier</td><td>High Freight</td><td>1283.484</td><td>42813.4333</td></tr>",
                            "<tr><td>43683</td><td>29497</td><td>François</td><td>Ferrier</td><td>High Subtotal</td><td>1283.484</td><td>42813.4333</td></tr>",
                            "<tr><td>43689</td><td>29646</td><td>Stacey</td><td>Cereghino</td><td>High Freight</td><td>1022.3419</td><td>33997.3702</td></tr>",
                            "<tr><td>43689</td><td>29646</td><td>Stacey</td><td>Cereghino</td><td>High Subtotal</td><td>1022.3419</td><td>33997.3702</td></tr>",
                            "<tr><td>43692</td><td>29992</td><td>Sandra</td><td>Maynard</td><td>High Freight</td><td>1155.1244</td><td>38510.8973</td></tr>",
                            "<tr><td>43692</td><td>29992</td><td>Sandra</td><td>Maynard</td><td>High Subtotal</td><td>1155.1244</td><td>38510.8973</td></tr>",
                            "<tr><td>43693</td><td>29491</td><td>Carla</td><td>Adams</td><td>High Freight</td><td>615.4864</td><td>20541.4072</td></tr>",
                            "<tr><td>43693</td><td>29491</td><td>Carla</td><td>Adams</td><td>High Subtotal</td><td>615.4864</td><td>20541.4072</td></tr>",
                            "<tr><td>43694</td><td>29549</td><td>Shane</td><td>Belli</td><td>High Freight</td><td>618.2268</td><td>20645.634</td></tr>",
                            "<tr><td>43694</td><td>29549</td><td>Shane</td><td>Belli</td><td>High Subtotal</td><td>618.2268</td><td>20645.634</td></tr>",
                            "</table>"
                        ]
                    }
                }
            ],
            "execution_count": 17
        }
    ]
}