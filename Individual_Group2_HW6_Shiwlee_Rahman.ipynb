{
    "metadata": {
        "kernelspec": {
            "name": "SQL",
            "display_name": "SQL",
            "language": "sql"
        },
        "language_info": {
            "name": "sql",
            "version": ""
        }
    },
    "nbformat_minor": 2,
    "nbformat": 4,
    "cells": [
        {
            "cell_type": "code",
            "source": [
                "-- Shiwlee Rahman\n",
                "\n",
                "--1. Top 10 customers who ordered in 2013 but not in 2014\n",
                "USE AdventureWorks2017;\n",
                "\n",
                "SELECT TOP 10 CustomerID\n",
                "FROM (\n",
                "    SELECT CustomerID\n",
                "    FROM Sales.SalesOrderHeader\n",
                "    WHERE OrderDate BETWEEN '2013-01-01' AND '2013-12-31'\n",
                "    \n",
                "    EXCEPT\n",
                "    \n",
                "    SELECT CustomerID\n",
                "    FROM Sales.SalesOrderHeader\n",
                "    WHERE OrderDate BETWEEN '2014-01-01' AND '2014-12-31'\n",
                ") AS Only2013\n",
                "ORDER BY CustomerID;\n",
                ""
            ],
            "metadata": {
                "azdata_cell_guid": "c864a741-e0f1-4527-81c5-e0737c5d9779",
                "language": "sql",
                "tags": []
            },
            "outputs": [
                {
                    "output_type": "display_data",
                    "data": {
                        "text/html": "(10 rows affected)"
                    },
                    "metadata": {}
                },
                {
                    "output_type": "display_data",
                    "data": {
                        "text/html": "Total execution time: 00:00:00.146"
                    },
                    "metadata": {}
                },
                {
                    "output_type": "execute_result",
                    "metadata": {},
                    "execution_count": 1,
                    "data": {
                        "application/vnd.dataresource+json": {
                            "schema": {
                                "fields": [
                                    {
                                        "name": "CustomerID"
                                    }
                                ]
                            },
                            "data": [
                                {
                                    "CustomerID": "11000"
                                },
                                {
                                    "CustomerID": "11002"
                                },
                                {
                                    "CustomerID": "11003"
                                },
                                {
                                    "CustomerID": "11004"
                                },
                                {
                                    "CustomerID": "11005"
                                },
                                {
                                    "CustomerID": "11006"
                                },
                                {
                                    "CustomerID": "11007"
                                },
                                {
                                    "CustomerID": "11008"
                                },
                                {
                                    "CustomerID": "11009"
                                },
                                {
                                    "CustomerID": "11010"
                                }
                            ]
                        },
                        "text/html": [
                            "<table>",
                            "<tr><th>CustomerID</th></tr>",
                            "<tr><td>11000</td></tr>",
                            "<tr><td>11002</td></tr>",
                            "<tr><td>11003</td></tr>",
                            "<tr><td>11004</td></tr>",
                            "<tr><td>11005</td></tr>",
                            "<tr><td>11006</td></tr>",
                            "<tr><td>11007</td></tr>",
                            "<tr><td>11008</td></tr>",
                            "<tr><td>11009</td></tr>",
                            "<tr><td>11010</td></tr>",
                            "</table>"
                        ]
                    }
                }
            ],
            "execution_count": 1
        },
        {
            "cell_type": "code",
            "source": [
                "--2: Customers with both high and low total orders\n",
                "--Find customers who made at least one large order (TotalDue > 5000) and also a small one (TotalDue < 1000).\n",
                "\n",
                "SELECT CustomerID\n",
                "FROM Sales.SalesOrderHeader\n",
                "WHERE TotalDue > 5000\n",
                "INTERSECT\n",
                "SELECT CustomerID\n",
                "FROM Sales.SalesOrderHeader\n",
                "WHERE TotalDue < 1000;\n",
                ""
            ],
            "metadata": {
                "language": "sql",
                "azdata_cell_guid": "efcdacb6-cf7b-433b-9a25-b4f3e4ead16f",
                "tags": []
            },
            "outputs": [
                {
                    "output_type": "display_data",
                    "data": {
                        "text/html": "(90 rows affected)"
                    },
                    "metadata": {}
                },
                {
                    "output_type": "display_data",
                    "data": {
                        "text/html": "Total execution time: 00:00:00.206"
                    },
                    "metadata": {}
                },
                {
                    "output_type": "execute_result",
                    "metadata": {},
                    "execution_count": 2,
                    "data": {
                        "application/vnd.dataresource+json": {
                            "schema": {
                                "fields": [
                                    {
                                        "name": "CustomerID"
                                    }
                                ]
                            },
                            "data": [
                                {
                                    "CustomerID": "29721"
                                },
                                {
                                    "CustomerID": "30076"
                                },
                                {
                                    "CustomerID": "29489"
                                },
                                {
                                    "CustomerID": "29515"
                                },
                                {
                                    "CustomerID": "29558"
                                },
                                {
                                    "CustomerID": "30096"
                                },
                                {
                                    "CustomerID": "29787"
                                },
                                {
                                    "CustomerID": "29718"
                                },
                                {
                                    "CustomerID": "29781"
                                },
                                {
                                    "CustomerID": "29492"
                                },
                                {
                                    "CustomerID": "29824"
                                },
                                {
                                    "CustomerID": "29890"
                                },
                                {
                                    "CustomerID": "29867"
                                },
                                {
                                    "CustomerID": "29555"
                                },
                                {
                                    "CustomerID": "29982"
                                },
                                {
                                    "CustomerID": "29730"
                                },
                                {
                                    "CustomerID": "29581"
                                },
                                {
                                    "CustomerID": "29830"
                                },
                                {
                                    "CustomerID": "29750"
                                },
                                {
                                    "CustomerID": "29810"
                                },
                                {
                                    "CustomerID": "29833"
                                },
                                {
                                    "CustomerID": "30019"
                                },
                                {
                                    "CustomerID": "29747"
                                },
                                {
                                    "CustomerID": "29816"
                                },
                                {
                                    "CustomerID": "30091"
                                },
                                {
                                    "CustomerID": "29696"
                                },
                                {
                                    "CustomerID": "29487"
                                },
                                {
                                    "CustomerID": "29968"
                                },
                                {
                                    "CustomerID": "29842"
                                },
                                {
                                    "CustomerID": "29948"
                                },
                                {
                                    "CustomerID": "29570"
                                },
                                {
                                    "CustomerID": "29593"
                                },
                                {
                                    "CustomerID": "29925"
                                },
                                {
                                    "CustomerID": "29988"
                                },
                                {
                                    "CustomerID": "29945"
                                },
                                {
                                    "CustomerID": "29610"
                                },
                                {
                                    "CustomerID": "29811"
                                },
                                {
                                    "CustomerID": "29665"
                                },
                                {
                                    "CustomerID": "29642"
                                },
                                {
                                    "CustomerID": "29828"
                                },
                                {
                                    "CustomerID": "29974"
                                },
                                {
                                    "CustomerID": "30060"
                                },
                                {
                                    "CustomerID": "29556"
                                },
                                {
                                    "CustomerID": "29622"
                                },
                                {
                                    "CustomerID": "30017"
                                },
                                {
                                    "CustomerID": "29914"
                                },
                                {
                                    "CustomerID": "29745"
                                },
                                {
                                    "CustomerID": "29659"
                                },
                                {
                                    "CustomerID": "29951"
                                },
                                {
                                    "CustomerID": "29588"
                                },
                                {
                                    "CustomerID": "29797"
                                },
                                {
                                    "CustomerID": "29711"
                                },
                                {
                                    "CustomerID": "29897"
                                },
                                {
                                    "CustomerID": "29691"
                                },
                                {
                                    "CustomerID": "30023"
                                },
                                {
                                    "CustomerID": "29983"
                                },
                                {
                                    "CustomerID": "29731"
                                },
                                {
                                    "CustomerID": "30095"
                                },
                                {
                                    "CustomerID": "29740"
                                },
                                {
                                    "CustomerID": "29717"
                                },
                                {
                                    "CustomerID": "29680"
                                },
                                {
                                    "CustomerID": "29846"
                                },
                                {
                                    "CustomerID": "29866"
                                },
                                {
                                    "CustomerID": "29511"
                                },
                                {
                                    "CustomerID": "29528"
                                },
                                {
                                    "CustomerID": "30029"
                                },
                                {
                                    "CustomerID": "29969"
                                },
                                {
                                    "CustomerID": "29800"
                                },
                                {
                                    "CustomerID": "29986"
                                },
                                {
                                    "CustomerID": "29757"
                                },
                                {
                                    "CustomerID": "29500"
                                },
                                {
                                    "CustomerID": "29623"
                                },
                                {
                                    "CustomerID": "30058"
                                },
                                {
                                    "CustomerID": "29517"
                                },
                                {
                                    "CustomerID": "29915"
                                },
                                {
                                    "CustomerID": "29958"
                                },
                                {
                                    "CustomerID": "29620"
                                },
                                {
                                    "CustomerID": "29683"
                                },
                                {
                                    "CustomerID": "30021"
                                },
                                {
                                    "CustomerID": "29869"
                                },
                                {
                                    "CustomerID": "29494"
                                },
                                {
                                    "CustomerID": "29892"
                                },
                                {
                                    "CustomerID": "30047"
                                },
                                {
                                    "CustomerID": "29569"
                                },
                                {
                                    "CustomerID": "29592"
                                },
                                {
                                    "CustomerID": "29675"
                                },
                                {
                                    "CustomerID": "29529"
                                },
                                {
                                    "CustomerID": "29944"
                                },
                                {
                                    "CustomerID": "29961"
                                },
                                {
                                    "CustomerID": "30004"
                                }
                            ]
                        },
                        "text/html": [
                            "<table>",
                            "<tr><th>CustomerID</th></tr>",
                            "<tr><td>29721</td></tr>",
                            "<tr><td>30076</td></tr>",
                            "<tr><td>29489</td></tr>",
                            "<tr><td>29515</td></tr>",
                            "<tr><td>29558</td></tr>",
                            "<tr><td>30096</td></tr>",
                            "<tr><td>29787</td></tr>",
                            "<tr><td>29718</td></tr>",
                            "<tr><td>29781</td></tr>",
                            "<tr><td>29492</td></tr>",
                            "<tr><td>29824</td></tr>",
                            "<tr><td>29890</td></tr>",
                            "<tr><td>29867</td></tr>",
                            "<tr><td>29555</td></tr>",
                            "<tr><td>29982</td></tr>",
                            "<tr><td>29730</td></tr>",
                            "<tr><td>29581</td></tr>",
                            "<tr><td>29830</td></tr>",
                            "<tr><td>29750</td></tr>",
                            "<tr><td>29810</td></tr>",
                            "<tr><td>29833</td></tr>",
                            "<tr><td>30019</td></tr>",
                            "<tr><td>29747</td></tr>",
                            "<tr><td>29816</td></tr>",
                            "<tr><td>30091</td></tr>",
                            "<tr><td>29696</td></tr>",
                            "<tr><td>29487</td></tr>",
                            "<tr><td>29968</td></tr>",
                            "<tr><td>29842</td></tr>",
                            "<tr><td>29948</td></tr>",
                            "<tr><td>29570</td></tr>",
                            "<tr><td>29593</td></tr>",
                            "<tr><td>29925</td></tr>",
                            "<tr><td>29988</td></tr>",
                            "<tr><td>29945</td></tr>",
                            "<tr><td>29610</td></tr>",
                            "<tr><td>29811</td></tr>",
                            "<tr><td>29665</td></tr>",
                            "<tr><td>29642</td></tr>",
                            "<tr><td>29828</td></tr>",
                            "<tr><td>29974</td></tr>",
                            "<tr><td>30060</td></tr>",
                            "<tr><td>29556</td></tr>",
                            "<tr><td>29622</td></tr>",
                            "<tr><td>30017</td></tr>",
                            "<tr><td>29914</td></tr>",
                            "<tr><td>29745</td></tr>",
                            "<tr><td>29659</td></tr>",
                            "<tr><td>29951</td></tr>",
                            "<tr><td>29588</td></tr>",
                            "<tr><td>29797</td></tr>",
                            "<tr><td>29711</td></tr>",
                            "<tr><td>29897</td></tr>",
                            "<tr><td>29691</td></tr>",
                            "<tr><td>30023</td></tr>",
                            "<tr><td>29983</td></tr>",
                            "<tr><td>29731</td></tr>",
                            "<tr><td>30095</td></tr>",
                            "<tr><td>29740</td></tr>",
                            "<tr><td>29717</td></tr>",
                            "<tr><td>29680</td></tr>",
                            "<tr><td>29846</td></tr>",
                            "<tr><td>29866</td></tr>",
                            "<tr><td>29511</td></tr>",
                            "<tr><td>29528</td></tr>",
                            "<tr><td>30029</td></tr>",
                            "<tr><td>29969</td></tr>",
                            "<tr><td>29800</td></tr>",
                            "<tr><td>29986</td></tr>",
                            "<tr><td>29757</td></tr>",
                            "<tr><td>29500</td></tr>",
                            "<tr><td>29623</td></tr>",
                            "<tr><td>30058</td></tr>",
                            "<tr><td>29517</td></tr>",
                            "<tr><td>29915</td></tr>",
                            "<tr><td>29958</td></tr>",
                            "<tr><td>29620</td></tr>",
                            "<tr><td>29683</td></tr>",
                            "<tr><td>30021</td></tr>",
                            "<tr><td>29869</td></tr>",
                            "<tr><td>29494</td></tr>",
                            "<tr><td>29892</td></tr>",
                            "<tr><td>30047</td></tr>",
                            "<tr><td>29569</td></tr>",
                            "<tr><td>29592</td></tr>",
                            "<tr><td>29675</td></tr>",
                            "<tr><td>29529</td></tr>",
                            "<tr><td>29944</td></tr>",
                            "<tr><td>29961</td></tr>",
                            "<tr><td>30004</td></tr>",
                            "</table>"
                        ]
                    }
                }
            ],
            "execution_count": 2
        },
        {
            "cell_type": "code",
            "source": [
                "--3. Return all cities that appear in both vendor and customer address lists.\n",
                "SELECT A.City\n",
                "FROM Purchasing.Vendor AS V\n",
                "JOIN Person.BusinessEntityAddress AS BEA\n",
                "  ON BEA.BusinessEntityID = V.BusinessEntityID\n",
                "JOIN Person.Address AS A\n",
                "  ON A.AddressID = BEA.AddressID\n",
                "\n",
                "INTERSECT\n",
                "\n",
                "-- Cities used by customers as Ship-To addresses on orders\n",
                "SELECT A.City\n",
                "FROM Sales.SalesOrderHeader AS H\n",
                "JOIN Person.Address AS A\n",
                "  ON A.AddressID = H.ShipToAddressID\n",
                "ORDER BY City;\n",
                "\n",
                ""
            ],
            "metadata": {
                "language": "sql",
                "azdata_cell_guid": "248252c5-1321-4656-bd51-413ec50707ff"
            },
            "outputs": [
                {
                    "output_type": "display_data",
                    "data": {
                        "text/html": "(60 rows affected)"
                    },
                    "metadata": {}
                },
                {
                    "output_type": "display_data",
                    "data": {
                        "text/html": "Total execution time: 00:00:00.198"
                    },
                    "metadata": {}
                },
                {
                    "output_type": "execute_result",
                    "metadata": {},
                    "execution_count": 3,
                    "data": {
                        "application/vnd.dataresource+json": {
                            "schema": {
                                "fields": [
                                    {
                                        "name": "City"
                                    }
                                ]
                            },
                            "data": [
                                {
                                    "City": "Albany"
                                },
                                {
                                    "City": "Atlanta"
                                },
                                {
                                    "City": "Ballard"
                                },
                                {
                                    "City": "Beaverton"
                                },
                                {
                                    "City": "Bellevue"
                                },
                                {
                                    "City": "Bellingham"
                                },
                                {
                                    "City": "Berkeley"
                                },
                                {
                                    "City": "Bremerton"
                                },
                                {
                                    "City": "Burbank"
                                },
                                {
                                    "City": "Burien"
                                },
                                {
                                    "City": "Burlingame"
                                },
                                {
                                    "City": "Chicago"
                                },
                                {
                                    "City": "Chula Vista"
                                },
                                {
                                    "City": "Concord"
                                },
                                {
                                    "City": "Coronado"
                                },
                                {
                                    "City": "Corvallis"
                                },
                                {
                                    "City": "Dallas"
                                },
                                {
                                    "City": "Daly City"
                                },
                                {
                                    "City": "Denver"
                                },
                                {
                                    "City": "Detroit"
                                },
                                {
                                    "City": "Downey"
                                },
                                {
                                    "City": "Everett"
                                },
                                {
                                    "City": "Glendale"
                                },
                                {
                                    "City": "Houston"
                                },
                                {
                                    "City": "Imperial Beach"
                                },
                                {
                                    "City": "Issaquah"
                                },
                                {
                                    "City": "Kirkland"
                                },
                                {
                                    "City": "La Mesa"
                                },
                                {
                                    "City": "Lake Oswego"
                                },
                                {
                                    "City": "Lakewood"
                                },
                                {
                                    "City": "Lebanon"
                                },
                                {
                                    "City": "Lemon Grove"
                                },
                                {
                                    "City": "Long Beach"
                                },
                                {
                                    "City": "Los Angeles"
                                },
                                {
                                    "City": "Lynnwood"
                                },
                                {
                                    "City": "Mill Valley"
                                },
                                {
                                    "City": "Missoula"
                                },
                                {
                                    "City": "New York"
                                },
                                {
                                    "City": "Newport Beach"
                                },
                                {
                                    "City": "Novato"
                                },
                                {
                                    "City": "Oakland"
                                },
                                {
                                    "City": "Olympia"
                                },
                                {
                                    "City": "Palo Alto"
                                },
                                {
                                    "City": "Phoenix"
                                },
                                {
                                    "City": "Port Orchard"
                                },
                                {
                                    "City": "Portland"
                                },
                                {
                                    "City": "Richmond"
                                },
                                {
                                    "City": "Salem"
                                },
                                {
                                    "City": "Salt Lake City"
                                },
                                {
                                    "City": "San Francisco"
                                },
                                {
                                    "City": "Santa Cruz"
                                },
                                {
                                    "City": "Sedro Woolley"
                                },
                                {
                                    "City": "Spokane"
                                },
                                {
                                    "City": "Spring Valley"
                                },
                                {
                                    "City": "Tacoma"
                                },
                                {
                                    "City": "Torrance"
                                },
                                {
                                    "City": "W. Linn"
                                },
                                {
                                    "City": "Walla Walla"
                                },
                                {
                                    "City": "West Covina"
                                },
                                {
                                    "City": "Woodburn"
                                }
                            ]
                        },
                        "text/html": [
                            "<table>",
                            "<tr><th>City</th></tr>",
                            "<tr><td>Albany</td></tr>",
                            "<tr><td>Atlanta</td></tr>",
                            "<tr><td>Ballard</td></tr>",
                            "<tr><td>Beaverton</td></tr>",
                            "<tr><td>Bellevue</td></tr>",
                            "<tr><td>Bellingham</td></tr>",
                            "<tr><td>Berkeley</td></tr>",
                            "<tr><td>Bremerton</td></tr>",
                            "<tr><td>Burbank</td></tr>",
                            "<tr><td>Burien</td></tr>",
                            "<tr><td>Burlingame</td></tr>",
                            "<tr><td>Chicago</td></tr>",
                            "<tr><td>Chula Vista</td></tr>",
                            "<tr><td>Concord</td></tr>",
                            "<tr><td>Coronado</td></tr>",
                            "<tr><td>Corvallis</td></tr>",
                            "<tr><td>Dallas</td></tr>",
                            "<tr><td>Daly City</td></tr>",
                            "<tr><td>Denver</td></tr>",
                            "<tr><td>Detroit</td></tr>",
                            "<tr><td>Downey</td></tr>",
                            "<tr><td>Everett</td></tr>",
                            "<tr><td>Glendale</td></tr>",
                            "<tr><td>Houston</td></tr>",
                            "<tr><td>Imperial Beach</td></tr>",
                            "<tr><td>Issaquah</td></tr>",
                            "<tr><td>Kirkland</td></tr>",
                            "<tr><td>La Mesa</td></tr>",
                            "<tr><td>Lake Oswego</td></tr>",
                            "<tr><td>Lakewood</td></tr>",
                            "<tr><td>Lebanon</td></tr>",
                            "<tr><td>Lemon Grove</td></tr>",
                            "<tr><td>Long Beach</td></tr>",
                            "<tr><td>Los Angeles</td></tr>",
                            "<tr><td>Lynnwood</td></tr>",
                            "<tr><td>Mill Valley</td></tr>",
                            "<tr><td>Missoula</td></tr>",
                            "<tr><td>New York</td></tr>",
                            "<tr><td>Newport Beach</td></tr>",
                            "<tr><td>Novato</td></tr>",
                            "<tr><td>Oakland</td></tr>",
                            "<tr><td>Olympia</td></tr>",
                            "<tr><td>Palo Alto</td></tr>",
                            "<tr><td>Phoenix</td></tr>",
                            "<tr><td>Port Orchard</td></tr>",
                            "<tr><td>Portland</td></tr>",
                            "<tr><td>Richmond</td></tr>",
                            "<tr><td>Salem</td></tr>",
                            "<tr><td>Salt Lake City</td></tr>",
                            "<tr><td>San Francisco</td></tr>",
                            "<tr><td>Santa Cruz</td></tr>",
                            "<tr><td>Sedro Woolley</td></tr>",
                            "<tr><td>Spokane</td></tr>",
                            "<tr><td>Spring Valley</td></tr>",
                            "<tr><td>Tacoma</td></tr>",
                            "<tr><td>Torrance</td></tr>",
                            "<tr><td>W. Linn</td></tr>",
                            "<tr><td>Walla Walla</td></tr>",
                            "<tr><td>West Covina</td></tr>",
                            "<tr><td>Woodburn</td></tr>",
                            "</table>"
                        ]
                    }
                }
            ],
            "execution_count": 3
        },
        {
            "cell_type": "code",
            "source": [
                "--4: Products sold online UNION products sold via salesperson (distinct set of products)\n",
                "\n",
                "SELECT ProductID\n",
                "FROM Sales.SalesOrderDetail d\n",
                "JOIN Sales.SalesOrderHeader h ON h.SalesOrderID = d.SalesOrderID\n",
                "WHERE h.OnlineOrderFlag = 1\n",
                "UNION\n",
                "SELECT ProductID\n",
                "FROM Sales.SalesOrderDetail d\n",
                "JOIN Sales.SalesOrderHeader h ON h.SalesOrderID = d.SalesOrderID\n",
                "WHERE h.SalesPersonID IS NOT NULL;\n",
                ""
            ],
            "metadata": {
                "language": "sql",
                "azdata_cell_guid": "d36c0f1a-cea3-423b-9683-7bfc0031f2b5"
            },
            "outputs": [
                {
                    "output_type": "display_data",
                    "data": {
                        "text/html": "(266 rows affected)"
                    },
                    "metadata": {}
                },
                {
                    "output_type": "display_data",
                    "data": {
                        "text/html": "Total execution time: 00:00:00.257"
                    },
                    "metadata": {}
                },
                {
                    "output_type": "execute_result",
                    "metadata": {},
                    "execution_count": 4,
                    "data": {
                        "application/vnd.dataresource+json": {
                            "schema": {
                                "fields": [
                                    {
                                        "name": "ProductID"
                                    }
                                ]
                            },
                            "data": [
                                {
                                    "ProductID": "925"
                                },
                                {
                                    "ProductID": "902"
                                },
                                {
                                    "ProductID": "879"
                                },
                                {
                                    "ProductID": "710"
                                },
                                {
                                    "ProductID": "733"
                                },
                                {
                                    "ProductID": "856"
                                },
                                {
                                    "ProductID": "756"
                                },
                                {
                                    "ProductID": "779"
                                },
                                {
                                    "ProductID": "971"
                                },
                                {
                                    "ProductID": "802"
                                },
                                {
                                    "ProductID": "825"
                                },
                                {
                                    "ProductID": "948"
                                },
                                {
                                    "ProductID": "919"
                                },
                                {
                                    "ProductID": "908"
                                },
                                {
                                    "ProductID": "965"
                                },
                                {
                                    "ProductID": "762"
                                },
                                {
                                    "ProductID": "816"
                                },
                                {
                                    "ProductID": "716"
                                },
                                {
                                    "ProductID": "862"
                                },
                                {
                                    "ProductID": "865"
                                },
                                {
                                    "ProductID": "793"
                                },
                                {
                                    "ProductID": "722"
                                },
                                {
                                    "ProductID": "750"
                                },
                                {
                                    "ProductID": "773"
                                },
                                {
                                    "ProductID": "822"
                                },
                                {
                                    "ProductID": "799"
                                },
                                {
                                    "ProductID": "836"
                                },
                                {
                                    "ProductID": "730"
                                },
                                {
                                    "ProductID": "742"
                                },
                                {
                                    "ProductID": "979"
                                },
                                {
                                    "ProductID": "991"
                                },
                                {
                                    "ProductID": "942"
                                },
                                {
                                    "ProductID": "785"
                                },
                                {
                                    "ProductID": "885"
                                },
                                {
                                    "ProductID": "985"
                                },
                                {
                                    "ProductID": "759"
                                },
                                {
                                    "ProductID": "736"
                                },
                                {
                                    "ProductID": "805"
                                },
                                {
                                    "ProductID": "782"
                                },
                                {
                                    "ProductID": "922"
                                },
                                {
                                    "ProductID": "928"
                                },
                                {
                                    "ProductID": "999"
                                },
                                {
                                    "ProductID": "945"
                                },
                                {
                                    "ProductID": "951"
                                },
                                {
                                    "ProductID": "876"
                                },
                                {
                                    "ProductID": "899"
                                },
                                {
                                    "ProductID": "753"
                                },
                                {
                                    "ProductID": "859"
                                },
                                {
                                    "ProductID": "968"
                                },
                                {
                                    "ProductID": "719"
                                },
                                {
                                    "ProductID": "905"
                                },
                                {
                                    "ProductID": "916"
                                },
                                {
                                    "ProductID": "713"
                                },
                                {
                                    "ProductID": "959"
                                },
                                {
                                    "ProductID": "962"
                                },
                                {
                                    "ProductID": "813"
                                },
                                {
                                    "ProductID": "796"
                                },
                                {
                                    "ProductID": "770"
                                },
                                {
                                    "ProductID": "868"
                                },
                                {
                                    "ProductID": "819"
                                },
                                {
                                    "ProductID": "776"
                                },
                                {
                                    "ProductID": "931"
                                },
                                {
                                    "ProductID": "896"
                                },
                                {
                                    "ProductID": "882"
                                },
                                {
                                    "ProductID": "833"
                                },
                                {
                                    "ProductID": "839"
                                },
                                {
                                    "ProductID": "982"
                                },
                                {
                                    "ProductID": "988"
                                },
                                {
                                    "ProductID": "939"
                                },
                                {
                                    "ProductID": "888"
                                },
                                {
                                    "ProductID": "739"
                                },
                                {
                                    "ProductID": "854"
                                },
                                {
                                    "ProductID": "877"
                                },
                                {
                                    "ProductID": "808"
                                },
                                {
                                    "ProductID": "831"
                                },
                                {
                                    "ProductID": "946"
                                },
                                {
                                    "ProductID": "994"
                                },
                                {
                                    "ProductID": "900"
                                },
                                {
                                    "ProductID": "923"
                                },
                                {
                                    "ProductID": "860"
                                },
                                {
                                    "ProductID": "871"
                                },
                                {
                                    "ProductID": "754"
                                },
                                {
                                    "ProductID": "708"
                                },
                                {
                                    "ProductID": "954"
                                },
                                {
                                    "ProductID": "917"
                                },
                                {
                                    "ProductID": "768"
                                },
                                {
                                    "ProductID": "963"
                                },
                                {
                                    "ProductID": "814"
                                },
                                {
                                    "ProductID": "714"
                                },
                                {
                                    "ProductID": "960"
                                },
                                {
                                    "ProductID": "771"
                                },
                                {
                                    "ProductID": "748"
                                },
                                {
                                    "ProductID": "914"
                                },
                                {
                                    "ProductID": "820"
                                },
                                {
                                    "ProductID": "891"
                                },
                                {
                                    "ProductID": "797"
                                },
                                {
                                    "ProductID": "777"
                                },
                                {
                                    "ProductID": "883"
                                },
                                {
                                    "ProductID": "977"
                                },
                                {
                                    "ProductID": "934"
                                },
                                {
                                    "ProductID": "940"
                                },
                                {
                                    "ProductID": "791"
                                },
                                {
                                    "ProductID": "983"
                                },
                                {
                                    "ProductID": "711"
                                },
                                {
                                    "ProductID": "926"
                                },
                                {
                                    "ProductID": "903"
                                },
                                {
                                    "ProductID": "880"
                                },
                                {
                                    "ProductID": "757"
                                },
                                {
                                    "ProductID": "780"
                                },
                                {
                                    "ProductID": "828"
                                },
                                {
                                    "ProductID": "974"
                                },
                                {
                                    "ProductID": "897"
                                },
                                {
                                    "ProductID": "874"
                                },
                                {
                                    "ProductID": "997"
                                },
                                {
                                    "ProductID": "765"
                                },
                                {
                                    "ProductID": "717"
                                },
                                {
                                    "ProductID": "920"
                                },
                                {
                                    "ProductID": "966"
                                },
                                {
                                    "ProductID": "857"
                                },
                                {
                                    "ProductID": "863"
                                },
                                {
                                    "ProductID": "957"
                                },
                                {
                                    "ProductID": "811"
                                },
                                {
                                    "ProductID": "911"
                                },
                                {
                                    "ProductID": "937"
                                },
                                {
                                    "ProductID": "817"
                                },
                                {
                                    "ProductID": "794"
                                },
                                {
                                    "ProductID": "745"
                                },
                                {
                                    "ProductID": "774"
                                },
                                {
                                    "ProductID": "725"
                                },
                                {
                                    "ProductID": "751"
                                },
                                {
                                    "ProductID": "800"
                                },
                                {
                                    "ProductID": "943"
                                },
                                {
                                    "ProductID": "980"
                                },
                                {
                                    "ProductID": "894"
                                },
                                {
                                    "ProductID": "986"
                                },
                                {
                                    "ProductID": "788"
                                },
                                {
                                    "ProductID": "712"
                                },
                                {
                                    "ProductID": "783"
                                },
                                {
                                    "ProductID": "760"
                                },
                                {
                                    "ProductID": "806"
                                },
                                {
                                    "ProductID": "875"
                                },
                                {
                                    "ProductID": "952"
                                },
                                {
                                    "ProductID": "969"
                                },
                                {
                                    "ProductID": "975"
                                },
                                {
                                    "ProductID": "852"
                                },
                                {
                                    "ProductID": "998"
                                },
                                {
                                    "ProductID": "898"
                                },
                                {
                                    "ProductID": "766"
                                },
                                {
                                    "ProductID": "906"
                                },
                                {
                                    "ProductID": "958"
                                },
                                {
                                    "ProductID": "858"
                                },
                                {
                                    "ProductID": "795"
                                },
                                {
                                    "ProductID": "961"
                                },
                                {
                                    "ProductID": "889"
                                },
                                {
                                    "ProductID": "938"
                                },
                                {
                                    "ProductID": "769"
                                },
                                {
                                    "ProductID": "869"
                                },
                                {
                                    "ProductID": "752"
                                },
                                {
                                    "ProductID": "775"
                                },
                                {
                                    "ProductID": "726"
                                },
                                {
                                    "ProductID": "789"
                                },
                                {
                                    "ProductID": "932"
                                },
                                {
                                    "ProductID": "895"
                                },
                                {
                                    "ProductID": "989"
                                },
                                {
                                    "ProductID": "732"
                                },
                                {
                                    "ProductID": "981"
                                },
                                {
                                    "ProductID": "878"
                                },
                                {
                                    "ProductID": "949"
                                },
                                {
                                    "ProductID": "832"
                                },
                                {
                                    "ProductID": "855"
                                },
                                {
                                    "ProductID": "826"
                                },
                                {
                                    "ProductID": "972"
                                },
                                {
                                    "ProductID": "849"
                                },
                                {
                                    "ProductID": "872"
                                },
                                {
                                    "ProductID": "955"
                                },
                                {
                                    "ProductID": "918"
                                },
                                {
                                    "ProductID": "709"
                                },
                                {
                                    "ProductID": "809"
                                },
                                {
                                    "ProductID": "815"
                                },
                                {
                                    "ProductID": "909"
                                },
                                {
                                    "ProductID": "763"
                                },
                                {
                                    "ProductID": "866"
                                },
                                {
                                    "ProductID": "772"
                                },
                                {
                                    "ProductID": "723"
                                },
                                {
                                    "ProductID": "915"
                                },
                                {
                                    "ProductID": "843"
                                },
                                {
                                    "ProductID": "892"
                                },
                                {
                                    "ProductID": "749"
                                },
                                {
                                    "ProductID": "823"
                                },
                                {
                                    "ProductID": "729"
                                },
                                {
                                    "ProductID": "992"
                                },
                                {
                                    "ProductID": "743"
                                },
                                {
                                    "ProductID": "929"
                                },
                                {
                                    "ProductID": "978"
                                },
                                {
                                    "ProductID": "941"
                                },
                                {
                                    "ProductID": "792"
                                },
                                {
                                    "ProductID": "786"
                                },
                                {
                                    "ProductID": "835"
                                },
                                {
                                    "ProductID": "886"
                                },
                                {
                                    "ProductID": "935"
                                },
                                {
                                    "ProductID": "973"
                                },
                                {
                                    "ProductID": "950"
                                },
                                {
                                    "ProductID": "758"
                                },
                                {
                                    "ProductID": "927"
                                },
                                {
                                    "ProductID": "781"
                                },
                                {
                                    "ProductID": "904"
                                },
                                {
                                    "ProductID": "804"
                                },
                                {
                                    "ProductID": "827"
                                },
                                {
                                    "ProductID": "921"
                                },
                                {
                                    "ProductID": "850"
                                },
                                {
                                    "ProductID": "873"
                                },
                                {
                                    "ProductID": "996"
                                },
                                {
                                    "ProductID": "967"
                                },
                                {
                                    "ProductID": "718"
                                },
                                {
                                    "ProductID": "956"
                                },
                                {
                                    "ProductID": "810"
                                },
                                {
                                    "ProductID": "864"
                                },
                                {
                                    "ProductID": "764"
                                },
                                {
                                    "ProductID": "910"
                                },
                                {
                                    "ProductID": "844"
                                },
                                {
                                    "ProductID": "867"
                                },
                                {
                                    "ProductID": "893"
                                },
                                {
                                    "ProductID": "824"
                                },
                                {
                                    "ProductID": "944"
                                },
                                {
                                    "ProductID": "930"
                                },
                                {
                                    "ProductID": "744"
                                },
                                {
                                    "ProductID": "881"
                                },
                                {
                                    "ProductID": "887"
                                },
                                {
                                    "ProductID": "987"
                                },
                                {
                                    "ProductID": "838"
                                },
                                {
                                    "ProductID": "936"
                                },
                                {
                                    "ProductID": "738"
                                },
                                {
                                    "ProductID": "787"
                                },
                                {
                                    "ProductID": "807"
                                },
                                {
                                    "ProductID": "784"
                                },
                                {
                                    "ProductID": "853"
                                },
                                {
                                    "ProductID": "830"
                                },
                                {
                                    "ProductID": "970"
                                },
                                {
                                    "ProductID": "976"
                                },
                                {
                                    "ProductID": "993"
                                },
                                {
                                    "ProductID": "924"
                                },
                                {
                                    "ProductID": "947"
                                },
                                {
                                    "ProductID": "801"
                                },
                                {
                                    "ProductID": "907"
                                },
                                {
                                    "ProductID": "767"
                                },
                                {
                                    "ProductID": "755"
                                },
                                {
                                    "ProductID": "707"
                                },
                                {
                                    "ProductID": "953"
                                },
                                {
                                    "ProductID": "715"
                                },
                                {
                                    "ProductID": "964"
                                },
                                {
                                    "ProductID": "761"
                                },
                                {
                                    "ProductID": "861"
                                },
                                {
                                    "ProductID": "890"
                                },
                                {
                                    "ProductID": "747"
                                },
                                {
                                    "ProductID": "913"
                                },
                                {
                                    "ProductID": "841"
                                },
                                {
                                    "ProductID": "798"
                                },
                                {
                                    "ProductID": "727"
                                },
                                {
                                    "ProductID": "870"
                                },
                                {
                                    "ProductID": "884"
                                },
                                {
                                    "ProductID": "778"
                                },
                                {
                                    "ProductID": "790"
                                },
                                {
                                    "ProductID": "741"
                                },
                                {
                                    "ProductID": "990"
                                },
                                {
                                    "ProductID": "933"
                                },
                                {
                                    "ProductID": "984"
                                }
                            ]
                        },
                        "text/html": [
                            "<table>",
                            "<tr><th>ProductID</th></tr>",
                            "<tr><td>925</td></tr>",
                            "<tr><td>902</td></tr>",
                            "<tr><td>879</td></tr>",
                            "<tr><td>710</td></tr>",
                            "<tr><td>733</td></tr>",
                            "<tr><td>856</td></tr>",
                            "<tr><td>756</td></tr>",
                            "<tr><td>779</td></tr>",
                            "<tr><td>971</td></tr>",
                            "<tr><td>802</td></tr>",
                            "<tr><td>825</td></tr>",
                            "<tr><td>948</td></tr>",
                            "<tr><td>919</td></tr>",
                            "<tr><td>908</td></tr>",
                            "<tr><td>965</td></tr>",
                            "<tr><td>762</td></tr>",
                            "<tr><td>816</td></tr>",
                            "<tr><td>716</td></tr>",
                            "<tr><td>862</td></tr>",
                            "<tr><td>865</td></tr>",
                            "<tr><td>793</td></tr>",
                            "<tr><td>722</td></tr>",
                            "<tr><td>750</td></tr>",
                            "<tr><td>773</td></tr>",
                            "<tr><td>822</td></tr>",
                            "<tr><td>799</td></tr>",
                            "<tr><td>836</td></tr>",
                            "<tr><td>730</td></tr>",
                            "<tr><td>742</td></tr>",
                            "<tr><td>979</td></tr>",
                            "<tr><td>991</td></tr>",
                            "<tr><td>942</td></tr>",
                            "<tr><td>785</td></tr>",
                            "<tr><td>885</td></tr>",
                            "<tr><td>985</td></tr>",
                            "<tr><td>759</td></tr>",
                            "<tr><td>736</td></tr>",
                            "<tr><td>805</td></tr>",
                            "<tr><td>782</td></tr>",
                            "<tr><td>922</td></tr>",
                            "<tr><td>928</td></tr>",
                            "<tr><td>999</td></tr>",
                            "<tr><td>945</td></tr>",
                            "<tr><td>951</td></tr>",
                            "<tr><td>876</td></tr>",
                            "<tr><td>899</td></tr>",
                            "<tr><td>753</td></tr>",
                            "<tr><td>859</td></tr>",
                            "<tr><td>968</td></tr>",
                            "<tr><td>719</td></tr>",
                            "<tr><td>905</td></tr>",
                            "<tr><td>916</td></tr>",
                            "<tr><td>713</td></tr>",
                            "<tr><td>959</td></tr>",
                            "<tr><td>962</td></tr>",
                            "<tr><td>813</td></tr>",
                            "<tr><td>796</td></tr>",
                            "<tr><td>770</td></tr>",
                            "<tr><td>868</td></tr>",
                            "<tr><td>819</td></tr>",
                            "<tr><td>776</td></tr>",
                            "<tr><td>931</td></tr>",
                            "<tr><td>896</td></tr>",
                            "<tr><td>882</td></tr>",
                            "<tr><td>833</td></tr>",
                            "<tr><td>839</td></tr>",
                            "<tr><td>982</td></tr>",
                            "<tr><td>988</td></tr>",
                            "<tr><td>939</td></tr>",
                            "<tr><td>888</td></tr>",
                            "<tr><td>739</td></tr>",
                            "<tr><td>854</td></tr>",
                            "<tr><td>877</td></tr>",
                            "<tr><td>808</td></tr>",
                            "<tr><td>831</td></tr>",
                            "<tr><td>946</td></tr>",
                            "<tr><td>994</td></tr>",
                            "<tr><td>900</td></tr>",
                            "<tr><td>923</td></tr>",
                            "<tr><td>860</td></tr>",
                            "<tr><td>871</td></tr>",
                            "<tr><td>754</td></tr>",
                            "<tr><td>708</td></tr>",
                            "<tr><td>954</td></tr>",
                            "<tr><td>917</td></tr>",
                            "<tr><td>768</td></tr>",
                            "<tr><td>963</td></tr>",
                            "<tr><td>814</td></tr>",
                            "<tr><td>714</td></tr>",
                            "<tr><td>960</td></tr>",
                            "<tr><td>771</td></tr>",
                            "<tr><td>748</td></tr>",
                            "<tr><td>914</td></tr>",
                            "<tr><td>820</td></tr>",
                            "<tr><td>891</td></tr>",
                            "<tr><td>797</td></tr>",
                            "<tr><td>777</td></tr>",
                            "<tr><td>883</td></tr>",
                            "<tr><td>977</td></tr>",
                            "<tr><td>934</td></tr>",
                            "<tr><td>940</td></tr>",
                            "<tr><td>791</td></tr>",
                            "<tr><td>983</td></tr>",
                            "<tr><td>711</td></tr>",
                            "<tr><td>926</td></tr>",
                            "<tr><td>903</td></tr>",
                            "<tr><td>880</td></tr>",
                            "<tr><td>757</td></tr>",
                            "<tr><td>780</td></tr>",
                            "<tr><td>828</td></tr>",
                            "<tr><td>974</td></tr>",
                            "<tr><td>897</td></tr>",
                            "<tr><td>874</td></tr>",
                            "<tr><td>997</td></tr>",
                            "<tr><td>765</td></tr>",
                            "<tr><td>717</td></tr>",
                            "<tr><td>920</td></tr>",
                            "<tr><td>966</td></tr>",
                            "<tr><td>857</td></tr>",
                            "<tr><td>863</td></tr>",
                            "<tr><td>957</td></tr>",
                            "<tr><td>811</td></tr>",
                            "<tr><td>911</td></tr>",
                            "<tr><td>937</td></tr>",
                            "<tr><td>817</td></tr>",
                            "<tr><td>794</td></tr>",
                            "<tr><td>745</td></tr>",
                            "<tr><td>774</td></tr>",
                            "<tr><td>725</td></tr>",
                            "<tr><td>751</td></tr>",
                            "<tr><td>800</td></tr>",
                            "<tr><td>943</td></tr>",
                            "<tr><td>980</td></tr>",
                            "<tr><td>894</td></tr>",
                            "<tr><td>986</td></tr>",
                            "<tr><td>788</td></tr>",
                            "<tr><td>712</td></tr>",
                            "<tr><td>783</td></tr>",
                            "<tr><td>760</td></tr>",
                            "<tr><td>806</td></tr>",
                            "<tr><td>875</td></tr>",
                            "<tr><td>952</td></tr>",
                            "<tr><td>969</td></tr>",
                            "<tr><td>975</td></tr>",
                            "<tr><td>852</td></tr>",
                            "<tr><td>998</td></tr>",
                            "<tr><td>898</td></tr>",
                            "<tr><td>766</td></tr>",
                            "<tr><td>906</td></tr>",
                            "<tr><td>958</td></tr>",
                            "<tr><td>858</td></tr>",
                            "<tr><td>795</td></tr>",
                            "<tr><td>961</td></tr>",
                            "<tr><td>889</td></tr>",
                            "<tr><td>938</td></tr>",
                            "<tr><td>769</td></tr>",
                            "<tr><td>869</td></tr>",
                            "<tr><td>752</td></tr>",
                            "<tr><td>775</td></tr>",
                            "<tr><td>726</td></tr>",
                            "<tr><td>789</td></tr>",
                            "<tr><td>932</td></tr>",
                            "<tr><td>895</td></tr>",
                            "<tr><td>989</td></tr>",
                            "<tr><td>732</td></tr>",
                            "<tr><td>981</td></tr>",
                            "<tr><td>878</td></tr>",
                            "<tr><td>949</td></tr>",
                            "<tr><td>832</td></tr>",
                            "<tr><td>855</td></tr>",
                            "<tr><td>826</td></tr>",
                            "<tr><td>972</td></tr>",
                            "<tr><td>849</td></tr>",
                            "<tr><td>872</td></tr>",
                            "<tr><td>955</td></tr>",
                            "<tr><td>918</td></tr>",
                            "<tr><td>709</td></tr>",
                            "<tr><td>809</td></tr>",
                            "<tr><td>815</td></tr>",
                            "<tr><td>909</td></tr>",
                            "<tr><td>763</td></tr>",
                            "<tr><td>866</td></tr>",
                            "<tr><td>772</td></tr>",
                            "<tr><td>723</td></tr>",
                            "<tr><td>915</td></tr>",
                            "<tr><td>843</td></tr>",
                            "<tr><td>892</td></tr>",
                            "<tr><td>749</td></tr>",
                            "<tr><td>823</td></tr>",
                            "<tr><td>729</td></tr>",
                            "<tr><td>992</td></tr>",
                            "<tr><td>743</td></tr>",
                            "<tr><td>929</td></tr>",
                            "<tr><td>978</td></tr>",
                            "<tr><td>941</td></tr>",
                            "<tr><td>792</td></tr>",
                            "<tr><td>786</td></tr>",
                            "<tr><td>835</td></tr>",
                            "<tr><td>886</td></tr>",
                            "<tr><td>935</td></tr>",
                            "<tr><td>973</td></tr>",
                            "<tr><td>950</td></tr>",
                            "<tr><td>758</td></tr>",
                            "<tr><td>927</td></tr>",
                            "<tr><td>781</td></tr>",
                            "<tr><td>904</td></tr>",
                            "<tr><td>804</td></tr>",
                            "<tr><td>827</td></tr>",
                            "<tr><td>921</td></tr>",
                            "<tr><td>850</td></tr>",
                            "<tr><td>873</td></tr>",
                            "<tr><td>996</td></tr>",
                            "<tr><td>967</td></tr>",
                            "<tr><td>718</td></tr>",
                            "<tr><td>956</td></tr>",
                            "<tr><td>810</td></tr>",
                            "<tr><td>864</td></tr>",
                            "<tr><td>764</td></tr>",
                            "<tr><td>910</td></tr>",
                            "<tr><td>844</td></tr>",
                            "<tr><td>867</td></tr>",
                            "<tr><td>893</td></tr>",
                            "<tr><td>824</td></tr>",
                            "<tr><td>944</td></tr>",
                            "<tr><td>930</td></tr>",
                            "<tr><td>744</td></tr>",
                            "<tr><td>881</td></tr>",
                            "<tr><td>887</td></tr>",
                            "<tr><td>987</td></tr>",
                            "<tr><td>838</td></tr>",
                            "<tr><td>936</td></tr>",
                            "<tr><td>738</td></tr>",
                            "<tr><td>787</td></tr>",
                            "<tr><td>807</td></tr>",
                            "<tr><td>784</td></tr>",
                            "<tr><td>853</td></tr>",
                            "<tr><td>830</td></tr>",
                            "<tr><td>970</td></tr>",
                            "<tr><td>976</td></tr>",
                            "<tr><td>993</td></tr>",
                            "<tr><td>924</td></tr>",
                            "<tr><td>947</td></tr>",
                            "<tr><td>801</td></tr>",
                            "<tr><td>907</td></tr>",
                            "<tr><td>767</td></tr>",
                            "<tr><td>755</td></tr>",
                            "<tr><td>707</td></tr>",
                            "<tr><td>953</td></tr>",
                            "<tr><td>715</td></tr>",
                            "<tr><td>964</td></tr>",
                            "<tr><td>761</td></tr>",
                            "<tr><td>861</td></tr>",
                            "<tr><td>890</td></tr>",
                            "<tr><td>747</td></tr>",
                            "<tr><td>913</td></tr>",
                            "<tr><td>841</td></tr>",
                            "<tr><td>798</td></tr>",
                            "<tr><td>727</td></tr>",
                            "<tr><td>870</td></tr>",
                            "<tr><td>884</td></tr>",
                            "<tr><td>778</td></tr>",
                            "<tr><td>790</td></tr>",
                            "<tr><td>741</td></tr>",
                            "<tr><td>990</td></tr>",
                            "<tr><td>933</td></tr>",
                            "<tr><td>984</td></tr>",
                            "</table>"
                        ]
                    }
                }
            ],
            "execution_count": 4
        },
        {
            "cell_type": "code",
            "source": [
                "--5: Top 10 most common products across both channels\n",
                "\n",
                "SELECT TOP (10) ProductID\n",
                "FROM (\n",
                "    SELECT ProductID\n",
                "    FROM Sales.SalesOrderDetail d\n",
                "    JOIN Sales.SalesOrderHeader h ON h.SalesOrderID = d.SalesOrderID\n",
                "    WHERE h.OnlineOrderFlag = 1\n",
                "      AND h.OrderDate >= '2014-01-01' AND h.OrderDate < '2015-01-01'\n",
                "\n",
                "    UNION\n",
                "\n",
                "    SELECT ProductID\n",
                "    FROM Sales.SalesOrderDetail d\n",
                "    JOIN Sales.SalesOrderHeader h ON h.SalesOrderID = d.SalesOrderID\n",
                "    WHERE h.SalesPersonID IS NOT NULL\n",
                "      AND h.OrderDate >= '2014-01-01' AND h.OrderDate < '2015-01-01'\n",
                ") AS U\n",
                "ORDER BY ProductID;"
            ],
            "metadata": {
                "language": "sql",
                "azdata_cell_guid": "af3d494a-7483-44e6-8b2d-13bba05be639"
            },
            "outputs": [
                {
                    "output_type": "display_data",
                    "data": {
                        "text/html": "(10 rows affected)"
                    },
                    "metadata": {}
                },
                {
                    "output_type": "display_data",
                    "data": {
                        "text/html": "Total execution time: 00:00:00.092"
                    },
                    "metadata": {}
                },
                {
                    "output_type": "execute_result",
                    "metadata": {},
                    "execution_count": 5,
                    "data": {
                        "application/vnd.dataresource+json": {
                            "schema": {
                                "fields": [
                                    {
                                        "name": "ProductID"
                                    }
                                ]
                            },
                            "data": [
                                {
                                    "ProductID": "707"
                                },
                                {
                                    "ProductID": "708"
                                },
                                {
                                    "ProductID": "711"
                                },
                                {
                                    "ProductID": "712"
                                },
                                {
                                    "ProductID": "713"
                                },
                                {
                                    "ProductID": "714"
                                },
                                {
                                    "ProductID": "715"
                                },
                                {
                                    "ProductID": "716"
                                },
                                {
                                    "ProductID": "717"
                                },
                                {
                                    "ProductID": "718"
                                }
                            ]
                        },
                        "text/html": [
                            "<table>",
                            "<tr><th>ProductID</th></tr>",
                            "<tr><td>707</td></tr>",
                            "<tr><td>708</td></tr>",
                            "<tr><td>711</td></tr>",
                            "<tr><td>712</td></tr>",
                            "<tr><td>713</td></tr>",
                            "<tr><td>714</td></tr>",
                            "<tr><td>715</td></tr>",
                            "<tr><td>716</td></tr>",
                            "<tr><td>717</td></tr>",
                            "<tr><td>718</td></tr>",
                            "</table>"
                        ]
                    }
                }
            ],
            "execution_count": 5
        },
        {
            "cell_type": "code",
            "source": [
                "-- 6: Customers who bought in both early and middle parts of 2014\n",
                "SELECT CustomerID\n",
                "FROM Sales.SalesOrderHeader\n",
                "WHERE OrderDate >= '2014-01-01' AND OrderDate < '2014-04-01'\n",
                "\n",
                "INTERSECT\n",
                "\n",
                "SELECT CustomerID\n",
                "FROM Sales.SalesOrderHeader\n",
                "WHERE OrderDate >= '2014-04-01' AND OrderDate < '2014-07-01';\n",
                ""
            ],
            "metadata": {
                "language": "sql",
                "azdata_cell_guid": "29f6cfbb-621a-4685-9f77-5c554d610d57"
            },
            "outputs": [
                {
                    "output_type": "display_data",
                    "data": {
                        "text/html": "(658 rows affected)"
                    },
                    "metadata": {}
                },
                {
                    "output_type": "display_data",
                    "data": {
                        "text/html": "Total execution time: 00:00:00.038"
                    },
                    "metadata": {}
                },
                {
                    "output_type": "execute_result",
                    "metadata": {},
                    "execution_count": 6,
                    "data": {
                        "application/vnd.dataresource+json": {
                            "schema": {
                                "fields": [
                                    {
                                        "name": "CustomerID"
                                    }
                                ]
                            },
                            "data": [
                                {
                                    "CustomerID": "17218"
                                },
                                {
                                    "CustomerID": "12117"
                                },
                                {
                                    "CustomerID": "13491"
                                },
                                {
                                    "CustomerID": "15134"
                                },
                                {
                                    "CustomerID": "16170"
                                },
                                {
                                    "CustomerID": "13760"
                                },
                                {
                                    "CustomerID": "13096"
                                },
                                {
                                    "CustomerID": "29638"
                                },
                                {
                                    "CustomerID": "14673"
                                },
                                {
                                    "CustomerID": "11035"
                                },
                                {
                                    "CustomerID": "11530"
                                },
                                {
                                    "CustomerID": "11676"
                                },
                                {
                                    "CustomerID": "11138"
                                },
                                {
                                    "CustomerID": "29535"
                                },
                                {
                                    "CustomerID": "11656"
                                },
                                {
                                    "CustomerID": "17321"
                                },
                                {
                                    "CustomerID": "14032"
                                },
                                {
                                    "CustomerID": "12532"
                                },
                                {
                                    "CustomerID": "14175"
                                },
                                {
                                    "CustomerID": "29864"
                                },
                                {
                                    "CustomerID": "13534"
                                },
                                {
                                    "CustomerID": "17072"
                                },
                                {
                                    "CustomerID": "29950"
                                },
                                {
                                    "CustomerID": "12097"
                                },
                                {
                                    "CustomerID": "11364"
                                },
                                {
                                    "CustomerID": "13116"
                                },
                                {
                                    "CustomerID": "29741"
                                },
                                {
                                    "CustomerID": "30113"
                                },
                                {
                                    "CustomerID": "29572"
                                },
                                {
                                    "CustomerID": "21065"
                                },
                                {
                                    "CustomerID": "29887"
                                },
                                {
                                    "CustomerID": "15718"
                                },
                                {
                                    "CustomerID": "29933"
                                },
                                {
                                    "CustomerID": "15526"
                                },
                                {
                                    "CustomerID": "14676"
                                },
                                {
                                    "CustomerID": "29635"
                                },
                                {
                                    "CustomerID": "17338"
                                },
                                {
                                    "CustomerID": "29781"
                                },
                                {
                                    "CustomerID": "13554"
                                },
                                {
                                    "CustomerID": "11845"
                                },
                                {
                                    "CustomerID": "29847"
                                },
                                {
                                    "CustomerID": "13860"
                                },
                                {
                                    "CustomerID": "16820"
                                },
                                {
                                    "CustomerID": "29804"
                                },
                                {
                                    "CustomerID": "14009"
                                },
                                {
                                    "CustomerID": "13966"
                                },
                                {
                                    "CustomerID": "16628"
                                },
                                {
                                    "CustomerID": "11802"
                                },
                                {
                                    "CustomerID": "11951"
                                },
                                {
                                    "CustomerID": "19525"
                                },
                                {
                                    "CustomerID": "13777"
                                },
                                {
                                    "CustomerID": "16030"
                                },
                                {
                                    "CustomerID": "18168"
                                },
                                {
                                    "CustomerID": "29552"
                                },
                                {
                                    "CustomerID": "29721"
                                },
                                {
                                    "CustomerID": "12326"
                                },
                                {
                                    "CustomerID": "14341"
                                },
                                {
                                    "CustomerID": "13013"
                                },
                                {
                                    "CustomerID": "13159"
                                },
                                {
                                    "CustomerID": "15761"
                                },
                                {
                                    "CustomerID": "14533"
                                },
                                {
                                    "CustomerID": "13551"
                                },
                                {
                                    "CustomerID": "19150"
                                },
                                {
                                    "CustomerID": "29678"
                                },
                                {
                                    "CustomerID": "12034"
                                },
                                {
                                    "CustomerID": "29701"
                                },
                                {
                                    "CustomerID": "17301"
                                },
                                {
                                    "CustomerID": "14069"
                                },
                                {
                                    "CustomerID": "13179"
                                },
                                {
                                    "CustomerID": "12054"
                                },
                                {
                                    "CustomerID": "29801"
                                },
                                {
                                    "CustomerID": "14261"
                                },
                                {
                                    "CustomerID": "12638"
                                },
                                {
                                    "CustomerID": "15051"
                                },
                                {
                                    "CustomerID": "13969"
                                },
                                {
                                    "CustomerID": "16837"
                                },
                                {
                                    "CustomerID": "11078"
                                },
                                {
                                    "CustomerID": "19585"
                                },
                                {
                                    "CustomerID": "13634"
                                },
                                {
                                    "CustomerID": "11619"
                                },
                                {
                                    "CustomerID": "11032"
                                },
                                {
                                    "CustomerID": "11636"
                                },
                                {
                                    "CustomerID": "11287"
                                },
                                {
                                    "CustomerID": "17779"
                                },
                                {
                                    "CustomerID": "12369"
                                },
                                {
                                    "CustomerID": "11682"
                                },
                                {
                                    "CustomerID": "18320"
                                },
                                {
                                    "CustomerID": "19339"
                                },
                                {
                                    "CustomerID": "11679"
                                },
                                {
                                    "CustomerID": "30033"
                                },
                                {
                                    "CustomerID": "29492"
                                },
                                {
                                    "CustomerID": "11467"
                                },
                                {
                                    "CustomerID": "16614"
                                },
                                {
                                    "CustomerID": "13239"
                                },
                                {
                                    "CustomerID": "15340"
                                },
                                {
                                    "CustomerID": "11659"
                                },
                                {
                                    "CustomerID": "29512"
                                },
                                {
                                    "CustomerID": "19640"
                                },
                                {
                                    "CustomerID": "11791"
                                },
                                {
                                    "CustomerID": "12973"
                                },
                                {
                                    "CustomerID": "11330"
                                },
                                {
                                    "CustomerID": "17579"
                                },
                                {
                                    "CustomerID": "16262"
                                },
                                {
                                    "CustomerID": "16205"
                                },
                                {
                                    "CustomerID": "18177"
                                },
                                {
                                    "CustomerID": "29750"
                                },
                                {
                                    "CustomerID": "11748"
                                },
                                {
                                    "CustomerID": "14765"
                                },
                                {
                                    "CustomerID": "12601"
                                },
                                {
                                    "CustomerID": "13265"
                                },
                                {
                                    "CustomerID": "11940"
                                },
                                {
                                    "CustomerID": "14055"
                                },
                                {
                                    "CustomerID": "11519"
                                },
                                {
                                    "CustomerID": "15847"
                                },
                                {
                                    "CustomerID": "11711"
                                },
                                {
                                    "CustomerID": "15598"
                                },
                                {
                                    "CustomerID": "12352"
                                },
                                {
                                    "CustomerID": "29956"
                                },
                                {
                                    "CustomerID": "29707"
                                },
                                {
                                    "CustomerID": "11170"
                                },
                                {
                                    "CustomerID": "12166"
                                },
                                {
                                    "CustomerID": "18326"
                                },
                                {
                                    "CustomerID": "29687"
                                },
                                {
                                    "CustomerID": "30019"
                                },
                                {
                                    "CustomerID": "14244"
                                },
                                {
                                    "CustomerID": "12916"
                                },
                                {
                                    "CustomerID": "12959"
                                },
                                {
                                    "CustomerID": "29584"
                                },
                                {
                                    "CustomerID": "11253"
                                },
                                {
                                    "CustomerID": "11038"
                                },
                                {
                                    "CustomerID": "30082"
                                },
                                {
                                    "CustomerID": "20756"
                                },
                                {
                                    "CustomerID": "13182"
                                },
                                {
                                    "CustomerID": "29644"
                                },
                                {
                                    "CustomerID": "14038"
                                },
                                {
                                    "CustomerID": "11121"
                                },
                                {
                                    "CustomerID": "29690"
                                },
                                {
                                    "CustomerID": "18283"
                                },
                                {
                                    "CustomerID": "29498"
                                },
                                {
                                    "CustomerID": "29982"
                                },
                                {
                                    "CustomerID": "17496"
                                },
                                {
                                    "CustomerID": "13105"
                                },
                                {
                                    "CustomerID": "11877"
                                },
                                {
                                    "CustomerID": "11190"
                                },
                                {
                                    "CustomerID": "30105"
                                },
                                {
                                    "CustomerID": "15120"
                                },
                                {
                                    "CustomerID": "17493"
                                },
                                {
                                    "CustomerID": "29962"
                                },
                                {
                                    "CustomerID": "15263"
                                },
                                {
                                    "CustomerID": "29770"
                                },
                                {
                                    "CustomerID": "19365"
                                },
                                {
                                    "CustomerID": "18160"
                                },
                                {
                                    "CustomerID": "17058"
                                },
                                {
                                    "CustomerID": "12730"
                                },
                                {
                                    "CustomerID": "16325"
                                },
                                {
                                    "CustomerID": "29856"
                                },
                                {
                                    "CustomerID": "11502"
                                },
                                {
                                    "CustomerID": "29810"
                                },
                                {
                                    "CustomerID": "13517"
                                },
                                {
                                    "CustomerID": "29501"
                                },
                                {
                                    "CustomerID": "15077"
                                },
                                {
                                    "CustomerID": "29873"
                                },
                                {
                                    "CustomerID": "17825"
                                },
                                {
                                    "CustomerID": "11980"
                                },
                                {
                                    "CustomerID": "17347"
                                },
                                {
                                    "CustomerID": "13792"
                                },
                                {
                                    "CustomerID": "12412"
                                },
                                {
                                    "CustomerID": "17304"
                                },
                                {
                                    "CustomerID": "11204"
                                },
                                {
                                    "CustomerID": "29939"
                                },
                                {
                                    "CustomerID": "29916"
                                },
                                {
                                    "CustomerID": "12063"
                                },
                                {
                                    "CustomerID": "16179"
                                },
                                {
                                    "CustomerID": "19617"
                                },
                                {
                                    "CustomerID": "12043"
                                },
                                {
                                    "CustomerID": "29959"
                                },
                                {
                                    "CustomerID": "11310"
                                },
                                {
                                    "CustomerID": "13972"
                                },
                                {
                                    "CustomerID": "13623"
                                },
                                {
                                    "CustomerID": "18166"
                                },
                                {
                                    "CustomerID": "29550"
                                },
                                {
                                    "CustomerID": "29527"
                                },
                                {
                                    "CustomerID": "15464"
                                },
                                {
                                    "CustomerID": "11219"
                                },
                                {
                                    "CustomerID": "21037"
                                },
                                {
                                    "CustomerID": "29696"
                                },
                                {
                                    "CustomerID": "12919"
                                },
                                {
                                    "CustomerID": "29922"
                                },
                                {
                                    "CustomerID": "13944"
                                },
                                {
                                    "CustomerID": "14359"
                                },
                                {
                                    "CustomerID": "16566"
                                },
                                {
                                    "CustomerID": "17207"
                                },
                                {
                                    "CustomerID": "29799"
                                },
                                {
                                    "CustomerID": "11276"
                                },
                                {
                                    "CustomerID": "29842"
                                },
                                {
                                    "CustomerID": "11176"
                                },
                                {
                                    "CustomerID": "18730"
                                },
                                {
                                    "CustomerID": "18289"
                                },
                                {
                                    "CustomerID": "15690"
                                },
                                {
                                    "CustomerID": "16772"
                                },
                                {
                                    "CustomerID": "30071"
                                },
                                {
                                    "CustomerID": "11857"
                                },
                                {
                                    "CustomerID": "13609"
                                },
                                {
                                    "CustomerID": "11425"
                                },
                                {
                                    "CustomerID": "29839"
                                },
                                {
                                    "CustomerID": "30031"
                                },
                                {
                                    "CustomerID": "13005"
                                },
                                {
                                    "CustomerID": "11677"
                                },
                                {
                                    "CustomerID": "12962"
                                },
                                {
                                    "CustomerID": "13108"
                                },
                                {
                                    "CustomerID": "11422"
                                },
                                {
                                    "CustomerID": "29796"
                                },
                                {
                                    "CustomerID": "29965"
                                },
                                {
                                    "CustomerID": "29553"
                                },
                                {
                                    "CustomerID": "30008"
                                },
                                {
                                    "CustomerID": "12939"
                                },
                                {
                                    "CustomerID": "12049"
                                },
                                {
                                    "CustomerID": "17067"
                                },
                                {
                                    "CustomerID": "17811"
                                },
                                {
                                    "CustomerID": "13758"
                                },
                                {
                                    "CustomerID": "14986"
                                },
                                {
                                    "CustomerID": "13466"
                                },
                                {
                                    "CustomerID": "15919"
                                },
                                {
                                    "CustomerID": "13002"
                                },
                                {
                                    "CustomerID": "12361"
                                },
                                {
                                    "CustomerID": "11236"
                                },
                                {
                                    "CustomerID": "16855"
                                },
                                {
                                    "CustomerID": "29736"
                                },
                                {
                                    "CustomerID": "29487"
                                },
                                {
                                    "CustomerID": "18126"
                                },
                                {
                                    "CustomerID": "13838"
                                },
                                {
                                    "CustomerID": "11823"
                                },
                                {
                                    "CustomerID": "29948"
                                },
                                {
                                    "CustomerID": "13961"
                                },
                                {
                                    "CustomerID": "11505"
                                },
                                {
                                    "CustomerID": "13423"
                                },
                                {
                                    "CustomerID": "18355"
                                },
                                {
                                    "CustomerID": "15129"
                                },
                                {
                                    "CustomerID": "18524"
                                },
                                {
                                    "CustomerID": "12945"
                                },
                                {
                                    "CustomerID": "17645"
                                },
                                {
                                    "CustomerID": "14674"
                                },
                                {
                                    "CustomerID": "17296"
                                },
                                {
                                    "CustomerID": "29676"
                                },
                                {
                                    "CustomerID": "15916"
                                },
                                {
                                    "CustomerID": "13941"
                                },
                                {
                                    "CustomerID": "11631"
                                },
                                {
                                    "CustomerID": "16649"
                                },
                                {
                                    "CustomerID": "13008"
                                },
                                {
                                    "CustomerID": "29822"
                                },
                                {
                                    "CustomerID": "17539"
                                },
                                {
                                    "CustomerID": "11820"
                                },
                                {
                                    "CustomerID": "11365"
                                },
                                {
                                    "CustomerID": "16191"
                                },
                                {
                                    "CustomerID": "13964"
                                },
                                {
                                    "CustomerID": "29653"
                                },
                                {
                                    "CustomerID": "12298"
                                },
                                {
                                    "CustomerID": "14313"
                                },
                                {
                                    "CustomerID": "11067"
                                },
                                {
                                    "CustomerID": "11242"
                                },
                                {
                                    "CustomerID": "29642"
                                },
                                {
                                    "CustomerID": "14992"
                                },
                                {
                                    "CustomerID": "29496"
                                },
                                {
                                    "CustomerID": "18968"
                                },
                                {
                                    "CustomerID": "14282"
                                },
                                {
                                    "CustomerID": "11142"
                                },
                                {
                                    "CustomerID": "13157"
                                },
                                {
                                    "CustomerID": "11680"
                                },
                                {
                                    "CustomerID": "19340"
                                },
                                {
                                    "CustomerID": "11039"
                                },
                                {
                                    "CustomerID": "30034"
                                },
                                {
                                    "CustomerID": "29891"
                                },
                                {
                                    "CustomerID": "11995"
                                },
                                {
                                    "CustomerID": "11368"
                                },
                                {
                                    "CustomerID": "11262"
                                },
                                {
                                    "CustomerID": "11019"
                                },
                                {
                                    "CustomerID": "17760"
                                },
                                {
                                    "CustomerID": "11763"
                                },
                                {
                                    "CustomerID": "11740"
                                },
                                {
                                    "CustomerID": "16695"
                                },
                                {
                                    "CustomerID": "12928"
                                },
                                {
                                    "CustomerID": "29576"
                                },
                                {
                                    "CustomerID": "29499"
                                },
                                {
                                    "CustomerID": "19420"
                                },
                                {
                                    "CustomerID": "14033"
                                },
                                {
                                    "CustomerID": "29722"
                                },
                                {
                                    "CustomerID": "13406"
                                },
                                {
                                    "CustomerID": "11723"
                                },
                                {
                                    "CustomerID": "11331"
                                },
                                {
                                    "CustomerID": "29639"
                                },
                                {
                                    "CustomerID": "17282"
                                },
                                {
                                    "CustomerID": "11245"
                                },
                                {
                                    "CustomerID": "11869"
                                },
                                {
                                    "CustomerID": "19031"
                                },
                                {
                                    "CustomerID": "29702"
                                },
                                {
                                    "CustomerID": "11159"
                                },
                                {
                                    "CustomerID": "16071"
                                },
                                {
                                    "CustomerID": "17757"
                                },
                                {
                                    "CustomerID": "12304"
                                },
                                {
                                    "CustomerID": "11308"
                                },
                                {
                                    "CustomerID": "13970"
                                },
                                {
                                    "CustomerID": "18759"
                                },
                                {
                                    "CustomerID": "11102"
                                },
                                {
                                    "CustomerID": "12330"
                                },
                                {
                                    "CustomerID": "11079"
                                },
                                {
                                    "CustomerID": "29579"
                                },
                                {
                                    "CustomerID": "17093"
                                },
                                {
                                    "CustomerID": "18172"
                                },
                                {
                                    "CustomerID": "11033"
                                },
                                {
                                    "CustomerID": "14096"
                                },
                                {
                                    "CustomerID": "18713"
                                },
                                {
                                    "CustomerID": "17239"
                                },
                                {
                                    "CustomerID": "17780"
                                },
                                {
                                    "CustomerID": "11182"
                                },
                                {
                                    "CustomerID": "14906"
                                },
                                {
                                    "CustomerID": "13197"
                                },
                                {
                                    "CustomerID": "12158"
                                },
                                {
                                    "CustomerID": "14030"
                                },
                                {
                                    "CustomerID": "14222"
                                },
                                {
                                    "CustomerID": "19569"
                                },
                                {
                                    "CustomerID": "17319"
                                },
                                {
                                    "CustomerID": "30097"
                                },
                                {
                                    "CustomerID": "29762"
                                },
                                {
                                    "CustomerID": "29622"
                                },
                                {
                                    "CustomerID": "13784"
                                },
                                {
                                    "CustomerID": "13701"
                                },
                                {
                                    "CustomerID": "29685"
                                },
                                {
                                    "CustomerID": "11640"
                                },
                                {
                                    "CustomerID": "29971"
                                },
                                {
                                    "CustomerID": "11185"
                                },
                                {
                                    "CustomerID": "29931"
                                },
                                {
                                    "CustomerID": "11726"
                                },
                                {
                                    "CustomerID": "30037"
                                },
                                {
                                    "CustomerID": "18135"
                                },
                                {
                                    "CustomerID": "14262"
                                },
                                {
                                    "CustomerID": "16426"
                                },
                                {
                                    "CustomerID": "12596"
                                },
                                {
                                    "CustomerID": "29951"
                                },
                                {
                                    "CustomerID": "29559"
                                },
                                {
                                    "CustomerID": "29834"
                                },
                                {
                                    "CustomerID": "17076"
                                },
                                {
                                    "CustomerID": "13023"
                                },
                                {
                                    "CustomerID": "11875"
                                },
                                {
                                    "CustomerID": "15230"
                                },
                                {
                                    "CustomerID": "15917"
                                },
                                {
                                    "CustomerID": "11921"
                                },
                                {
                                    "CustomerID": "29485"
                                },
                                {
                                    "CustomerID": "15141"
                                },
                                {
                                    "CustomerID": "13936"
                                },
                                {
                                    "CustomerID": "13959"
                                },
                                {
                                    "CustomerID": "15453"
                                },
                                {
                                    "CustomerID": "18158"
                                },
                                {
                                    "CustomerID": "11131"
                                },
                                {
                                    "CustomerID": "17225"
                                },
                                {
                                    "CustomerID": "15874"
                                },
                                {
                                    "CustomerID": "12087"
                                },
                                {
                                    "CustomerID": "11211"
                                },
                                {
                                    "CustomerID": "29711"
                                },
                                {
                                    "CustomerID": "29960"
                                },
                                {
                                    "CustomerID": "16286"
                                },
                                {
                                    "CustomerID": "29854"
                                },
                                {
                                    "CustomerID": "16933"
                                },
                                {
                                    "CustomerID": "15605"
                                },
                                {
                                    "CustomerID": "13707"
                                },
                                {
                                    "CustomerID": "29714"
                                },
                                {
                                    "CustomerID": "11500"
                                },
                                {
                                    "CustomerID": "29628"
                                },
                                {
                                    "CustomerID": "14480"
                                },
                                {
                                    "CustomerID": "18745"
                                },
                                {
                                    "CustomerID": "15997"
                                },
                                {
                                    "CustomerID": "11520"
                                },
                                {
                                    "CustomerID": "29957"
                                },
                                {
                                    "CustomerID": "30043"
                                },
                                {
                                    "CustomerID": "29651"
                                },
                                {
                                    "CustomerID": "12147"
                                },
                                {
                                    "CustomerID": "11214"
                                },
                                {
                                    "CustomerID": "18141"
                                },
                                {
                                    "CustomerID": "19807"
                                },
                                {
                                    "CustomerID": "30066"
                                },
                                {
                                    "CustomerID": "15078"
                                },
                                {
                                    "CustomerID": "29625"
                                },
                                {
                                    "CustomerID": "30020"
                                },
                                {
                                    "CustomerID": "11294"
                                },
                                {
                                    "CustomerID": "13604"
                                },
                                {
                                    "CustomerID": "17680"
                                },
                                {
                                    "CustomerID": "29917"
                                },
                                {
                                    "CustomerID": "17205"
                                },
                                {
                                    "CustomerID": "11417"
                                },
                                {
                                    "CustomerID": "16000"
                                },
                                {
                                    "CustomerID": "30089"
                                },
                                {
                                    "CustomerID": "29568"
                                },
                                {
                                    "CustomerID": "21055"
                                },
                                {
                                    "CustomerID": "11566"
                                },
                                {
                                    "CustomerID": "29897"
                                },
                                {
                                    "CustomerID": "12691"
                                },
                                {
                                    "CustomerID": "14039"
                                },
                                {
                                    "CustomerID": "15058"
                                },
                                {
                                    "CustomerID": "30046"
                                },
                                {
                                    "CustomerID": "29645"
                                },
                                {
                                    "CustomerID": "14686"
                                },
                                {
                                    "CustomerID": "13690"
                                },
                                {
                                    "CustomerID": "14626"
                                },
                                {
                                    "CustomerID": "13106"
                                },
                                {
                                    "CustomerID": "15121"
                                },
                                {
                                    "CustomerID": "29877"
                                },
                                {
                                    "CustomerID": "11941"
                                },
                                {
                                    "CustomerID": "11420"
                                },
                                {
                                    "CustomerID": "29943"
                                },
                                {
                                    "CustomerID": "11228"
                                },
                                {
                                    "CustomerID": "17202"
                                },
                                {
                                    "CustomerID": "16618"
                                },
                                {
                                    "CustomerID": "16332"
                                },
                                {
                                    "CustomerID": "17360"
                                },
                                {
                                    "CustomerID": "30072"
                                },
                                {
                                    "CustomerID": "18711"
                                },
                                {
                                    "CustomerID": "16481"
                                },
                                {
                                    "CustomerID": "30118"
                                },
                                {
                                    "CustomerID": "15130"
                                },
                                {
                                    "CustomerID": "11200"
                                },
                                {
                                    "CustomerID": "29531"
                                },
                                {
                                    "CustomerID": "29972"
                                },
                                {
                                    "CustomerID": "29577"
                                },
                                {
                                    "CustomerID": "29823"
                                },
                                {
                                    "CustomerID": "16876"
                                },
                                {
                                    "CustomerID": "12697"
                                },
                                {
                                    "CustomerID": "11844"
                                },
                                {
                                    "CustomerID": "11987"
                                },
                                {
                                    "CustomerID": "14669"
                                },
                                {
                                    "CustomerID": "12136"
                                },
                                {
                                    "CustomerID": "15694"
                                },
                                {
                                    "CustomerID": "11652"
                                },
                                {
                                    "CustomerID": "15253"
                                },
                                {
                                    "CustomerID": "14363"
                                },
                                {
                                    "CustomerID": "14904"
                                },
                                {
                                    "CustomerID": "29803"
                                },
                                {
                                    "CustomerID": "19624"
                                },
                                {
                                    "CustomerID": "29903"
                                },
                                {
                                    "CustomerID": "11360"
                                },
                                {
                                    "CustomerID": "29929"
                                },
                                {
                                    "CustomerID": "19541"
                                },
                                {
                                    "CustomerID": "11429"
                                },
                                {
                                    "CustomerID": "17503"
                                },
                                {
                                    "CustomerID": "13095"
                                },
                                {
                                    "CustomerID": "11034"
                                },
                                {
                                    "CustomerID": "14045"
                                },
                                {
                                    "CustomerID": "15127"
                                },
                                {
                                    "CustomerID": "11237"
                                },
                                {
                                    "CustomerID": "16401"
                                },
                                {
                                    "CustomerID": "29534"
                                },
                                {
                                    "CustomerID": "11277"
                                },
                                {
                                    "CustomerID": "29514"
                                },
                                {
                                    "CustomerID": "29843"
                                },
                                {
                                    "CustomerID": "14672"
                                },
                                {
                                    "CustomerID": "11300"
                                },
                                {
                                    "CustomerID": "11841"
                                },
                                {
                                    "CustomerID": "12551"
                                },
                                {
                                    "CustomerID": "16667"
                                },
                                {
                                    "CustomerID": "11363"
                                },
                                {
                                    "CustomerID": "16836"
                                },
                                {
                                    "CustomerID": "17500"
                                },
                                {
                                    "CustomerID": "29840"
                                },
                                {
                                    "CustomerID": "13109"
                                },
                                {
                                    "CustomerID": "11094"
                                },
                                {
                                    "CustomerID": "13693"
                                },
                                {
                                    "CustomerID": "11632"
                                },
                                {
                                    "CustomerID": "13009"
                                },
                                {
                                    "CustomerID": "13175"
                                },
                                {
                                    "CustomerID": "29966"
                                },
                                {
                                    "CustomerID": "11758"
                                },
                                {
                                    "CustomerID": "19581"
                                },
                                {
                                    "CustomerID": "29760"
                                },
                                {
                                    "CustomerID": "13965"
                                },
                                {
                                    "CustomerID": "29660"
                                },
                                {
                                    "CustomerID": "29574"
                                },
                                {
                                    "CustomerID": "29551"
                                },
                                {
                                    "CustomerID": "16175"
                                },
                                {
                                    "CustomerID": "29528"
                                },
                                {
                                    "CustomerID": "30069"
                                },
                                {
                                    "CustomerID": "30092"
                                },
                                {
                                    "CustomerID": "14446"
                                },
                                {
                                    "CustomerID": "15133"
                                },
                                {
                                    "CustomerID": "29720"
                                },
                                {
                                    "CustomerID": "30029"
                                },
                                {
                                    "CustomerID": "12325"
                                },
                                {
                                    "CustomerID": "29637"
                                },
                                {
                                    "CustomerID": "11784"
                                },
                                {
                                    "CustomerID": "29488"
                                },
                                {
                                    "CustomerID": "18127"
                                },
                                {
                                    "CustomerID": "11091"
                                },
                                {
                                    "CustomerID": "16567"
                                },
                                {
                                    "CustomerID": "11824"
                                },
                                {
                                    "CustomerID": "16089"
                                },
                                {
                                    "CustomerID": "14031"
                                },
                                {
                                    "CustomerID": "13172"
                                },
                                {
                                    "CustomerID": "29508"
                                },
                                {
                                    "CustomerID": "11698"
                                },
                                {
                                    "CustomerID": "29700"
                                },
                                {
                                    "CustomerID": "15007"
                                },
                                {
                                    "CustomerID": "12302"
                                },
                                {
                                    "CustomerID": "11506"
                                },
                                {
                                    "CustomerID": "30049"
                                },
                                {
                                    "CustomerID": "18147"
                                },
                                {
                                    "CustomerID": "11655"
                                },
                                {
                                    "CustomerID": "17214"
                                },
                                {
                                    "CustomerID": "11787"
                                },
                                {
                                    "CustomerID": "11123"
                                },
                                {
                                    "CustomerID": "18262"
                                },
                                {
                                    "CustomerID": "11833"
                                },
                                {
                                    "CustomerID": "11246"
                                },
                                {
                                    "CustomerID": "17778"
                                },
                                {
                                    "CustomerID": "14681"
                                },
                                {
                                    "CustomerID": "11372"
                                },
                                {
                                    "CustomerID": "13553"
                                },
                                {
                                    "CustomerID": "11203"
                                },
                                {
                                    "CustomerID": "29938"
                                },
                                {
                                    "CustomerID": "12205"
                                },
                                {
                                    "CustomerID": "29915"
                                },
                                {
                                    "CustomerID": "30038"
                                },
                                {
                                    "CustomerID": "18136"
                                },
                                {
                                    "CustomerID": "29603"
                                },
                                {
                                    "CustomerID": "11223"
                                },
                                {
                                    "CustomerID": "13971"
                                },
                                {
                                    "CustomerID": "11166"
                                },
                                {
                                    "CustomerID": "14263"
                                },
                                {
                                    "CustomerID": "11621"
                                },
                                {
                                    "CustomerID": "29812"
                                },
                                {
                                    "CustomerID": "17781"
                                },
                                {
                                    "CustomerID": "14684"
                                },
                                {
                                    "CustomerID": "18173"
                                },
                                {
                                    "CustomerID": "19364"
                                },
                                {
                                    "CustomerID": "15142"
                                },
                                {
                                    "CustomerID": "12892"
                                },
                                {
                                    "CustomerID": "17867"
                                },
                                {
                                    "CustomerID": "29494"
                                },
                                {
                                    "CustomerID": "16467"
                                },
                                {
                                    "CustomerID": "15162"
                                },
                                {
                                    "CustomerID": "13762"
                                },
                                {
                                    "CustomerID": "11661"
                                },
                                {
                                    "CustomerID": "15056"
                                },
                                {
                                    "CustomerID": "15448"
                                },
                                {
                                    "CustomerID": "17114"
                                },
                                {
                                    "CustomerID": "29557"
                                },
                                {
                                    "CustomerID": "16181"
                                },
                                {
                                    "CustomerID": "18345"
                                },
                                {
                                    "CustomerID": "15059"
                                },
                                {
                                    "CustomerID": "11432"
                                },
                                {
                                    "CustomerID": "16387"
                                },
                                {
                                    "CustomerID": "29809"
                                },
                                {
                                    "CustomerID": "12288"
                                },
                                {
                                    "CustomerID": "12311"
                                },
                                {
                                    "CustomerID": "18717"
                                },
                                {
                                    "CustomerID": "11724"
                                },
                                {
                                    "CustomerID": "29932"
                                },
                                {
                                    "CustomerID": "13201"
                                },
                                {
                                    "CustomerID": "11186"
                                },
                                {
                                    "CustomerID": "11827"
                                },
                                {
                                    "CustomerID": "19032"
                                },
                                {
                                    "CustomerID": "14100"
                                },
                                {
                                    "CustomerID": "18156"
                                },
                                {
                                    "CustomerID": "13765"
                                },
                                {
                                    "CustomerID": "29709"
                                },
                                {
                                    "CustomerID": "14057"
                                },
                                {
                                    "CustomerID": "11993"
                                },
                                {
                                    "CustomerID": "15866"
                                },
                                {
                                    "CustomerID": "19092"
                                },
                                {
                                    "CustomerID": "13141"
                                },
                                {
                                    "CustomerID": "11498"
                                },
                                {
                                    "CustomerID": "12972"
                                },
                                {
                                    "CustomerID": "16261"
                                },
                                {
                                    "CustomerID": "18720"
                                },
                                {
                                    "CustomerID": "29975"
                                },
                                {
                                    "CustomerID": "29563"
                                },
                                {
                                    "CustomerID": "14552"
                                },
                                {
                                    "CustomerID": "13290"
                                },
                                {
                                    "CustomerID": "11518"
                                },
                                {
                                    "CustomerID": "15826"
                                },
                                {
                                    "CustomerID": "13184"
                                },
                                {
                                    "CustomerID": "14658"
                                },
                                {
                                    "CustomerID": "29806"
                                },
                                {
                                    "CustomerID": "12048"
                                },
                                {
                                    "CustomerID": "29715"
                                },
                                {
                                    "CustomerID": "29738"
                                },
                                {
                                    "CustomerID": "14086"
                                },
                                {
                                    "CustomerID": "17126"
                                },
                                {
                                    "CustomerID": "29838"
                                },
                                {
                                    "CustomerID": "29815"
                                },
                                {
                                    "CustomerID": "29546"
                                },
                                {
                                    "CustomerID": "29669"
                                },
                                {
                                    "CustomerID": "17103"
                                },
                                {
                                    "CustomerID": "11046"
                                },
                                {
                                    "CustomerID": "29592"
                                },
                                {
                                    "CustomerID": "15122"
                                },
                                {
                                    "CustomerID": "12958"
                                },
                                {
                                    "CustomerID": "13794"
                                },
                                {
                                    "CustomerID": "13107"
                                },
                                {
                                    "CustomerID": "15878"
                                },
                                {
                                    "CustomerID": "14504"
                                },
                                {
                                    "CustomerID": "19579"
                                },
                                {
                                    "CustomerID": "17203"
                                },
                                {
                                    "CustomerID": "30064"
                                },
                                {
                                    "CustomerID": "30087"
                                },
                                {
                                    "CustomerID": "29964"
                                },
                                {
                                    "CustomerID": "30007"
                                },
                                {
                                    "CustomerID": "11215"
                                },
                                {
                                    "CustomerID": "14020"
                                },
                                {
                                    "CustomerID": "11507"
                                },
                                {
                                    "CustomerID": "14853"
                                },
                                {
                                    "CustomerID": "14561"
                                },
                                {
                                    "CustomerID": "15440"
                                },
                                {
                                    "CustomerID": "29695"
                                },
                                {
                                    "CustomerID": "16204"
                                },
                                {
                                    "CustomerID": "13751"
                                },
                                {
                                    "CustomerID": "11736"
                                },
                                {
                                    "CustomerID": "30027"
                                },
                                {
                                    "CustomerID": "29486"
                                },
                                {
                                    "CustomerID": "12606"
                                },
                                {
                                    "CustomerID": "16565"
                                },
                                {
                                    "CustomerID": "14209"
                                },
                                {
                                    "CustomerID": "16479"
                                },
                                {
                                    "CustomerID": "12692"
                                },
                                {
                                    "CustomerID": "11501"
                                },
                                {
                                    "CustomerID": "15251"
                                },
                                {
                                    "CustomerID": "21703"
                                },
                                {
                                    "CustomerID": "12357"
                                },
                                {
                                    "CustomerID": "29529"
                                },
                                {
                                    "CustomerID": "29629"
                                },
                                {
                                    "CustomerID": "15815"
                                },
                                {
                                    "CustomerID": "29878"
                                },
                                {
                                    "CustomerID": "29821"
                                },
                                {
                                    "CustomerID": "16705"
                                },
                                {
                                    "CustomerID": "12652"
                                },
                                {
                                    "CustomerID": "15102"
                                },
                                {
                                    "CustomerID": "12895"
                                },
                                {
                                    "CustomerID": "13665"
                                },
                                {
                                    "CustomerID": "29652"
                                },
                                {
                                    "CustomerID": "16184"
                                },
                                {
                                    "CustomerID": "30050"
                                },
                                {
                                    "CustomerID": "29881"
                                },
                                {
                                    "CustomerID": "11149"
                                },
                                {
                                    "CustomerID": "15062"
                                },
                                {
                                    "CustomerID": "11627"
                                },
                                {
                                    "CustomerID": "15231"
                                },
                                {
                                    "CustomerID": "29735"
                                },
                                {
                                    "CustomerID": "18265"
                                },
                                {
                                    "CustomerID": "12314"
                                },
                                {
                                    "CustomerID": "12964"
                                },
                                {
                                    "CustomerID": "29775"
                                },
                                {
                                    "CustomerID": "16187"
                                },
                                {
                                    "CustomerID": "11232"
                                },
                                {
                                    "CustomerID": "13960"
                                },
                                {
                                    "CustomerID": "16167"
                                },
                                {
                                    "CustomerID": "29841"
                                },
                                {
                                    "CustomerID": "11212"
                                },
                                {
                                    "CustomerID": "16038"
                                },
                                {
                                    "CustomerID": "16665"
                                },
                                {
                                    "CustomerID": "11318"
                                },
                                {
                                    "CustomerID": "16622"
                                },
                                {
                                    "CustomerID": "11361"
                                }
                            ]
                        },
                        "text/html": [
                            "<table>",
                            "<tr><th>CustomerID</th></tr>",
                            "<tr><td>17218</td></tr>",
                            "<tr><td>12117</td></tr>",
                            "<tr><td>13491</td></tr>",
                            "<tr><td>15134</td></tr>",
                            "<tr><td>16170</td></tr>",
                            "<tr><td>13760</td></tr>",
                            "<tr><td>13096</td></tr>",
                            "<tr><td>29638</td></tr>",
                            "<tr><td>14673</td></tr>",
                            "<tr><td>11035</td></tr>",
                            "<tr><td>11530</td></tr>",
                            "<tr><td>11676</td></tr>",
                            "<tr><td>11138</td></tr>",
                            "<tr><td>29535</td></tr>",
                            "<tr><td>11656</td></tr>",
                            "<tr><td>17321</td></tr>",
                            "<tr><td>14032</td></tr>",
                            "<tr><td>12532</td></tr>",
                            "<tr><td>14175</td></tr>",
                            "<tr><td>29864</td></tr>",
                            "<tr><td>13534</td></tr>",
                            "<tr><td>17072</td></tr>",
                            "<tr><td>29950</td></tr>",
                            "<tr><td>12097</td></tr>",
                            "<tr><td>11364</td></tr>",
                            "<tr><td>13116</td></tr>",
                            "<tr><td>29741</td></tr>",
                            "<tr><td>30113</td></tr>",
                            "<tr><td>29572</td></tr>",
                            "<tr><td>21065</td></tr>",
                            "<tr><td>29887</td></tr>",
                            "<tr><td>15718</td></tr>",
                            "<tr><td>29933</td></tr>",
                            "<tr><td>15526</td></tr>",
                            "<tr><td>14676</td></tr>",
                            "<tr><td>29635</td></tr>",
                            "<tr><td>17338</td></tr>",
                            "<tr><td>29781</td></tr>",
                            "<tr><td>13554</td></tr>",
                            "<tr><td>11845</td></tr>",
                            "<tr><td>29847</td></tr>",
                            "<tr><td>13860</td></tr>",
                            "<tr><td>16820</td></tr>",
                            "<tr><td>29804</td></tr>",
                            "<tr><td>14009</td></tr>",
                            "<tr><td>13966</td></tr>",
                            "<tr><td>16628</td></tr>",
                            "<tr><td>11802</td></tr>",
                            "<tr><td>11951</td></tr>",
                            "<tr><td>19525</td></tr>",
                            "<tr><td>13777</td></tr>",
                            "<tr><td>16030</td></tr>",
                            "<tr><td>18168</td></tr>",
                            "<tr><td>29552</td></tr>",
                            "<tr><td>29721</td></tr>",
                            "<tr><td>12326</td></tr>",
                            "<tr><td>14341</td></tr>",
                            "<tr><td>13013</td></tr>",
                            "<tr><td>13159</td></tr>",
                            "<tr><td>15761</td></tr>",
                            "<tr><td>14533</td></tr>",
                            "<tr><td>13551</td></tr>",
                            "<tr><td>19150</td></tr>",
                            "<tr><td>29678</td></tr>",
                            "<tr><td>12034</td></tr>",
                            "<tr><td>29701</td></tr>",
                            "<tr><td>17301</td></tr>",
                            "<tr><td>14069</td></tr>",
                            "<tr><td>13179</td></tr>",
                            "<tr><td>12054</td></tr>",
                            "<tr><td>29801</td></tr>",
                            "<tr><td>14261</td></tr>",
                            "<tr><td>12638</td></tr>",
                            "<tr><td>15051</td></tr>",
                            "<tr><td>13969</td></tr>",
                            "<tr><td>16837</td></tr>",
                            "<tr><td>11078</td></tr>",
                            "<tr><td>19585</td></tr>",
                            "<tr><td>13634</td></tr>",
                            "<tr><td>11619</td></tr>",
                            "<tr><td>11032</td></tr>",
                            "<tr><td>11636</td></tr>",
                            "<tr><td>11287</td></tr>",
                            "<tr><td>17779</td></tr>",
                            "<tr><td>12369</td></tr>",
                            "<tr><td>11682</td></tr>",
                            "<tr><td>18320</td></tr>",
                            "<tr><td>19339</td></tr>",
                            "<tr><td>11679</td></tr>",
                            "<tr><td>30033</td></tr>",
                            "<tr><td>29492</td></tr>",
                            "<tr><td>11467</td></tr>",
                            "<tr><td>16614</td></tr>",
                            "<tr><td>13239</td></tr>",
                            "<tr><td>15340</td></tr>",
                            "<tr><td>11659</td></tr>",
                            "<tr><td>29512</td></tr>",
                            "<tr><td>19640</td></tr>",
                            "<tr><td>11791</td></tr>",
                            "<tr><td>12973</td></tr>",
                            "<tr><td>11330</td></tr>",
                            "<tr><td>17579</td></tr>",
                            "<tr><td>16262</td></tr>",
                            "<tr><td>16205</td></tr>",
                            "<tr><td>18177</td></tr>",
                            "<tr><td>29750</td></tr>",
                            "<tr><td>11748</td></tr>",
                            "<tr><td>14765</td></tr>",
                            "<tr><td>12601</td></tr>",
                            "<tr><td>13265</td></tr>",
                            "<tr><td>11940</td></tr>",
                            "<tr><td>14055</td></tr>",
                            "<tr><td>11519</td></tr>",
                            "<tr><td>15847</td></tr>",
                            "<tr><td>11711</td></tr>",
                            "<tr><td>15598</td></tr>",
                            "<tr><td>12352</td></tr>",
                            "<tr><td>29956</td></tr>",
                            "<tr><td>29707</td></tr>",
                            "<tr><td>11170</td></tr>",
                            "<tr><td>12166</td></tr>",
                            "<tr><td>18326</td></tr>",
                            "<tr><td>29687</td></tr>",
                            "<tr><td>30019</td></tr>",
                            "<tr><td>14244</td></tr>",
                            "<tr><td>12916</td></tr>",
                            "<tr><td>12959</td></tr>",
                            "<tr><td>29584</td></tr>",
                            "<tr><td>11253</td></tr>",
                            "<tr><td>11038</td></tr>",
                            "<tr><td>30082</td></tr>",
                            "<tr><td>20756</td></tr>",
                            "<tr><td>13182</td></tr>",
                            "<tr><td>29644</td></tr>",
                            "<tr><td>14038</td></tr>",
                            "<tr><td>11121</td></tr>",
                            "<tr><td>29690</td></tr>",
                            "<tr><td>18283</td></tr>",
                            "<tr><td>29498</td></tr>",
                            "<tr><td>29982</td></tr>",
                            "<tr><td>17496</td></tr>",
                            "<tr><td>13105</td></tr>",
                            "<tr><td>11877</td></tr>",
                            "<tr><td>11190</td></tr>",
                            "<tr><td>30105</td></tr>",
                            "<tr><td>15120</td></tr>",
                            "<tr><td>17493</td></tr>",
                            "<tr><td>29962</td></tr>",
                            "<tr><td>15263</td></tr>",
                            "<tr><td>29770</td></tr>",
                            "<tr><td>19365</td></tr>",
                            "<tr><td>18160</td></tr>",
                            "<tr><td>17058</td></tr>",
                            "<tr><td>12730</td></tr>",
                            "<tr><td>16325</td></tr>",
                            "<tr><td>29856</td></tr>",
                            "<tr><td>11502</td></tr>",
                            "<tr><td>29810</td></tr>",
                            "<tr><td>13517</td></tr>",
                            "<tr><td>29501</td></tr>",
                            "<tr><td>15077</td></tr>",
                            "<tr><td>29873</td></tr>",
                            "<tr><td>17825</td></tr>",
                            "<tr><td>11980</td></tr>",
                            "<tr><td>17347</td></tr>",
                            "<tr><td>13792</td></tr>",
                            "<tr><td>12412</td></tr>",
                            "<tr><td>17304</td></tr>",
                            "<tr><td>11204</td></tr>",
                            "<tr><td>29939</td></tr>",
                            "<tr><td>29916</td></tr>",
                            "<tr><td>12063</td></tr>",
                            "<tr><td>16179</td></tr>",
                            "<tr><td>19617</td></tr>",
                            "<tr><td>12043</td></tr>",
                            "<tr><td>29959</td></tr>",
                            "<tr><td>11310</td></tr>",
                            "<tr><td>13972</td></tr>",
                            "<tr><td>13623</td></tr>",
                            "<tr><td>18166</td></tr>",
                            "<tr><td>29550</td></tr>",
                            "<tr><td>29527</td></tr>",
                            "<tr><td>15464</td></tr>",
                            "<tr><td>11219</td></tr>",
                            "<tr><td>21037</td></tr>",
                            "<tr><td>29696</td></tr>",
                            "<tr><td>12919</td></tr>",
                            "<tr><td>29922</td></tr>",
                            "<tr><td>13944</td></tr>",
                            "<tr><td>14359</td></tr>",
                            "<tr><td>16566</td></tr>",
                            "<tr><td>17207</td></tr>",
                            "<tr><td>29799</td></tr>",
                            "<tr><td>11276</td></tr>",
                            "<tr><td>29842</td></tr>",
                            "<tr><td>11176</td></tr>",
                            "<tr><td>18730</td></tr>",
                            "<tr><td>18289</td></tr>",
                            "<tr><td>15690</td></tr>",
                            "<tr><td>16772</td></tr>",
                            "<tr><td>30071</td></tr>",
                            "<tr><td>11857</td></tr>",
                            "<tr><td>13609</td></tr>",
                            "<tr><td>11425</td></tr>",
                            "<tr><td>29839</td></tr>",
                            "<tr><td>30031</td></tr>",
                            "<tr><td>13005</td></tr>",
                            "<tr><td>11677</td></tr>",
                            "<tr><td>12962</td></tr>",
                            "<tr><td>13108</td></tr>",
                            "<tr><td>11422</td></tr>",
                            "<tr><td>29796</td></tr>",
                            "<tr><td>29965</td></tr>",
                            "<tr><td>29553</td></tr>",
                            "<tr><td>30008</td></tr>",
                            "<tr><td>12939</td></tr>",
                            "<tr><td>12049</td></tr>",
                            "<tr><td>17067</td></tr>",
                            "<tr><td>17811</td></tr>",
                            "<tr><td>13758</td></tr>",
                            "<tr><td>14986</td></tr>",
                            "<tr><td>13466</td></tr>",
                            "<tr><td>15919</td></tr>",
                            "<tr><td>13002</td></tr>",
                            "<tr><td>12361</td></tr>",
                            "<tr><td>11236</td></tr>",
                            "<tr><td>16855</td></tr>",
                            "<tr><td>29736</td></tr>",
                            "<tr><td>29487</td></tr>",
                            "<tr><td>18126</td></tr>",
                            "<tr><td>13838</td></tr>",
                            "<tr><td>11823</td></tr>",
                            "<tr><td>29948</td></tr>",
                            "<tr><td>13961</td></tr>",
                            "<tr><td>11505</td></tr>",
                            "<tr><td>13423</td></tr>",
                            "<tr><td>18355</td></tr>",
                            "<tr><td>15129</td></tr>",
                            "<tr><td>18524</td></tr>",
                            "<tr><td>12945</td></tr>",
                            "<tr><td>17645</td></tr>",
                            "<tr><td>14674</td></tr>",
                            "<tr><td>17296</td></tr>",
                            "<tr><td>29676</td></tr>",
                            "<tr><td>15916</td></tr>",
                            "<tr><td>13941</td></tr>",
                            "<tr><td>11631</td></tr>",
                            "<tr><td>16649</td></tr>",
                            "<tr><td>13008</td></tr>",
                            "<tr><td>29822</td></tr>",
                            "<tr><td>17539</td></tr>",
                            "<tr><td>11820</td></tr>",
                            "<tr><td>11365</td></tr>",
                            "<tr><td>16191</td></tr>",
                            "<tr><td>13964</td></tr>",
                            "<tr><td>29653</td></tr>",
                            "<tr><td>12298</td></tr>",
                            "<tr><td>14313</td></tr>",
                            "<tr><td>11067</td></tr>",
                            "<tr><td>11242</td></tr>",
                            "<tr><td>29642</td></tr>",
                            "<tr><td>14992</td></tr>",
                            "<tr><td>29496</td></tr>",
                            "<tr><td>18968</td></tr>",
                            "<tr><td>14282</td></tr>",
                            "<tr><td>11142</td></tr>",
                            "<tr><td>13157</td></tr>",
                            "<tr><td>11680</td></tr>",
                            "<tr><td>19340</td></tr>",
                            "<tr><td>11039</td></tr>",
                            "<tr><td>30034</td></tr>",
                            "<tr><td>29891</td></tr>",
                            "<tr><td>11995</td></tr>",
                            "<tr><td>11368</td></tr>",
                            "<tr><td>11262</td></tr>",
                            "<tr><td>11019</td></tr>",
                            "<tr><td>17760</td></tr>",
                            "<tr><td>11763</td></tr>",
                            "<tr><td>11740</td></tr>",
                            "<tr><td>16695</td></tr>",
                            "<tr><td>12928</td></tr>",
                            "<tr><td>29576</td></tr>",
                            "<tr><td>29499</td></tr>",
                            "<tr><td>19420</td></tr>",
                            "<tr><td>14033</td></tr>",
                            "<tr><td>29722</td></tr>",
                            "<tr><td>13406</td></tr>",
                            "<tr><td>11723</td></tr>",
                            "<tr><td>11331</td></tr>",
                            "<tr><td>29639</td></tr>",
                            "<tr><td>17282</td></tr>",
                            "<tr><td>11245</td></tr>",
                            "<tr><td>11869</td></tr>",
                            "<tr><td>19031</td></tr>",
                            "<tr><td>29702</td></tr>",
                            "<tr><td>11159</td></tr>",
                            "<tr><td>16071</td></tr>",
                            "<tr><td>17757</td></tr>",
                            "<tr><td>12304</td></tr>",
                            "<tr><td>11308</td></tr>",
                            "<tr><td>13970</td></tr>",
                            "<tr><td>18759</td></tr>",
                            "<tr><td>11102</td></tr>",
                            "<tr><td>12330</td></tr>",
                            "<tr><td>11079</td></tr>",
                            "<tr><td>29579</td></tr>",
                            "<tr><td>17093</td></tr>",
                            "<tr><td>18172</td></tr>",
                            "<tr><td>11033</td></tr>",
                            "<tr><td>14096</td></tr>",
                            "<tr><td>18713</td></tr>",
                            "<tr><td>17239</td></tr>",
                            "<tr><td>17780</td></tr>",
                            "<tr><td>11182</td></tr>",
                            "<tr><td>14906</td></tr>",
                            "<tr><td>13197</td></tr>",
                            "<tr><td>12158</td></tr>",
                            "<tr><td>14030</td></tr>",
                            "<tr><td>14222</td></tr>",
                            "<tr><td>19569</td></tr>",
                            "<tr><td>17319</td></tr>",
                            "<tr><td>30097</td></tr>",
                            "<tr><td>29762</td></tr>",
                            "<tr><td>29622</td></tr>",
                            "<tr><td>13784</td></tr>",
                            "<tr><td>13701</td></tr>",
                            "<tr><td>29685</td></tr>",
                            "<tr><td>11640</td></tr>",
                            "<tr><td>29971</td></tr>",
                            "<tr><td>11185</td></tr>",
                            "<tr><td>29931</td></tr>",
                            "<tr><td>11726</td></tr>",
                            "<tr><td>30037</td></tr>",
                            "<tr><td>18135</td></tr>",
                            "<tr><td>14262</td></tr>",
                            "<tr><td>16426</td></tr>",
                            "<tr><td>12596</td></tr>",
                            "<tr><td>29951</td></tr>",
                            "<tr><td>29559</td></tr>",
                            "<tr><td>29834</td></tr>",
                            "<tr><td>17076</td></tr>",
                            "<tr><td>13023</td></tr>",
                            "<tr><td>11875</td></tr>",
                            "<tr><td>15230</td></tr>",
                            "<tr><td>15917</td></tr>",
                            "<tr><td>11921</td></tr>",
                            "<tr><td>29485</td></tr>",
                            "<tr><td>15141</td></tr>",
                            "<tr><td>13936</td></tr>",
                            "<tr><td>13959</td></tr>",
                            "<tr><td>15453</td></tr>",
                            "<tr><td>18158</td></tr>",
                            "<tr><td>11131</td></tr>",
                            "<tr><td>17225</td></tr>",
                            "<tr><td>15874</td></tr>",
                            "<tr><td>12087</td></tr>",
                            "<tr><td>11211</td></tr>",
                            "<tr><td>29711</td></tr>",
                            "<tr><td>29960</td></tr>",
                            "<tr><td>16286</td></tr>",
                            "<tr><td>29854</td></tr>",
                            "<tr><td>16933</td></tr>",
                            "<tr><td>15605</td></tr>",
                            "<tr><td>13707</td></tr>",
                            "<tr><td>29714</td></tr>",
                            "<tr><td>11500</td></tr>",
                            "<tr><td>29628</td></tr>",
                            "<tr><td>14480</td></tr>",
                            "<tr><td>18745</td></tr>",
                            "<tr><td>15997</td></tr>",
                            "<tr><td>11520</td></tr>",
                            "<tr><td>29957</td></tr>",
                            "<tr><td>30043</td></tr>",
                            "<tr><td>29651</td></tr>",
                            "<tr><td>12147</td></tr>",
                            "<tr><td>11214</td></tr>",
                            "<tr><td>18141</td></tr>",
                            "<tr><td>19807</td></tr>",
                            "<tr><td>30066</td></tr>",
                            "<tr><td>15078</td></tr>",
                            "<tr><td>29625</td></tr>",
                            "<tr><td>30020</td></tr>",
                            "<tr><td>11294</td></tr>",
                            "<tr><td>13604</td></tr>",
                            "<tr><td>17680</td></tr>",
                            "<tr><td>29917</td></tr>",
                            "<tr><td>17205</td></tr>",
                            "<tr><td>11417</td></tr>",
                            "<tr><td>16000</td></tr>",
                            "<tr><td>30089</td></tr>",
                            "<tr><td>29568</td></tr>",
                            "<tr><td>21055</td></tr>",
                            "<tr><td>11566</td></tr>",
                            "<tr><td>29897</td></tr>",
                            "<tr><td>12691</td></tr>",
                            "<tr><td>14039</td></tr>",
                            "<tr><td>15058</td></tr>",
                            "<tr><td>30046</td></tr>",
                            "<tr><td>29645</td></tr>",
                            "<tr><td>14686</td></tr>",
                            "<tr><td>13690</td></tr>",
                            "<tr><td>14626</td></tr>",
                            "<tr><td>13106</td></tr>",
                            "<tr><td>15121</td></tr>",
                            "<tr><td>29877</td></tr>",
                            "<tr><td>11941</td></tr>",
                            "<tr><td>11420</td></tr>",
                            "<tr><td>29943</td></tr>",
                            "<tr><td>11228</td></tr>",
                            "<tr><td>17202</td></tr>",
                            "<tr><td>16618</td></tr>",
                            "<tr><td>16332</td></tr>",
                            "<tr><td>17360</td></tr>",
                            "<tr><td>30072</td></tr>",
                            "<tr><td>18711</td></tr>",
                            "<tr><td>16481</td></tr>",
                            "<tr><td>30118</td></tr>",
                            "<tr><td>15130</td></tr>",
                            "<tr><td>11200</td></tr>",
                            "<tr><td>29531</td></tr>",
                            "<tr><td>29972</td></tr>",
                            "<tr><td>29577</td></tr>",
                            "<tr><td>29823</td></tr>",
                            "<tr><td>16876</td></tr>",
                            "<tr><td>12697</td></tr>",
                            "<tr><td>11844</td></tr>",
                            "<tr><td>11987</td></tr>",
                            "<tr><td>14669</td></tr>",
                            "<tr><td>12136</td></tr>",
                            "<tr><td>15694</td></tr>",
                            "<tr><td>11652</td></tr>",
                            "<tr><td>15253</td></tr>",
                            "<tr><td>14363</td></tr>",
                            "<tr><td>14904</td></tr>",
                            "<tr><td>29803</td></tr>",
                            "<tr><td>19624</td></tr>",
                            "<tr><td>29903</td></tr>",
                            "<tr><td>11360</td></tr>",
                            "<tr><td>29929</td></tr>",
                            "<tr><td>19541</td></tr>",
                            "<tr><td>11429</td></tr>",
                            "<tr><td>17503</td></tr>",
                            "<tr><td>13095</td></tr>",
                            "<tr><td>11034</td></tr>",
                            "<tr><td>14045</td></tr>",
                            "<tr><td>15127</td></tr>",
                            "<tr><td>11237</td></tr>",
                            "<tr><td>16401</td></tr>",
                            "<tr><td>29534</td></tr>",
                            "<tr><td>11277</td></tr>",
                            "<tr><td>29514</td></tr>",
                            "<tr><td>29843</td></tr>",
                            "<tr><td>14672</td></tr>",
                            "<tr><td>11300</td></tr>",
                            "<tr><td>11841</td></tr>",
                            "<tr><td>12551</td></tr>",
                            "<tr><td>16667</td></tr>",
                            "<tr><td>11363</td></tr>",
                            "<tr><td>16836</td></tr>",
                            "<tr><td>17500</td></tr>",
                            "<tr><td>29840</td></tr>",
                            "<tr><td>13109</td></tr>",
                            "<tr><td>11094</td></tr>",
                            "<tr><td>13693</td></tr>",
                            "<tr><td>11632</td></tr>",
                            "<tr><td>13009</td></tr>",
                            "<tr><td>13175</td></tr>",
                            "<tr><td>29966</td></tr>",
                            "<tr><td>11758</td></tr>",
                            "<tr><td>19581</td></tr>",
                            "<tr><td>29760</td></tr>",
                            "<tr><td>13965</td></tr>",
                            "<tr><td>29660</td></tr>",
                            "<tr><td>29574</td></tr>",
                            "<tr><td>29551</td></tr>",
                            "<tr><td>16175</td></tr>",
                            "<tr><td>29528</td></tr>",
                            "<tr><td>30069</td></tr>",
                            "<tr><td>30092</td></tr>",
                            "<tr><td>14446</td></tr>",
                            "<tr><td>15133</td></tr>",
                            "<tr><td>29720</td></tr>",
                            "<tr><td>30029</td></tr>",
                            "<tr><td>12325</td></tr>",
                            "<tr><td>29637</td></tr>",
                            "<tr><td>11784</td></tr>",
                            "<tr><td>29488</td></tr>",
                            "<tr><td>18127</td></tr>",
                            "<tr><td>11091</td></tr>",
                            "<tr><td>16567</td></tr>",
                            "<tr><td>11824</td></tr>",
                            "<tr><td>16089</td></tr>",
                            "<tr><td>14031</td></tr>",
                            "<tr><td>13172</td></tr>",
                            "<tr><td>29508</td></tr>",
                            "<tr><td>11698</td></tr>",
                            "<tr><td>29700</td></tr>",
                            "<tr><td>15007</td></tr>",
                            "<tr><td>12302</td></tr>",
                            "<tr><td>11506</td></tr>",
                            "<tr><td>30049</td></tr>",
                            "<tr><td>18147</td></tr>",
                            "<tr><td>11655</td></tr>",
                            "<tr><td>17214</td></tr>",
                            "<tr><td>11787</td></tr>",
                            "<tr><td>11123</td></tr>",
                            "<tr><td>18262</td></tr>",
                            "<tr><td>11833</td></tr>",
                            "<tr><td>11246</td></tr>",
                            "<tr><td>17778</td></tr>",
                            "<tr><td>14681</td></tr>",
                            "<tr><td>11372</td></tr>",
                            "<tr><td>13553</td></tr>",
                            "<tr><td>11203</td></tr>",
                            "<tr><td>29938</td></tr>",
                            "<tr><td>12205</td></tr>",
                            "<tr><td>29915</td></tr>",
                            "<tr><td>30038</td></tr>",
                            "<tr><td>18136</td></tr>",
                            "<tr><td>29603</td></tr>",
                            "<tr><td>11223</td></tr>",
                            "<tr><td>13971</td></tr>",
                            "<tr><td>11166</td></tr>",
                            "<tr><td>14263</td></tr>",
                            "<tr><td>11621</td></tr>",
                            "<tr><td>29812</td></tr>",
                            "<tr><td>17781</td></tr>",
                            "<tr><td>14684</td></tr>",
                            "<tr><td>18173</td></tr>",
                            "<tr><td>19364</td></tr>",
                            "<tr><td>15142</td></tr>",
                            "<tr><td>12892</td></tr>",
                            "<tr><td>17867</td></tr>",
                            "<tr><td>29494</td></tr>",
                            "<tr><td>16467</td></tr>",
                            "<tr><td>15162</td></tr>",
                            "<tr><td>13762</td></tr>",
                            "<tr><td>11661</td></tr>",
                            "<tr><td>15056</td></tr>",
                            "<tr><td>15448</td></tr>",
                            "<tr><td>17114</td></tr>",
                            "<tr><td>29557</td></tr>",
                            "<tr><td>16181</td></tr>",
                            "<tr><td>18345</td></tr>",
                            "<tr><td>15059</td></tr>",
                            "<tr><td>11432</td></tr>",
                            "<tr><td>16387</td></tr>",
                            "<tr><td>29809</td></tr>",
                            "<tr><td>12288</td></tr>",
                            "<tr><td>12311</td></tr>",
                            "<tr><td>18717</td></tr>",
                            "<tr><td>11724</td></tr>",
                            "<tr><td>29932</td></tr>",
                            "<tr><td>13201</td></tr>",
                            "<tr><td>11186</td></tr>",
                            "<tr><td>11827</td></tr>",
                            "<tr><td>19032</td></tr>",
                            "<tr><td>14100</td></tr>",
                            "<tr><td>18156</td></tr>",
                            "<tr><td>13765</td></tr>",
                            "<tr><td>29709</td></tr>",
                            "<tr><td>14057</td></tr>",
                            "<tr><td>11993</td></tr>",
                            "<tr><td>15866</td></tr>",
                            "<tr><td>19092</td></tr>",
                            "<tr><td>13141</td></tr>",
                            "<tr><td>11498</td></tr>",
                            "<tr><td>12972</td></tr>",
                            "<tr><td>16261</td></tr>",
                            "<tr><td>18720</td></tr>",
                            "<tr><td>29975</td></tr>",
                            "<tr><td>29563</td></tr>",
                            "<tr><td>14552</td></tr>",
                            "<tr><td>13290</td></tr>",
                            "<tr><td>11518</td></tr>",
                            "<tr><td>15826</td></tr>",
                            "<tr><td>13184</td></tr>",
                            "<tr><td>14658</td></tr>",
                            "<tr><td>29806</td></tr>",
                            "<tr><td>12048</td></tr>",
                            "<tr><td>29715</td></tr>",
                            "<tr><td>29738</td></tr>",
                            "<tr><td>14086</td></tr>",
                            "<tr><td>17126</td></tr>",
                            "<tr><td>29838</td></tr>",
                            "<tr><td>29815</td></tr>",
                            "<tr><td>29546</td></tr>",
                            "<tr><td>29669</td></tr>",
                            "<tr><td>17103</td></tr>",
                            "<tr><td>11046</td></tr>",
                            "<tr><td>29592</td></tr>",
                            "<tr><td>15122</td></tr>",
                            "<tr><td>12958</td></tr>",
                            "<tr><td>13794</td></tr>",
                            "<tr><td>13107</td></tr>",
                            "<tr><td>15878</td></tr>",
                            "<tr><td>14504</td></tr>",
                            "<tr><td>19579</td></tr>",
                            "<tr><td>17203</td></tr>",
                            "<tr><td>30064</td></tr>",
                            "<tr><td>30087</td></tr>",
                            "<tr><td>29964</td></tr>",
                            "<tr><td>30007</td></tr>",
                            "<tr><td>11215</td></tr>",
                            "<tr><td>14020</td></tr>",
                            "<tr><td>11507</td></tr>",
                            "<tr><td>14853</td></tr>",
                            "<tr><td>14561</td></tr>",
                            "<tr><td>15440</td></tr>",
                            "<tr><td>29695</td></tr>",
                            "<tr><td>16204</td></tr>",
                            "<tr><td>13751</td></tr>",
                            "<tr><td>11736</td></tr>",
                            "<tr><td>30027</td></tr>",
                            "<tr><td>29486</td></tr>",
                            "<tr><td>12606</td></tr>",
                            "<tr><td>16565</td></tr>",
                            "<tr><td>14209</td></tr>",
                            "<tr><td>16479</td></tr>",
                            "<tr><td>12692</td></tr>",
                            "<tr><td>11501</td></tr>",
                            "<tr><td>15251</td></tr>",
                            "<tr><td>21703</td></tr>",
                            "<tr><td>12357</td></tr>",
                            "<tr><td>29529</td></tr>",
                            "<tr><td>29629</td></tr>",
                            "<tr><td>15815</td></tr>",
                            "<tr><td>29878</td></tr>",
                            "<tr><td>29821</td></tr>",
                            "<tr><td>16705</td></tr>",
                            "<tr><td>12652</td></tr>",
                            "<tr><td>15102</td></tr>",
                            "<tr><td>12895</td></tr>",
                            "<tr><td>13665</td></tr>",
                            "<tr><td>29652</td></tr>",
                            "<tr><td>16184</td></tr>",
                            "<tr><td>30050</td></tr>",
                            "<tr><td>29881</td></tr>",
                            "<tr><td>11149</td></tr>",
                            "<tr><td>15062</td></tr>",
                            "<tr><td>11627</td></tr>",
                            "<tr><td>15231</td></tr>",
                            "<tr><td>29735</td></tr>",
                            "<tr><td>18265</td></tr>",
                            "<tr><td>12314</td></tr>",
                            "<tr><td>12964</td></tr>",
                            "<tr><td>29775</td></tr>",
                            "<tr><td>16187</td></tr>",
                            "<tr><td>11232</td></tr>",
                            "<tr><td>13960</td></tr>",
                            "<tr><td>16167</td></tr>",
                            "<tr><td>29841</td></tr>",
                            "<tr><td>11212</td></tr>",
                            "<tr><td>16038</td></tr>",
                            "<tr><td>16665</td></tr>",
                            "<tr><td>11318</td></tr>",
                            "<tr><td>16622</td></tr>",
                            "<tr><td>11361</td></tr>",
                            "</table>"
                        ]
                    }
                }
            ],
            "execution_count": 6
        },
        {
            "cell_type": "code",
            "source": [
                "--7: Product models that have no products assigned (EXCEPT)\n",
                "\n",
                "SELECT ProductModelID\n",
                "FROM Production.ProductModel\n",
                "EXCEPT\n",
                "SELECT DISTINCT ProductModelID\n",
                "FROM Production.Product\n",
                "WHERE ProductModelID IS NOT NULL;\n",
                ""
            ],
            "metadata": {
                "language": "sql",
                "azdata_cell_guid": "099d0aea-7b06-4f12-8895-c143427fe149"
            },
            "outputs": [
                {
                    "output_type": "display_data",
                    "data": {
                        "text/html": "(9 rows affected)"
                    },
                    "metadata": {}
                },
                {
                    "output_type": "display_data",
                    "data": {
                        "text/html": "Total execution time: 00:00:00.010"
                    },
                    "metadata": {}
                },
                {
                    "output_type": "execute_result",
                    "metadata": {},
                    "execution_count": 7,
                    "data": {
                        "application/vnd.dataresource+json": {
                            "schema": {
                                "fields": [
                                    {
                                        "name": "ProductModelID"
                                    }
                                ]
                            },
                            "data": [
                                {
                                    "ProductModelID": "39"
                                },
                                {
                                    "ProductModelID": "40"
                                },
                                {
                                    "ProductModelID": "41"
                                },
                                {
                                    "ProductModelID": "71"
                                },
                                {
                                    "ProductModelID": "72"
                                },
                                {
                                    "ProductModelID": "73"
                                },
                                {
                                    "ProductModelID": "74"
                                },
                                {
                                    "ProductModelID": "75"
                                },
                                {
                                    "ProductModelID": "76"
                                }
                            ]
                        },
                        "text/html": [
                            "<table>",
                            "<tr><th>ProductModelID</th></tr>",
                            "<tr><td>39</td></tr>",
                            "<tr><td>40</td></tr>",
                            "<tr><td>41</td></tr>",
                            "<tr><td>71</td></tr>",
                            "<tr><td>72</td></tr>",
                            "<tr><td>73</td></tr>",
                            "<tr><td>74</td></tr>",
                            "<tr><td>75</td></tr>",
                            "<tr><td>76</td></tr>",
                            "</table>"
                        ]
                    }
                }
            ],
            "execution_count": 7
        },
        {
            "cell_type": "code",
            "source": [
                "\n",
                "--8: Vendor cities that are not customer ship-to cities\n",
                "SELECT A.City\n",
                "FROM Person.Address AS A\n",
                "JOIN Person.BusinessEntityAddress AS BEA\n",
                "  ON BEA.AddressID = A.AddressID\n",
                "JOIN Purchasing.Vendor AS V\n",
                "  ON V.BusinessEntityID = BEA.BusinessEntityID\n",
                "\n",
                "EXCEPT\n",
                "\n",
                "SELECT A.City\n",
                "FROM Sales.SalesOrderHeader AS H\n",
                "JOIN Person.Address AS A\n",
                "  ON A.AddressID = H.ShipToAddressID\n",
                "ORDER BY City;\n",
                ""
            ],
            "metadata": {
                "language": "sql",
                "azdata_cell_guid": "36345624-baab-4536-a866-5e5e77925c46",
                "tags": []
            },
            "outputs": [
                {
                    "output_type": "display_data",
                    "data": {
                        "text/html": "(6 rows affected)"
                    },
                    "metadata": {}
                },
                {
                    "output_type": "display_data",
                    "data": {
                        "text/html": "Total execution time: 00:00:00.062"
                    },
                    "metadata": {}
                },
                {
                    "output_type": "execute_result",
                    "metadata": {},
                    "execution_count": 8,
                    "data": {
                        "application/vnd.dataresource+json": {
                            "schema": {
                                "fields": [
                                    {
                                        "name": "City"
                                    }
                                ]
                            },
                            "data": [
                                {
                                    "City": "Altadena"
                                },
                                {
                                    "City": "Anacortes"
                                },
                                {
                                    "City": "Boise"
                                },
                                {
                                    "City": "Boston"
                                },
                                {
                                    "City": "Philadelphia"
                                },
                                {
                                    "City": "St. Louis"
                                }
                            ]
                        },
                        "text/html": [
                            "<table>",
                            "<tr><th>City</th></tr>",
                            "<tr><td>Altadena</td></tr>",
                            "<tr><td>Anacortes</td></tr>",
                            "<tr><td>Boise</td></tr>",
                            "<tr><td>Boston</td></tr>",
                            "<tr><td>Philadelphia</td></tr>",
                            "<tr><td>St. Louis</td></tr>",
                            "</table>"
                        ]
                    }
                }
            ],
            "execution_count": 8
        },
        {
            "cell_type": "code",
            "source": [
                "--9:Top 5 most recent orders for two salespeople (merge with guaranteed order)\n",
                "\n",
                "SELECT SalesPersonID, SalesOrderID, OrderDate\n",
                "FROM (\n",
                "  SELECT TOP (5) SalesPersonID, SalesOrderID, OrderDate\n",
                "  FROM Sales.SalesOrderHeader\n",
                "  WHERE SalesPersonID = 275   -- example ID\n",
                "  ORDER BY OrderDate DESC, SalesOrderID DESC\n",
                ") A\n",
                "UNION ALL\n",
                "SELECT SalesPersonID, SalesOrderID, OrderDate\n",
                "FROM (\n",
                "  SELECT TOP (5) SalesPersonID, SalesOrderID, OrderDate\n",
                "  FROM Sales.SalesOrderHeader\n",
                "  WHERE SalesPersonID = 276   -- example ID\n",
                "  ORDER BY OrderDate DESC, SalesOrderID DESC\n",
                ") B\n",
                "ORDER BY SalesPersonID, OrderDate DESC, SalesOrderID DESC;\n",
                ""
            ],
            "metadata": {
                "language": "sql",
                "azdata_cell_guid": "3dd76c7e-407f-49e8-a209-d813a4c7f10a"
            },
            "outputs": [
                {
                    "output_type": "display_data",
                    "data": {
                        "text/html": "(10 rows affected)"
                    },
                    "metadata": {}
                },
                {
                    "output_type": "display_data",
                    "data": {
                        "text/html": "Total execution time: 00:00:00.023"
                    },
                    "metadata": {}
                },
                {
                    "output_type": "execute_result",
                    "metadata": {},
                    "execution_count": 9,
                    "data": {
                        "application/vnd.dataresource+json": {
                            "schema": {
                                "fields": [
                                    {
                                        "name": "SalesPersonID"
                                    },
                                    {
                                        "name": "SalesOrderID"
                                    },
                                    {
                                        "name": "OrderDate"
                                    }
                                ]
                            },
                            "data": [
                                {
                                    "SalesPersonID": "275",
                                    "SalesOrderID": "71952",
                                    "OrderDate": "2014-05-01 00:00:00.000"
                                },
                                {
                                    "SalesPersonID": "275",
                                    "SalesOrderID": "71931",
                                    "OrderDate": "2014-05-01 00:00:00.000"
                                },
                                {
                                    "SalesPersonID": "275",
                                    "SalesOrderID": "71930",
                                    "OrderDate": "2014-05-01 00:00:00.000"
                                },
                                {
                                    "SalesPersonID": "275",
                                    "SalesOrderID": "71924",
                                    "OrderDate": "2014-05-01 00:00:00.000"
                                },
                                {
                                    "SalesPersonID": "275",
                                    "SalesOrderID": "71912",
                                    "OrderDate": "2014-05-01 00:00:00.000"
                                },
                                {
                                    "SalesPersonID": "276",
                                    "SalesOrderID": "71935",
                                    "OrderDate": "2014-05-01 00:00:00.000"
                                },
                                {
                                    "SalesPersonID": "276",
                                    "SalesOrderID": "71923",
                                    "OrderDate": "2014-05-01 00:00:00.000"
                                },
                                {
                                    "SalesPersonID": "276",
                                    "SalesOrderID": "71920",
                                    "OrderDate": "2014-05-01 00:00:00.000"
                                },
                                {
                                    "SalesPersonID": "276",
                                    "SalesOrderID": "71915",
                                    "OrderDate": "2014-05-01 00:00:00.000"
                                },
                                {
                                    "SalesPersonID": "276",
                                    "SalesOrderID": "71902",
                                    "OrderDate": "2014-05-01 00:00:00.000"
                                }
                            ]
                        },
                        "text/html": [
                            "<table>",
                            "<tr><th>SalesPersonID</th><th>SalesOrderID</th><th>OrderDate</th></tr>",
                            "<tr><td>275</td><td>71952</td><td>2014-05-01 00:00:00.000</td></tr>",
                            "<tr><td>275</td><td>71931</td><td>2014-05-01 00:00:00.000</td></tr>",
                            "<tr><td>275</td><td>71930</td><td>2014-05-01 00:00:00.000</td></tr>",
                            "<tr><td>275</td><td>71924</td><td>2014-05-01 00:00:00.000</td></tr>",
                            "<tr><td>275</td><td>71912</td><td>2014-05-01 00:00:00.000</td></tr>",
                            "<tr><td>276</td><td>71935</td><td>2014-05-01 00:00:00.000</td></tr>",
                            "<tr><td>276</td><td>71923</td><td>2014-05-01 00:00:00.000</td></tr>",
                            "<tr><td>276</td><td>71920</td><td>2014-05-01 00:00:00.000</td></tr>",
                            "<tr><td>276</td><td>71915</td><td>2014-05-01 00:00:00.000</td></tr>",
                            "<tr><td>276</td><td>71902</td><td>2014-05-01 00:00:00.000</td></tr>",
                            "</table>"
                        ]
                    }
                }
            ],
            "execution_count": 9
        },
        {
            "cell_type": "code",
            "source": [
                "\n",
                "-- 10: Countries represented by either vendors or customers, with counts of distinct locations\n",
                "SELECT\n",
                "    CountryRegionCode,\n",
                "    COUNT(*) AS NumLocations\n",
                "FROM (\n",
                "    -- Vendor locations (Country, State/Province, City)\n",
                "    SELECT SP.CountryRegionCode, A.StateProvinceID, A.City\n",
                "    FROM Purchasing.Vendor AS V\n",
                "    JOIN Person.BusinessEntityAddress AS BEA\n",
                "      ON BEA.BusinessEntityID = V.BusinessEntityID\n",
                "    JOIN Person.Address AS A\n",
                "      ON A.AddressID = BEA.AddressID\n",
                "    JOIN Person.StateProvince AS SP\n",
                "      ON SP.StateProvinceID = A.StateProvinceID\n",
                "\n",
                "    UNION     -- remove duplicate (country, state, city) locations across both sides\n",
                "\n",
                "    -- Customer ship-to locations (Country, State/Province, City)\n",
                "    SELECT SP.CountryRegionCode, A.StateProvinceID, A.City\n",
                "    FROM Sales.SalesOrderHeader AS H\n",
                "    JOIN Person.Address AS A\n",
                "      ON A.AddressID = H.ShipToAddressID\n",
                "    JOIN Person.StateProvince AS SP\n",
                "      ON SP.StateProvinceID = A.StateProvinceID\n",
                ") AS U\n",
                "GROUP BY CountryRegionCode\n",
                "ORDER BY NumLocations DESC, CountryRegionCode;\n",
                ""
            ],
            "metadata": {
                "language": "sql",
                "azdata_cell_guid": "0e1b7ae4-9d93-474a-8723-cb1f29c3862a",
                "tags": []
            },
            "outputs": [
                {
                    "output_type": "display_data",
                    "data": {
                        "text/html": "(6 rows affected)"
                    },
                    "metadata": {}
                },
                {
                    "output_type": "display_data",
                    "data": {
                        "text/html": "Total execution time: 00:00:00.115"
                    },
                    "metadata": {}
                },
                {
                    "output_type": "execute_result",
                    "metadata": {},
                    "execution_count": 10,
                    "data": {
                        "application/vnd.dataresource+json": {
                            "schema": {
                                "fields": [
                                    {
                                        "name": "CountryRegionCode"
                                    },
                                    {
                                        "name": "NumLocations"
                                    }
                                ]
                            },
                            "data": [
                                {
                                    "CountryRegionCode": "US",
                                    "NumLocations": "374"
                                },
                                {
                                    "CountryRegionCode": "DE",
                                    "NumLocations": "50"
                                },
                                {
                                    "CountryRegionCode": "CA",
                                    "NumLocations": "48"
                                },
                                {
                                    "CountryRegionCode": "AU",
                                    "NumLocations": "39"
                                },
                                {
                                    "CountryRegionCode": "FR",
                                    "NumLocations": "35"
                                },
                                {
                                    "CountryRegionCode": "GB",
                                    "NumLocations": "35"
                                }
                            ]
                        },
                        "text/html": [
                            "<table>",
                            "<tr><th>CountryRegionCode</th><th>NumLocations</th></tr>",
                            "<tr><td>US</td><td>374</td></tr>",
                            "<tr><td>DE</td><td>50</td></tr>",
                            "<tr><td>CA</td><td>48</td></tr>",
                            "<tr><td>AU</td><td>39</td></tr>",
                            "<tr><td>FR</td><td>35</td></tr>",
                            "<tr><td>GB</td><td>35</td></tr>",
                            "</table>"
                        ]
                    }
                }
            ],
            "execution_count": 10
        }
    ]
}