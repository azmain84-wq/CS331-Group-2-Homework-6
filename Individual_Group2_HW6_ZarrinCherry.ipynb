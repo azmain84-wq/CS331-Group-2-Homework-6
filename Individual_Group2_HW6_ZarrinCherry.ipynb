{
    "metadata": {
        "kernelspec": {
            "name": "SQL",
            "display_name": "SQL",
            "language": "sql"
        },
        "language_info": {
            "name": "sql",
            "version": ""
        }
    },
    "nbformat_minor": 2,
    "nbformat": 4,
    "cells": [
        {
            "cell_type": "code",
            "source": [
                "USE AdventureWorksLT;\n",
                "GO\n",
                "\n",
                "/* =========================\n",
                "   Q1 — Customers who ordered in 2007 OR 2008 (UNION)\n",
                "   ========================= */\n",
                "SELECT DISTINCT CustomerID\n",
                "FROM SalesLT.SalesOrderHeader\n",
                "WHERE YEAR(OrderDate) = 2007\n",
                "UNION\n",
                "SELECT DISTINCT CustomerID\n",
                "FROM SalesLT.SalesOrderHeader\n",
                "WHERE YEAR(OrderDate) = 2008\n",
                "ORDER BY CustomerID;"
            ],
            "metadata": {
                "azdata_cell_guid": "e5d12de8-bb78-40c6-8392-4ca59a65f3f0",
                "language": "sql",
                "tags": []
            },
            "outputs": [
                {
                    "output_type": "display_data",
                    "data": {
                        "text/html": "Commands completed successfully."
                    },
                    "metadata": {}
                },
                {
                    "output_type": "display_data",
                    "data": {
                        "text/html": "(32 rows affected)"
                    },
                    "metadata": {}
                },
                {
                    "output_type": "display_data",
                    "data": {
                        "text/html": "Total execution time: 00:00:00.008"
                    },
                    "metadata": {}
                },
                {
                    "output_type": "execute_result",
                    "execution_count": 1,
                    "data": {
                        "application/vnd.dataresource+json": {
                            "schema": {
                                "fields": [
                                    {
                                        "name": "CustomerID"
                                    }
                                ]
                            },
                            "data": [
                                {
                                    "CustomerID": "29485"
                                },
                                {
                                    "CustomerID": "29531"
                                },
                                {
                                    "CustomerID": "29546"
                                },
                                {
                                    "CustomerID": "29568"
                                },
                                {
                                    "CustomerID": "29584"
                                },
                                {
                                    "CustomerID": "29612"
                                },
                                {
                                    "CustomerID": "29638"
                                },
                                {
                                    "CustomerID": "29644"
                                },
                                {
                                    "CustomerID": "29653"
                                },
                                {
                                    "CustomerID": "29660"
                                },
                                {
                                    "CustomerID": "29736"
                                },
                                {
                                    "CustomerID": "29741"
                                },
                                {
                                    "CustomerID": "29781"
                                },
                                {
                                    "CustomerID": "29796"
                                },
                                {
                                    "CustomerID": "29847"
                                },
                                {
                                    "CustomerID": "29877"
                                },
                                {
                                    "CustomerID": "29922"
                                },
                                {
                                    "CustomerID": "29929"
                                },
                                {
                                    "CustomerID": "29932"
                                },
                                {
                                    "CustomerID": "29938"
                                },
                                {
                                    "CustomerID": "29957"
                                },
                                {
                                    "CustomerID": "29975"
                                },
                                {
                                    "CustomerID": "29982"
                                },
                                {
                                    "CustomerID": "30019"
                                },
                                {
                                    "CustomerID": "30025"
                                },
                                {
                                    "CustomerID": "30027"
                                },
                                {
                                    "CustomerID": "30033"
                                },
                                {
                                    "CustomerID": "30050"
                                },
                                {
                                    "CustomerID": "30072"
                                },
                                {
                                    "CustomerID": "30089"
                                },
                                {
                                    "CustomerID": "30102"
                                },
                                {
                                    "CustomerID": "30113"
                                }
                            ]
                        },
                        "text/html": "<table><tr><th>CustomerID</th></tr><tr><td>29485</td></tr><tr><td>29531</td></tr><tr><td>29546</td></tr><tr><td>29568</td></tr><tr><td>29584</td></tr><tr><td>29612</td></tr><tr><td>29638</td></tr><tr><td>29644</td></tr><tr><td>29653</td></tr><tr><td>29660</td></tr><tr><td>29736</td></tr><tr><td>29741</td></tr><tr><td>29781</td></tr><tr><td>29796</td></tr><tr><td>29847</td></tr><tr><td>29877</td></tr><tr><td>29922</td></tr><tr><td>29929</td></tr><tr><td>29932</td></tr><tr><td>29938</td></tr><tr><td>29957</td></tr><tr><td>29975</td></tr><tr><td>29982</td></tr><tr><td>30019</td></tr><tr><td>30025</td></tr><tr><td>30027</td></tr><tr><td>30033</td></tr><tr><td>30050</td></tr><tr><td>30072</td></tr><tr><td>30089</td></tr><tr><td>30102</td></tr><tr><td>30113</td></tr></table>"
                    },
                    "metadata": {}
                }
            ],
            "execution_count": 1
        },
        {
            "cell_type": "code",
            "source": [
                "/* =========================\n",
                "   Q2 — Customers who ordered in 2007 AND 2008 (INTERSECT)\n",
                "   ========================= */\n",
                "SELECT DISTINCT CustomerID\n",
                "FROM SalesLT.SalesOrderHeader\n",
                "WHERE YEAR(OrderDate) = 2007\n",
                "INTERSECT\n",
                "SELECT DISTINCT CustomerID\n",
                "FROM SalesLT.SalesOrderHeader\n",
                "WHERE YEAR(OrderDate) = 2008\n",
                "ORDER BY CustomerID;"
            ],
            "metadata": {
                "azdata_cell_guid": "14b0b3f1-0d7b-4f53-99d8-8002f4720c88",
                "language": "sql"
            },
            "outputs": [
                {
                    "output_type": "display_data",
                    "data": {
                        "text/html": "(0 rows affected)"
                    },
                    "metadata": {}
                },
                {
                    "output_type": "display_data",
                    "data": {
                        "text/html": "Total execution time: 00:00:00.026"
                    },
                    "metadata": {}
                },
                {
                    "output_type": "execute_result",
                    "execution_count": 2,
                    "data": {
                        "application/vnd.dataresource+json": {
                            "schema": {
                                "fields": [
                                    {
                                        "name": "CustomerID"
                                    }
                                ]
                            },
                            "data": []
                        },
                        "text/html": "<table><tr><th>CustomerID</th></tr></table>"
                    },
                    "metadata": {}
                }
            ],
            "execution_count": 2
        },
        {
            "cell_type": "code",
            "source": [
                "/* =========================\n",
                "   Q3 — Customers who ordered in 2007 but NOT in 2008 (EXCEPT)\n",
                "   ========================= */\n",
                "SELECT c.CustomerID, c.FirstName, c.LastName\n",
                "FROM SalesLT.Customer AS c\n",
                "WHERE EXISTS (\n",
                "        SELECT 1\n",
                "        FROM SalesLT.SalesOrderHeader AS h\n",
                "        WHERE h.CustomerID = c.CustomerID\n",
                "          AND YEAR(h.OrderDate) = 2007\n",
                "      )\n",
                "  AND NOT EXISTS (\n",
                "        SELECT 1\n",
                "        FROM SalesLT.SalesOrderHeader AS h\n",
                "        WHERE h.CustomerID = c.CustomerID\n",
                "          AND YEAR(h.OrderDate) = 2008\n",
                "      )\n",
                "ORDER BY c.CustomerID;"
            ],
            "metadata": {
                "azdata_cell_guid": "aa348246-1686-44bf-9066-bb4164cf49fa",
                "language": "sql"
            },
            "outputs": [
                {
                    "output_type": "display_data",
                    "data": {
                        "text/html": "(0 rows affected)"
                    },
                    "metadata": {}
                },
                {
                    "output_type": "display_data",
                    "data": {
                        "text/html": "Total execution time: 00:00:00.031"
                    },
                    "metadata": {}
                },
                {
                    "output_type": "execute_result",
                    "execution_count": 3,
                    "data": {
                        "application/vnd.dataresource+json": {
                            "schema": {
                                "fields": [
                                    {
                                        "name": "CustomerID"
                                    },
                                    {
                                        "name": "FirstName"
                                    },
                                    {
                                        "name": "LastName"
                                    }
                                ]
                            },
                            "data": []
                        },
                        "text/html": "<table><tr><th>CustomerID</th><th>FirstName</th><th>LastName</th></tr></table>"
                    },
                    "metadata": {}
                }
            ],
            "execution_count": 3
        },
        {
            "cell_type": "code",
            "source": [
                "/* =========================\n",
                "   Q4 — Product names in categories Bikes OR Components (UNION)\n",
                "   ========================= */\n",
                "WITH Cat AS (\n",
                "  SELECT\n",
                "    c.ProductCategoryID,\n",
                "    COALESCE(p.Name, c.Name) AS RootName\n",
                "  FROM SalesLT.ProductCategory AS c\n",
                "  LEFT JOIN SalesLT.ProductCategory AS p\n",
                "    ON c.ParentProductCategoryID = p.ProductCategoryID\n",
                ")\n",
                "SELECT p.ProductID, p.Name AS ProductName, 'Bikes' AS SourceCategory\n",
                "FROM SalesLT.Product AS p\n",
                "JOIN Cat AS x ON x.ProductCategoryID = p.ProductCategoryID\n",
                "WHERE x.RootName = 'Bikes'\n",
                "UNION\n",
                "SELECT p.ProductID, p.Name AS ProductName, 'Components' AS SourceCategory\n",
                "FROM SalesLT.Product AS p\n",
                "JOIN Cat AS x ON x.ProductCategoryID = p.ProductCategoryID\n",
                "WHERE x.RootName = 'Components'\n",
                "ORDER BY ProductID;"
            ],
            "metadata": {
                "azdata_cell_guid": "7c83aec3-5806-4f91-bb51-4658f73872be",
                "language": "sql"
            },
            "outputs": [
                {
                    "output_type": "display_data",
                    "data": {
                        "text/html": "(231 rows affected)"
                    },
                    "metadata": {}
                },
                {
                    "output_type": "display_data",
                    "data": {
                        "text/html": "Total execution time: 00:00:00.031"
                    },
                    "metadata": {}
                },
                {
                    "output_type": "execute_result",
                    "execution_count": 4,
                    "data": {
                        "application/vnd.dataresource+json": {
                            "schema": {
                                "fields": [
                                    {
                                        "name": "ProductID"
                                    },
                                    {
                                        "name": "ProductName"
                                    },
                                    {
                                        "name": "SourceCategory"
                                    }
                                ]
                            },
                            "data": [
                                {
                                    "ProductID": "680",
                                    "ProductName": "HL Road Frame - Black, 58",
                                    "SourceCategory": "Components"
                                },
                                {
                                    "ProductID": "706",
                                    "ProductName": "HL Road Frame - Red, 58",
                                    "SourceCategory": "Components"
                                },
                                {
                                    "ProductID": "717",
                                    "ProductName": "HL Road Frame - Red, 62",
                                    "SourceCategory": "Components"
                                },
                                {
                                    "ProductID": "718",
                                    "ProductName": "HL Road Frame - Red, 44",
                                    "SourceCategory": "Components"
                                },
                                {
                                    "ProductID": "719",
                                    "ProductName": "HL Road Frame - Red, 48",
                                    "SourceCategory": "Components"
                                },
                                {
                                    "ProductID": "720",
                                    "ProductName": "HL Road Frame - Red, 52",
                                    "SourceCategory": "Components"
                                },
                                {
                                    "ProductID": "721",
                                    "ProductName": "HL Road Frame - Red, 56",
                                    "SourceCategory": "Components"
                                },
                                {
                                    "ProductID": "722",
                                    "ProductName": "LL Road Frame - Black, 58",
                                    "SourceCategory": "Components"
                                },
                                {
                                    "ProductID": "723",
                                    "ProductName": "LL Road Frame - Black, 60",
                                    "SourceCategory": "Components"
                                },
                                {
                                    "ProductID": "724",
                                    "ProductName": "LL Road Frame - Black, 62",
                                    "SourceCategory": "Components"
                                },
                                {
                                    "ProductID": "725",
                                    "ProductName": "LL Road Frame - Red, 44",
                                    "SourceCategory": "Components"
                                },
                                {
                                    "ProductID": "726",
                                    "ProductName": "LL Road Frame - Red, 48",
                                    "SourceCategory": "Components"
                                },
                                {
                                    "ProductID": "727",
                                    "ProductName": "LL Road Frame - Red, 52",
                                    "SourceCategory": "Components"
                                },
                                {
                                    "ProductID": "728",
                                    "ProductName": "LL Road Frame - Red, 58",
                                    "SourceCategory": "Components"
                                },
                                {
                                    "ProductID": "729",
                                    "ProductName": "LL Road Frame - Red, 60",
                                    "SourceCategory": "Components"
                                },
                                {
                                    "ProductID": "730",
                                    "ProductName": "LL Road Frame - Red, 62",
                                    "SourceCategory": "Components"
                                },
                                {
                                    "ProductID": "731",
                                    "ProductName": "ML Road Frame - Red, 44",
                                    "SourceCategory": "Components"
                                },
                                {
                                    "ProductID": "732",
                                    "ProductName": "ML Road Frame - Red, 48",
                                    "SourceCategory": "Components"
                                },
                                {
                                    "ProductID": "733",
                                    "ProductName": "ML Road Frame - Red, 52",
                                    "SourceCategory": "Components"
                                },
                                {
                                    "ProductID": "734",
                                    "ProductName": "ML Road Frame - Red, 58",
                                    "SourceCategory": "Components"
                                },
                                {
                                    "ProductID": "735",
                                    "ProductName": "ML Road Frame - Red, 60",
                                    "SourceCategory": "Components"
                                },
                                {
                                    "ProductID": "736",
                                    "ProductName": "LL Road Frame - Black, 44",
                                    "SourceCategory": "Components"
                                },
                                {
                                    "ProductID": "737",
                                    "ProductName": "LL Road Frame - Black, 48",
                                    "SourceCategory": "Components"
                                },
                                {
                                    "ProductID": "738",
                                    "ProductName": "LL Road Frame - Black, 52",
                                    "SourceCategory": "Components"
                                },
                                {
                                    "ProductID": "739",
                                    "ProductName": "HL Mountain Frame - Silver, 42",
                                    "SourceCategory": "Components"
                                },
                                {
                                    "ProductID": "740",
                                    "ProductName": "HL Mountain Frame - Silver, 44",
                                    "SourceCategory": "Components"
                                },
                                {
                                    "ProductID": "741",
                                    "ProductName": "HL Mountain Frame - Silver, 48",
                                    "SourceCategory": "Components"
                                },
                                {
                                    "ProductID": "742",
                                    "ProductName": "HL Mountain Frame - Silver, 46",
                                    "SourceCategory": "Components"
                                },
                                {
                                    "ProductID": "743",
                                    "ProductName": "HL Mountain Frame - Black, 42",
                                    "SourceCategory": "Components"
                                },
                                {
                                    "ProductID": "744",
                                    "ProductName": "HL Mountain Frame - Black, 44",
                                    "SourceCategory": "Components"
                                },
                                {
                                    "ProductID": "745",
                                    "ProductName": "HL Mountain Frame - Black, 48",
                                    "SourceCategory": "Components"
                                },
                                {
                                    "ProductID": "746",
                                    "ProductName": "HL Mountain Frame - Black, 46",
                                    "SourceCategory": "Components"
                                },
                                {
                                    "ProductID": "747",
                                    "ProductName": "HL Mountain Frame - Black, 38",
                                    "SourceCategory": "Components"
                                },
                                {
                                    "ProductID": "748",
                                    "ProductName": "HL Mountain Frame - Silver, 38",
                                    "SourceCategory": "Components"
                                },
                                {
                                    "ProductID": "749",
                                    "ProductName": "Road-150 Red, 62",
                                    "SourceCategory": "Bikes"
                                },
                                {
                                    "ProductID": "750",
                                    "ProductName": "Road-150 Red, 44",
                                    "SourceCategory": "Bikes"
                                },
                                {
                                    "ProductID": "751",
                                    "ProductName": "Road-150 Red, 48",
                                    "SourceCategory": "Bikes"
                                },
                                {
                                    "ProductID": "752",
                                    "ProductName": "Road-150 Red, 52",
                                    "SourceCategory": "Bikes"
                                },
                                {
                                    "ProductID": "753",
                                    "ProductName": "Road-150 Red, 56",
                                    "SourceCategory": "Bikes"
                                },
                                {
                                    "ProductID": "754",
                                    "ProductName": "Road-450 Red, 58",
                                    "SourceCategory": "Bikes"
                                },
                                {
                                    "ProductID": "755",
                                    "ProductName": "Road-450 Red, 60",
                                    "SourceCategory": "Bikes"
                                },
                                {
                                    "ProductID": "756",
                                    "ProductName": "Road-450 Red, 44",
                                    "SourceCategory": "Bikes"
                                },
                                {
                                    "ProductID": "757",
                                    "ProductName": "Road-450 Red, 48",
                                    "SourceCategory": "Bikes"
                                },
                                {
                                    "ProductID": "758",
                                    "ProductName": "Road-450 Red, 52",
                                    "SourceCategory": "Bikes"
                                },
                                {
                                    "ProductID": "759",
                                    "ProductName": "Road-650 Red, 58",
                                    "SourceCategory": "Bikes"
                                },
                                {
                                    "ProductID": "760",
                                    "ProductName": "Road-650 Red, 60",
                                    "SourceCategory": "Bikes"
                                },
                                {
                                    "ProductID": "761",
                                    "ProductName": "Road-650 Red, 62",
                                    "SourceCategory": "Bikes"
                                },
                                {
                                    "ProductID": "762",
                                    "ProductName": "Road-650 Red, 44",
                                    "SourceCategory": "Bikes"
                                },
                                {
                                    "ProductID": "763",
                                    "ProductName": "Road-650 Red, 48",
                                    "SourceCategory": "Bikes"
                                },
                                {
                                    "ProductID": "764",
                                    "ProductName": "Road-650 Red, 52",
                                    "SourceCategory": "Bikes"
                                },
                                {
                                    "ProductID": "765",
                                    "ProductName": "Road-650 Black, 58",
                                    "SourceCategory": "Bikes"
                                },
                                {
                                    "ProductID": "766",
                                    "ProductName": "Road-650 Black, 60",
                                    "SourceCategory": "Bikes"
                                },
                                {
                                    "ProductID": "767",
                                    "ProductName": "Road-650 Black, 62",
                                    "SourceCategory": "Bikes"
                                },
                                {
                                    "ProductID": "768",
                                    "ProductName": "Road-650 Black, 44",
                                    "SourceCategory": "Bikes"
                                },
                                {
                                    "ProductID": "769",
                                    "ProductName": "Road-650 Black, 48",
                                    "SourceCategory": "Bikes"
                                },
                                {
                                    "ProductID": "770",
                                    "ProductName": "Road-650 Black, 52",
                                    "SourceCategory": "Bikes"
                                },
                                {
                                    "ProductID": "771",
                                    "ProductName": "Mountain-100 Silver, 38",
                                    "SourceCategory": "Bikes"
                                },
                                {
                                    "ProductID": "772",
                                    "ProductName": "Mountain-100 Silver, 42",
                                    "SourceCategory": "Bikes"
                                },
                                {
                                    "ProductID": "773",
                                    "ProductName": "Mountain-100 Silver, 44",
                                    "SourceCategory": "Bikes"
                                },
                                {
                                    "ProductID": "774",
                                    "ProductName": "Mountain-100 Silver, 48",
                                    "SourceCategory": "Bikes"
                                },
                                {
                                    "ProductID": "775",
                                    "ProductName": "Mountain-100 Black, 38",
                                    "SourceCategory": "Bikes"
                                },
                                {
                                    "ProductID": "776",
                                    "ProductName": "Mountain-100 Black, 42",
                                    "SourceCategory": "Bikes"
                                },
                                {
                                    "ProductID": "777",
                                    "ProductName": "Mountain-100 Black, 44",
                                    "SourceCategory": "Bikes"
                                },
                                {
                                    "ProductID": "778",
                                    "ProductName": "Mountain-100 Black, 48",
                                    "SourceCategory": "Bikes"
                                },
                                {
                                    "ProductID": "779",
                                    "ProductName": "Mountain-200 Silver, 38",
                                    "SourceCategory": "Bikes"
                                },
                                {
                                    "ProductID": "780",
                                    "ProductName": "Mountain-200 Silver, 42",
                                    "SourceCategory": "Bikes"
                                },
                                {
                                    "ProductID": "781",
                                    "ProductName": "Mountain-200 Silver, 46",
                                    "SourceCategory": "Bikes"
                                },
                                {
                                    "ProductID": "782",
                                    "ProductName": "Mountain-200 Black, 38",
                                    "SourceCategory": "Bikes"
                                },
                                {
                                    "ProductID": "783",
                                    "ProductName": "Mountain-200 Black, 42",
                                    "SourceCategory": "Bikes"
                                },
                                {
                                    "ProductID": "784",
                                    "ProductName": "Mountain-200 Black, 46",
                                    "SourceCategory": "Bikes"
                                },
                                {
                                    "ProductID": "785",
                                    "ProductName": "Mountain-300 Black, 38",
                                    "SourceCategory": "Bikes"
                                },
                                {
                                    "ProductID": "786",
                                    "ProductName": "Mountain-300 Black, 40",
                                    "SourceCategory": "Bikes"
                                },
                                {
                                    "ProductID": "787",
                                    "ProductName": "Mountain-300 Black, 44",
                                    "SourceCategory": "Bikes"
                                },
                                {
                                    "ProductID": "788",
                                    "ProductName": "Mountain-300 Black, 48",
                                    "SourceCategory": "Bikes"
                                },
                                {
                                    "ProductID": "789",
                                    "ProductName": "Road-250 Red, 44",
                                    "SourceCategory": "Bikes"
                                },
                                {
                                    "ProductID": "790",
                                    "ProductName": "Road-250 Red, 48",
                                    "SourceCategory": "Bikes"
                                },
                                {
                                    "ProductID": "791",
                                    "ProductName": "Road-250 Red, 52",
                                    "SourceCategory": "Bikes"
                                },
                                {
                                    "ProductID": "792",
                                    "ProductName": "Road-250 Red, 58",
                                    "SourceCategory": "Bikes"
                                },
                                {
                                    "ProductID": "793",
                                    "ProductName": "Road-250 Black, 44",
                                    "SourceCategory": "Bikes"
                                },
                                {
                                    "ProductID": "794",
                                    "ProductName": "Road-250 Black, 48",
                                    "SourceCategory": "Bikes"
                                },
                                {
                                    "ProductID": "795",
                                    "ProductName": "Road-250 Black, 52",
                                    "SourceCategory": "Bikes"
                                },
                                {
                                    "ProductID": "796",
                                    "ProductName": "Road-250 Black, 58",
                                    "SourceCategory": "Bikes"
                                },
                                {
                                    "ProductID": "797",
                                    "ProductName": "Road-550-W Yellow, 38",
                                    "SourceCategory": "Bikes"
                                },
                                {
                                    "ProductID": "798",
                                    "ProductName": "Road-550-W Yellow, 40",
                                    "SourceCategory": "Bikes"
                                },
                                {
                                    "ProductID": "799",
                                    "ProductName": "Road-550-W Yellow, 42",
                                    "SourceCategory": "Bikes"
                                },
                                {
                                    "ProductID": "800",
                                    "ProductName": "Road-550-W Yellow, 44",
                                    "SourceCategory": "Bikes"
                                },
                                {
                                    "ProductID": "801",
                                    "ProductName": "Road-550-W Yellow, 48",
                                    "SourceCategory": "Bikes"
                                },
                                {
                                    "ProductID": "802",
                                    "ProductName": "LL Fork",
                                    "SourceCategory": "Components"
                                },
                                {
                                    "ProductID": "803",
                                    "ProductName": "ML Fork",
                                    "SourceCategory": "Components"
                                },
                                {
                                    "ProductID": "804",
                                    "ProductName": "HL Fork",
                                    "SourceCategory": "Components"
                                },
                                {
                                    "ProductID": "805",
                                    "ProductName": "LL Headset",
                                    "SourceCategory": "Components"
                                },
                                {
                                    "ProductID": "806",
                                    "ProductName": "ML Headset",
                                    "SourceCategory": "Components"
                                },
                                {
                                    "ProductID": "807",
                                    "ProductName": "HL Headset",
                                    "SourceCategory": "Components"
                                },
                                {
                                    "ProductID": "808",
                                    "ProductName": "LL Mountain Handlebars",
                                    "SourceCategory": "Components"
                                },
                                {
                                    "ProductID": "809",
                                    "ProductName": "ML Mountain Handlebars",
                                    "SourceCategory": "Components"
                                },
                                {
                                    "ProductID": "810",
                                    "ProductName": "HL Mountain Handlebars",
                                    "SourceCategory": "Components"
                                },
                                {
                                    "ProductID": "811",
                                    "ProductName": "LL Road Handlebars",
                                    "SourceCategory": "Components"
                                },
                                {
                                    "ProductID": "812",
                                    "ProductName": "ML Road Handlebars",
                                    "SourceCategory": "Components"
                                },
                                {
                                    "ProductID": "813",
                                    "ProductName": "HL Road Handlebars",
                                    "SourceCategory": "Components"
                                },
                                {
                                    "ProductID": "814",
                                    "ProductName": "ML Mountain Frame - Black, 38",
                                    "SourceCategory": "Components"
                                },
                                {
                                    "ProductID": "815",
                                    "ProductName": "LL Mountain Front Wheel",
                                    "SourceCategory": "Components"
                                },
                                {
                                    "ProductID": "816",
                                    "ProductName": "ML Mountain Front Wheel",
                                    "SourceCategory": "Components"
                                },
                                {
                                    "ProductID": "817",
                                    "ProductName": "HL Mountain Front Wheel",
                                    "SourceCategory": "Components"
                                },
                                {
                                    "ProductID": "818",
                                    "ProductName": "LL Road Front Wheel",
                                    "SourceCategory": "Components"
                                },
                                {
                                    "ProductID": "819",
                                    "ProductName": "ML Road Front Wheel",
                                    "SourceCategory": "Components"
                                },
                                {
                                    "ProductID": "820",
                                    "ProductName": "HL Road Front Wheel",
                                    "SourceCategory": "Components"
                                },
                                {
                                    "ProductID": "821",
                                    "ProductName": "Touring Front Wheel",
                                    "SourceCategory": "Components"
                                },
                                {
                                    "ProductID": "822",
                                    "ProductName": "ML Road Frame-W - Yellow, 38",
                                    "SourceCategory": "Components"
                                },
                                {
                                    "ProductID": "823",
                                    "ProductName": "LL Mountain Rear Wheel",
                                    "SourceCategory": "Components"
                                },
                                {
                                    "ProductID": "824",
                                    "ProductName": "ML Mountain Rear Wheel",
                                    "SourceCategory": "Components"
                                },
                                {
                                    "ProductID": "825",
                                    "ProductName": "HL Mountain Rear Wheel",
                                    "SourceCategory": "Components"
                                },
                                {
                                    "ProductID": "826",
                                    "ProductName": "LL Road Rear Wheel",
                                    "SourceCategory": "Components"
                                },
                                {
                                    "ProductID": "827",
                                    "ProductName": "ML Road Rear Wheel",
                                    "SourceCategory": "Components"
                                },
                                {
                                    "ProductID": "828",
                                    "ProductName": "HL Road Rear Wheel",
                                    "SourceCategory": "Components"
                                },
                                {
                                    "ProductID": "829",
                                    "ProductName": "Touring Rear Wheel",
                                    "SourceCategory": "Components"
                                },
                                {
                                    "ProductID": "830",
                                    "ProductName": "ML Mountain Frame - Black, 40",
                                    "SourceCategory": "Components"
                                },
                                {
                                    "ProductID": "831",
                                    "ProductName": "ML Mountain Frame - Black, 44",
                                    "SourceCategory": "Components"
                                },
                                {
                                    "ProductID": "832",
                                    "ProductName": "ML Mountain Frame - Black, 48",
                                    "SourceCategory": "Components"
                                },
                                {
                                    "ProductID": "833",
                                    "ProductName": "ML Road Frame-W - Yellow, 40",
                                    "SourceCategory": "Components"
                                },
                                {
                                    "ProductID": "834",
                                    "ProductName": "ML Road Frame-W - Yellow, 42",
                                    "SourceCategory": "Components"
                                },
                                {
                                    "ProductID": "835",
                                    "ProductName": "ML Road Frame-W - Yellow, 44",
                                    "SourceCategory": "Components"
                                },
                                {
                                    "ProductID": "836",
                                    "ProductName": "ML Road Frame-W - Yellow, 48",
                                    "SourceCategory": "Components"
                                },
                                {
                                    "ProductID": "837",
                                    "ProductName": "HL Road Frame - Black, 62",
                                    "SourceCategory": "Components"
                                },
                                {
                                    "ProductID": "838",
                                    "ProductName": "HL Road Frame - Black, 44",
                                    "SourceCategory": "Components"
                                },
                                {
                                    "ProductID": "839",
                                    "ProductName": "HL Road Frame - Black, 48",
                                    "SourceCategory": "Components"
                                },
                                {
                                    "ProductID": "840",
                                    "ProductName": "HL Road Frame - Black, 52",
                                    "SourceCategory": "Components"
                                },
                                {
                                    "ProductID": "885",
                                    "ProductName": "HL Touring Frame - Yellow, 60",
                                    "SourceCategory": "Components"
                                },
                                {
                                    "ProductID": "886",
                                    "ProductName": "LL Touring Frame - Yellow, 62",
                                    "SourceCategory": "Components"
                                },
                                {
                                    "ProductID": "887",
                                    "ProductName": "HL Touring Frame - Yellow, 46",
                                    "SourceCategory": "Components"
                                },
                                {
                                    "ProductID": "888",
                                    "ProductName": "HL Touring Frame - Yellow, 50",
                                    "SourceCategory": "Components"
                                },
                                {
                                    "ProductID": "889",
                                    "ProductName": "HL Touring Frame - Yellow, 54",
                                    "SourceCategory": "Components"
                                },
                                {
                                    "ProductID": "890",
                                    "ProductName": "HL Touring Frame - Blue, 46",
                                    "SourceCategory": "Components"
                                },
                                {
                                    "ProductID": "891",
                                    "ProductName": "HL Touring Frame - Blue, 50",
                                    "SourceCategory": "Components"
                                },
                                {
                                    "ProductID": "892",
                                    "ProductName": "HL Touring Frame - Blue, 54",
                                    "SourceCategory": "Components"
                                },
                                {
                                    "ProductID": "893",
                                    "ProductName": "HL Touring Frame - Blue, 60",
                                    "SourceCategory": "Components"
                                },
                                {
                                    "ProductID": "894",
                                    "ProductName": "Rear Derailleur",
                                    "SourceCategory": "Components"
                                },
                                {
                                    "ProductID": "895",
                                    "ProductName": "LL Touring Frame - Blue, 50",
                                    "SourceCategory": "Components"
                                },
                                {
                                    "ProductID": "896",
                                    "ProductName": "LL Touring Frame - Blue, 54",
                                    "SourceCategory": "Components"
                                },
                                {
                                    "ProductID": "897",
                                    "ProductName": "LL Touring Frame - Blue, 58",
                                    "SourceCategory": "Components"
                                },
                                {
                                    "ProductID": "898",
                                    "ProductName": "LL Touring Frame - Blue, 62",
                                    "SourceCategory": "Components"
                                },
                                {
                                    "ProductID": "899",
                                    "ProductName": "LL Touring Frame - Yellow, 44",
                                    "SourceCategory": "Components"
                                },
                                {
                                    "ProductID": "900",
                                    "ProductName": "LL Touring Frame - Yellow, 50",
                                    "SourceCategory": "Components"
                                },
                                {
                                    "ProductID": "901",
                                    "ProductName": "LL Touring Frame - Yellow, 54",
                                    "SourceCategory": "Components"
                                },
                                {
                                    "ProductID": "902",
                                    "ProductName": "LL Touring Frame - Yellow, 58",
                                    "SourceCategory": "Components"
                                },
                                {
                                    "ProductID": "903",
                                    "ProductName": "LL Touring Frame - Blue, 44",
                                    "SourceCategory": "Components"
                                },
                                {
                                    "ProductID": "904",
                                    "ProductName": "ML Mountain Frame-W - Silver, 40",
                                    "SourceCategory": "Components"
                                },
                                {
                                    "ProductID": "905",
                                    "ProductName": "ML Mountain Frame-W - Silver, 42",
                                    "SourceCategory": "Components"
                                },
                                {
                                    "ProductID": "906",
                                    "ProductName": "ML Mountain Frame-W - Silver, 46",
                                    "SourceCategory": "Components"
                                },
                                {
                                    "ProductID": "907",
                                    "ProductName": "Rear Brakes",
                                    "SourceCategory": "Components"
                                },
                                {
                                    "ProductID": "908",
                                    "ProductName": "LL Mountain Seat/Saddle",
                                    "SourceCategory": "Components"
                                },
                                {
                                    "ProductID": "909",
                                    "ProductName": "ML Mountain Seat/Saddle",
                                    "SourceCategory": "Components"
                                },
                                {
                                    "ProductID": "910",
                                    "ProductName": "HL Mountain Seat/Saddle",
                                    "SourceCategory": "Components"
                                },
                                {
                                    "ProductID": "911",
                                    "ProductName": "LL Road Seat/Saddle",
                                    "SourceCategory": "Components"
                                },
                                {
                                    "ProductID": "912",
                                    "ProductName": "ML Road Seat/Saddle",
                                    "SourceCategory": "Components"
                                },
                                {
                                    "ProductID": "913",
                                    "ProductName": "HL Road Seat/Saddle",
                                    "SourceCategory": "Components"
                                },
                                {
                                    "ProductID": "914",
                                    "ProductName": "LL Touring Seat/Saddle",
                                    "SourceCategory": "Components"
                                },
                                {
                                    "ProductID": "915",
                                    "ProductName": "ML Touring Seat/Saddle",
                                    "SourceCategory": "Components"
                                },
                                {
                                    "ProductID": "916",
                                    "ProductName": "HL Touring Seat/Saddle",
                                    "SourceCategory": "Components"
                                },
                                {
                                    "ProductID": "917",
                                    "ProductName": "LL Mountain Frame - Silver, 42",
                                    "SourceCategory": "Components"
                                },
                                {
                                    "ProductID": "918",
                                    "ProductName": "LL Mountain Frame - Silver, 44",
                                    "SourceCategory": "Components"
                                },
                                {
                                    "ProductID": "919",
                                    "ProductName": "LL Mountain Frame - Silver, 48",
                                    "SourceCategory": "Components"
                                },
                                {
                                    "ProductID": "920",
                                    "ProductName": "LL Mountain Frame - Silver, 52",
                                    "SourceCategory": "Components"
                                },
                                {
                                    "ProductID": "924",
                                    "ProductName": "LL Mountain Frame - Black, 42",
                                    "SourceCategory": "Components"
                                },
                                {
                                    "ProductID": "925",
                                    "ProductName": "LL Mountain Frame - Black, 44",
                                    "SourceCategory": "Components"
                                },
                                {
                                    "ProductID": "926",
                                    "ProductName": "LL Mountain Frame - Black, 48",
                                    "SourceCategory": "Components"
                                },
                                {
                                    "ProductID": "927",
                                    "ProductName": "LL Mountain Frame - Black, 52",
                                    "SourceCategory": "Components"
                                },
                                {
                                    "ProductID": "935",
                                    "ProductName": "LL Mountain Pedal",
                                    "SourceCategory": "Components"
                                },
                                {
                                    "ProductID": "936",
                                    "ProductName": "ML Mountain Pedal",
                                    "SourceCategory": "Components"
                                },
                                {
                                    "ProductID": "937",
                                    "ProductName": "HL Mountain Pedal",
                                    "SourceCategory": "Components"
                                },
                                {
                                    "ProductID": "938",
                                    "ProductName": "LL Road Pedal",
                                    "SourceCategory": "Components"
                                },
                                {
                                    "ProductID": "939",
                                    "ProductName": "ML Road Pedal",
                                    "SourceCategory": "Components"
                                },
                                {
                                    "ProductID": "940",
                                    "ProductName": "HL Road Pedal",
                                    "SourceCategory": "Components"
                                },
                                {
                                    "ProductID": "941",
                                    "ProductName": "Touring Pedal",
                                    "SourceCategory": "Components"
                                },
                                {
                                    "ProductID": "942",
                                    "ProductName": "ML Mountain Frame-W - Silver, 38",
                                    "SourceCategory": "Components"
                                },
                                {
                                    "ProductID": "943",
                                    "ProductName": "LL Mountain Frame - Black, 40",
                                    "SourceCategory": "Components"
                                },
                                {
                                    "ProductID": "944",
                                    "ProductName": "LL Mountain Frame - Silver, 40",
                                    "SourceCategory": "Components"
                                },
                                {
                                    "ProductID": "945",
                                    "ProductName": "Front Derailleur",
                                    "SourceCategory": "Components"
                                },
                                {
                                    "ProductID": "946",
                                    "ProductName": "LL Touring Handlebars",
                                    "SourceCategory": "Components"
                                },
                                {
                                    "ProductID": "947",
                                    "ProductName": "HL Touring Handlebars",
                                    "SourceCategory": "Components"
                                },
                                {
                                    "ProductID": "948",
                                    "ProductName": "Front Brakes",
                                    "SourceCategory": "Components"
                                },
                                {
                                    "ProductID": "949",
                                    "ProductName": "LL Crankset",
                                    "SourceCategory": "Components"
                                },
                                {
                                    "ProductID": "950",
                                    "ProductName": "ML Crankset",
                                    "SourceCategory": "Components"
                                },
                                {
                                    "ProductID": "951",
                                    "ProductName": "HL Crankset",
                                    "SourceCategory": "Components"
                                },
                                {
                                    "ProductID": "952",
                                    "ProductName": "Chain",
                                    "SourceCategory": "Components"
                                },
                                {
                                    "ProductID": "953",
                                    "ProductName": "Touring-2000 Blue, 60",
                                    "SourceCategory": "Bikes"
                                },
                                {
                                    "ProductID": "954",
                                    "ProductName": "Touring-1000 Yellow, 46",
                                    "SourceCategory": "Bikes"
                                },
                                {
                                    "ProductID": "955",
                                    "ProductName": "Touring-1000 Yellow, 50",
                                    "SourceCategory": "Bikes"
                                },
                                {
                                    "ProductID": "956",
                                    "ProductName": "Touring-1000 Yellow, 54",
                                    "SourceCategory": "Bikes"
                                },
                                {
                                    "ProductID": "957",
                                    "ProductName": "Touring-1000 Yellow, 60",
                                    "SourceCategory": "Bikes"
                                },
                                {
                                    "ProductID": "958",
                                    "ProductName": "Touring-3000 Blue, 54",
                                    "SourceCategory": "Bikes"
                                },
                                {
                                    "ProductID": "959",
                                    "ProductName": "Touring-3000 Blue, 58",
                                    "SourceCategory": "Bikes"
                                },
                                {
                                    "ProductID": "960",
                                    "ProductName": "Touring-3000 Blue, 62",
                                    "SourceCategory": "Bikes"
                                },
                                {
                                    "ProductID": "961",
                                    "ProductName": "Touring-3000 Yellow, 44",
                                    "SourceCategory": "Bikes"
                                },
                                {
                                    "ProductID": "962",
                                    "ProductName": "Touring-3000 Yellow, 50",
                                    "SourceCategory": "Bikes"
                                },
                                {
                                    "ProductID": "963",
                                    "ProductName": "Touring-3000 Yellow, 54",
                                    "SourceCategory": "Bikes"
                                },
                                {
                                    "ProductID": "964",
                                    "ProductName": "Touring-3000 Yellow, 58",
                                    "SourceCategory": "Bikes"
                                },
                                {
                                    "ProductID": "965",
                                    "ProductName": "Touring-3000 Yellow, 62",
                                    "SourceCategory": "Bikes"
                                },
                                {
                                    "ProductID": "966",
                                    "ProductName": "Touring-1000 Blue, 46",
                                    "SourceCategory": "Bikes"
                                },
                                {
                                    "ProductID": "967",
                                    "ProductName": "Touring-1000 Blue, 50",
                                    "SourceCategory": "Bikes"
                                },
                                {
                                    "ProductID": "968",
                                    "ProductName": "Touring-1000 Blue, 54",
                                    "SourceCategory": "Bikes"
                                },
                                {
                                    "ProductID": "969",
                                    "ProductName": "Touring-1000 Blue, 60",
                                    "SourceCategory": "Bikes"
                                },
                                {
                                    "ProductID": "970",
                                    "ProductName": "Touring-2000 Blue, 46",
                                    "SourceCategory": "Bikes"
                                },
                                {
                                    "ProductID": "971",
                                    "ProductName": "Touring-2000 Blue, 50",
                                    "SourceCategory": "Bikes"
                                },
                                {
                                    "ProductID": "972",
                                    "ProductName": "Touring-2000 Blue, 54",
                                    "SourceCategory": "Bikes"
                                },
                                {
                                    "ProductID": "973",
                                    "ProductName": "Road-350-W Yellow, 40",
                                    "SourceCategory": "Bikes"
                                },
                                {
                                    "ProductID": "974",
                                    "ProductName": "Road-350-W Yellow, 42",
                                    "SourceCategory": "Bikes"
                                },
                                {
                                    "ProductID": "975",
                                    "ProductName": "Road-350-W Yellow, 44",
                                    "SourceCategory": "Bikes"
                                },
                                {
                                    "ProductID": "976",
                                    "ProductName": "Road-350-W Yellow, 48",
                                    "SourceCategory": "Bikes"
                                },
                                {
                                    "ProductID": "977",
                                    "ProductName": "Road-750 Black, 58",
                                    "SourceCategory": "Bikes"
                                },
                                {
                                    "ProductID": "978",
                                    "ProductName": "Touring-3000 Blue, 44",
                                    "SourceCategory": "Bikes"
                                },
                                {
                                    "ProductID": "979",
                                    "ProductName": "Touring-3000 Blue, 50",
                                    "SourceCategory": "Bikes"
                                },
                                {
                                    "ProductID": "980",
                                    "ProductName": "Mountain-400-W Silver, 38",
                                    "SourceCategory": "Bikes"
                                },
                                {
                                    "ProductID": "981",
                                    "ProductName": "Mountain-400-W Silver, 40",
                                    "SourceCategory": "Bikes"
                                },
                                {
                                    "ProductID": "982",
                                    "ProductName": "Mountain-400-W Silver, 42",
                                    "SourceCategory": "Bikes"
                                },
                                {
                                    "ProductID": "983",
                                    "ProductName": "Mountain-400-W Silver, 46",
                                    "SourceCategory": "Bikes"
                                },
                                {
                                    "ProductID": "984",
                                    "ProductName": "Mountain-500 Silver, 40",
                                    "SourceCategory": "Bikes"
                                },
                                {
                                    "ProductID": "985",
                                    "ProductName": "Mountain-500 Silver, 42",
                                    "SourceCategory": "Bikes"
                                },
                                {
                                    "ProductID": "986",
                                    "ProductName": "Mountain-500 Silver, 44",
                                    "SourceCategory": "Bikes"
                                },
                                {
                                    "ProductID": "987",
                                    "ProductName": "Mountain-500 Silver, 48",
                                    "SourceCategory": "Bikes"
                                },
                                {
                                    "ProductID": "988",
                                    "ProductName": "Mountain-500 Silver, 52",
                                    "SourceCategory": "Bikes"
                                },
                                {
                                    "ProductID": "989",
                                    "ProductName": "Mountain-500 Black, 40",
                                    "SourceCategory": "Bikes"
                                },
                                {
                                    "ProductID": "990",
                                    "ProductName": "Mountain-500 Black, 42",
                                    "SourceCategory": "Bikes"
                                },
                                {
                                    "ProductID": "991",
                                    "ProductName": "Mountain-500 Black, 44",
                                    "SourceCategory": "Bikes"
                                },
                                {
                                    "ProductID": "992",
                                    "ProductName": "Mountain-500 Black, 48",
                                    "SourceCategory": "Bikes"
                                },
                                {
                                    "ProductID": "993",
                                    "ProductName": "Mountain-500 Black, 52",
                                    "SourceCategory": "Bikes"
                                },
                                {
                                    "ProductID": "994",
                                    "ProductName": "LL Bottom Bracket",
                                    "SourceCategory": "Components"
                                },
                                {
                                    "ProductID": "995",
                                    "ProductName": "ML Bottom Bracket",
                                    "SourceCategory": "Components"
                                },
                                {
                                    "ProductID": "996",
                                    "ProductName": "HL Bottom Bracket",
                                    "SourceCategory": "Components"
                                },
                                {
                                    "ProductID": "997",
                                    "ProductName": "Road-750 Black, 44",
                                    "SourceCategory": "Bikes"
                                },
                                {
                                    "ProductID": "998",
                                    "ProductName": "Road-750 Black, 48",
                                    "SourceCategory": "Bikes"
                                },
                                {
                                    "ProductID": "999",
                                    "ProductName": "Road-750 Black, 52",
                                    "SourceCategory": "Bikes"
                                }
                            ]
                        },
                        "text/html": "<table><tr><th>ProductID</th><th>ProductName</th><th>SourceCategory</th></tr><tr><td>680</td><td>HL Road Frame - Black, 58</td><td>Components</td></tr><tr><td>706</td><td>HL Road Frame - Red, 58</td><td>Components</td></tr><tr><td>717</td><td>HL Road Frame - Red, 62</td><td>Components</td></tr><tr><td>718</td><td>HL Road Frame - Red, 44</td><td>Components</td></tr><tr><td>719</td><td>HL Road Frame - Red, 48</td><td>Components</td></tr><tr><td>720</td><td>HL Road Frame - Red, 52</td><td>Components</td></tr><tr><td>721</td><td>HL Road Frame - Red, 56</td><td>Components</td></tr><tr><td>722</td><td>LL Road Frame - Black, 58</td><td>Components</td></tr><tr><td>723</td><td>LL Road Frame - Black, 60</td><td>Components</td></tr><tr><td>724</td><td>LL Road Frame - Black, 62</td><td>Components</td></tr><tr><td>725</td><td>LL Road Frame - Red, 44</td><td>Components</td></tr><tr><td>726</td><td>LL Road Frame - Red, 48</td><td>Components</td></tr><tr><td>727</td><td>LL Road Frame - Red, 52</td><td>Components</td></tr><tr><td>728</td><td>LL Road Frame - Red, 58</td><td>Components</td></tr><tr><td>729</td><td>LL Road Frame - Red, 60</td><td>Components</td></tr><tr><td>730</td><td>LL Road Frame - Red, 62</td><td>Components</td></tr><tr><td>731</td><td>ML Road Frame - Red, 44</td><td>Components</td></tr><tr><td>732</td><td>ML Road Frame - Red, 48</td><td>Components</td></tr><tr><td>733</td><td>ML Road Frame - Red, 52</td><td>Components</td></tr><tr><td>734</td><td>ML Road Frame - Red, 58</td><td>Components</td></tr><tr><td>735</td><td>ML Road Frame - Red, 60</td><td>Components</td></tr><tr><td>736</td><td>LL Road Frame - Black, 44</td><td>Components</td></tr><tr><td>737</td><td>LL Road Frame - Black, 48</td><td>Components</td></tr><tr><td>738</td><td>LL Road Frame - Black, 52</td><td>Components</td></tr><tr><td>739</td><td>HL Mountain Frame - Silver, 42</td><td>Components</td></tr><tr><td>740</td><td>HL Mountain Frame - Silver, 44</td><td>Components</td></tr><tr><td>741</td><td>HL Mountain Frame - Silver, 48</td><td>Components</td></tr><tr><td>742</td><td>HL Mountain Frame - Silver, 46</td><td>Components</td></tr><tr><td>743</td><td>HL Mountain Frame - Black, 42</td><td>Components</td></tr><tr><td>744</td><td>HL Mountain Frame - Black, 44</td><td>Components</td></tr><tr><td>745</td><td>HL Mountain Frame - Black, 48</td><td>Components</td></tr><tr><td>746</td><td>HL Mountain Frame - Black, 46</td><td>Components</td></tr><tr><td>747</td><td>HL Mountain Frame - Black, 38</td><td>Components</td></tr><tr><td>748</td><td>HL Mountain Frame - Silver, 38</td><td>Components</td></tr><tr><td>749</td><td>Road-150 Red, 62</td><td>Bikes</td></tr><tr><td>750</td><td>Road-150 Red, 44</td><td>Bikes</td></tr><tr><td>751</td><td>Road-150 Red, 48</td><td>Bikes</td></tr><tr><td>752</td><td>Road-150 Red, 52</td><td>Bikes</td></tr><tr><td>753</td><td>Road-150 Red, 56</td><td>Bikes</td></tr><tr><td>754</td><td>Road-450 Red, 58</td><td>Bikes</td></tr><tr><td>755</td><td>Road-450 Red, 60</td><td>Bikes</td></tr><tr><td>756</td><td>Road-450 Red, 44</td><td>Bikes</td></tr><tr><td>757</td><td>Road-450 Red, 48</td><td>Bikes</td></tr><tr><td>758</td><td>Road-450 Red, 52</td><td>Bikes</td></tr><tr><td>759</td><td>Road-650 Red, 58</td><td>Bikes</td></tr><tr><td>760</td><td>Road-650 Red, 60</td><td>Bikes</td></tr><tr><td>761</td><td>Road-650 Red, 62</td><td>Bikes</td></tr><tr><td>762</td><td>Road-650 Red, 44</td><td>Bikes</td></tr><tr><td>763</td><td>Road-650 Red, 48</td><td>Bikes</td></tr><tr><td>764</td><td>Road-650 Red, 52</td><td>Bikes</td></tr><tr><td>765</td><td>Road-650 Black, 58</td><td>Bikes</td></tr><tr><td>766</td><td>Road-650 Black, 60</td><td>Bikes</td></tr><tr><td>767</td><td>Road-650 Black, 62</td><td>Bikes</td></tr><tr><td>768</td><td>Road-650 Black, 44</td><td>Bikes</td></tr><tr><td>769</td><td>Road-650 Black, 48</td><td>Bikes</td></tr><tr><td>770</td><td>Road-650 Black, 52</td><td>Bikes</td></tr><tr><td>771</td><td>Mountain-100 Silver, 38</td><td>Bikes</td></tr><tr><td>772</td><td>Mountain-100 Silver, 42</td><td>Bikes</td></tr><tr><td>773</td><td>Mountain-100 Silver, 44</td><td>Bikes</td></tr><tr><td>774</td><td>Mountain-100 Silver, 48</td><td>Bikes</td></tr><tr><td>775</td><td>Mountain-100 Black, 38</td><td>Bikes</td></tr><tr><td>776</td><td>Mountain-100 Black, 42</td><td>Bikes</td></tr><tr><td>777</td><td>Mountain-100 Black, 44</td><td>Bikes</td></tr><tr><td>778</td><td>Mountain-100 Black, 48</td><td>Bikes</td></tr><tr><td>779</td><td>Mountain-200 Silver, 38</td><td>Bikes</td></tr><tr><td>780</td><td>Mountain-200 Silver, 42</td><td>Bikes</td></tr><tr><td>781</td><td>Mountain-200 Silver, 46</td><td>Bikes</td></tr><tr><td>782</td><td>Mountain-200 Black, 38</td><td>Bikes</td></tr><tr><td>783</td><td>Mountain-200 Black, 42</td><td>Bikes</td></tr><tr><td>784</td><td>Mountain-200 Black, 46</td><td>Bikes</td></tr><tr><td>785</td><td>Mountain-300 Black, 38</td><td>Bikes</td></tr><tr><td>786</td><td>Mountain-300 Black, 40</td><td>Bikes</td></tr><tr><td>787</td><td>Mountain-300 Black, 44</td><td>Bikes</td></tr><tr><td>788</td><td>Mountain-300 Black, 48</td><td>Bikes</td></tr><tr><td>789</td><td>Road-250 Red, 44</td><td>Bikes</td></tr><tr><td>790</td><td>Road-250 Red, 48</td><td>Bikes</td></tr><tr><td>791</td><td>Road-250 Red, 52</td><td>Bikes</td></tr><tr><td>792</td><td>Road-250 Red, 58</td><td>Bikes</td></tr><tr><td>793</td><td>Road-250 Black, 44</td><td>Bikes</td></tr><tr><td>794</td><td>Road-250 Black, 48</td><td>Bikes</td></tr><tr><td>795</td><td>Road-250 Black, 52</td><td>Bikes</td></tr><tr><td>796</td><td>Road-250 Black, 58</td><td>Bikes</td></tr><tr><td>797</td><td>Road-550-W Yellow, 38</td><td>Bikes</td></tr><tr><td>798</td><td>Road-550-W Yellow, 40</td><td>Bikes</td></tr><tr><td>799</td><td>Road-550-W Yellow, 42</td><td>Bikes</td></tr><tr><td>800</td><td>Road-550-W Yellow, 44</td><td>Bikes</td></tr><tr><td>801</td><td>Road-550-W Yellow, 48</td><td>Bikes</td></tr><tr><td>802</td><td>LL Fork</td><td>Components</td></tr><tr><td>803</td><td>ML Fork</td><td>Components</td></tr><tr><td>804</td><td>HL Fork</td><td>Components</td></tr><tr><td>805</td><td>LL Headset</td><td>Components</td></tr><tr><td>806</td><td>ML Headset</td><td>Components</td></tr><tr><td>807</td><td>HL Headset</td><td>Components</td></tr><tr><td>808</td><td>LL Mountain Handlebars</td><td>Components</td></tr><tr><td>809</td><td>ML Mountain Handlebars</td><td>Components</td></tr><tr><td>810</td><td>HL Mountain Handlebars</td><td>Components</td></tr><tr><td>811</td><td>LL Road Handlebars</td><td>Components</td></tr><tr><td>812</td><td>ML Road Handlebars</td><td>Components</td></tr><tr><td>813</td><td>HL Road Handlebars</td><td>Components</td></tr><tr><td>814</td><td>ML Mountain Frame - Black, 38</td><td>Components</td></tr><tr><td>815</td><td>LL Mountain Front Wheel</td><td>Components</td></tr><tr><td>816</td><td>ML Mountain Front Wheel</td><td>Components</td></tr><tr><td>817</td><td>HL Mountain Front Wheel</td><td>Components</td></tr><tr><td>818</td><td>LL Road Front Wheel</td><td>Components</td></tr><tr><td>819</td><td>ML Road Front Wheel</td><td>Components</td></tr><tr><td>820</td><td>HL Road Front Wheel</td><td>Components</td></tr><tr><td>821</td><td>Touring Front Wheel</td><td>Components</td></tr><tr><td>822</td><td>ML Road Frame-W - Yellow, 38</td><td>Components</td></tr><tr><td>823</td><td>LL Mountain Rear Wheel</td><td>Components</td></tr><tr><td>824</td><td>ML Mountain Rear Wheel</td><td>Components</td></tr><tr><td>825</td><td>HL Mountain Rear Wheel</td><td>Components</td></tr><tr><td>826</td><td>LL Road Rear Wheel</td><td>Components</td></tr><tr><td>827</td><td>ML Road Rear Wheel</td><td>Components</td></tr><tr><td>828</td><td>HL Road Rear Wheel</td><td>Components</td></tr><tr><td>829</td><td>Touring Rear Wheel</td><td>Components</td></tr><tr><td>830</td><td>ML Mountain Frame - Black, 40</td><td>Components</td></tr><tr><td>831</td><td>ML Mountain Frame - Black, 44</td><td>Components</td></tr><tr><td>832</td><td>ML Mountain Frame - Black, 48</td><td>Components</td></tr><tr><td>833</td><td>ML Road Frame-W - Yellow, 40</td><td>Components</td></tr><tr><td>834</td><td>ML Road Frame-W - Yellow, 42</td><td>Components</td></tr><tr><td>835</td><td>ML Road Frame-W - Yellow, 44</td><td>Components</td></tr><tr><td>836</td><td>ML Road Frame-W - Yellow, 48</td><td>Components</td></tr><tr><td>837</td><td>HL Road Frame - Black, 62</td><td>Components</td></tr><tr><td>838</td><td>HL Road Frame - Black, 44</td><td>Components</td></tr><tr><td>839</td><td>HL Road Frame - Black, 48</td><td>Components</td></tr><tr><td>840</td><td>HL Road Frame - Black, 52</td><td>Components</td></tr><tr><td>885</td><td>HL Touring Frame - Yellow, 60</td><td>Components</td></tr><tr><td>886</td><td>LL Touring Frame - Yellow, 62</td><td>Components</td></tr><tr><td>887</td><td>HL Touring Frame - Yellow, 46</td><td>Components</td></tr><tr><td>888</td><td>HL Touring Frame - Yellow, 50</td><td>Components</td></tr><tr><td>889</td><td>HL Touring Frame - Yellow, 54</td><td>Components</td></tr><tr><td>890</td><td>HL Touring Frame - Blue, 46</td><td>Components</td></tr><tr><td>891</td><td>HL Touring Frame - Blue, 50</td><td>Components</td></tr><tr><td>892</td><td>HL Touring Frame - Blue, 54</td><td>Components</td></tr><tr><td>893</td><td>HL Touring Frame - Blue, 60</td><td>Components</td></tr><tr><td>894</td><td>Rear Derailleur</td><td>Components</td></tr><tr><td>895</td><td>LL Touring Frame - Blue, 50</td><td>Components</td></tr><tr><td>896</td><td>LL Touring Frame - Blue, 54</td><td>Components</td></tr><tr><td>897</td><td>LL Touring Frame - Blue, 58</td><td>Components</td></tr><tr><td>898</td><td>LL Touring Frame - Blue, 62</td><td>Components</td></tr><tr><td>899</td><td>LL Touring Frame - Yellow, 44</td><td>Components</td></tr><tr><td>900</td><td>LL Touring Frame - Yellow, 50</td><td>Components</td></tr><tr><td>901</td><td>LL Touring Frame - Yellow, 54</td><td>Components</td></tr><tr><td>902</td><td>LL Touring Frame - Yellow, 58</td><td>Components</td></tr><tr><td>903</td><td>LL Touring Frame - Blue, 44</td><td>Components</td></tr><tr><td>904</td><td>ML Mountain Frame-W - Silver, 40</td><td>Components</td></tr><tr><td>905</td><td>ML Mountain Frame-W - Silver, 42</td><td>Components</td></tr><tr><td>906</td><td>ML Mountain Frame-W - Silver, 46</td><td>Components</td></tr><tr><td>907</td><td>Rear Brakes</td><td>Components</td></tr><tr><td>908</td><td>LL Mountain Seat/Saddle</td><td>Components</td></tr><tr><td>909</td><td>ML Mountain Seat/Saddle</td><td>Components</td></tr><tr><td>910</td><td>HL Mountain Seat/Saddle</td><td>Components</td></tr><tr><td>911</td><td>LL Road Seat/Saddle</td><td>Components</td></tr><tr><td>912</td><td>ML Road Seat/Saddle</td><td>Components</td></tr><tr><td>913</td><td>HL Road Seat/Saddle</td><td>Components</td></tr><tr><td>914</td><td>LL Touring Seat/Saddle</td><td>Components</td></tr><tr><td>915</td><td>ML Touring Seat/Saddle</td><td>Components</td></tr><tr><td>916</td><td>HL Touring Seat/Saddle</td><td>Components</td></tr><tr><td>917</td><td>LL Mountain Frame - Silver, 42</td><td>Components</td></tr><tr><td>918</td><td>LL Mountain Frame - Silver, 44</td><td>Components</td></tr><tr><td>919</td><td>LL Mountain Frame - Silver, 48</td><td>Components</td></tr><tr><td>920</td><td>LL Mountain Frame - Silver, 52</td><td>Components</td></tr><tr><td>924</td><td>LL Mountain Frame - Black, 42</td><td>Components</td></tr><tr><td>925</td><td>LL Mountain Frame - Black, 44</td><td>Components</td></tr><tr><td>926</td><td>LL Mountain Frame - Black, 48</td><td>Components</td></tr><tr><td>927</td><td>LL Mountain Frame - Black, 52</td><td>Components</td></tr><tr><td>935</td><td>LL Mountain Pedal</td><td>Components</td></tr><tr><td>936</td><td>ML Mountain Pedal</td><td>Components</td></tr><tr><td>937</td><td>HL Mountain Pedal</td><td>Components</td></tr><tr><td>938</td><td>LL Road Pedal</td><td>Components</td></tr><tr><td>939</td><td>ML Road Pedal</td><td>Components</td></tr><tr><td>940</td><td>HL Road Pedal</td><td>Components</td></tr><tr><td>941</td><td>Touring Pedal</td><td>Components</td></tr><tr><td>942</td><td>ML Mountain Frame-W - Silver, 38</td><td>Components</td></tr><tr><td>943</td><td>LL Mountain Frame - Black, 40</td><td>Components</td></tr><tr><td>944</td><td>LL Mountain Frame - Silver, 40</td><td>Components</td></tr><tr><td>945</td><td>Front Derailleur</td><td>Components</td></tr><tr><td>946</td><td>LL Touring Handlebars</td><td>Components</td></tr><tr><td>947</td><td>HL Touring Handlebars</td><td>Components</td></tr><tr><td>948</td><td>Front Brakes</td><td>Components</td></tr><tr><td>949</td><td>LL Crankset</td><td>Components</td></tr><tr><td>950</td><td>ML Crankset</td><td>Components</td></tr><tr><td>951</td><td>HL Crankset</td><td>Components</td></tr><tr><td>952</td><td>Chain</td><td>Components</td></tr><tr><td>953</td><td>Touring-2000 Blue, 60</td><td>Bikes</td></tr><tr><td>954</td><td>Touring-1000 Yellow, 46</td><td>Bikes</td></tr><tr><td>955</td><td>Touring-1000 Yellow, 50</td><td>Bikes</td></tr><tr><td>956</td><td>Touring-1000 Yellow, 54</td><td>Bikes</td></tr><tr><td>957</td><td>Touring-1000 Yellow, 60</td><td>Bikes</td></tr><tr><td>958</td><td>Touring-3000 Blue, 54</td><td>Bikes</td></tr><tr><td>959</td><td>Touring-3000 Blue, 58</td><td>Bikes</td></tr><tr><td>960</td><td>Touring-3000 Blue, 62</td><td>Bikes</td></tr><tr><td>961</td><td>Touring-3000 Yellow, 44</td><td>Bikes</td></tr><tr><td>962</td><td>Touring-3000 Yellow, 50</td><td>Bikes</td></tr><tr><td>963</td><td>Touring-3000 Yellow, 54</td><td>Bikes</td></tr><tr><td>964</td><td>Touring-3000 Yellow, 58</td><td>Bikes</td></tr><tr><td>965</td><td>Touring-3000 Yellow, 62</td><td>Bikes</td></tr><tr><td>966</td><td>Touring-1000 Blue, 46</td><td>Bikes</td></tr><tr><td>967</td><td>Touring-1000 Blue, 50</td><td>Bikes</td></tr><tr><td>968</td><td>Touring-1000 Blue, 54</td><td>Bikes</td></tr><tr><td>969</td><td>Touring-1000 Blue, 60</td><td>Bikes</td></tr><tr><td>970</td><td>Touring-2000 Blue, 46</td><td>Bikes</td></tr><tr><td>971</td><td>Touring-2000 Blue, 50</td><td>Bikes</td></tr><tr><td>972</td><td>Touring-2000 Blue, 54</td><td>Bikes</td></tr><tr><td>973</td><td>Road-350-W Yellow, 40</td><td>Bikes</td></tr><tr><td>974</td><td>Road-350-W Yellow, 42</td><td>Bikes</td></tr><tr><td>975</td><td>Road-350-W Yellow, 44</td><td>Bikes</td></tr><tr><td>976</td><td>Road-350-W Yellow, 48</td><td>Bikes</td></tr><tr><td>977</td><td>Road-750 Black, 58</td><td>Bikes</td></tr><tr><td>978</td><td>Touring-3000 Blue, 44</td><td>Bikes</td></tr><tr><td>979</td><td>Touring-3000 Blue, 50</td><td>Bikes</td></tr><tr><td>980</td><td>Mountain-400-W Silver, 38</td><td>Bikes</td></tr><tr><td>981</td><td>Mountain-400-W Silver, 40</td><td>Bikes</td></tr><tr><td>982</td><td>Mountain-400-W Silver, 42</td><td>Bikes</td></tr><tr><td>983</td><td>Mountain-400-W Silver, 46</td><td>Bikes</td></tr><tr><td>984</td><td>Mountain-500 Silver, 40</td><td>Bikes</td></tr><tr><td>985</td><td>Mountain-500 Silver, 42</td><td>Bikes</td></tr><tr><td>986</td><td>Mountain-500 Silver, 44</td><td>Bikes</td></tr><tr><td>987</td><td>Mountain-500 Silver, 48</td><td>Bikes</td></tr><tr><td>988</td><td>Mountain-500 Silver, 52</td><td>Bikes</td></tr><tr><td>989</td><td>Mountain-500 Black, 40</td><td>Bikes</td></tr><tr><td>990</td><td>Mountain-500 Black, 42</td><td>Bikes</td></tr><tr><td>991</td><td>Mountain-500 Black, 44</td><td>Bikes</td></tr><tr><td>992</td><td>Mountain-500 Black, 48</td><td>Bikes</td></tr><tr><td>993</td><td>Mountain-500 Black, 52</td><td>Bikes</td></tr><tr><td>994</td><td>LL Bottom Bracket</td><td>Components</td></tr><tr><td>995</td><td>ML Bottom Bracket</td><td>Components</td></tr><tr><td>996</td><td>HL Bottom Bracket</td><td>Components</td></tr><tr><td>997</td><td>Road-750 Black, 44</td><td>Bikes</td></tr><tr><td>998</td><td>Road-750 Black, 48</td><td>Bikes</td></tr><tr><td>999</td><td>Road-750 Black, 52</td><td>Bikes</td></tr></table>"
                    },
                    "metadata": {}
                }
            ],
            "execution_count": 4
        },
        {
            "cell_type": "code",
            "source": [
                "/* =========================\n",
                "   Q5 — Years with online OR non-online orders (UNION)\n",
                "   ========================= */\n",
                "SELECT DISTINCT YEAR(OrderDate) AS OrderYear\n",
                "FROM SalesLT.SalesOrderHeader\n",
                "WHERE OnlineOrderFlag = 1\n",
                "UNION\n",
                "SELECT DISTINCT YEAR(OrderDate) AS OrderYear\n",
                "FROM SalesLT.SalesOrderHeader\n",
                "WHERE OnlineOrderFlag = 0\n",
                "ORDER BY OrderYear;"
            ],
            "metadata": {
                "azdata_cell_guid": "87d7899a-3fdb-4f7f-8e6d-40567ea1d281",
                "language": "sql"
            },
            "outputs": [
                {
                    "output_type": "display_data",
                    "data": {
                        "text/html": "(1 row affected)"
                    },
                    "metadata": {}
                },
                {
                    "output_type": "display_data",
                    "data": {
                        "text/html": "Total execution time: 00:00:00.017"
                    },
                    "metadata": {}
                },
                {
                    "output_type": "execute_result",
                    "execution_count": 5,
                    "data": {
                        "application/vnd.dataresource+json": {
                            "schema": {
                                "fields": [
                                    {
                                        "name": "OrderYear"
                                    }
                                ]
                            },
                            "data": [
                                {
                                    "OrderYear": "2008"
                                }
                            ]
                        },
                        "text/html": "<table><tr><th>OrderYear</th></tr><tr><td>2008</td></tr></table>"
                    },
                    "metadata": {}
                }
            ],
            "execution_count": 5
        },
        {
            "cell_type": "code",
            "source": [
                "/* =========================\n",
                "   Q6 — Customers who shipped to CA OR billed to CA (UNION)\n",
                "   ========================= */\n",
                "SELECT DISTINCT h.CustomerID\n",
                "FROM SalesLT.SalesOrderHeader AS h\n",
                "JOIN SalesLT.Address AS a\n",
                "  ON a.AddressID = h.ShipToAddressID\n",
                "WHERE a.StateProvince = 'CA'\n",
                "UNION\n",
                "SELECT DISTINCT h.CustomerID\n",
                "FROM SalesLT.SalesOrderHeader AS h\n",
                "JOIN SalesLT.Address AS a\n",
                "  ON a.AddressID = h.BillToAddressID\n",
                "WHERE a.StateProvince = 'CA'\n",
                "ORDER BY CustomerID;\n",
                ""
            ],
            "metadata": {
                "azdata_cell_guid": "f08ad3e4-1b05-4ba6-b749-dd44d783196a",
                "language": "sql"
            },
            "outputs": [
                {
                    "output_type": "display_data",
                    "data": {
                        "text/html": "(0 rows affected)"
                    },
                    "metadata": {}
                },
                {
                    "output_type": "display_data",
                    "data": {
                        "text/html": "Total execution time: 00:00:00.022"
                    },
                    "metadata": {}
                },
                {
                    "output_type": "execute_result",
                    "execution_count": 6,
                    "data": {
                        "application/vnd.dataresource+json": {
                            "schema": {
                                "fields": [
                                    {
                                        "name": "CustomerID"
                                    }
                                ]
                            },
                            "data": []
                        },
                        "text/html": "<table><tr><th>CustomerID</th></tr></table>"
                    },
                    "metadata": {}
                }
            ],
            "execution_count": 6
        },
        {
            "cell_type": "code",
            "source": [
                "/* =========================\n",
                "   Q7 — Customers who have BOTH an online order AND a store order\n",
                "   ========================= */\n",
                "SELECT\n",
                "  s.CustomerID,\n",
                "  SUM(CASE WHEN s.OnlineOrderFlag = 1 THEN 1 ELSE 0 END) AS OnlineOrders,\n",
                "  SUM(CASE WHEN s.OnlineOrderFlag = 0 THEN 1 ELSE 0 END) AS StoreOrders\n",
                "FROM SalesLT.SalesOrderHeader AS s\n",
                "GROUP BY s.CustomerID\n",
                "HAVING SUM(CASE WHEN s.OnlineOrderFlag = 1 THEN 1 ELSE 0 END) > 0\n",
                "   AND SUM(CASE WHEN s.OnlineOrderFlag = 0 THEN 1 ELSE 0 END) > 0\n",
                "ORDER BY s.CustomerID;"
            ],
            "metadata": {
                "azdata_cell_guid": "757aab8b-e204-4fd8-8e04-e472ce7e466e",
                "language": "sql"
            },
            "outputs": [
                {
                    "output_type": "display_data",
                    "data": {
                        "text/html": "(0 rows affected)"
                    },
                    "metadata": {}
                },
                {
                    "output_type": "display_data",
                    "data": {
                        "text/html": "Total execution time: 00:00:00.015"
                    },
                    "metadata": {}
                },
                {
                    "output_type": "execute_result",
                    "execution_count": 7,
                    "data": {
                        "application/vnd.dataresource+json": {
                            "schema": {
                                "fields": [
                                    {
                                        "name": "CustomerID"
                                    },
                                    {
                                        "name": "OnlineOrders"
                                    },
                                    {
                                        "name": "StoreOrders"
                                    }
                                ]
                            },
                            "data": []
                        },
                        "text/html": "<table><tr><th>CustomerID</th><th>OnlineOrders</th><th>StoreOrders</th></tr></table>"
                    },
                    "metadata": {}
                }
            ],
            "execution_count": 7
        },
        {
            "cell_type": "code",
            "source": [
                "/* =========================\n",
                "   Q8 — Products ordered in 2008 but NOT in 2007 (EXCEPT)\n",
                "   ========================= */\n",
                "SELECT DISTINCT d.ProductID, p.Name AS ProductName\n",
                "FROM SalesLT.SalesOrderDetail AS d\n",
                "JOIN SalesLT.SalesOrderHeader AS h\n",
                "  ON h.SalesOrderID = d.SalesOrderID\n",
                "JOIN SalesLT.Product AS p\n",
                "  ON p.ProductID = d.ProductID\n",
                "WHERE YEAR(h.OrderDate) = 2008\n",
                "EXCEPT\n",
                "SELECT DISTINCT d.ProductID, p.Name AS ProductName\n",
                "FROM SalesLT.SalesOrderDetail AS d\n",
                "JOIN SalesLT.SalesOrderHeader AS h\n",
                "  ON h.SalesOrderID = d.SalesOrderID\n",
                "JOIN SalesLT.Product AS p\n",
                "  ON p.ProductID = d.ProductID\n",
                "WHERE YEAR(h.OrderDate) = 2007\n",
                "ORDER BY ProductID;\n",
                ""
            ],
            "metadata": {
                "azdata_cell_guid": "5d72b673-489a-48c9-b908-e19d7d3b4e23",
                "language": "sql"
            },
            "outputs": [
                {
                    "output_type": "display_data",
                    "data": {
                        "text/html": "(142 rows affected)"
                    },
                    "metadata": {}
                },
                {
                    "output_type": "display_data",
                    "data": {
                        "text/html": "Total execution time: 00:00:00.040"
                    },
                    "metadata": {}
                },
                {
                    "output_type": "execute_result",
                    "execution_count": 8,
                    "data": {
                        "application/vnd.dataresource+json": {
                            "schema": {
                                "fields": [
                                    {
                                        "name": "ProductID"
                                    },
                                    {
                                        "name": "ProductName"
                                    }
                                ]
                            },
                            "data": [
                                {
                                    "ProductID": "707",
                                    "ProductName": "Sport-100 Helmet, Red"
                                },
                                {
                                    "ProductID": "708",
                                    "ProductName": "Sport-100 Helmet, Black"
                                },
                                {
                                    "ProductID": "711",
                                    "ProductName": "Sport-100 Helmet, Blue"
                                },
                                {
                                    "ProductID": "712",
                                    "ProductName": "AWC Logo Cap"
                                },
                                {
                                    "ProductID": "714",
                                    "ProductName": "Long-Sleeve Logo Jersey, M"
                                },
                                {
                                    "ProductID": "715",
                                    "ProductName": "Long-Sleeve Logo Jersey, L"
                                },
                                {
                                    "ProductID": "716",
                                    "ProductName": "Long-Sleeve Logo Jersey, XL"
                                },
                                {
                                    "ProductID": "717",
                                    "ProductName": "HL Road Frame - Red, 62"
                                },
                                {
                                    "ProductID": "718",
                                    "ProductName": "HL Road Frame - Red, 44"
                                },
                                {
                                    "ProductID": "722",
                                    "ProductName": "LL Road Frame - Black, 58"
                                },
                                {
                                    "ProductID": "738",
                                    "ProductName": "LL Road Frame - Black, 52"
                                },
                                {
                                    "ProductID": "739",
                                    "ProductName": "HL Mountain Frame - Silver, 42"
                                },
                                {
                                    "ProductID": "742",
                                    "ProductName": "HL Mountain Frame - Silver, 46"
                                },
                                {
                                    "ProductID": "743",
                                    "ProductName": "HL Mountain Frame - Black, 42"
                                },
                                {
                                    "ProductID": "747",
                                    "ProductName": "HL Mountain Frame - Black, 38"
                                },
                                {
                                    "ProductID": "748",
                                    "ProductName": "HL Mountain Frame - Silver, 38"
                                },
                                {
                                    "ProductID": "779",
                                    "ProductName": "Mountain-200 Silver, 38"
                                },
                                {
                                    "ProductID": "780",
                                    "ProductName": "Mountain-200 Silver, 42"
                                },
                                {
                                    "ProductID": "781",
                                    "ProductName": "Mountain-200 Silver, 46"
                                },
                                {
                                    "ProductID": "782",
                                    "ProductName": "Mountain-200 Black, 38"
                                },
                                {
                                    "ProductID": "783",
                                    "ProductName": "Mountain-200 Black, 42"
                                },
                                {
                                    "ProductID": "784",
                                    "ProductName": "Mountain-200 Black, 46"
                                },
                                {
                                    "ProductID": "792",
                                    "ProductName": "Road-250 Red, 58"
                                },
                                {
                                    "ProductID": "793",
                                    "ProductName": "Road-250 Black, 44"
                                },
                                {
                                    "ProductID": "794",
                                    "ProductName": "Road-250 Black, 48"
                                },
                                {
                                    "ProductID": "795",
                                    "ProductName": "Road-250 Black, 52"
                                },
                                {
                                    "ProductID": "796",
                                    "ProductName": "Road-250 Black, 58"
                                },
                                {
                                    "ProductID": "797",
                                    "ProductName": "Road-550-W Yellow, 38"
                                },
                                {
                                    "ProductID": "798",
                                    "ProductName": "Road-550-W Yellow, 40"
                                },
                                {
                                    "ProductID": "799",
                                    "ProductName": "Road-550-W Yellow, 42"
                                },
                                {
                                    "ProductID": "800",
                                    "ProductName": "Road-550-W Yellow, 44"
                                },
                                {
                                    "ProductID": "801",
                                    "ProductName": "Road-550-W Yellow, 48"
                                },
                                {
                                    "ProductID": "808",
                                    "ProductName": "LL Mountain Handlebars"
                                },
                                {
                                    "ProductID": "809",
                                    "ProductName": "ML Mountain Handlebars"
                                },
                                {
                                    "ProductID": "810",
                                    "ProductName": "HL Mountain Handlebars"
                                },
                                {
                                    "ProductID": "813",
                                    "ProductName": "HL Road Handlebars"
                                },
                                {
                                    "ProductID": "822",
                                    "ProductName": "ML Road Frame-W - Yellow, 38"
                                },
                                {
                                    "ProductID": "835",
                                    "ProductName": "ML Road Frame-W - Yellow, 44"
                                },
                                {
                                    "ProductID": "836",
                                    "ProductName": "ML Road Frame-W - Yellow, 48"
                                },
                                {
                                    "ProductID": "838",
                                    "ProductName": "HL Road Frame - Black, 44"
                                },
                                {
                                    "ProductID": "858",
                                    "ProductName": "Half-Finger Gloves, S"
                                },
                                {
                                    "ProductID": "859",
                                    "ProductName": "Half-Finger Gloves, M"
                                },
                                {
                                    "ProductID": "860",
                                    "ProductName": "Half-Finger Gloves, L"
                                },
                                {
                                    "ProductID": "864",
                                    "ProductName": "Classic Vest, S"
                                },
                                {
                                    "ProductID": "865",
                                    "ProductName": "Classic Vest, M"
                                },
                                {
                                    "ProductID": "867",
                                    "ProductName": "Women's Mountain Shorts, S"
                                },
                                {
                                    "ProductID": "868",
                                    "ProductName": "Women's Mountain Shorts, M"
                                },
                                {
                                    "ProductID": "869",
                                    "ProductName": "Women's Mountain Shorts, L"
                                },
                                {
                                    "ProductID": "870",
                                    "ProductName": "Water Bottle - 30 oz."
                                },
                                {
                                    "ProductID": "873",
                                    "ProductName": "Patch Kit/8 Patches"
                                },
                                {
                                    "ProductID": "874",
                                    "ProductName": "Racing Socks, M"
                                },
                                {
                                    "ProductID": "875",
                                    "ProductName": "Racing Socks, L"
                                },
                                {
                                    "ProductID": "876",
                                    "ProductName": "Hitch Rack - 4-Bike"
                                },
                                {
                                    "ProductID": "877",
                                    "ProductName": "Bike Wash - Dissolver"
                                },
                                {
                                    "ProductID": "880",
                                    "ProductName": "Hydration Pack - 70 oz."
                                },
                                {
                                    "ProductID": "881",
                                    "ProductName": "Short-Sleeve Classic Jersey, S"
                                },
                                {
                                    "ProductID": "883",
                                    "ProductName": "Short-Sleeve Classic Jersey, L"
                                },
                                {
                                    "ProductID": "884",
                                    "ProductName": "Short-Sleeve Classic Jersey, XL"
                                },
                                {
                                    "ProductID": "885",
                                    "ProductName": "HL Touring Frame - Yellow, 60"
                                },
                                {
                                    "ProductID": "886",
                                    "ProductName": "LL Touring Frame - Yellow, 62"
                                },
                                {
                                    "ProductID": "889",
                                    "ProductName": "HL Touring Frame - Yellow, 54"
                                },
                                {
                                    "ProductID": "891",
                                    "ProductName": "HL Touring Frame - Blue, 50"
                                },
                                {
                                    "ProductID": "892",
                                    "ProductName": "HL Touring Frame - Blue, 54"
                                },
                                {
                                    "ProductID": "893",
                                    "ProductName": "HL Touring Frame - Blue, 60"
                                },
                                {
                                    "ProductID": "894",
                                    "ProductName": "Rear Derailleur"
                                },
                                {
                                    "ProductID": "895",
                                    "ProductName": "LL Touring Frame - Blue, 50"
                                },
                                {
                                    "ProductID": "896",
                                    "ProductName": "LL Touring Frame - Blue, 54"
                                },
                                {
                                    "ProductID": "899",
                                    "ProductName": "LL Touring Frame - Yellow, 44"
                                },
                                {
                                    "ProductID": "900",
                                    "ProductName": "LL Touring Frame - Yellow, 50"
                                },
                                {
                                    "ProductID": "904",
                                    "ProductName": "ML Mountain Frame-W - Silver, 40"
                                },
                                {
                                    "ProductID": "905",
                                    "ProductName": "ML Mountain Frame-W - Silver, 42"
                                },
                                {
                                    "ProductID": "907",
                                    "ProductName": "Rear Brakes"
                                },
                                {
                                    "ProductID": "908",
                                    "ProductName": "LL Mountain Seat/Saddle"
                                },
                                {
                                    "ProductID": "909",
                                    "ProductName": "ML Mountain Seat/Saddle"
                                },
                                {
                                    "ProductID": "910",
                                    "ProductName": "HL Mountain Seat/Saddle"
                                },
                                {
                                    "ProductID": "913",
                                    "ProductName": "HL Road Seat/Saddle"
                                },
                                {
                                    "ProductID": "916",
                                    "ProductName": "HL Touring Seat/Saddle"
                                },
                                {
                                    "ProductID": "917",
                                    "ProductName": "LL Mountain Frame - Silver, 42"
                                },
                                {
                                    "ProductID": "918",
                                    "ProductName": "LL Mountain Frame - Silver, 44"
                                },
                                {
                                    "ProductID": "920",
                                    "ProductName": "LL Mountain Frame - Silver, 52"
                                },
                                {
                                    "ProductID": "924",
                                    "ProductName": "LL Mountain Frame - Black, 42"
                                },
                                {
                                    "ProductID": "925",
                                    "ProductName": "LL Mountain Frame - Black, 44"
                                },
                                {
                                    "ProductID": "926",
                                    "ProductName": "LL Mountain Frame - Black, 48"
                                },
                                {
                                    "ProductID": "935",
                                    "ProductName": "LL Mountain Pedal"
                                },
                                {
                                    "ProductID": "936",
                                    "ProductName": "ML Mountain Pedal"
                                },
                                {
                                    "ProductID": "937",
                                    "ProductName": "HL Mountain Pedal"
                                },
                                {
                                    "ProductID": "938",
                                    "ProductName": "LL Road Pedal"
                                },
                                {
                                    "ProductID": "939",
                                    "ProductName": "ML Road Pedal"
                                },
                                {
                                    "ProductID": "940",
                                    "ProductName": "HL Road Pedal"
                                },
                                {
                                    "ProductID": "944",
                                    "ProductName": "LL Mountain Frame - Silver, 40"
                                },
                                {
                                    "ProductID": "945",
                                    "ProductName": "Front Derailleur"
                                },
                                {
                                    "ProductID": "947",
                                    "ProductName": "HL Touring Handlebars"
                                },
                                {
                                    "ProductID": "948",
                                    "ProductName": "Front Brakes"
                                },
                                {
                                    "ProductID": "949",
                                    "ProductName": "LL Crankset"
                                },
                                {
                                    "ProductID": "951",
                                    "ProductName": "HL Crankset"
                                },
                                {
                                    "ProductID": "952",
                                    "ProductName": "Chain"
                                },
                                {
                                    "ProductID": "953",
                                    "ProductName": "Touring-2000 Blue, 60"
                                },
                                {
                                    "ProductID": "954",
                                    "ProductName": "Touring-1000 Yellow, 46"
                                },
                                {
                                    "ProductID": "955",
                                    "ProductName": "Touring-1000 Yellow, 50"
                                },
                                {
                                    "ProductID": "956",
                                    "ProductName": "Touring-1000 Yellow, 54"
                                },
                                {
                                    "ProductID": "957",
                                    "ProductName": "Touring-1000 Yellow, 60"
                                },
                                {
                                    "ProductID": "958",
                                    "ProductName": "Touring-3000 Blue, 54"
                                },
                                {
                                    "ProductID": "959",
                                    "ProductName": "Touring-3000 Blue, 58"
                                },
                                {
                                    "ProductID": "960",
                                    "ProductName": "Touring-3000 Blue, 62"
                                },
                                {
                                    "ProductID": "961",
                                    "ProductName": "Touring-3000 Yellow, 44"
                                },
                                {
                                    "ProductID": "962",
                                    "ProductName": "Touring-3000 Yellow, 50"
                                },
                                {
                                    "ProductID": "963",
                                    "ProductName": "Touring-3000 Yellow, 54"
                                },
                                {
                                    "ProductID": "964",
                                    "ProductName": "Touring-3000 Yellow, 58"
                                },
                                {
                                    "ProductID": "965",
                                    "ProductName": "Touring-3000 Yellow, 62"
                                },
                                {
                                    "ProductID": "966",
                                    "ProductName": "Touring-1000 Blue, 46"
                                },
                                {
                                    "ProductID": "967",
                                    "ProductName": "Touring-1000 Blue, 50"
                                },
                                {
                                    "ProductID": "968",
                                    "ProductName": "Touring-1000 Blue, 54"
                                },
                                {
                                    "ProductID": "969",
                                    "ProductName": "Touring-1000 Blue, 60"
                                },
                                {
                                    "ProductID": "970",
                                    "ProductName": "Touring-2000 Blue, 46"
                                },
                                {
                                    "ProductID": "971",
                                    "ProductName": "Touring-2000 Blue, 50"
                                },
                                {
                                    "ProductID": "972",
                                    "ProductName": "Touring-2000 Blue, 54"
                                },
                                {
                                    "ProductID": "973",
                                    "ProductName": "Road-350-W Yellow, 40"
                                },
                                {
                                    "ProductID": "974",
                                    "ProductName": "Road-350-W Yellow, 42"
                                },
                                {
                                    "ProductID": "975",
                                    "ProductName": "Road-350-W Yellow, 44"
                                },
                                {
                                    "ProductID": "976",
                                    "ProductName": "Road-350-W Yellow, 48"
                                },
                                {
                                    "ProductID": "977",
                                    "ProductName": "Road-750 Black, 58"
                                },
                                {
                                    "ProductID": "978",
                                    "ProductName": "Touring-3000 Blue, 44"
                                },
                                {
                                    "ProductID": "979",
                                    "ProductName": "Touring-3000 Blue, 50"
                                },
                                {
                                    "ProductID": "980",
                                    "ProductName": "Mountain-400-W Silver, 38"
                                },
                                {
                                    "ProductID": "981",
                                    "ProductName": "Mountain-400-W Silver, 40"
                                },
                                {
                                    "ProductID": "982",
                                    "ProductName": "Mountain-400-W Silver, 42"
                                },
                                {
                                    "ProductID": "983",
                                    "ProductName": "Mountain-400-W Silver, 46"
                                },
                                {
                                    "ProductID": "984",
                                    "ProductName": "Mountain-500 Silver, 40"
                                },
                                {
                                    "ProductID": "985",
                                    "ProductName": "Mountain-500 Silver, 42"
                                },
                                {
                                    "ProductID": "986",
                                    "ProductName": "Mountain-500 Silver, 44"
                                },
                                {
                                    "ProductID": "987",
                                    "ProductName": "Mountain-500 Silver, 48"
                                },
                                {
                                    "ProductID": "988",
                                    "ProductName": "Mountain-500 Silver, 52"
                                },
                                {
                                    "ProductID": "989",
                                    "ProductName": "Mountain-500 Black, 40"
                                },
                                {
                                    "ProductID": "990",
                                    "ProductName": "Mountain-500 Black, 42"
                                },
                                {
                                    "ProductID": "991",
                                    "ProductName": "Mountain-500 Black, 44"
                                },
                                {
                                    "ProductID": "992",
                                    "ProductName": "Mountain-500 Black, 48"
                                },
                                {
                                    "ProductID": "993",
                                    "ProductName": "Mountain-500 Black, 52"
                                },
                                {
                                    "ProductID": "994",
                                    "ProductName": "LL Bottom Bracket"
                                },
                                {
                                    "ProductID": "996",
                                    "ProductName": "HL Bottom Bracket"
                                },
                                {
                                    "ProductID": "997",
                                    "ProductName": "Road-750 Black, 44"
                                },
                                {
                                    "ProductID": "998",
                                    "ProductName": "Road-750 Black, 48"
                                },
                                {
                                    "ProductID": "999",
                                    "ProductName": "Road-750 Black, 52"
                                }
                            ]
                        },
                        "text/html": "<table><tr><th>ProductID</th><th>ProductName</th></tr><tr><td>707</td><td>Sport-100 Helmet, Red</td></tr><tr><td>708</td><td>Sport-100 Helmet, Black</td></tr><tr><td>711</td><td>Sport-100 Helmet, Blue</td></tr><tr><td>712</td><td>AWC Logo Cap</td></tr><tr><td>714</td><td>Long-Sleeve Logo Jersey, M</td></tr><tr><td>715</td><td>Long-Sleeve Logo Jersey, L</td></tr><tr><td>716</td><td>Long-Sleeve Logo Jersey, XL</td></tr><tr><td>717</td><td>HL Road Frame - Red, 62</td></tr><tr><td>718</td><td>HL Road Frame - Red, 44</td></tr><tr><td>722</td><td>LL Road Frame - Black, 58</td></tr><tr><td>738</td><td>LL Road Frame - Black, 52</td></tr><tr><td>739</td><td>HL Mountain Frame - Silver, 42</td></tr><tr><td>742</td><td>HL Mountain Frame - Silver, 46</td></tr><tr><td>743</td><td>HL Mountain Frame - Black, 42</td></tr><tr><td>747</td><td>HL Mountain Frame - Black, 38</td></tr><tr><td>748</td><td>HL Mountain Frame - Silver, 38</td></tr><tr><td>779</td><td>Mountain-200 Silver, 38</td></tr><tr><td>780</td><td>Mountain-200 Silver, 42</td></tr><tr><td>781</td><td>Mountain-200 Silver, 46</td></tr><tr><td>782</td><td>Mountain-200 Black, 38</td></tr><tr><td>783</td><td>Mountain-200 Black, 42</td></tr><tr><td>784</td><td>Mountain-200 Black, 46</td></tr><tr><td>792</td><td>Road-250 Red, 58</td></tr><tr><td>793</td><td>Road-250 Black, 44</td></tr><tr><td>794</td><td>Road-250 Black, 48</td></tr><tr><td>795</td><td>Road-250 Black, 52</td></tr><tr><td>796</td><td>Road-250 Black, 58</td></tr><tr><td>797</td><td>Road-550-W Yellow, 38</td></tr><tr><td>798</td><td>Road-550-W Yellow, 40</td></tr><tr><td>799</td><td>Road-550-W Yellow, 42</td></tr><tr><td>800</td><td>Road-550-W Yellow, 44</td></tr><tr><td>801</td><td>Road-550-W Yellow, 48</td></tr><tr><td>808</td><td>LL Mountain Handlebars</td></tr><tr><td>809</td><td>ML Mountain Handlebars</td></tr><tr><td>810</td><td>HL Mountain Handlebars</td></tr><tr><td>813</td><td>HL Road Handlebars</td></tr><tr><td>822</td><td>ML Road Frame-W - Yellow, 38</td></tr><tr><td>835</td><td>ML Road Frame-W - Yellow, 44</td></tr><tr><td>836</td><td>ML Road Frame-W - Yellow, 48</td></tr><tr><td>838</td><td>HL Road Frame - Black, 44</td></tr><tr><td>858</td><td>Half-Finger Gloves, S</td></tr><tr><td>859</td><td>Half-Finger Gloves, M</td></tr><tr><td>860</td><td>Half-Finger Gloves, L</td></tr><tr><td>864</td><td>Classic Vest, S</td></tr><tr><td>865</td><td>Classic Vest, M</td></tr><tr><td>867</td><td>Women&#39;s Mountain Shorts, S</td></tr><tr><td>868</td><td>Women&#39;s Mountain Shorts, M</td></tr><tr><td>869</td><td>Women&#39;s Mountain Shorts, L</td></tr><tr><td>870</td><td>Water Bottle - 30 oz.</td></tr><tr><td>873</td><td>Patch Kit/8 Patches</td></tr><tr><td>874</td><td>Racing Socks, M</td></tr><tr><td>875</td><td>Racing Socks, L</td></tr><tr><td>876</td><td>Hitch Rack - 4-Bike</td></tr><tr><td>877</td><td>Bike Wash - Dissolver</td></tr><tr><td>880</td><td>Hydration Pack - 70 oz.</td></tr><tr><td>881</td><td>Short-Sleeve Classic Jersey, S</td></tr><tr><td>883</td><td>Short-Sleeve Classic Jersey, L</td></tr><tr><td>884</td><td>Short-Sleeve Classic Jersey, XL</td></tr><tr><td>885</td><td>HL Touring Frame - Yellow, 60</td></tr><tr><td>886</td><td>LL Touring Frame - Yellow, 62</td></tr><tr><td>889</td><td>HL Touring Frame - Yellow, 54</td></tr><tr><td>891</td><td>HL Touring Frame - Blue, 50</td></tr><tr><td>892</td><td>HL Touring Frame - Blue, 54</td></tr><tr><td>893</td><td>HL Touring Frame - Blue, 60</td></tr><tr><td>894</td><td>Rear Derailleur</td></tr><tr><td>895</td><td>LL Touring Frame - Blue, 50</td></tr><tr><td>896</td><td>LL Touring Frame - Blue, 54</td></tr><tr><td>899</td><td>LL Touring Frame - Yellow, 44</td></tr><tr><td>900</td><td>LL Touring Frame - Yellow, 50</td></tr><tr><td>904</td><td>ML Mountain Frame-W - Silver, 40</td></tr><tr><td>905</td><td>ML Mountain Frame-W - Silver, 42</td></tr><tr><td>907</td><td>Rear Brakes</td></tr><tr><td>908</td><td>LL Mountain Seat/Saddle</td></tr><tr><td>909</td><td>ML Mountain Seat/Saddle</td></tr><tr><td>910</td><td>HL Mountain Seat/Saddle</td></tr><tr><td>913</td><td>HL Road Seat/Saddle</td></tr><tr><td>916</td><td>HL Touring Seat/Saddle</td></tr><tr><td>917</td><td>LL Mountain Frame - Silver, 42</td></tr><tr><td>918</td><td>LL Mountain Frame - Silver, 44</td></tr><tr><td>920</td><td>LL Mountain Frame - Silver, 52</td></tr><tr><td>924</td><td>LL Mountain Frame - Black, 42</td></tr><tr><td>925</td><td>LL Mountain Frame - Black, 44</td></tr><tr><td>926</td><td>LL Mountain Frame - Black, 48</td></tr><tr><td>935</td><td>LL Mountain Pedal</td></tr><tr><td>936</td><td>ML Mountain Pedal</td></tr><tr><td>937</td><td>HL Mountain Pedal</td></tr><tr><td>938</td><td>LL Road Pedal</td></tr><tr><td>939</td><td>ML Road Pedal</td></tr><tr><td>940</td><td>HL Road Pedal</td></tr><tr><td>944</td><td>LL Mountain Frame - Silver, 40</td></tr><tr><td>945</td><td>Front Derailleur</td></tr><tr><td>947</td><td>HL Touring Handlebars</td></tr><tr><td>948</td><td>Front Brakes</td></tr><tr><td>949</td><td>LL Crankset</td></tr><tr><td>951</td><td>HL Crankset</td></tr><tr><td>952</td><td>Chain</td></tr><tr><td>953</td><td>Touring-2000 Blue, 60</td></tr><tr><td>954</td><td>Touring-1000 Yellow, 46</td></tr><tr><td>955</td><td>Touring-1000 Yellow, 50</td></tr><tr><td>956</td><td>Touring-1000 Yellow, 54</td></tr><tr><td>957</td><td>Touring-1000 Yellow, 60</td></tr><tr><td>958</td><td>Touring-3000 Blue, 54</td></tr><tr><td>959</td><td>Touring-3000 Blue, 58</td></tr><tr><td>960</td><td>Touring-3000 Blue, 62</td></tr><tr><td>961</td><td>Touring-3000 Yellow, 44</td></tr><tr><td>962</td><td>Touring-3000 Yellow, 50</td></tr><tr><td>963</td><td>Touring-3000 Yellow, 54</td></tr><tr><td>964</td><td>Touring-3000 Yellow, 58</td></tr><tr><td>965</td><td>Touring-3000 Yellow, 62</td></tr><tr><td>966</td><td>Touring-1000 Blue, 46</td></tr><tr><td>967</td><td>Touring-1000 Blue, 50</td></tr><tr><td>968</td><td>Touring-1000 Blue, 54</td></tr><tr><td>969</td><td>Touring-1000 Blue, 60</td></tr><tr><td>970</td><td>Touring-2000 Blue, 46</td></tr><tr><td>971</td><td>Touring-2000 Blue, 50</td></tr><tr><td>972</td><td>Touring-2000 Blue, 54</td></tr><tr><td>973</td><td>Road-350-W Yellow, 40</td></tr><tr><td>974</td><td>Road-350-W Yellow, 42</td></tr><tr><td>975</td><td>Road-350-W Yellow, 44</td></tr><tr><td>976</td><td>Road-350-W Yellow, 48</td></tr><tr><td>977</td><td>Road-750 Black, 58</td></tr><tr><td>978</td><td>Touring-3000 Blue, 44</td></tr><tr><td>979</td><td>Touring-3000 Blue, 50</td></tr><tr><td>980</td><td>Mountain-400-W Silver, 38</td></tr><tr><td>981</td><td>Mountain-400-W Silver, 40</td></tr><tr><td>982</td><td>Mountain-400-W Silver, 42</td></tr><tr><td>983</td><td>Mountain-400-W Silver, 46</td></tr><tr><td>984</td><td>Mountain-500 Silver, 40</td></tr><tr><td>985</td><td>Mountain-500 Silver, 42</td></tr><tr><td>986</td><td>Mountain-500 Silver, 44</td></tr><tr><td>987</td><td>Mountain-500 Silver, 48</td></tr><tr><td>988</td><td>Mountain-500 Silver, 52</td></tr><tr><td>989</td><td>Mountain-500 Black, 40</td></tr><tr><td>990</td><td>Mountain-500 Black, 42</td></tr><tr><td>991</td><td>Mountain-500 Black, 44</td></tr><tr><td>992</td><td>Mountain-500 Black, 48</td></tr><tr><td>993</td><td>Mountain-500 Black, 52</td></tr><tr><td>994</td><td>LL Bottom Bracket</td></tr><tr><td>996</td><td>HL Bottom Bracket</td></tr><tr><td>997</td><td>Road-750 Black, 44</td></tr><tr><td>998</td><td>Road-750 Black, 48</td></tr><tr><td>999</td><td>Road-750 Black, 52</td></tr></table>"
                    },
                    "metadata": {}
                }
            ],
            "execution_count": 8
        },
        {
            "cell_type": "code",
            "source": [
                "/* =========================\n",
                "   Q9 — Cities that have customers OR appear on order ship-to addresses (UNION)\n",
                "   ========================= */\n",
                "-- Cities from customer addresses\n",
                "SELECT DISTINCT a.City\n",
                "FROM SalesLT.Customer AS c\n",
                "JOIN SalesLT.CustomerAddress AS ca\n",
                "  ON ca.CustomerID = c.CustomerID\n",
                "JOIN SalesLT.Address AS a\n",
                "  ON a.AddressID = ca.AddressID\n",
                "UNION\n",
                "-- Cities from order ShipTo addresses\n",
                "SELECT DISTINCT a.City\n",
                "FROM SalesLT.SalesOrderHeader AS h\n",
                "JOIN SalesLT.Address AS a\n",
                "  ON a.AddressID = h.ShipToAddressID\n",
                "ORDER BY City;"
            ],
            "metadata": {
                "azdata_cell_guid": "56cf5db7-4e7c-4ebe-b7b1-bb143ba6fd8c",
                "language": "sql"
            },
            "outputs": [
                {
                    "output_type": "display_data",
                    "data": {
                        "text/html": "(256 rows affected)"
                    },
                    "metadata": {}
                },
                {
                    "output_type": "display_data",
                    "data": {
                        "text/html": "Total execution time: 00:00:00.022"
                    },
                    "metadata": {}
                },
                {
                    "output_type": "execute_result",
                    "execution_count": 9,
                    "data": {
                        "application/vnd.dataresource+json": {
                            "schema": {
                                "fields": [
                                    {
                                        "name": "City"
                                    }
                                ]
                            },
                            "data": [
                                {
                                    "City": "Abingdon"
                                },
                                {
                                    "City": "Albany"
                                },
                                {
                                    "City": "Alhambra"
                                },
                                {
                                    "City": "Arlington"
                                },
                                {
                                    "City": "Auburn"
                                },
                                {
                                    "City": "Aurora"
                                },
                                {
                                    "City": "Austin"
                                },
                                {
                                    "City": "Baldwin Park"
                                },
                                {
                                    "City": "Barrie"
                                },
                                {
                                    "City": "Barstow"
                                },
                                {
                                    "City": "Basingstoke Hants"
                                },
                                {
                                    "City": "Baytown"
                                },
                                {
                                    "City": "Beaverton"
                                },
                                {
                                    "City": "Bell Gardens"
                                },
                                {
                                    "City": "Bellevue"
                                },
                                {
                                    "City": "Bellingham"
                                },
                                {
                                    "City": "Berks"
                                },
                                {
                                    "City": "Berkshire"
                                },
                                {
                                    "City": "Billings"
                                },
                                {
                                    "City": "Birmingham"
                                },
                                {
                                    "City": "Bothell"
                                },
                                {
                                    "City": "Bountiful"
                                },
                                {
                                    "City": "Bracknell"
                                },
                                {
                                    "City": "Brampton"
                                },
                                {
                                    "City": "Branch"
                                },
                                {
                                    "City": "Branson"
                                },
                                {
                                    "City": "Brossard"
                                },
                                {
                                    "City": "Burnaby"
                                },
                                {
                                    "City": "Calgary"
                                },
                                {
                                    "City": "Camarillo"
                                },
                                {
                                    "City": "Cambridge"
                                },
                                {
                                    "City": "Canoga Park"
                                },
                                {
                                    "City": "Carol Stream"
                                },
                                {
                                    "City": "Carrollton"
                                },
                                {
                                    "City": "Carson"
                                },
                                {
                                    "City": "Casper"
                                },
                                {
                                    "City": "Cedar City"
                                },
                                {
                                    "City": "Cedar Park"
                                },
                                {
                                    "City": "Cerritos"
                                },
                                {
                                    "City": "Chalk Riber"
                                },
                                {
                                    "City": "Chandler"
                                },
                                {
                                    "City": "Chehalis"
                                },
                                {
                                    "City": "Cheyenne"
                                },
                                {
                                    "City": "Chicago"
                                },
                                {
                                    "City": "Citrus Heights"
                                },
                                {
                                    "City": "City Of Commerce"
                                },
                                {
                                    "City": "Clackamas"
                                },
                                {
                                    "City": "College Station"
                                },
                                {
                                    "City": "Corpus Christi"
                                },
                                {
                                    "City": "Culver City"
                                },
                                {
                                    "City": "Dallas"
                                },
                                {
                                    "City": "Daly City"
                                },
                                {
                                    "City": "Denby"
                                },
                                {
                                    "City": "Denver"
                                },
                                {
                                    "City": "Detroit"
                                },
                                {
                                    "City": "Dorval"
                                },
                                {
                                    "City": "Duluth"
                                },
                                {
                                    "City": "Edina"
                                },
                                {
                                    "City": "Edmonton"
                                },
                                {
                                    "City": "El Cajon"
                                },
                                {
                                    "City": "El Segundo"
                                },
                                {
                                    "City": "Elgin"
                                },
                                {
                                    "City": "Elk Grove"
                                },
                                {
                                    "City": "Ellensburg"
                                },
                                {
                                    "City": "Englewood"
                                },
                                {
                                    "City": "Escondido"
                                },
                                {
                                    "City": "Etobicoke"
                                },
                                {
                                    "City": "Eureka"
                                },
                                {
                                    "City": "Everett"
                                },
                                {
                                    "City": "Federal Way"
                                },
                                {
                                    "City": "Ferguson"
                                },
                                {
                                    "City": "Fernley"
                                },
                                {
                                    "City": "Fontana"
                                },
                                {
                                    "City": "Fort Worth"
                                },
                                {
                                    "City": "Fremont"
                                },
                                {
                                    "City": "Fullerton"
                                },
                                {
                                    "City": "Garland"
                                },
                                {
                                    "City": "Gilbert"
                                },
                                {
                                    "City": "Gilroy"
                                },
                                {
                                    "City": "Gloucestershire"
                                },
                                {
                                    "City": "Great Falls"
                                },
                                {
                                    "City": "Greeley"
                                },
                                {
                                    "City": "Hanford"
                                },
                                {
                                    "City": "High Wycombe"
                                },
                                {
                                    "City": "Hillsboro"
                                },
                                {
                                    "City": "Holland"
                                },
                                {
                                    "City": "Houston"
                                },
                                {
                                    "City": "Howell"
                                },
                                {
                                    "City": "Hull"
                                },
                                {
                                    "City": "Humble"
                                },
                                {
                                    "City": "Idaho Falls"
                                },
                                {
                                    "City": "Irvine"
                                },
                                {
                                    "City": "Irving"
                                },
                                {
                                    "City": "Issaquah"
                                },
                                {
                                    "City": "Jefferson City"
                                },
                                {
                                    "City": "Johnson Creek"
                                },
                                {
                                    "City": "Joliet"
                                },
                                {
                                    "City": "Kanata"
                                },
                                {
                                    "City": "Kansas City"
                                },
                                {
                                    "City": "Kelso"
                                },
                                {
                                    "City": "Kennewick"
                                },
                                {
                                    "City": "Kent"
                                },
                                {
                                    "City": "Killeen"
                                },
                                {
                                    "City": "Kingston"
                                },
                                {
                                    "City": "Kirkland"
                                },
                                {
                                    "City": "Klamath Falls"
                                },
                                {
                                    "City": "La Marque"
                                },
                                {
                                    "City": "La Mesa"
                                },
                                {
                                    "City": "Lacey"
                                },
                                {
                                    "City": "Lake Elsinore"
                                },
                                {
                                    "City": "Lakewood"
                                },
                                {
                                    "City": "Lancaster"
                                },
                                {
                                    "City": "Laredo"
                                },
                                {
                                    "City": "Las Cruces"
                                },
                                {
                                    "City": "Las Vegas"
                                },
                                {
                                    "City": "Lewiston"
                                },
                                {
                                    "City": "Liverpool"
                                },
                                {
                                    "City": "London"
                                },
                                {
                                    "City": "Longmont"
                                },
                                {
                                    "City": "Longview"
                                },
                                {
                                    "City": "Loveland"
                                },
                                {
                                    "City": "Lynnwood"
                                },
                                {
                                    "City": "Madison Heights"
                                },
                                {
                                    "City": "Maidenhead"
                                },
                                {
                                    "City": "Markham"
                                },
                                {
                                    "City": "Medford"
                                },
                                {
                                    "City": "Mesa"
                                },
                                {
                                    "City": "Mesquite"
                                },
                                {
                                    "City": "Midland"
                                },
                                {
                                    "City": "Milpitas"
                                },
                                {
                                    "City": "Milton Keynes"
                                },
                                {
                                    "City": "Milwaukee"
                                },
                                {
                                    "City": "Milwaukie"
                                },
                                {
                                    "City": "Minneapolis"
                                },
                                {
                                    "City": "Mississauga"
                                },
                                {
                                    "City": "Missoula"
                                },
                                {
                                    "City": "Modesto"
                                },
                                {
                                    "City": "Moline"
                                },
                                {
                                    "City": "Monroe"
                                },
                                {
                                    "City": "Monrovia"
                                },
                                {
                                    "City": "Montreal"
                                },
                                {
                                    "City": "Mosinee"
                                },
                                {
                                    "City": "Nepean"
                                },
                                {
                                    "City": "Newark"
                                },
                                {
                                    "City": "Norridge"
                                },
                                {
                                    "City": "North Bend"
                                },
                                {
                                    "City": "North Las Vegas"
                                },
                                {
                                    "City": "North Sioux City"
                                },
                                {
                                    "City": "Novi"
                                },
                                {
                                    "City": "Odessa"
                                },
                                {
                                    "City": "Ogden"
                                },
                                {
                                    "City": "Ontario"
                                },
                                {
                                    "City": "Orange"
                                },
                                {
                                    "City": "Ottawa"
                                },
                                {
                                    "City": "Outremont"
                                },
                                {
                                    "City": "Oxford"
                                },
                                {
                                    "City": "Oxnard"
                                },
                                {
                                    "City": "Oxon"
                                },
                                {
                                    "City": "Park City"
                                },
                                {
                                    "City": "Parker"
                                },
                                {
                                    "City": "Peoria"
                                },
                                {
                                    "City": "Phoenix"
                                },
                                {
                                    "City": "Plano"
                                },
                                {
                                    "City": "Pleasanton"
                                },
                                {
                                    "City": "Pnot-Rouge"
                                },
                                {
                                    "City": "Pontiac"
                                },
                                {
                                    "City": "Port Huron"
                                },
                                {
                                    "City": "Port Orchard"
                                },
                                {
                                    "City": "Portland"
                                },
                                {
                                    "City": "Puyallup"
                                },
                                {
                                    "City": "Quebec"
                                },
                                {
                                    "City": "Racine"
                                },
                                {
                                    "City": "Reading"
                                },
                                {
                                    "City": "Redford"
                                },
                                {
                                    "City": "Redlands"
                                },
                                {
                                    "City": "Redmond"
                                },
                                {
                                    "City": "Reno"
                                },
                                {
                                    "City": "Renton"
                                },
                                {
                                    "City": "Richmond"
                                },
                                {
                                    "City": "Richmond Hill"
                                },
                                {
                                    "City": "Rio Rancho"
                                },
                                {
                                    "City": "Riverton"
                                },
                                {
                                    "City": "Rock Springs"
                                },
                                {
                                    "City": "Round Rock"
                                },
                                {
                                    "City": "Sacramento"
                                },
                                {
                                    "City": "Saginaw"
                                },
                                {
                                    "City": "Saint Ann"
                                },
                                {
                                    "City": "Saint John"
                                },
                                {
                                    "City": "Saint Louis"
                                },
                                {
                                    "City": "Sainte-Foy"
                                },
                                {
                                    "City": "Salem"
                                },
                                {
                                    "City": "Salt Lake City"
                                },
                                {
                                    "City": "San Antonio"
                                },
                                {
                                    "City": "San Bruno"
                                },
                                {
                                    "City": "San Diego"
                                },
                                {
                                    "City": "San Francisco"
                                },
                                {
                                    "City": "San Jose"
                                },
                                {
                                    "City": "San Mateo"
                                },
                                {
                                    "City": "San Ramon"
                                },
                                {
                                    "City": "San Ysidro"
                                },
                                {
                                    "City": "Sand City"
                                },
                                {
                                    "City": "Sandpoint"
                                },
                                {
                                    "City": "Sandy"
                                },
                                {
                                    "City": "Santa Ana"
                                },
                                {
                                    "City": "Santa Fe"
                                },
                                {
                                    "City": "Santa Monica"
                                },
                                {
                                    "City": "Scottsdale"
                                },
                                {
                                    "City": "Seattle"
                                },
                                {
                                    "City": "Sequim"
                                },
                                {
                                    "City": "Shelton"
                                },
                                {
                                    "City": "Sherman Oaks"
                                },
                                {
                                    "City": "Sillery"
                                },
                                {
                                    "City": "Simi Valley"
                                },
                                {
                                    "City": "Southfield"
                                },
                                {
                                    "City": "Southgate"
                                },
                                {
                                    "City": "Sparks"
                                },
                                {
                                    "City": "Spokane"
                                },
                                {
                                    "City": "Springfield"
                                },
                                {
                                    "City": "Stockton"
                                },
                                {
                                    "City": "Sugar Land"
                                },
                                {
                                    "City": "Surprise"
                                },
                                {
                                    "City": "Surrey"
                                },
                                {
                                    "City": "Tacoma"
                                },
                                {
                                    "City": "Tigard"
                                },
                                {
                                    "City": "Tooele"
                                },
                                {
                                    "City": "Toronto"
                                },
                                {
                                    "City": "Trabuco Canyon"
                                },
                                {
                                    "City": "Troutdale"
                                },
                                {
                                    "City": "Tucson"
                                },
                                {
                                    "City": "Tuscola"
                                },
                                {
                                    "City": "Union City"
                                },
                                {
                                    "City": "Upland"
                                },
                                {
                                    "City": "Van Nuys"
                                },
                                {
                                    "City": "Vancouver"
                                },
                                {
                                    "City": "Victoria"
                                },
                                {
                                    "City": "Ville De'anjou"
                                },
                                {
                                    "City": "Visalia"
                                },
                                {
                                    "City": "W. York"
                                },
                                {
                                    "City": "Warrington"
                                },
                                {
                                    "City": "Washougal"
                                },
                                {
                                    "City": "Waterloo"
                                },
                                {
                                    "City": "Wenatchee"
                                },
                                {
                                    "City": "West Chicago"
                                },
                                {
                                    "City": "West Sussex"
                                },
                                {
                                    "City": "Westland"
                                },
                                {
                                    "City": "Westminster"
                                },
                                {
                                    "City": "Weston"
                                },
                                {
                                    "City": "Whittier"
                                },
                                {
                                    "City": "Winnipeg"
                                },
                                {
                                    "City": "Wokingham"
                                },
                                {
                                    "City": "Wood Dale"
                                },
                                {
                                    "City": "Woodbury"
                                },
                                {
                                    "City": "Woodinville"
                                },
                                {
                                    "City": "Woolston"
                                },
                                {
                                    "City": "York"
                                },
                                {
                                    "City": "Zeeland"
                                }
                            ]
                        },
                        "text/html": "<table><tr><th>City</th></tr><tr><td>Abingdon</td></tr><tr><td>Albany</td></tr><tr><td>Alhambra</td></tr><tr><td>Arlington</td></tr><tr><td>Auburn</td></tr><tr><td>Aurora</td></tr><tr><td>Austin</td></tr><tr><td>Baldwin Park</td></tr><tr><td>Barrie</td></tr><tr><td>Barstow</td></tr><tr><td>Basingstoke Hants</td></tr><tr><td>Baytown</td></tr><tr><td>Beaverton</td></tr><tr><td>Bell Gardens</td></tr><tr><td>Bellevue</td></tr><tr><td>Bellingham</td></tr><tr><td>Berks</td></tr><tr><td>Berkshire</td></tr><tr><td>Billings</td></tr><tr><td>Birmingham</td></tr><tr><td>Bothell</td></tr><tr><td>Bountiful</td></tr><tr><td>Bracknell</td></tr><tr><td>Brampton</td></tr><tr><td>Branch</td></tr><tr><td>Branson</td></tr><tr><td>Brossard</td></tr><tr><td>Burnaby</td></tr><tr><td>Calgary</td></tr><tr><td>Camarillo</td></tr><tr><td>Cambridge</td></tr><tr><td>Canoga Park</td></tr><tr><td>Carol Stream</td></tr><tr><td>Carrollton</td></tr><tr><td>Carson</td></tr><tr><td>Casper</td></tr><tr><td>Cedar City</td></tr><tr><td>Cedar Park</td></tr><tr><td>Cerritos</td></tr><tr><td>Chalk Riber</td></tr><tr><td>Chandler</td></tr><tr><td>Chehalis</td></tr><tr><td>Cheyenne</td></tr><tr><td>Chicago</td></tr><tr><td>Citrus Heights</td></tr><tr><td>City Of Commerce</td></tr><tr><td>Clackamas</td></tr><tr><td>College Station</td></tr><tr><td>Corpus Christi</td></tr><tr><td>Culver City</td></tr><tr><td>Dallas</td></tr><tr><td>Daly City</td></tr><tr><td>Denby</td></tr><tr><td>Denver</td></tr><tr><td>Detroit</td></tr><tr><td>Dorval</td></tr><tr><td>Duluth</td></tr><tr><td>Edina</td></tr><tr><td>Edmonton</td></tr><tr><td>El Cajon</td></tr><tr><td>El Segundo</td></tr><tr><td>Elgin</td></tr><tr><td>Elk Grove</td></tr><tr><td>Ellensburg</td></tr><tr><td>Englewood</td></tr><tr><td>Escondido</td></tr><tr><td>Etobicoke</td></tr><tr><td>Eureka</td></tr><tr><td>Everett</td></tr><tr><td>Federal Way</td></tr><tr><td>Ferguson</td></tr><tr><td>Fernley</td></tr><tr><td>Fontana</td></tr><tr><td>Fort Worth</td></tr><tr><td>Fremont</td></tr><tr><td>Fullerton</td></tr><tr><td>Garland</td></tr><tr><td>Gilbert</td></tr><tr><td>Gilroy</td></tr><tr><td>Gloucestershire</td></tr><tr><td>Great Falls</td></tr><tr><td>Greeley</td></tr><tr><td>Hanford</td></tr><tr><td>High Wycombe</td></tr><tr><td>Hillsboro</td></tr><tr><td>Holland</td></tr><tr><td>Houston</td></tr><tr><td>Howell</td></tr><tr><td>Hull</td></tr><tr><td>Humble</td></tr><tr><td>Idaho Falls</td></tr><tr><td>Irvine</td></tr><tr><td>Irving</td></tr><tr><td>Issaquah</td></tr><tr><td>Jefferson City</td></tr><tr><td>Johnson Creek</td></tr><tr><td>Joliet</td></tr><tr><td>Kanata</td></tr><tr><td>Kansas City</td></tr><tr><td>Kelso</td></tr><tr><td>Kennewick</td></tr><tr><td>Kent</td></tr><tr><td>Killeen</td></tr><tr><td>Kingston</td></tr><tr><td>Kirkland</td></tr><tr><td>Klamath Falls</td></tr><tr><td>La Marque</td></tr><tr><td>La Mesa</td></tr><tr><td>Lacey</td></tr><tr><td>Lake Elsinore</td></tr><tr><td>Lakewood</td></tr><tr><td>Lancaster</td></tr><tr><td>Laredo</td></tr><tr><td>Las Cruces</td></tr><tr><td>Las Vegas</td></tr><tr><td>Lewiston</td></tr><tr><td>Liverpool</td></tr><tr><td>London</td></tr><tr><td>Longmont</td></tr><tr><td>Longview</td></tr><tr><td>Loveland</td></tr><tr><td>Lynnwood</td></tr><tr><td>Madison Heights</td></tr><tr><td>Maidenhead</td></tr><tr><td>Markham</td></tr><tr><td>Medford</td></tr><tr><td>Mesa</td></tr><tr><td>Mesquite</td></tr><tr><td>Midland</td></tr><tr><td>Milpitas</td></tr><tr><td>Milton Keynes</td></tr><tr><td>Milwaukee</td></tr><tr><td>Milwaukie</td></tr><tr><td>Minneapolis</td></tr><tr><td>Mississauga</td></tr><tr><td>Missoula</td></tr><tr><td>Modesto</td></tr><tr><td>Moline</td></tr><tr><td>Monroe</td></tr><tr><td>Monrovia</td></tr><tr><td>Montreal</td></tr><tr><td>Mosinee</td></tr><tr><td>Nepean</td></tr><tr><td>Newark</td></tr><tr><td>Norridge</td></tr><tr><td>North Bend</td></tr><tr><td>North Las Vegas</td></tr><tr><td>North Sioux City</td></tr><tr><td>Novi</td></tr><tr><td>Odessa</td></tr><tr><td>Ogden</td></tr><tr><td>Ontario</td></tr><tr><td>Orange</td></tr><tr><td>Ottawa</td></tr><tr><td>Outremont</td></tr><tr><td>Oxford</td></tr><tr><td>Oxnard</td></tr><tr><td>Oxon</td></tr><tr><td>Park City</td></tr><tr><td>Parker</td></tr><tr><td>Peoria</td></tr><tr><td>Phoenix</td></tr><tr><td>Plano</td></tr><tr><td>Pleasanton</td></tr><tr><td>Pnot-Rouge</td></tr><tr><td>Pontiac</td></tr><tr><td>Port Huron</td></tr><tr><td>Port Orchard</td></tr><tr><td>Portland</td></tr><tr><td>Puyallup</td></tr><tr><td>Quebec</td></tr><tr><td>Racine</td></tr><tr><td>Reading</td></tr><tr><td>Redford</td></tr><tr><td>Redlands</td></tr><tr><td>Redmond</td></tr><tr><td>Reno</td></tr><tr><td>Renton</td></tr><tr><td>Richmond</td></tr><tr><td>Richmond Hill</td></tr><tr><td>Rio Rancho</td></tr><tr><td>Riverton</td></tr><tr><td>Rock Springs</td></tr><tr><td>Round Rock</td></tr><tr><td>Sacramento</td></tr><tr><td>Saginaw</td></tr><tr><td>Saint Ann</td></tr><tr><td>Saint John</td></tr><tr><td>Saint Louis</td></tr><tr><td>Sainte-Foy</td></tr><tr><td>Salem</td></tr><tr><td>Salt Lake City</td></tr><tr><td>San Antonio</td></tr><tr><td>San Bruno</td></tr><tr><td>San Diego</td></tr><tr><td>San Francisco</td></tr><tr><td>San Jose</td></tr><tr><td>San Mateo</td></tr><tr><td>San Ramon</td></tr><tr><td>San Ysidro</td></tr><tr><td>Sand City</td></tr><tr><td>Sandpoint</td></tr><tr><td>Sandy</td></tr><tr><td>Santa Ana</td></tr><tr><td>Santa Fe</td></tr><tr><td>Santa Monica</td></tr><tr><td>Scottsdale</td></tr><tr><td>Seattle</td></tr><tr><td>Sequim</td></tr><tr><td>Shelton</td></tr><tr><td>Sherman Oaks</td></tr><tr><td>Sillery</td></tr><tr><td>Simi Valley</td></tr><tr><td>Southfield</td></tr><tr><td>Southgate</td></tr><tr><td>Sparks</td></tr><tr><td>Spokane</td></tr><tr><td>Springfield</td></tr><tr><td>Stockton</td></tr><tr><td>Sugar Land</td></tr><tr><td>Surprise</td></tr><tr><td>Surrey</td></tr><tr><td>Tacoma</td></tr><tr><td>Tigard</td></tr><tr><td>Tooele</td></tr><tr><td>Toronto</td></tr><tr><td>Trabuco Canyon</td></tr><tr><td>Troutdale</td></tr><tr><td>Tucson</td></tr><tr><td>Tuscola</td></tr><tr><td>Union City</td></tr><tr><td>Upland</td></tr><tr><td>Van Nuys</td></tr><tr><td>Vancouver</td></tr><tr><td>Victoria</td></tr><tr><td>Ville De&#39;anjou</td></tr><tr><td>Visalia</td></tr><tr><td>W. York</td></tr><tr><td>Warrington</td></tr><tr><td>Washougal</td></tr><tr><td>Waterloo</td></tr><tr><td>Wenatchee</td></tr><tr><td>West Chicago</td></tr><tr><td>West Sussex</td></tr><tr><td>Westland</td></tr><tr><td>Westminster</td></tr><tr><td>Weston</td></tr><tr><td>Whittier</td></tr><tr><td>Winnipeg</td></tr><tr><td>Wokingham</td></tr><tr><td>Wood Dale</td></tr><tr><td>Woodbury</td></tr><tr><td>Woodinville</td></tr><tr><td>Woolston</td></tr><tr><td>York</td></tr><tr><td>Zeeland</td></tr></table>"
                    },
                    "metadata": {}
                }
            ],
            "execution_count": 9
        },
        {
            "cell_type": "code",
            "source": [
                "/* =========================\n",
                "   Q10 — Demonstrate UNION ALL vs UNION on order years\n",
                "   (shows duplicates vs deduped)\n",
                "   ========================= */\n",
                "-- UNION ALL (keeps duplicates)\n",
                "SELECT YEAR(OrderDate) AS OrderYear\n",
                "FROM SalesLT.SalesOrderHeader\n",
                "WHERE OnlineOrderFlag = 1\n",
                "UNION ALL\n",
                "SELECT YEAR(OrderDate) AS OrderYear\n",
                "FROM SalesLT.SalesOrderHeader\n",
                "WHERE OnlineOrderFlag = 0\n",
                "ORDER BY OrderYear;\n",
                "\n",
                "-- UNION (removes duplicates)\n",
                "SELECT YEAR(OrderDate) AS OrderYear\n",
                "FROM SalesLT.SalesOrderHeader\n",
                "WHERE OnlineOrderFlag = 1\n",
                "UNION\n",
                "SELECT YEAR(OrderDate) AS OrderYear\n",
                "FROM SalesLT.SalesOrderHeader\n",
                "WHERE OnlineOrderFlag = 0\n",
                "ORDER BY OrderYear;\n",
                ""
            ],
            "metadata": {
                "azdata_cell_guid": "903c1ff6-e87e-48d5-a3ef-1298de35f54d",
                "language": "sql"
            },
            "outputs": [
                {
                    "output_type": "display_data",
                    "data": {
                        "text/html": "(32 rows affected)"
                    },
                    "metadata": {}
                },
                {
                    "output_type": "display_data",
                    "data": {
                        "text/html": "(1 row affected)"
                    },
                    "metadata": {}
                },
                {
                    "output_type": "display_data",
                    "data": {
                        "text/html": "Total execution time: 00:00:00.024"
                    },
                    "metadata": {}
                },
                {
                    "output_type": "execute_result",
                    "execution_count": 10,
                    "data": {
                        "application/vnd.dataresource+json": {
                            "schema": {
                                "fields": [
                                    {
                                        "name": "OrderYear"
                                    }
                                ]
                            },
                            "data": [
                                {
                                    "OrderYear": "2008"
                                },
                                {
                                    "OrderYear": "2008"
                                },
                                {
                                    "OrderYear": "2008"
                                },
                                {
                                    "OrderYear": "2008"
                                },
                                {
                                    "OrderYear": "2008"
                                },
                                {
                                    "OrderYear": "2008"
                                },
                                {
                                    "OrderYear": "2008"
                                },
                                {
                                    "OrderYear": "2008"
                                },
                                {
                                    "OrderYear": "2008"
                                },
                                {
                                    "OrderYear": "2008"
                                },
                                {
                                    "OrderYear": "2008"
                                },
                                {
                                    "OrderYear": "2008"
                                },
                                {
                                    "OrderYear": "2008"
                                },
                                {
                                    "OrderYear": "2008"
                                },
                                {
                                    "OrderYear": "2008"
                                },
                                {
                                    "OrderYear": "2008"
                                },
                                {
                                    "OrderYear": "2008"
                                },
                                {
                                    "OrderYear": "2008"
                                },
                                {
                                    "OrderYear": "2008"
                                },
                                {
                                    "OrderYear": "2008"
                                },
                                {
                                    "OrderYear": "2008"
                                },
                                {
                                    "OrderYear": "2008"
                                },
                                {
                                    "OrderYear": "2008"
                                },
                                {
                                    "OrderYear": "2008"
                                },
                                {
                                    "OrderYear": "2008"
                                },
                                {
                                    "OrderYear": "2008"
                                },
                                {
                                    "OrderYear": "2008"
                                },
                                {
                                    "OrderYear": "2008"
                                },
                                {
                                    "OrderYear": "2008"
                                },
                                {
                                    "OrderYear": "2008"
                                },
                                {
                                    "OrderYear": "2008"
                                },
                                {
                                    "OrderYear": "2008"
                                }
                            ]
                        },
                        "text/html": "<table><tr><th>OrderYear</th></tr><tr><td>2008</td></tr><tr><td>2008</td></tr><tr><td>2008</td></tr><tr><td>2008</td></tr><tr><td>2008</td></tr><tr><td>2008</td></tr><tr><td>2008</td></tr><tr><td>2008</td></tr><tr><td>2008</td></tr><tr><td>2008</td></tr><tr><td>2008</td></tr><tr><td>2008</td></tr><tr><td>2008</td></tr><tr><td>2008</td></tr><tr><td>2008</td></tr><tr><td>2008</td></tr><tr><td>2008</td></tr><tr><td>2008</td></tr><tr><td>2008</td></tr><tr><td>2008</td></tr><tr><td>2008</td></tr><tr><td>2008</td></tr><tr><td>2008</td></tr><tr><td>2008</td></tr><tr><td>2008</td></tr><tr><td>2008</td></tr><tr><td>2008</td></tr><tr><td>2008</td></tr><tr><td>2008</td></tr><tr><td>2008</td></tr><tr><td>2008</td></tr><tr><td>2008</td></tr></table>"
                    },
                    "metadata": {}
                },
                {
                    "output_type": "execute_result",
                    "execution_count": 10,
                    "data": {
                        "application/vnd.dataresource+json": {
                            "schema": {
                                "fields": [
                                    {
                                        "name": "OrderYear"
                                    }
                                ]
                            },
                            "data": [
                                {
                                    "OrderYear": "2008"
                                }
                            ]
                        },
                        "text/html": "<table><tr><th>OrderYear</th></tr><tr><td>2008</td></tr></table>"
                    },
                    "metadata": {}
                }
            ],
            "execution_count": 10
        }
    ]
}